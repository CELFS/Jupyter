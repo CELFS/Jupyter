{
 "cells": [
  {
   "cell_type": "markdown",
   "metadata": {},
   "source": [
    "### **什么是numpy？**\n"
   ]
  },
  {
   "cell_type": "markdown",
   "metadata": {},
   "source": [
    "### **如何安装numpy？**"
   ]
  },
  {
   "cell_type": "markdown",
   "metadata": {},
   "source": [
    "### **什么是n维数组对象？**"
   ]
  },
  {
   "cell_type": "markdown",
   "metadata": {},
   "source": [
    "### **如何区分一维、二维、多维？**"
   ]
  },
  {
   "cell_type": "markdown",
   "metadata": {},
   "source": [
    "### **以下表达式运行的结果分别是什么?**\n",
    "\n",
    "(提示: NaN = not a number, inf = infinity)\n",
    "\n",
    "0 * np.nan\n",
    "\n",
    "np.nan == np.nan\n",
    "\n",
    "np.inf > np.nan\n",
    "\n",
    "np.nan - np.nan\n",
    "\n",
    "0.3 == 3 * 0.1"
   ]
  },
  {
   "cell_type": "markdown",
   "metadata": {},
   "source": [
    "### **将numpy的datetime64对象转换为datetime的datetime对象。**\n",
    "\n",
    "- `dt64 = np.datetime64('2020-02-25 22:10:10')`\n",
    "\n",
    "【知识点：时间日期和时间增量】\n",
    "- 如何将numpy的datetime64对象转换为datetime的datetime对象？"
   ]
  },
  {
   "cell_type": "markdown",
   "metadata": {},
   "source": [
    "### **给定一系列不连续的日期序列。填充缺失的日期，使其成为连续的日期序列。**\n",
    "\n",
    "- `dates = np.arange('2020-02-01', '2020-02-10', 2, np.datetime64)`\n",
    "\n",
    "【知识点：时间日期和时间增量、数学函数】\n",
    "- 如何填写不规则系列的numpy日期中的缺失日期？"
   ]
  },
  {
   "cell_type": "markdown",
   "metadata": {},
   "source": [
    "### **如何得到昨天，今天，明天的的日期**\n",
    "\n",
    "【知识点：时间日期】\n",
    "- (提示: np.datetime64, np.timedelta64)"
   ]
  },
  {
   "cell_type": "markdown",
   "metadata": {},
   "source": [
    "\n",
    "### **创建从0到9的一维数字数组。**\n",
    "\n",
    "【知识点：数组的创建】\n",
    "- 如何创建一维数组？"
   ]
  },
  {
   "cell_type": "markdown",
   "metadata": {},
   "source": [
    "### **创建一个元素全为`True`的 3×3 数组。**\n",
    "\n",
    "【知识点：数组的创建】\n",
    "- 如何创建一个布尔数组？"
   ]
  },
  {
   "cell_type": "markdown",
   "metadata": {},
   "source": [
    "### **创建一个长度为10并且除了第五个值为1的空向量**\n",
    "\n",
    "【知识点：数组的创建】\n",
    "\n",
    "- (提示: array[4])"
   ]
  },
  {
   "cell_type": "markdown",
   "metadata": {},
   "source": [
    "### **创建一个值域范围从10到49的向量**\n",
    "\n",
    "【知识点：创建数组】\n",
    "\n",
    "- (提示: np.arange)"
   ]
  },
  {
   "cell_type": "markdown",
   "metadata": {},
   "source": [
    "### **创建一个 3x3x3的随机数组**\n",
    "\n",
    "【知识点：创建数组】\n",
    "\n",
    "(提示: np.random.random)"
   ]
  },
  {
   "cell_type": "markdown",
   "metadata": {},
   "source": [
    "### **创建一个二维数组，其中边界值为1，其余值为0**\n",
    "\n",
    "【知识点：二维数组的创建】\n",
    "\n",
    "- (提示: array[1:-1, 1:-1])"
   ]
  },
  {
   "cell_type": "markdown",
   "metadata": {},
   "source": [
    "### **创建长度为10的numpy数组，从5开始，在连续的数字之间的步长为3。**\n",
    "\n",
    "【知识点：数组的创建与属性】\n",
    "- 如何在给定起始点、长度和步骤的情况下创建一个numpy数组序列？"
   ]
  },
  {
   "cell_type": "markdown",
   "metadata": {},
   "source": [
    "### **将本地图像导入并将其转换为numpy数组。**\n",
    "\n",
    "【知识点：数组的创建与属性】\n",
    "- 如何将图像转换为numpy数组？"
   ]
  },
  {
   "cell_type": "code",
   "execution_count": null,
   "metadata": {},
   "outputs": [],
   "source": []
  }
 ],
 "metadata": {
  "kernelspec": {
   "display_name": "Python 3",
   "language": "python",
   "name": "python3"
  },
  "language_info": {
   "codemirror_mode": {
    "name": "ipython",
    "version": 3
   },
   "file_extension": ".py",
   "mimetype": "text/x-python",
   "name": "python",
   "nbconvert_exporter": "python",
   "pygments_lexer": "ipython3",
   "version": "3.6.10"
  },
  "toc": {
   "base_numbering": 1,
   "nav_menu": {},
   "number_sections": true,
   "sideBar": true,
   "skip_h1_title": false,
   "title_cell": "Table of Contents",
   "title_sidebar": "Contents",
   "toc_cell": false,
   "toc_position": {},
   "toc_section_display": true,
   "toc_window_display": false
  },
  "varInspector": {
   "cols": {
    "lenName": 16,
    "lenType": 16,
    "lenVar": 40
   },
   "kernels_config": {
    "python": {
     "delete_cmd_postfix": "",
     "delete_cmd_prefix": "del ",
     "library": "var_list.py",
     "varRefreshCmd": "print(var_dic_list())"
    },
    "r": {
     "delete_cmd_postfix": ") ",
     "delete_cmd_prefix": "rm(",
     "library": "var_list.r",
     "varRefreshCmd": "cat(var_dic_list()) "
    }
   },
   "types_to_exclude": [
    "module",
    "function",
    "builtin_function_or_method",
    "instance",
    "_Feature"
   ],
   "window_display": false
  }
 },
 "nbformat": 4,
 "nbformat_minor": 4
}
