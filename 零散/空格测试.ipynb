{
 "cells": [
  {
   "cell_type": "code",
   "execution_count": 15,
   "id": "4d310274",
   "metadata": {},
   "outputs": [
    {
     "name": "stdout",
     "output_type": "stream",
     "text": [
      "* * *\n",
      "* * *\n",
      "* * *"
     ]
    }
   ],
   "source": [
    "for i in range(3):\n",
    "    for j in range(3):\n",
    "        print('*', end='')\n",
    "        (j != 2) and print(' ', end='')\n",
    "    (i != 2) and print('\\n', end='')"
   ]
  },
  {
   "cell_type": "code",
   "execution_count": 20,
   "id": "75606b74",
   "metadata": {},
   "outputs": [
    {
     "name": "stdout",
     "output_type": "stream",
     "text": [
      "* * *\n",
      "\n",
      "* * *\n",
      "\n",
      "* * *\n",
      "\n"
     ]
    }
   ],
   "source": [
    "for i in range(3):\n",
    "    for j in range(3):\n",
    "        print('*', end='')\n",
    "        if j < 2:\n",
    "            print(' ', end='')\n",
    "    print('\\n')"
   ]
  },
  {
   "cell_type": "code",
   "execution_count": 4,
   "id": "7905c9fc",
   "metadata": {},
   "outputs": [
    {
     "name": "stdout",
     "output_type": "stream",
     "text": [
      "2000 2004\n",
      "2\n"
     ]
    }
   ],
   "source": [
    "def isLeapYear(year):\n",
    "\tif (year % 4 == 0 and year % 100 != 0) or (year % 100 == 0 and year % 400 == 0):\n",
    "\t\treturn 1\n",
    "\telse:\n",
    "\t\treturn 0\n",
    "\n",
    "x, y = map(int, input().split())\n",
    "cnt = 0\n",
    "for year in range(x, y + 1):\n",
    "    if isLeapYear(year):\n",
    "        cnt += 1\n",
    "    else:\n",
    "        continue\n",
    "\n",
    "print(cnt)"
   ]
  },
  {
   "cell_type": "code",
   "execution_count": null,
   "id": "2ad08cf7",
   "metadata": {},
   "outputs": [],
   "source": [
    "#include <stdio.h>\n",
    "\n",
    "// C语言，忘光光！2022/06/09 1:00:37 \n",
    "int isLeapYear(int year) {\n",
    "\tif ((year % 4 == 0 && year % 100 != 0) || (year % 100 == 0 && year % 400 == 0)) {\n",
    "\t\treturn 1;\t\n",
    "\t}\n",
    "\telse {\n",
    "\t\treturn 0;\n",
    "\t}\n",
    "}\n",
    "\n",
    "int main() {\n",
    "\tint x, y;\n",
    "\tscanf(\"%d%d\", &x, &y);\n",
    "\n",
    "\tint cnt = 0;\n",
    "\n",
    "\tfor (int i = x; i <= y; i++) {\n",
    "\t\tif (isLeapYear(i)) {\n",
    "\t\t\tcnt++;\n",
    "\t\t} else {\n",
    "\t\t  \tcontinue;\t\t\n",
    "\t\t}\n",
    "\t}\n",
    "\n",
    "\tprintf(\"%d\\n\", cnt);\n",
    "\t\t\n",
    "\treturn 0;\n",
    "}"
   ]
  },
  {
   "cell_type": "code",
   "execution_count": null,
   "id": "e32b436b",
   "metadata": {},
   "outputs": [],
   "source": [
    "#include <stdio.h>\n",
    "int main() {\n",
    "\tint x, y;\n",
    "\tscanf(\"%d%d\", &x, &y);\n",
    "\tint cnt = 0;\n",
    "\tfor (int i = x; i <= y; i++) {\n",
    "\t\tif ((i % 4 == 0 && i % 100 != 0) || (i % 100 == 0 && i % 400 == 0))\n",
    "\t\t\tcnt++;\n",
    "\t\telse\n",
    "\t\t  \tcontinue;\n",
    "\t}\n",
    "\tprintf(\"%d\\n\", cnt);\t\n",
    "\treturn 0;\n",
    "}"
   ]
  },
  {
   "cell_type": "code",
   "execution_count": null,
   "id": "378f3afd",
   "metadata": {},
   "outputs": [],
   "source": [
    "#include <stdio.h>\n",
    "int main() {\n",
    "\tint x, y, cnt = 0;\n",
    "\tscanf(\"%d%d\", &x, &y);\n",
    "\tfor (int i = x; i <= y; i++) {\n",
    "\t\tif ((i % 400 == 0) || (i % 4 == 0 && i % 100 != 0))\n",
    "\t\t\tcnt++;\n",
    "\t}\n",
    "\tprintf(\"%d\", cnt);\t\n",
    "\treturn 0;\n",
    "}"
   ]
  },
  {
   "cell_type": "code",
   "execution_count": 16,
   "id": "b5b39bd7",
   "metadata": {
    "scrolled": true
   },
   "outputs": [
    {
     "name": "stdout",
     "output_type": "stream",
     "text": [
      "2000 2004\n",
      "2\n"
     ]
    }
   ],
   "source": [
    "x, y = map(int, input().split())\n",
    "for year in range(x, y + 1):\n",
    "    if (year % 400 == 0) or (year % 4 == 0 and year % 100 != 0):\n",
    "        cnt += 1\n",
    "print(cnt)"
   ]
  },
  {
   "cell_type": "code",
   "execution_count": 13,
   "id": "50f6dfcc",
   "metadata": {},
   "outputs": [
    {
     "name": "stdout",
     "output_type": "stream",
     "text": [
      "2000\n",
      "2000是闰年\n"
     ]
    }
   ],
   "source": [
    "year = int(input())\n",
    "if (year % 100 != 0 and year % 4 == 0) or (year % 400 == 0):\n",
    "    print('%d是闰年' % year)\n",
    "else:\n",
    "    print('%d不是闰年' % year)"
   ]
  },
  {
   "cell_type": "code",
   "execution_count": null,
   "id": "7c7925d5",
   "metadata": {},
   "outputs": [],
   "source": [
    "#include <iostream>\n",
    "using std::cin;\n",
    "using std::cout;\n",
    "int main() {\n",
    "\tint x, y, cnt = 0;\n",
    "\tcin >> x >> y;\n",
    "\tfor (int i = x; i <= y; i++) {\n",
    "\t\tif ((i % 400 == 0) || (i % 4 == 0 && i % 100 != 0)) cnt++;\n",
    "\t}\n",
    "\tcout << cnt;\n",
    "\treturn 0;\n",
    "}"
   ]
  }
 ],
 "metadata": {
  "kernelspec": {
   "display_name": "Python 3 (ipykernel)",
   "language": "python",
   "name": "python3"
  },
  "language_info": {
   "codemirror_mode": {
    "name": "ipython",
    "version": 3
   },
   "file_extension": ".py",
   "mimetype": "text/x-python",
   "name": "python",
   "nbconvert_exporter": "python",
   "pygments_lexer": "ipython3",
   "version": "3.9.7"
  },
  "toc": {
   "base_numbering": 1,
   "nav_menu": {},
   "number_sections": true,
   "sideBar": true,
   "skip_h1_title": false,
   "title_cell": "Table of Contents",
   "title_sidebar": "Contents",
   "toc_cell": false,
   "toc_position": {},
   "toc_section_display": true,
   "toc_window_display": false
  }
 },
 "nbformat": 4,
 "nbformat_minor": 5
}
