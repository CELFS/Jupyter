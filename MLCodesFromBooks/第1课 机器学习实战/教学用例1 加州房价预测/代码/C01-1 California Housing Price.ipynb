{
 "cells": [
  {
   "cell_type": "markdown",
   "metadata": {},
   "source": [
    "【下面路径由于上传到 GitHub。而且课程文件夹含中文，因此最便捷的方法是直接把数据集放到代码相同文件夹内。】\n",
    "* 【代码】：\n",
    "    * Pandas —— 一个常见的 Python 数据处理函数库；\n",
    "    * Pandas —— 【read_csv 函数】，把数据集读入 【DataFrame 数据结构】 —— 命名为 df_housing；\n",
    "    * 【DataFrame 数据结构】 —— 【head 方法】显示数据集中的部分信息。\n",
    "* 【数据集】：\n",
    "    * 加州某时期的房价（各地区整体房价统计信息，1990）；\n",
    "    * 17 000个样本；\n",
    "    * 5 个特征，1 个标签；\n",
    "    * 【目标】：根据已有的数据样本，对其特征进行推理归纳，得到一个函数模型后，就可以用它推断加州其他地区的房价中位数。"
   ]
  },
  {
   "cell_type": "code",
   "execution_count": 82,
   "metadata": {
    "_cell_guid": "b1076dfc-b9ad-4769-8c92-a6c4dae69d19",
    "_uuid": "8f2839f25d086af736a60e9eeb907d3b93b6e0e5",
    "scrolled": true
   },
   "outputs": [
    {
     "data": {
      "text/plain": [
       "<bound method NDFrame.head of        longitude  latitude  housing_median_age  total_rooms  total_bedrooms  \\\n",
       "0        -114.31     34.19                15.0       5612.0          1283.0   \n",
       "1        -114.47     34.40                19.0       7650.0          1901.0   \n",
       "2        -114.56     33.69                17.0        720.0           174.0   \n",
       "3        -114.57     33.64                14.0       1501.0           337.0   \n",
       "4        -114.57     33.57                20.0       1454.0           326.0   \n",
       "...          ...       ...                 ...          ...             ...   \n",
       "16995    -124.26     40.58                52.0       2217.0           394.0   \n",
       "16996    -124.27     40.69                36.0       2349.0           528.0   \n",
       "16997    -124.30     41.84                17.0       2677.0           531.0   \n",
       "16998    -124.30     41.80                19.0       2672.0           552.0   \n",
       "16999    -124.35     40.54                52.0       1820.0           300.0   \n",
       "\n",
       "       population  households  median_income  median_house_value  \n",
       "0          1015.0       472.0         1.4936             66900.0  \n",
       "1          1129.0       463.0         1.8200             80100.0  \n",
       "2           333.0       117.0         1.6509             85700.0  \n",
       "3           515.0       226.0         3.1917             73400.0  \n",
       "4           624.0       262.0         1.9250             65500.0  \n",
       "...           ...         ...            ...                 ...  \n",
       "16995       907.0       369.0         2.3571            111400.0  \n",
       "16996      1194.0       465.0         2.5179             79000.0  \n",
       "16997      1244.0       456.0         3.0313            103600.0  \n",
       "16998      1298.0       478.0         1.9797             85800.0  \n",
       "16999       806.0       270.0         3.0147             94600.0  \n",
       "\n",
       "[17000 rows x 9 columns]>"
      ]
     },
     "execution_count": 82,
     "metadata": {},
     "output_type": "execute_result"
    }
   ],
   "source": [
    "import pandas as pd #导入Pandas，用于数据读取和处理\n",
    "# 读入房价数据，示例代码中的文件地址为internet链接，读者也可以下载该文件到本机进行读取\n",
    "# 如，当数据集和代码文件位于相同本地目录，路径名应为\"./house.csv\"，或直接放\"house.csv\"亦可\n",
    "df_housing = pd.read_csv(r\"house.csv\") \n",
    "df_housing.head #显示加州房价数据"
   ]
  },
  {
   "cell_type": "markdown",
   "metadata": {},
   "source": [
    "【构建特征数据集 X 和标签数据集 y；习惯上，ML 领域把 X 大写，y 小写。】"
   ]
  },
  {
   "cell_type": "code",
   "execution_count": 83,
   "metadata": {
    "_cell_guid": "79c7e3d0-c299-4dcb-8224-4455121ee9b0",
    "_uuid": "d629ff2d2480ee46fbb7e2d37f6b5fab8052498a"
   },
   "outputs": [],
   "source": [
    "X = df_housing.drop(\"median_house_value\",axis = 1) #构建特征集X\n",
    "y = df_housing.median_house_value #构建标签集y"
   ]
  },
  {
   "cell_type": "markdown",
   "metadata": {},
   "source": [
    "【数据拆分，二八原则；之后通过比较预测值与（预留的）真值，才知道机器“猜”得准不准，给模型打分（评估阶段）】"
   ]
  },
  {
   "cell_type": "code",
   "execution_count": 84,
   "metadata": {
    "code_folding": []
   },
   "outputs": [],
   "source": [
    "from sklearn.model_selection import train_test_split #导入数据集拆分工具\n",
    "X_train, X_test, y_train, y_test = train_test_split(X, y, \n",
    "         test_size=0.2, random_state=0) #以80%/20%的比例进行数据集的拆分"
   ]
  },
  {
   "cell_type": "markdown",
   "metadata": {},
   "source": [
    "【开始训练数据】\n",
    "* 选定模型的类型，即选定算法；—— 【Linear Regression 算法模型】\n",
    "* 【fit 方法】 —— 训练机器的方法，进行函数拟合；\n",
    "    * —— 意味着找到【最优】的函数去模拟训练集中的输入（特征）和目标（标签）的关系——【确定模型参数】"
   ]
  },
  {
   "cell_type": "code",
   "execution_count": 85,
   "metadata": {
    "scrolled": false
   },
   "outputs": [
    {
     "data": {
      "text/plain": [
       "LinearRegression()"
      ]
     },
     "execution_count": 85,
     "metadata": {},
     "output_type": "execute_result"
    }
   ],
   "source": [
    "from sklearn.linear_model import LinearRegression #导入【线性回归算法模型】\n",
    "model = LinearRegression() #使用线性回归算法\n",
    "model.fit(X_train, y_train) #用训练集数据，训练机器，拟合函数，确定参数"
   ]
  },
  {
   "cell_type": "markdown",
   "metadata": {},
   "source": [
    "【开始对测试集的房价进行预测】\n",
    "* 【predict 方法】"
   ]
  },
  {
   "cell_type": "code",
   "execution_count": 86,
   "metadata": {
    "scrolled": false
   },
   "outputs": [
    {
     "name": "stdout",
     "output_type": "stream",
     "text": [
      "房价的真值(测试集) 3873     171400.0\n",
      "3625     189600.0\n",
      "3028     500001.0\n",
      "13814    229400.0\n",
      "15398    163400.0\n",
      "           ...   \n",
      "1363     212500.0\n",
      "7947     210500.0\n",
      "14574    142900.0\n",
      "10009    128300.0\n",
      "9149      84700.0\n",
      "Name: median_house_value, Length: 3400, dtype: float64\n",
      "预测的房价(测试集) [211157.06335417 218581.64298574 465317.31295563 ... 201751.2396963\n",
      " 160873.51846959 138847.26913352]\n"
     ]
    }
   ],
   "source": [
    "y_pred = model.predict(X_test) #预测测试集的Y值\n",
    "print ('房价的真值(测试集)',y_test)\n",
    "print ('预测的房价(测试集)',y_pred)"
   ]
  },
  {
   "cell_type": "markdown",
   "metadata": {},
   "source": [
    "【预测得分】\n",
    "* 根据 Sklearn 线性回归模型的 score 属性，给出的是 R2 分数，是一个机器学习模型的评估指标 —— 预测值的方差与总体方差之间的差异【统计学知识】。"
   ]
  },
  {
   "cell_type": "code",
   "execution_count": 87,
   "metadata": {
    "scrolled": true
   },
   "outputs": [
    {
     "name": "stdout",
     "output_type": "stream",
     "text": [
      "给预测评分： 0.6321014171579482\n"
     ]
    }
   ],
   "source": [
    "print(\"给预测评分：\", model.score(X_test, y_test)) #评估预测结果"
   ]
  },
  {
   "cell_type": "markdown",
   "metadata": {},
   "source": [
    "【绘图】"
   ]
  },
  {
   "cell_type": "code",
   "execution_count": 88,
   "metadata": {
    "scrolled": false
   },
   "outputs": [
    {
     "data": {
      "image/png": "[encoded data removed]",
      "text/plain": [
       "<Figure size 432x288 with 1 Axes>"
      ]
     },
     "metadata": {
      "needs_background": "light"
     },
     "output_type": "display_data"
    }
   ],
   "source": [
    "import matplotlib.pyplot as plt #导入matplotlib画图库\n",
    "#用【散点图】显示家庭收入中位数和房价中位数的分布\n",
    "plt.scatter(X_test.median_income, y_test,  color='brown')\n",
    "#画出【回归函数】(从特征到预测标签)\n",
    "plt.plot(X_test.median_income, y_pred, color='green', linewidth=1)\n",
    "plt.xlabel('Median Income') #X轴-家庭收入中位数\n",
    "plt.ylabel('Median House Value') #Y轴-房价中位数\n",
    "plt.show() #显示【房价分布】和【机器习得的函数图形】"
   ]
  },
  {
   "cell_type": "markdown",
   "metadata": {},
   "source": [
    "* 【点——得到家庭收入/房价分布】\n",
    "* 【线——机器学习到的函数模型】"
   ]
  },
  {
   "cell_type": "markdown",
   "metadata": {},
   "source": [
    "【结论】\n",
    "* 加州各个地区的平均房价中位数，有随着该地区家庭收入中位数的上升而增加的趋势，而机器学习到的函数也同样体现了这一点（富人区的形成过程）。"
   ]
  },
  {
   "cell_type": "markdown",
   "metadata": {},
   "source": [
    "（2022/03/28 1:03:47 35min）"
   ]
  }
 ],
 "metadata": {
  "kernelspec": {
   "display_name": "Python 3",
   "language": "python",
   "name": "python3"
  },
  "language_info": {
   "codemirror_mode": {
    "name": "ipython",
    "version": 3
   },
   "file_extension": ".py",
   "mimetype": "text/x-python",
   "name": "python",
   "nbconvert_exporter": "python",
   "pygments_lexer": "ipython3",
   "version": "3.8.1"
  },
  "toc": {
   "base_numbering": 1,
   "nav_menu": {},
   "number_sections": true,
   "sideBar": true,
   "skip_h1_title": false,
   "title_cell": "Table of Contents",
   "title_sidebar": "Contents",
   "toc_cell": false,
   "toc_position": {},
   "toc_section_display": true,
   "toc_window_display": false
  }
 },
 "nbformat": 4,
 "nbformat_minor": 4
}
