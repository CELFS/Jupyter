{
 "cells": [
  {
   "cell_type": "code",
   "execution_count": 1,
   "metadata": {
    "execution": {
     "iopub.execute_input": "2021-12-08T15:27:23.030384Z",
     "iopub.status.busy": "2021-12-08T15:27:23.028741Z",
     "iopub.status.idle": "2021-12-08T15:27:24.458099Z",
     "shell.execute_reply": "2021-12-08T15:27:24.457070Z",
     "shell.execute_reply.started": "2021-12-08T15:27:23.030305Z"
    },
    "scrolled": true
   },
   "outputs": [
    {
     "ename": "ModuleNotFoundError",
     "evalue": "No module named 'tensorflow'",
     "output_type": "error",
     "traceback": [
      "\u001b[1;31m---------------------------------------------------------------------------\u001b[0m",
      "\u001b[1;31mModuleNotFoundError\u001b[0m                       Traceback (most recent call last)",
      "\u001b[1;32m<ipython-input-1-84a6c99ddac0>\u001b[0m in \u001b[0;36m<module>\u001b[1;34m\u001b[0m\n\u001b[0;32m      1\u001b[0m \u001b[1;32mimport\u001b[0m \u001b[0mnumpy\u001b[0m \u001b[1;32mas\u001b[0m \u001b[0mnp\u001b[0m \u001b[1;31m# 导入NumPy数学工具箱\u001b[0m\u001b[1;33m\u001b[0m\u001b[1;33m\u001b[0m\u001b[0m\n\u001b[0;32m      2\u001b[0m \u001b[1;32mimport\u001b[0m \u001b[0mpandas\u001b[0m \u001b[1;32mas\u001b[0m \u001b[0mpd\u001b[0m \u001b[1;31m# 导入Pandas数据处理工具箱\u001b[0m\u001b[1;33m\u001b[0m\u001b[1;33m\u001b[0m\u001b[0m\n\u001b[1;32m----> 3\u001b[1;33m \u001b[1;32mfrom\u001b[0m \u001b[0mkeras\u001b[0m\u001b[1;33m.\u001b[0m\u001b[0mdatasets\u001b[0m \u001b[1;32mimport\u001b[0m \u001b[0mmnist\u001b[0m \u001b[1;31m#从Keras中导入mnist数据集\u001b[0m\u001b[1;33m\u001b[0m\u001b[1;33m\u001b[0m\u001b[0m\n\u001b[0m\u001b[0;32m      4\u001b[0m \u001b[1;31m#读入训练集和测试集\u001b[0m\u001b[1;33m\u001b[0m\u001b[1;33m\u001b[0m\u001b[1;33m\u001b[0m\u001b[0m\n\u001b[0;32m      5\u001b[0m \u001b[1;33m(\u001b[0m\u001b[0mX_train_image\u001b[0m\u001b[1;33m,\u001b[0m \u001b[0my_train_lable\u001b[0m\u001b[1;33m)\u001b[0m\u001b[1;33m,\u001b[0m \u001b[1;33m(\u001b[0m\u001b[0mX_test_image\u001b[0m\u001b[1;33m,\u001b[0m \u001b[0my_test_lable\u001b[0m\u001b[1;33m)\u001b[0m \u001b[1;33m=\u001b[0m  \u001b[0mmnist\u001b[0m\u001b[1;33m.\u001b[0m\u001b[0mload_data\u001b[0m\u001b[1;33m(\u001b[0m\u001b[1;33m)\u001b[0m\u001b[1;33m\u001b[0m\u001b[1;33m\u001b[0m\u001b[0m\n",
      "\u001b[1;32mc:\\users\\celfs\\appdata\\local\\programs\\python\\python38-32\\lib\\site-packages\\keras\\__init__.py\u001b[0m in \u001b[0;36m<module>\u001b[1;34m\u001b[0m\n\u001b[0;32m     19\u001b[0m \"\"\"\n\u001b[0;32m     20\u001b[0m \u001b[1;31m# pylint: disable=unused-import\u001b[0m\u001b[1;33m\u001b[0m\u001b[1;33m\u001b[0m\u001b[1;33m\u001b[0m\u001b[0m\n\u001b[1;32m---> 21\u001b[1;33m \u001b[1;32mfrom\u001b[0m \u001b[0mtensorflow\u001b[0m\u001b[1;33m.\u001b[0m\u001b[0mpython\u001b[0m \u001b[1;32mimport\u001b[0m \u001b[0mtf2\u001b[0m\u001b[1;33m\u001b[0m\u001b[1;33m\u001b[0m\u001b[0m\n\u001b[0m\u001b[0;32m     22\u001b[0m \u001b[1;32mfrom\u001b[0m \u001b[0mkeras\u001b[0m \u001b[1;32mimport\u001b[0m \u001b[0mdistribute\u001b[0m\u001b[1;33m\u001b[0m\u001b[1;33m\u001b[0m\u001b[0m\n\u001b[0;32m     23\u001b[0m \u001b[1;33m\u001b[0m\u001b[0m\n",
      "\u001b[1;31mModuleNotFoundError\u001b[0m: No module named 'tensorflow'"
     ]
    }
   ],
   "source": [
    "import numpy as np # 导入NumPy数学工具箱\n",
    "import pandas as pd # 导入Pandas数据处理工具箱\n",
    "from keras.datasets import mnist #从Keras中导入mnist数据集\n",
    "#读入训练集和测试集\n",
    "(X_train_image, y_train_lable), (X_test_image, y_test_lable) =  mnist.load_data() "
   ]
  },
  {
   "cell_type": "code",
   "execution_count": 21,
   "metadata": {
    "execution": {
     "iopub.execute_input": "2021-12-08T15:27:24.460586Z",
     "iopub.status.busy": "2021-12-08T15:27:24.460267Z",
     "iopub.status.idle": "2021-12-08T15:27:24.470512Z",
     "shell.execute_reply": "2021-12-08T15:27:24.469599Z",
     "shell.execute_reply.started": "2021-12-08T15:27:24.460524Z"
    },
    "scrolled": true
   },
   "outputs": [
    {
     "ename": "NameError",
     "evalue": "name 'X_train_image' is not defined",
     "output_type": "error",
     "traceback": [
      "\u001b[1;31m---------------------------------------------------------------------------\u001b[0m",
      "\u001b[1;31mNameError\u001b[0m                                 Traceback (most recent call last)",
      "\u001b[1;32m<ipython-input-21-7f3b94b5787d>\u001b[0m in \u001b[0;36m<module>\u001b[1;34m\u001b[0m\n\u001b[1;32m----> 1\u001b[1;33m \u001b[0mprint\u001b[0m \u001b[1;33m(\u001b[0m\u001b[1;34m\"特征集张量形状：\"\u001b[0m\u001b[1;33m,\u001b[0m \u001b[0mX_train_image\u001b[0m\u001b[1;33m.\u001b[0m\u001b[0mshape\u001b[0m\u001b[1;33m)\u001b[0m \u001b[1;31m#用shape方法显示张量的形状\u001b[0m\u001b[1;33m\u001b[0m\u001b[1;33m\u001b[0m\u001b[0m\n\u001b[0m\u001b[0;32m      2\u001b[0m \u001b[0mprint\u001b[0m \u001b[1;33m(\u001b[0m\u001b[1;34m\"第一个数据样本：\\n\"\u001b[0m\u001b[1;33m,\u001b[0m \u001b[0mX_train_image\u001b[0m\u001b[1;33m[\u001b[0m\u001b[1;36m0\u001b[0m\u001b[1;33m]\u001b[0m\u001b[1;33m)\u001b[0m \u001b[1;31m#注意Python的索引是从0开始的\u001b[0m\u001b[1;33m\u001b[0m\u001b[1;33m\u001b[0m\u001b[0m\n",
      "\u001b[1;31mNameError\u001b[0m: name 'X_train_image' is not defined"
     ]
    }
   ],
   "source": [
    "print (\"特征集张量形状：\", X_train_image.shape) #用shape方法显示张量的形状\n",
    "print (\"第一个数据样本：\\n\", X_train_image[0]) #注意Python的索引是从0开始的"
   ]
  },
  {
   "cell_type": "code",
   "execution_count": null,
   "metadata": {
    "execution": {
     "iopub.execute_input": "2021-12-08T15:27:24.472332Z",
     "iopub.status.busy": "2021-12-08T15:27:24.471882Z",
     "iopub.status.idle": "2021-12-08T15:27:24.482351Z",
     "shell.execute_reply": "2021-12-08T15:27:24.481251Z",
     "shell.execute_reply.started": "2021-12-08T15:27:24.472297Z"
    }
   },
   "outputs": [],
   "source": [
    "print (\"第一个数据样本的标签：\", y_train_lable[0])"
   ]
  },
  {
   "cell_type": "code",
   "execution_count": null,
   "metadata": {
    "execution": {
     "iopub.execute_input": "2021-12-08T15:27:24.483864Z",
     "iopub.status.busy": "2021-12-08T15:27:24.483488Z",
     "iopub.status.idle": "2021-12-08T15:27:24.502648Z",
     "shell.execute_reply": "2021-12-08T15:27:24.501625Z",
     "shell.execute_reply.started": "2021-12-08T15:27:24.483833Z"
    }
   },
   "outputs": [],
   "source": [
    "from tensorflow.keras.utils import to_categorical # 导入keras.utils工具箱的类别转换工具\n",
    "X_train = X_train_image.reshape(60000,28,28,1) # 给标签增加一个维度\n",
    "X_test = X_test_image.reshape(10000,28,28,1) # 给标签增加一个维度\n",
    "y_train = to_categorical(y_train_lable, 10) # 特征转换为one-hot编码\n",
    "y_test = to_categorical(y_test_lable, 10) # 特征转换为one-hot编码\n",
    "print (\"数据集张量形状：\", X_train.shape) # 特征集张量的形状\n",
    "print (\"第一个数据标签：\",y_train[0]) # 显示标签集的第一个数据"
   ]
  },
  {
   "cell_type": "code",
   "execution_count": null,
   "metadata": {
    "execution": {
     "iopub.execute_input": "2021-12-08T15:27:24.505442Z",
     "iopub.status.busy": "2021-12-08T15:27:24.505123Z",
     "iopub.status.idle": "2021-12-08T15:27:24.728576Z",
     "shell.execute_reply": "2021-12-08T15:27:24.727703Z",
     "shell.execute_reply.started": "2021-12-08T15:27:24.505400Z"
    }
   },
   "outputs": [],
   "source": [
    "from keras import models # 导入Keras模型, 和各种神经网络的层\n",
    "from keras.layers import Dense, Dropout, Flatten, Conv2D, MaxPooling2D\n",
    "model = models.Sequential() # 用序贯方式建立模型\n",
    "model.add(Conv2D(32, (3, 3), activation='relu', # 添加Conv2D层\n",
    "                 input_shape=(28,28,1))) # 指定输入数据样本张量的类型\n",
    "model.add(MaxPooling2D(pool_size=(2, 2))) # 添加MaxPooling2D层\n",
    "model.add(Conv2D(64, (3, 3), activation='relu')) # 添加Conv2D层\n",
    "model.add(MaxPooling2D(pool_size=(2, 2))) # 添加MaxPooling2D层\n",
    "model.add(Dropout(0.25)) # 添加Dropout层\n",
    "model.add(Flatten()) # 展平\n",
    "model.add(Dense(128, activation='relu')) # 添加全连接层\n",
    "model.add(Dropout(0.5)) # 添加Dropout层\n",
    "model.add(Dense(10, activation='softmax')) # Softmax分类激活，输出10维分类码\n",
    "# 编译模型\n",
    "model.compile(optimizer='rmsprop', # 指定优化器\n",
    "              loss='categorical_crossentropy', # 指定损失函数\n",
    "              metrics=['accuracy']) # 指定验证过程中的评估指标"
   ]
  },
  {
   "cell_type": "code",
   "execution_count": null,
   "metadata": {
    "execution": {
     "iopub.execute_input": "2021-12-08T15:27:24.730300Z",
     "iopub.status.busy": "2021-12-08T15:27:24.730039Z",
     "iopub.status.idle": "2021-12-08T15:28:26.373105Z",
     "shell.execute_reply": "2021-12-08T15:28:26.372436Z",
     "shell.execute_reply.started": "2021-12-08T15:27:24.730270Z"
    }
   },
   "outputs": [],
   "source": [
    "model.fit(X_train, y_train, # 指定训练特征集和训练标签集\n",
    "          validation_split = 0.3, # 部分训练集数据拆分成验证集\n",
    "          epochs=5, # 训练轮次为5轮\n",
    "          batch_size=128) # 以128为批量进行训练"
   ]
  },
  {
   "cell_type": "code",
   "execution_count": null,
   "metadata": {
    "execution": {
     "iopub.execute_input": "2021-12-08T15:28:26.374726Z",
     "iopub.status.busy": "2021-12-08T15:28:26.374196Z",
     "iopub.status.idle": "2021-12-08T15:28:27.672944Z",
     "shell.execute_reply": "2021-12-08T15:28:27.672214Z",
     "shell.execute_reply.started": "2021-12-08T15:28:26.374692Z"
    }
   },
   "outputs": [],
   "source": [
    "score = model.evaluate(X_test, y_test) # 在测试集上进行模型评估\n",
    "print('测试集预测准确率:', score[1]) # 打印测试集上的预测准确率"
   ]
  },
  {
   "cell_type": "code",
   "execution_count": 14,
   "metadata": {
    "execution": {
     "iopub.execute_input": "2021-12-08T15:28:27.674302Z",
     "iopub.status.busy": "2021-12-08T15:28:27.674063Z",
     "iopub.status.idle": "2021-12-08T15:28:28.051820Z",
     "shell.execute_reply": "2021-12-08T15:28:28.051054Z",
     "shell.execute_reply.started": "2021-12-08T15:28:27.674274Z"
    }
   },
   "outputs": [
    {
     "ename": "NameError",
     "evalue": "name 'model' is not defined",
     "output_type": "error",
     "traceback": [
      "\u001b[1;31m---------------------------------------------------------------------------\u001b[0m",
      "\u001b[1;31mNameError\u001b[0m                                 Traceback (most recent call last)",
      "\u001b[1;32m<ipython-input-14-0c2d9b143ca3>\u001b[0m in \u001b[0;36m<module>\u001b[1;34m\u001b[0m\n\u001b[1;32m----> 1\u001b[1;33m \u001b[0mpred\u001b[0m \u001b[1;33m=\u001b[0m \u001b[0mmodel\u001b[0m\u001b[1;33m.\u001b[0m\u001b[0mpredict\u001b[0m\u001b[1;33m(\u001b[0m\u001b[0mX_test\u001b[0m\u001b[1;33m[\u001b[0m\u001b[1;36m0\u001b[0m\u001b[1;33m]\u001b[0m\u001b[1;33m.\u001b[0m\u001b[0mreshape\u001b[0m\u001b[1;33m(\u001b[0m\u001b[1;36m1\u001b[0m\u001b[1;33m,\u001b[0m \u001b[1;36m28\u001b[0m\u001b[1;33m,\u001b[0m \u001b[1;36m28\u001b[0m\u001b[1;33m,\u001b[0m \u001b[1;36m1\u001b[0m\u001b[1;33m)\u001b[0m\u001b[1;33m)\u001b[0m \u001b[1;31m# 预测测试集第一个数据\u001b[0m\u001b[1;33m\u001b[0m\u001b[1;33m\u001b[0m\u001b[0m\n\u001b[0m\u001b[0;32m      2\u001b[0m \u001b[0mprint\u001b[0m\u001b[1;33m(\u001b[0m\u001b[0mpred\u001b[0m\u001b[1;33m[\u001b[0m\u001b[1;36m0\u001b[0m\u001b[1;33m]\u001b[0m\u001b[1;33m,\u001b[0m\u001b[1;34m\"转换一下格式得到：\"\u001b[0m\u001b[1;33m,\u001b[0m\u001b[0mpred\u001b[0m\u001b[1;33m.\u001b[0m\u001b[0margmax\u001b[0m\u001b[1;33m(\u001b[0m\u001b[1;33m)\u001b[0m\u001b[1;33m)\u001b[0m \u001b[1;31m# 把one-hot码转换为数字\u001b[0m\u001b[1;33m\u001b[0m\u001b[1;33m\u001b[0m\u001b[0m\n\u001b[0;32m      3\u001b[0m \u001b[1;32mimport\u001b[0m \u001b[0mmatplotlib\u001b[0m\u001b[1;33m.\u001b[0m\u001b[0mpyplot\u001b[0m \u001b[1;32mas\u001b[0m \u001b[0mplt\u001b[0m \u001b[1;31m# 导入绘图工具包\u001b[0m\u001b[1;33m\u001b[0m\u001b[1;33m\u001b[0m\u001b[0m\n\u001b[0;32m      4\u001b[0m \u001b[0mplt\u001b[0m\u001b[1;33m.\u001b[0m\u001b[0mimshow\u001b[0m\u001b[1;33m(\u001b[0m\u001b[0mX_test\u001b[0m\u001b[1;33m[\u001b[0m\u001b[1;36m0\u001b[0m\u001b[1;33m]\u001b[0m\u001b[1;33m.\u001b[0m\u001b[0mreshape\u001b[0m\u001b[1;33m(\u001b[0m\u001b[1;36m28\u001b[0m\u001b[1;33m,\u001b[0m \u001b[1;36m28\u001b[0m\u001b[1;33m)\u001b[0m\u001b[1;33m,\u001b[0m\u001b[0mcmap\u001b[0m\u001b[1;33m=\u001b[0m\u001b[1;34m'Greys'\u001b[0m\u001b[1;33m)\u001b[0m \u001b[1;31m# 输出这个图片\u001b[0m\u001b[1;33m\u001b[0m\u001b[1;33m\u001b[0m\u001b[0m\n",
      "\u001b[1;31mNameError\u001b[0m: name 'model' is not defined"
     ]
    }
   ],
   "source": [
    "pred = model.predict(X_test[0].reshape(1, 28, 28, 1)) # 预测测试集第一个数据\n",
    "print(pred[0],\"转换一下格式得到：\",pred.argmax()) # 把one-hot码转换为数字\n",
    "import matplotlib.pyplot as plt # 导入绘图工具包\n",
    "plt.imshow(X_test[0].reshape(28, 28),cmap='Greys') # 输出这个图片"
   ]
  }
 ],
 "metadata": {
  "kernelspec": {
   "display_name": "Python 3",
   "language": "python",
   "name": "python3"
  },
  "language_info": {
   "codemirror_mode": {
    "name": "ipython",
    "version": 3
   },
   "file_extension": ".py",
   "mimetype": "text/x-python",
   "name": "python",
   "nbconvert_exporter": "python",
   "pygments_lexer": "ipython3",
   "version": "3.8.1"
  },
  "toc": {
   "base_numbering": 1,
   "nav_menu": {},
   "number_sections": true,
   "sideBar": true,
   "skip_h1_title": false,
   "title_cell": "Table of Contents",
   "title_sidebar": "Contents",
   "toc_cell": false,
   "toc_position": {},
   "toc_section_display": true,
   "toc_window_display": false
  }
 },
 "nbformat": 4,
 "nbformat_minor": 4
}
