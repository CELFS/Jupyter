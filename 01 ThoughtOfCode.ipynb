{
 "cells": [
  {
   "cell_type": "markdown",
   "id": "2982fa5a",
   "metadata": {},
   "source": [
    "# 知己知彼"
   ]
  },
  {
   "cell_type": "markdown",
   "id": "2f9a1f2c",
   "metadata": {},
   "source": [
    "## 基本要求\n",
    "* (1) 算法的意义 => 快速定位能力 | 节省双方时间\n",
    "* (2) 编程语言 => 实现机制【Python 内存管理、内置排序、读源码、数据结构扩容机制，以及为什么不设上限，堆栈分区】\n",
    "* (3) 代码规范\n",
    "    * 变量命名\n",
    "    * 代码留白\n",
    "* (4) 简历\n",
    "    * 模板\n",
    "    * 精通 > 熟悉 > 掌握 > 了解\n",
    "    * 拿不准，不要写\n",
    "    * 项目经验：突出贡献、深挖难点、做好记录 => 引导最熟悉领域提问（主动权）\n",
    "* (5) 博客、GitHub"
   ]
  },
  {
   "cell_type": "markdown",
   "id": "d2f806c3",
   "metadata": {},
   "source": [
    "## 面试流程\n",
    "* 机试面\n",
    "* 基础算法面\n",
    "* 综合技术面\n",
    "* 技术 leader 面\n",
    "* HR 面"
   ]
  },
  {
   "cell_type": "markdown",
   "id": "a4aa6309",
   "metadata": {},
   "source": [
    "# 程序的性能分析"
   ]
  },
  {
   "cell_type": "markdown",
   "id": "c2e67095",
   "metadata": {},
   "source": [
    "## 时间复杂度"
   ]
  },
  {
   "cell_type": "markdown",
   "id": "6fa6d19a",
   "metadata": {},
   "source": [
    "### T1 P14\n",
    "* 找出 n 个字符串中相同的两个字符串\n",
    "    * 为了说明时间复杂度的描述\n",
    "    * (1) O(m × n × n)\n",
    "    * (2) O(m × n × logn + n × m) => O(m × n × (logn + 1)) => O(m × n × logn)【出现常数项才可约去】\n",
    "* 注意审题：\n",
    "    * 是 n 个 str\n",
    "    * 找出两个相同的 str\n",
    "    * 设目标 str 长度为 m，不可忽略【忽略说明还是小数思维，要转变为极限、大数思维】"
   ]
  },
  {
   "cell_type": "markdown",
   "id": "3c33a875",
   "metadata": {},
   "source": [
    "### T2 P15\n",
    "* 求 x 的 n 次方 P15\n",
    "    * 为了说明递归算法的时间复杂度\n",
    "        * 递归起点\n",
    "        * 递归结构\n",
    "        * 递归终点"
   ]
  },
  {
   "cell_type": "code",
   "execution_count": 1,
   "id": "e033f3f8",
   "metadata": {},
   "outputs": [
    {
     "name": "stdout",
     "output_type": "stream",
     "text": [
      "1024\n"
     ]
    }
   ],
   "source": [
    "n, x = 10, 2\n",
    "\n",
    "# O(n)\n",
    "res = 1\n",
    "for i in range(n): # 执行 n 次\n",
    "    res *= x\n",
    "    \n",
    "print(res)"
   ]
  },
  {
   "cell_type": "code",
   "execution_count": 2,
   "id": "514037e5",
   "metadata": {},
   "outputs": [
    {
     "name": "stdout",
     "output_type": "stream",
     "text": [
      "1024\n"
     ]
    }
   ],
   "source": [
    "# O(n) 只是简单封装，没有递归结构\n",
    "def fun1(x, n):\n",
    "    res = 1\n",
    "    for i in range(n):\n",
    "        res *= x\n",
    "    return res\n",
    "\n",
    "print(fun1(x, n))"
   ]
  },
  {
   "cell_type": "markdown",
   "id": "47cbd494",
   "metadata": {},
   "source": [
    "* 递归算法的时间复杂度\n",
    "    * 不一定是 logn\n",
    "    * 本质：看递归次数与每次递归操作次数的乘积"
   ]
  },
  {
   "cell_type": "code",
   "execution_count": 3,
   "id": "271c20dc",
   "metadata": {},
   "outputs": [
    {
     "name": "stdout",
     "output_type": "stream",
     "text": [
      "1024\n"
     ]
    }
   ],
   "source": [
    "# O(n) => 每次还是由 (n - 1) 控制次数，整体还是执行 n 次\n",
    "def fun2(x, n):\n",
    "    if n == 0:\n",
    "        return 1\n",
    "    return fun2(x, n - 1) * x # 有调用自身的结构，因此是递归类型\n",
    "\n",
    "print(fun2(x, n))"
   ]
  },
  {
   "cell_type": "code",
   "execution_count": 4,
   "id": "e857047e",
   "metadata": {
    "scrolled": false
   },
   "outputs": [
    {
     "data": {
      "text/plain": [
       "'\\ndef fun3(x, n):\\n    if n == 0:\\n        return 1\\n    if n % 2 == 1:\\n        return fun3(x, n / 2) * fun3(x, n / 2) * x\\n    return fun3(x, n / 2) * fun3(x, n / 2)\\n\\nprint(fun3(x, n)) # maximum recursion depth exceeded in comparison【Python 默认迭代次数 1000】\\n'"
      ]
     },
     "execution_count": 4,
     "metadata": {},
     "output_type": "execute_result"
    }
   ],
   "source": [
    "# 【本质是等比数列求和公式，递归次数抽象为一颗满二叉树】 —— 核心思想是分治，只有理解了分治才能理解这个算法 P16【必须掌握】\n",
    "# O(n - 1) => O(n)\n",
    "'''\n",
    "def fun3(x, n):\n",
    "    if n == 0:\n",
    "        return 1\n",
    "    if n % 2 == 1:\n",
    "        return fun3(x, n / 2) * fun3(x, n / 2) * x # 冗余写法\n",
    "    return fun3(x, n / 2) * fun3(x, n / 2) # 冗余写法\n",
    "\n",
    "print(fun3(x, n)) # maximum recursion depth exceeded in comparison【Python 默认迭代次数 1000】\n",
    "'''"
   ]
  },
  {
   "cell_type": "markdown",
   "id": "9a56ca3c",
   "metadata": {},
   "source": [
    "* RuntimeError: maximum recursion depth exceeded in comparison-CSDN博客  https://blog.csdn.net/qq_42063091/article/details/82423003"
   ]
  },
  {
   "cell_type": "code",
   "execution_count": 5,
   "id": "63a11808",
   "metadata": {},
   "outputs": [
    {
     "name": "stdout",
     "output_type": "stream",
     "text": [
      "4\n"
     ]
    }
   ],
   "source": [
    "# O(logn) =>【本质：把函数封装到变量，一次调用】 \n",
    "# —— 仅有一个递归调用，每次递归操作的数据规模都除以 2，所以这里一共调用 log2(n) 次，每次递归一次乘法操作（常数项）\n",
    "def fun4(x, n):\n",
    "    if n == 0:\n",
    "        return 1\n",
    "    t = fun4(x, n / 2)\n",
    "    if n % 2 == 1:\n",
    "        return t * t * x\n",
    "    return t * t\n",
    "\n",
    "print(fun4(x, n))"
   ]
  },
  {
   "cell_type": "markdown",
   "id": "expired-latex",
   "metadata": {},
   "source": [
    "## 程序的运行时间"
   ]
  },
  {
   "cell_type": "markdown",
   "id": "swedish-turkish",
   "metadata": {},
   "source": [
    "### T1 P18"
   ]
  },
  {
   "cell_type": "code",
   "execution_count": 1,
   "id": "fantastic-breakfast",
   "metadata": {},
   "outputs": [
    {
     "name": "stdout",
     "output_type": "stream",
     "text": [
      "1649346729.026337\n"
     ]
    }
   ],
   "source": [
    "import time\n",
    "\n",
    "# O(n)\n",
    "def func1(n):\n",
    "    k = 0\n",
    "    for i in range(n):\n",
    "        k += 1\n",
    "\n",
    "# O(n^2)\n",
    "def func2(n):\n",
    "    k = 0\n",
    "    for i in range(n):\n",
    "        for j in range(n):\n",
    "            k += 1\n",
    "\n",
    "# O(nlogn)\n",
    "def func3(n):\n",
    "    k = 0\n",
    "    for i in range(n):\n",
    "        j = 1\n",
    "        while j < n: # 【如何实现 j = j * 2 的语法？】\n",
    "            j = j * 2\n",
    "            k += 1\n",
    "\n",
    "# while True:\n",
    "#     n = int(input('Enter a big number : '))\n",
    "#     start_time = time.time()\n",
    "#     func1(n)\n",
    "# #     func2(n)\n",
    "# #     func3(n)\n",
    "#     end_time = time.time()\n",
    "#     cost = end_time - start_time\n",
    "#     print(cost)\n",
    "#     if n == 1:\n",
    "#         break\n",
    "print(time.time()) # 1649346729.026337 【10 位，单位秒】"
   ]
  },
  {
   "cell_type": "markdown",
   "id": "backed-andrew",
   "metadata": {},
   "source": [
    "【时间戳】\n",
    "* 13位时间戳（毫秒）\n",
    "* 10位字符串（秒）"
   ]
  }
 ],
 "metadata": {
  "kernelspec": {
   "display_name": "Python 3",
   "language": "python",
   "name": "python3"
  },
  "language_info": {
   "codemirror_mode": {
    "name": "ipython",
    "version": 3
   },
   "file_extension": ".py",
   "mimetype": "text/x-python",
   "name": "python",
   "nbconvert_exporter": "python",
   "pygments_lexer": "ipython3",
   "version": "3.8.1"
  },
  "notify_time": "10",
  "toc": {
   "base_numbering": "1",
   "nav_menu": {},
   "number_sections": true,
   "sideBar": true,
   "skip_h1_title": false,
   "title_cell": "Table of Contents",
   "title_sidebar": "Contents",
   "toc_cell": false,
   "toc_position": {},
   "toc_section_display": true,
   "toc_window_display": true
  }
 },
 "nbformat": 4,
 "nbformat_minor": 5
}
