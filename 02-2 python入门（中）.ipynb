{
 "cells": [
  {
   "cell_type": "markdown",
   "metadata": {
    "toc": true
   },
   "source": [
    "<h1>Table of Contents<span class=\"tocSkip\"></span></h1>\n",
    "<div class=\"toc\"><ul class=\"toc-item\"><li><span><a href=\"#简介\" data-toc-modified-id=\"简介-1\"><span class=\"toc-item-num\">1&nbsp;&nbsp;</span>简介</a></span><ul class=\"toc-item\"><li><span><a href=\"#【目标】\" data-toc-modified-id=\"【目标】-1.1\"><span class=\"toc-item-num\">1.1&nbsp;&nbsp;</span>【目标】</a></span></li></ul></li><li><span><a href=\"#列表\" data-toc-modified-id=\"列表-2\"><span class=\"toc-item-num\">2&nbsp;&nbsp;</span>列表</a></span><ul class=\"toc-item\"><li><span><a href=\"#1.-列表的定义\" data-toc-modified-id=\"1.-列表的定义-2.1\"><span class=\"toc-item-num\">2.1&nbsp;&nbsp;</span>1. 列表的定义</a></span></li><li><span><a href=\"#2.-列表的创建\" data-toc-modified-id=\"2.-列表的创建-2.2\"><span class=\"toc-item-num\">2.2&nbsp;&nbsp;</span>2. 列表的创建</a></span></li><li><span><a href=\"#3.-向列表中添加元素\" data-toc-modified-id=\"3.-向列表中添加元素-2.3\"><span class=\"toc-item-num\">2.3&nbsp;&nbsp;</span>3. 向列表中添加元素</a></span></li><li><span><a href=\"#4.-删除列表中的元素\" data-toc-modified-id=\"4.-删除列表中的元素-2.4\"><span class=\"toc-item-num\">2.4&nbsp;&nbsp;</span>4. 删除列表中的元素</a></span></li><li><span><a href=\"#5.-获取列表中的元素\" data-toc-modified-id=\"5.-获取列表中的元素-2.5\"><span class=\"toc-item-num\">2.5&nbsp;&nbsp;</span>5. 获取列表中的元素</a></span></li><li><span><a href=\"#6.-列表的常用操作符\" data-toc-modified-id=\"6.-列表的常用操作符-2.6\"><span class=\"toc-item-num\">2.6&nbsp;&nbsp;</span>6. 列表的常用操作符</a></span></li><li><span><a href=\"#7.-列表的其它方法\" data-toc-modified-id=\"7.-列表的其它方法-2.7\"><span class=\"toc-item-num\">2.7&nbsp;&nbsp;</span>7. 列表的其它方法</a></span></li><li><span><a href=\"#【概括】【含深浅拷贝讨论】\" data-toc-modified-id=\"【概括】【含深浅拷贝讨论】-2.8\"><span class=\"toc-item-num\">2.8&nbsp;&nbsp;</span>【概括】【含深浅拷贝讨论】</a></span></li></ul></li><li><span><a href=\"#元组\" data-toc-modified-id=\"元组-3\"><span class=\"toc-item-num\">3&nbsp;&nbsp;</span>元组</a></span><ul class=\"toc-item\"><li><span><a href=\"#1.-创建和访问一个元组\" data-toc-modified-id=\"1.-创建和访问一个元组-3.1\"><span class=\"toc-item-num\">3.1&nbsp;&nbsp;</span>1. 创建和访问一个元组</a></span></li><li><span><a href=\"#2.-更新和删除一个元组\" data-toc-modified-id=\"2.-更新和删除一个元组-3.2\"><span class=\"toc-item-num\">3.2&nbsp;&nbsp;</span>2. 更新和删除一个元组</a></span></li><li><span><a href=\"#3.-元组相关的操作符\" data-toc-modified-id=\"3.-元组相关的操作符-3.3\"><span class=\"toc-item-num\">3.3&nbsp;&nbsp;</span>3. 元组相关的操作符</a></span></li><li><span><a href=\"#4.-内置方法\" data-toc-modified-id=\"4.-内置方法-3.4\"><span class=\"toc-item-num\">3.4&nbsp;&nbsp;</span>4. 内置方法</a></span></li><li><span><a href=\"#5.-解压元组\" data-toc-modified-id=\"5.-解压元组-3.5\"><span class=\"toc-item-num\">3.5&nbsp;&nbsp;</span>5. 解压元组</a></span></li><li><span><a href=\"#【概括】\" data-toc-modified-id=\"【概括】-3.6\"><span class=\"toc-item-num\">3.6&nbsp;&nbsp;</span>【概括】</a></span></li></ul></li><li><span><a href=\"#字符串\" data-toc-modified-id=\"字符串-4\"><span class=\"toc-item-num\">4&nbsp;&nbsp;</span>字符串</a></span><ul class=\"toc-item\"><li><span><a href=\"#1.-字符串的定义\" data-toc-modified-id=\"1.-字符串的定义-4.1\"><span class=\"toc-item-num\">4.1&nbsp;&nbsp;</span>1. 字符串的定义</a></span></li><li><span><a href=\"#2.-字符串的切片与拼接\" data-toc-modified-id=\"2.-字符串的切片与拼接-4.2\"><span class=\"toc-item-num\">4.2&nbsp;&nbsp;</span>2. 字符串的切片与拼接</a></span></li><li><span><a href=\"#3.-字符串的常用内置方法\" data-toc-modified-id=\"3.-字符串的常用内置方法-4.3\"><span class=\"toc-item-num\">4.3&nbsp;&nbsp;</span>3. 字符串的常用内置方法</a></span></li><li><span><a href=\"#4.-字符串格式化\" data-toc-modified-id=\"4.-字符串格式化-4.4\"><span class=\"toc-item-num\">4.4&nbsp;&nbsp;</span>4. 字符串格式化</a></span></li><li><span><a href=\"#【概括】\" data-toc-modified-id=\"【概括】-4.5\"><span class=\"toc-item-num\">4.5&nbsp;&nbsp;</span>【概括】</a></span></li></ul></li><li><span><a href=\"#字典\" data-toc-modified-id=\"字典-5\"><span class=\"toc-item-num\">5&nbsp;&nbsp;</span>字典</a></span><ul class=\"toc-item\"><li><span><a href=\"#1.-可变类型与不可变类型\" data-toc-modified-id=\"1.-可变类型与不可变类型-5.1\"><span class=\"toc-item-num\">5.1&nbsp;&nbsp;</span>1. 可变类型与不可变类型</a></span></li><li><span><a href=\"#2.-字典的定义\" data-toc-modified-id=\"2.-字典的定义-5.2\"><span class=\"toc-item-num\">5.2&nbsp;&nbsp;</span>2. 字典的定义</a></span></li><li><span><a href=\"#3.-创建和访问字典\" data-toc-modified-id=\"3.-创建和访问字典-5.3\"><span class=\"toc-item-num\">5.3&nbsp;&nbsp;</span>3. 创建和访问字典</a></span></li><li><span><a href=\"#【概括】\" data-toc-modified-id=\"【概括】-5.4\"><span class=\"toc-item-num\">5.4&nbsp;&nbsp;</span>【概括】</a></span></li><li><span><a href=\"#4.-字典的内置方法\" data-toc-modified-id=\"4.-字典的内置方法-5.5\"><span class=\"toc-item-num\">5.5&nbsp;&nbsp;</span>4. 字典的内置方法</a></span></li><li><span><a href=\"#【深浅拷贝】\" data-toc-modified-id=\"【深浅拷贝】-5.6\"><span class=\"toc-item-num\">5.6&nbsp;&nbsp;</span>【深浅拷贝】</a></span><ul class=\"toc-item\"><li><span><a href=\"#【浅拷贝】\" data-toc-modified-id=\"【浅拷贝】-5.6.1\"><span class=\"toc-item-num\">5.6.1&nbsp;&nbsp;</span>【浅拷贝】</a></span></li><li><span><a href=\"#【深拷贝】\" data-toc-modified-id=\"【深拷贝】-5.6.2\"><span class=\"toc-item-num\">5.6.2&nbsp;&nbsp;</span>【深拷贝】</a></span></li></ul></li><li><span><a href=\"#【概括】\" data-toc-modified-id=\"【概括】-5.7\"><span class=\"toc-item-num\">5.7&nbsp;&nbsp;</span>【概括】</a></span></li></ul></li><li><span><a href=\"#集合\" data-toc-modified-id=\"集合-6\"><span class=\"toc-item-num\">6&nbsp;&nbsp;</span>集合</a></span><ul class=\"toc-item\"><li><span><a href=\"#1.-集合的创建\" data-toc-modified-id=\"1.-集合的创建-6.1\"><span class=\"toc-item-num\">6.1&nbsp;&nbsp;</span>1. 集合的创建</a></span></li><li><span><a href=\"#2.-访问集合中的值\" data-toc-modified-id=\"2.-访问集合中的值-6.2\"><span class=\"toc-item-num\">6.2&nbsp;&nbsp;</span>2. 访问集合中的值</a></span></li><li><span><a href=\"#3.-集合的内置方法\" data-toc-modified-id=\"3.-集合的内置方法-6.3\"><span class=\"toc-item-num\">6.3&nbsp;&nbsp;</span>3. 集合的内置方法</a></span></li><li><span><a href=\"#4.-集合的转换\" data-toc-modified-id=\"4.-集合的转换-6.4\"><span class=\"toc-item-num\">6.4&nbsp;&nbsp;</span>4. 集合的转换</a></span></li><li><span><a href=\"#5.-不可变集合\" data-toc-modified-id=\"5.-不可变集合-6.5\"><span class=\"toc-item-num\">6.5&nbsp;&nbsp;</span>5. 不可变集合</a></span></li></ul></li><li><span><a href=\"#序列\" data-toc-modified-id=\"序列-7\"><span class=\"toc-item-num\">7&nbsp;&nbsp;</span>序列</a></span><ul class=\"toc-item\"><li><span><a href=\"#1.-针对序列的内置函数\" data-toc-modified-id=\"1.-针对序列的内置函数-7.1\"><span class=\"toc-item-num\">7.1&nbsp;&nbsp;</span>1. 针对序列的内置函数</a></span></li></ul></li></ul></div>"
   ]
  },
  {
   "cell_type": "markdown",
   "metadata": {},
   "source": [
    "# 简介\n",
    "Python 是一种通用编程语言，其在科学计算和机器学习领域具有广泛的应用。如果我们打算利用 Python 来执行机器学习，那么对 Python 有一些基本的了解就是至关重要的。本 Python 入门系列体验就是为这样的初学者精心准备的。"
   ]
  },
  {
   "cell_type": "markdown",
   "metadata": {},
   "source": [
    "**本实验包括以下内容**：\n",
    "1. 列表\n",
    "    - 列表的定义\n",
    "    - 列表的创建\n",
    "    - 向列表中添加元素\n",
    "    - 删除列表中的元素\n",
    "    - 获取列表中的元素\n",
    "    - 列表的常用操作符\n",
    "    - 列表的其他方法\n",
    "2. 元组\n",
    "    - 创建和访问一个元组\n",
    "    - 更新和删除一个元组\n",
    "    - 元组相关的操作符\n",
    "    - 内置方法\n",
    "    - 解压元组\n",
    "3. 字符串\n",
    "    - 字符串的定义\n",
    "    - 字符串的切片与拼接\n",
    "    - 字符串的常用内置方法\n",
    "    - 字符串格式化\n",
    "4. 字典\n",
    "    - 可变类型与不可变类型\n",
    "    - 字典的定义\n",
    "    - 创建和访问字典\n",
    "    - 字典的内置方法\n",
    "5. 集合\n",
    "    - 集合的创建\n",
    "    - 访问集合中的值\n",
    "    - 集合的内置方法\n",
    "    - 集合的转换\n",
    "    - 不可变集合\n",
    "6. 序列\n",
    "    - 针对序列的内置函数\n"
   ]
  },
  {
   "cell_type": "markdown",
   "metadata": {},
   "source": [
    "（2022/04/06 21:43:09）\n",
    "## 【目标】\n",
    "* 补充 Python 数据结构语法知识；\n",
    "* 了解基于 Python 的内存管理机制、栈区、堆区等划分情况；\n",
    "* 了解“有序”与“无序”的特点、区别、实现机制；\n",
    "* 了解 Python 容器概念，对比 C++ STL 容器学习;\n",
    "* 至少要了解到内置函数、类，OPP 三大特性才能读懂源码；\n",
    "* 搞懂深浅拷贝的本质，对应的实现方法；\n",
    "* 多维数据结构的形式理解；\n",
    "* 左右值、字面量的理解；\n",
    "* 参数的清晰化 args，**kwargs；\n",
    "* 可迭代对象；\n",
    "* 重载。"
   ]
  },
  {
   "cell_type": "markdown",
   "metadata": {},
   "source": [
    "# 列表\n",
    "\n",
    "简单数据类型\n",
    "- 整型`<class 'int'>`\n",
    "- 浮点型`<class 'float'>`\n",
    "- 布尔型`<class 'bool'>`\n",
    "\n",
    "【容器】数据类型——【5 种】\n",
    "- 列表`<class 'list'>`\n",
    "- 元组`<class 'tuple'>`\n",
    "- 字典`<class 'dict'>`\n",
    "- 集合`<class 'set'>`\n",
    "- 字符串`<class 'str'>`"
   ]
  },
  {
   "cell_type": "markdown",
   "metadata": {},
   "source": [
    "## 1. 列表的定义\n",
    "\n",
    "列表是【有序】集合，没有固定大小，能够保存任意数量任意类型的 Python 对象，语法为 `[元素1, 元素2, ..., 元素n]`。\n",
    "\n",
    "- 关键点是「中括号 []」和「逗号 ,」\n",
    "- 中括号 把所有元素绑在一起\n",
    "- 逗号 将每个元素一一分开\n",
    "\n",
    "\n",
    "\n",
    "## 2. 列表的创建\n",
    "\n",
    "- 创建一个【普通】列表\n",
    "\n",
    "【例子】\n"
   ]
  },
  {
   "cell_type": "code",
   "execution_count": 1,
   "metadata": {},
   "outputs": [
    {
     "name": "stdout",
     "output_type": "stream",
     "text": [
      "['Monday', 'Tuesday', 'Wednesday', 'Thursday', 'Friday'] <class 'list'>\n",
      "[2, 3, 4, 5, 6, 7] <class 'list'>\n"
     ]
    }
   ],
   "source": [
    "x = ['Monday', 'Tuesday', 'Wednesday', 'Thursday', 'Friday']\n",
    "print(x, type(x))\n",
    "# ['Monday', 'Tuesday', 'Wednesday', 'Thursday', 'Friday'] <class 'list'>\n",
    "\n",
    "x = [2, 3, 4, 5, 6, 7]\n",
    "print(x, type(x))\n",
    "# [2, 3, 4, 5, 6, 7] <class 'list'>"
   ]
  },
  {
   "cell_type": "markdown",
   "metadata": {},
   "source": [
    "\n",
    "- 利用`range()`创建列表\n",
    "\n",
    "【例子】 "
   ]
  },
  {
   "cell_type": "code",
   "execution_count": 2,
   "metadata": {
    "scrolled": true
   },
   "outputs": [
    {
     "name": "stdout",
     "output_type": "stream",
     "text": [
      "[0, 1, 2, 3, 4, 5, 6, 7, 8, 9] <class 'list'>\n",
      "[1, 3, 5, 7, 9] <class 'list'>\n",
      "[10, 8, 6, 4, 2] <class 'list'>\n"
     ]
    }
   ],
   "source": [
    "x = list(range(10)) # 【关键在于 list 方法】【0 - 9】\n",
    "print(x, type(x))\n",
    "# [0, 1, 2, 3, 4, 5, 6, 7, 8, 9] <class 'list'>\n",
    "\n",
    "x = list(range(1, 11, 2)) # 【1 3 5 7 9】\n",
    "print(x, type(x))\n",
    "# [1, 3, 5, 7, 9] <class 'list'>\n",
    "\n",
    "x = list(range(10, 1, -2)) # 【10 8 6 4 2】\n",
    "print(x, type(x))\n",
    "# [10, 8, 6, 4, 2] <class 'list'>"
   ]
  },
  {
   "cell_type": "markdown",
   "metadata": {},
   "source": [
    "\n",
    "- 利用推导式创建列表\n",
    "\n",
    "【例子】 "
   ]
  },
  {
   "cell_type": "code",
   "execution_count": 3,
   "metadata": {},
   "outputs": [
    {
     "name": "stdout",
     "output_type": "stream",
     "text": [
      "[0, 0, 0, 0, 0] <class 'list'>\n",
      "[0, 0, 0, 0, 0] <class 'list'>\n",
      "[0, 1, 2, 3, 4, 5, 6, 7, 8, 9] <class 'list'>\n",
      "[1, 3, 5, 7, 9] <class 'list'>\n",
      "[10, 8, 6, 4, 2] <class 'list'>\n",
      "[1, 4, 9, 16, 25, 36, 49, 64, 81] <class 'list'>\n",
      "[3, 9, 15, 21, 27, 33, 39, 45, 51, 57, 63, 69, 75, 81, 87, 93, 99] <class 'list'>\n"
     ]
    }
   ],
   "source": [
    "x = [0] * 5 # 【这也行啊，语法自由度真高...】\n",
    "print(x, type(x))\n",
    "# [0, 0, 0, 0, 0] <class 'list'>\n",
    "\n",
    "x = [0 for i in range(5)]\n",
    "print(x, type(x))\n",
    "# [0, 0, 0, 0, 0] <class 'list'>\n",
    "\n",
    "x = [i for i in range(10)]\n",
    "print(x, type(x))\n",
    "# [0, 1, 2, 3, 4, 5, 6, 7, 8, 9] <class 'list'>\n",
    "\n",
    "x = [i for i in range(1, 10, 2)]\n",
    "print(x, type(x))\n",
    "# [1, 3, 5, 7, 9] <class 'list'>\n",
    "\n",
    "x = [i for i in range(10, 1, -2)]\n",
    "print(x, type(x))\n",
    "# [10, 8, 6, 4, 2] <class 'list'>\n",
    "\n",
    "x = [i ** 2 for i in range(1, 10)]\n",
    "print(x, type(x))\n",
    "# [1, 4, 9, 16, 25, 36, 49, 64, 81] <class 'list'>\n",
    "\n",
    "x = [i for i in range(100) if (i % 2) != 0 and (i % 3) == 0]\n",
    "print(x, type(x))\n",
    "\n",
    "# [3, 9, 15, 21, 27, 33, 39, 45, 51, 57, 63, 69, 75, 81, 87, 93, 99] <class 'list'>"
   ]
  },
  {
   "cell_type": "markdown",
   "metadata": {},
   "source": [
    "\n",
    "注意：\n",
    "\n",
    "由于list的元素可以是【任何对象】，因此列表中所保存的是【对象的指针】。【即使保存一个简单的`[1,2,3]`，也有3个指针和3个整数对象】。【关键】\n",
    "\n",
    "`x = [a] * 4`操作中，只是创建4个指向list的【引用】，所以一旦`a`改变，`x`中4个`a`也会【随之改变】。\n",
    "\n",
    "【例子】\n"
   ]
  },
  {
   "cell_type": "code",
   "execution_count": 4,
   "metadata": {},
   "outputs": [
    {
     "name": "stdout",
     "output_type": "stream",
     "text": [
      "[[0, 0, 0], [0, 0, 0], [0, 0, 0], [0, 0, 0]] <class 'list'>\n",
      "[[1, 0, 0], [1, 0, 0], [1, 0, 0], [1, 0, 0]] <class 'list'>\n",
      "[[0, 0, 0], [0, 0, 0], [0, 0, 0], [0, 0, 0]] <class 'list'>\n",
      "[[1, 0, 0], [1, 0, 0], [1, 0, 0], [1, 0, 0]] <class 'list'>\n"
     ]
    }
   ],
   "source": [
    "x = [[0] * 3] * 4\n",
    "print(x, type(x))\n",
    "# [[0, 0, 0], [0, 0, 0], [0, 0, 0], [0, 0, 0]] <class 'list'>\n",
    "\n",
    "x[0][0] = 1\n",
    "print(x, type(x))\n",
    "# [[1, 0, 0], [1, 0, 0], [1, 0, 0], [1, 0, 0]] <class 'list'> # 【本质是一个对象】\n",
    "\n",
    "a = [0] * 3\n",
    "x = [a] * 4\n",
    "print(x, type(x))\n",
    "# [[0, 0, 0], [0, 0, 0], [0, 0, 0], [0, 0, 0]] <class 'list'>\n",
    "\n",
    "x[0][0] = 1\n",
    "print(x, type(x))\n",
    "# [[1, 0, 0], [1, 0, 0], [1, 0, 0], [1, 0, 0]] <class 'list'>"
   ]
  },
  {
   "cell_type": "markdown",
   "metadata": {},
   "source": [
    "\n",
    "\n",
    "\n",
    "- 创建一个混合列表\n",
    "\n",
    "【例子】 "
   ]
  },
  {
   "cell_type": "code",
   "execution_count": 5,
   "metadata": {},
   "outputs": [
    {
     "name": "stdout",
     "output_type": "stream",
     "text": [
      "[1, 'lsgo', 3.14, [1, 2, 3]] <class 'list'>\n"
     ]
    }
   ],
   "source": [
    "mix = [1, 'lsgo', 3.14, [1, 2, 3]]\n",
    "print(mix, type(mix))  \n",
    "# [1, 'lsgo', 3.14, [1, 2, 3]] <class 'list'>"
   ]
  },
  {
   "cell_type": "markdown",
   "metadata": {},
   "source": [
    "\n",
    "\n",
    "- 创建一个空列表\n",
    "\n",
    "【例子】 "
   ]
  },
  {
   "cell_type": "code",
   "execution_count": 6,
   "metadata": {},
   "outputs": [
    {
     "name": "stdout",
     "output_type": "stream",
     "text": [
      "[] <class 'list'>\n"
     ]
    }
   ],
   "source": [
    "empty = []\n",
    "print(empty, type(empty))  # [] <class 'list'>"
   ]
  },
  {
   "cell_type": "markdown",
   "metadata": {},
   "source": [
    "\n",
    "列表不像元组，列表【内容可更改 (mutable)】，因此附加 (`append`, `extend`)、插入 (`insert`)、删除 (`remove`, `pop`) 这些【操作】都可以用在它身上。\n",
    "\n",
    "\n",
    "## 3. 向列表中添加元素\n",
    "\n",
    "- `list.append(obj)` 在列表【末尾】添加新的对象，只接受【一个参数】，参数可以是【任何数据类型】，被追加的元素在 list 中保持着【原结构类型】。【如何理解“原结构类型”？比如一个多维 list 的元素结构？】【已解决】——保留 obj 的数据类型\n",
    "\n",
    "【例子】\n"
   ]
  },
  {
   "cell_type": "code",
   "execution_count": 7,
   "metadata": {
    "scrolled": true
   },
   "outputs": [
    {
     "name": "stdout",
     "output_type": "stream",
     "text": [
      "['Monday', 'Tuesday', 'Wednesday', 'Thursday', 'Friday', 'Thursday']\n",
      "6\n"
     ]
    }
   ],
   "source": [
    "x = ['Monday', 'Tuesday', 'Wednesday', 'Thursday', 'Friday']\n",
    "x.append('Thursday')\n",
    "print(x)  \n",
    "# ['Monday', 'Tuesday', 'Wednesday', 'Thursday', 'Friday', 'Thursday']\n",
    "\n",
    "print(len(x))  # 6"
   ]
  },
  {
   "cell_type": "code",
   "execution_count": 4,
   "metadata": {},
   "outputs": [
    {
     "name": "stdout",
     "output_type": "stream",
     "text": [
      "[[1, 0, 0], [1, 0, 0], [1, 0, 0], [1, 0, 0], 'yes']\n"
     ]
    }
   ],
   "source": [
    "# 【追加类型测试】\n",
    "test = [[1, 0, 0], [1, 0, 0], [1, 0, 0], [1, 0, 0]] \n",
    "test.append('yes')\n",
    "print(test)"
   ]
  },
  {
   "cell_type": "markdown",
   "metadata": {},
   "source": [
    "\n",
    "此元素如果是一个 list，那么这个 list 将作为【一个整体】进行【追加】，注意`append()`和`extend()`的区别。【append 取决于追加的元素类型，extend 多了元素提取的过程，最终把整体的元素一个个追加到后面】\n",
    "\n",
    "【例子】"
   ]
  },
  {
   "cell_type": "code",
   "execution_count": 8,
   "metadata": {},
   "outputs": [
    {
     "name": "stdout",
     "output_type": "stream",
     "text": [
      "['Monday', 'Tuesday', 'Wednesday', 'Thursday', 'Friday', ['Thursday', 'Sunday']]\n",
      "6\n"
     ]
    }
   ],
   "source": [
    "x = ['Monday', 'Tuesday', 'Wednesday', 'Thursday', 'Friday']\n",
    "x.append(['Thursday', 'Sunday'])\n",
    "print(x)  \n",
    "# ['Monday', 'Tuesday', 'Wednesday', 'Thursday', 'Friday', ['Thursday', 'Sunday']] # 【以 list 为元素导入】\n",
    "\n",
    "print(len(x))  # 6"
   ]
  },
  {
   "cell_type": "markdown",
   "metadata": {},
   "source": [
    "\n",
    "- `list.extend(seq)` 在列表末尾【一次性追加】另一个序列中的多个值（用新列表扩展原来的列表）\n",
    "\n",
    "【例子】\n"
   ]
  },
  {
   "cell_type": "code",
   "execution_count": 5,
   "metadata": {},
   "outputs": [
    {
     "name": "stdout",
     "output_type": "stream",
     "text": [
      "['Monday', 'Tuesday', 'Wednesday', 'Thursday', 'Friday', 'Thursday', 'Sunday']\n",
      "7\n"
     ]
    }
   ],
   "source": [
    "x = ['Monday', 'Tuesday', 'Wednesday', 'Thursday', 'Friday']\n",
    "x.extend(['Thursday', 'Sunday'])\n",
    "print(x)  \n",
    "# ['Monday', 'Tuesday', 'Wednesday', 'Thursday', 'Friday', 'Thursday', 'Sunday'] # 【合并两个 list】\n",
    "\n",
    "print(len(x))  # 7"
   ]
  },
  {
   "cell_type": "markdown",
   "metadata": {},
   "source": [
    "\n",
    "严格来说 `append` 是【追加】，把一个东西整体添加在列表后，而 `extend` 是【扩展】，把一个东西里的所有元素添加在列表后。\n",
    "\n",
    "- `list.insert(index, obj)` 在编号 `index` 位置【插入】 `obj`。\n",
    "\n",
    "【例子】"
   ]
  },
  {
   "cell_type": "code",
   "execution_count": 6,
   "metadata": {},
   "outputs": [
    {
     "name": "stdout",
     "output_type": "stream",
     "text": [
      "['Monday', 'Tuesday', 'Sunday', 'Wednesday', 'Thursday', 'Friday']\n",
      "6\n"
     ]
    }
   ],
   "source": [
    "x = ['Monday', 'Tuesday', 'Wednesday', 'Thursday', 'Friday']\n",
    "x.insert(2, 'Sunday') # 【插队到指定位置】\n",
    "print(x)\n",
    "# ['Monday', 'Tuesday', 'Sunday', 'Wednesday', 'Thursday', 'Friday']\n",
    "\n",
    "print(len(x))  # 6"
   ]
  },
  {
   "cell_type": "markdown",
   "metadata": {},
   "source": [
    "\n",
    "\n",
    "\n",
    "## 4. 删除列表中的元素\n",
    "- `list.remove(obj)` 移除列表中某个值的【第一个】匹配项\n",
    "\n",
    "【例子】\n"
   ]
  },
  {
   "cell_type": "code",
   "execution_count": 7,
   "metadata": {},
   "outputs": [
    {
     "name": "stdout",
     "output_type": "stream",
     "text": [
      "['Tuesday', 'Monday', 'Wednesday', 'Monday', 'Thursday', 'Friday']\n"
     ]
    }
   ],
   "source": [
    "x = ['Monday', 'Tuesday', 'Monday', 'Wednesday', 'Monday', 'Thursday', 'Friday'] # 【移除了第一个匹配的】\n",
    "x.remove('Monday')\n",
    "print(x)  # ['Tuesday', 'Wednesday', 'Thursday', 'Friday']"
   ]
  },
  {
   "cell_type": "markdown",
   "metadata": {},
   "source": [
    "\n",
    "\n",
    "\n",
    "- `list.pop([index=-1])` 移除列表中的一个元素（【默认最后一个元素】），并且【返回】该元素的值\n",
    "\n",
    "【例子】\n"
   ]
  },
  {
   "cell_type": "code",
   "execution_count": 10,
   "metadata": {},
   "outputs": [
    {
     "name": "stdout",
     "output_type": "stream",
     "text": [
      "Friday\n",
      "['Monday', 'Tuesday', 'Wednesday', 'Thursday']\n",
      "Monday\n",
      "['Tuesday', 'Wednesday', 'Thursday']\n",
      "Wednesday\n",
      "['Tuesday', 'Thursday']\n"
     ]
    }
   ],
   "source": [
    "x = ['Monday', 'Tuesday', 'Wednesday', 'Thursday', 'Friday']\n",
    "y = x.pop()\n",
    "print(y)  # Friday\n",
    "print(x) # 【x 也会修改】【有个想法，print 的遍历机制是什么？是需要遍历？如果有一个 10万级的 list，可否瞬间输出？\n",
    "         # 我想着不用遍历，有个首地址、长度信息直接映射就可以了，通过控制总线调用显卡，输出到显示器】\n",
    "\n",
    "y = x.pop(0)\n",
    "print(y)  # Monday\n",
    "print(x)\n",
    "\n",
    "y = x.pop(-2)\n",
    "print(y)  # Wednesday\n",
    "print(x)  # ['Tuesday', 'Thursday']"
   ]
  },
  {
   "cell_type": "markdown",
   "metadata": {},
   "source": [
    "`remove` 和 `pop` 都可以删除元素，前者是【指定具体】要删除的元素，后者是【指定一个索引】。\n",
    "\n",
    "- `del var1[, var2 ……]` 【删除】单个或多个对象。\n",
    "\n",
    "【例子】\n",
    "\n",
    "如果知道要删除的元素在列表中的位置，可使用`del`语句。\n",
    "\n",
    "\n"
   ]
  },
  {
   "cell_type": "code",
   "execution_count": 13,
   "metadata": {},
   "outputs": [
    {
     "name": "stdout",
     "output_type": "stream",
     "text": [
      "['Wednesday', 'Thursday', 'Friday']\n"
     ]
    }
   ],
   "source": [
    "x = ['Monday', 'Tuesday', 'Wednesday', 'Thursday', 'Friday']\n",
    "del x[0:2]\n",
    "print(x)  # ['Wednesday', 'Thursday', 'Friday']"
   ]
  },
  {
   "cell_type": "markdown",
   "metadata": {},
   "source": [
    "\n",
    "如果你要从列表中删除一个元素，且【不再】以任何方式【使用】它，就使用`del`语句；如果你要在删除元素后还能继续使用它，就使用方法`pop()`。\n",
    "\n",
    "\n",
    "## 5. 获取列表中的元素\n",
    "\n",
    "- 通过元素的索引值，从列表获取单个元素，注意，列表索引值是从0开始的。\n",
    "- 通过将索引指定为-1，可让Python返回最后一个列表元素，索引 -2 返回倒数第二个列表元素，以此类推。\n",
    "\n",
    "【例子】\n"
   ]
  },
  {
   "cell_type": "code",
   "execution_count": 14,
   "metadata": {
    "scrolled": true
   },
   "outputs": [
    {
     "name": "stdout",
     "output_type": "stream",
     "text": [
      "Monday <class 'str'>\n",
      "['Thursday', 'Friday'] <class 'list'>\n",
      "Wednesday <class 'str'>\n"
     ]
    }
   ],
   "source": [
    "x = ['Monday', 'Tuesday', 'Wednesday', ['Thursday', 'Friday']]\n",
    "print(x[0], type(x[0]))  # Monday <class 'str'>\n",
    "print(x[-1], type(x[-1]))  # ['Thursday', 'Friday'] <class 'list'>\n",
    "print(x[-2], type(x[-2]))  # Wednesday <class 'str'>"
   ]
  },
  {
   "cell_type": "markdown",
   "metadata": {},
   "source": [
    "\n",
    "\n",
    "切片的通用写法是 `start : stop : step`\n",
    "\n",
    "- 情况 1 - \"start :\" \n",
    "- 以 `step` 为 1 (默认) 从编号 `start` 往列表尾部切片。\n",
    "\n",
    "【例子】\n"
   ]
  },
  {
   "cell_type": "code",
   "execution_count": 15,
   "metadata": {},
   "outputs": [
    {
     "name": "stdout",
     "output_type": "stream",
     "text": [
      "['Thursday', 'Friday']\n",
      "['Wednesday', 'Thursday', 'Friday']\n"
     ]
    }
   ],
   "source": [
    "x = ['Monday', 'Tuesday', 'Wednesday', 'Thursday', 'Friday']\n",
    "print(x[3:])  # ['Thursday', 'Friday']\n",
    "print(x[-3:])  # ['Wednesday', 'Thursday', 'Friday']"
   ]
  },
  {
   "cell_type": "markdown",
   "metadata": {},
   "source": [
    "- 情况 2 - \": stop\"\n",
    "- 以 `step` 为 1 (默认) 从列表头部往编号 `stop` 切片。\n",
    "\n",
    "【例子】\n"
   ]
  },
  {
   "cell_type": "code",
   "execution_count": 16,
   "metadata": {},
   "outputs": [
    {
     "name": "stdout",
     "output_type": "stream",
     "text": [
      "['Monday', 'Tuesday', 'Wednesday']\n",
      "['Monday', 'Tuesday']\n"
     ]
    }
   ],
   "source": [
    "week = ['Monday', 'Tuesday', 'Wednesday', 'Thursday', 'Friday']\n",
    "print(week[:3])  # ['Monday', 'Tuesday', 'Wednesday']\n",
    "print(week[:-3])  # ['Monday', 'Tuesday']"
   ]
  },
  {
   "cell_type": "code",
   "execution_count": 23,
   "metadata": {},
   "outputs": [
    {
     "name": "stdout",
     "output_type": "stream",
     "text": [
      "788888888888888888888888888888888888888888888888888888888888888888888888888888888888888888888843174316764214321321321689\n"
     ]
    }
   ],
   "source": [
    "a = '986123123123412467613471348888888888888888888888888888888888888888888888888888888888888888888888888888888888888888888887'\n",
    "print(int(a[::-1])) # 【为啥我记得之前用 -1 如果数值长度太大，会溢出？】【已解决】【见下面语句块】"
   ]
  },
  {
   "cell_type": "code",
   "execution_count": 27,
   "metadata": {},
   "outputs": [
    {
     "name": "stdout",
     "output_type": "stream",
     "text": [
      "Input a float number\n",
      "1234567891234567\n",
      "0.7654321987654321\n"
     ]
    }
   ],
   "source": [
    "# 【flip a float number】翻转一个浮点数\n",
    "num = float(input(\"Input a float number\\n\"))\n",
    "num = str(num)\n",
    "num = float(num[::-1])\n",
    "print(num) # 123456789 12345678 17个数就溢出"
   ]
  },
  {
   "cell_type": "markdown",
   "metadata": {},
   "source": [
    "\n",
    "- 情况 3 - \"start : stop\"\n",
    "- 以 `step` 为 1 (默认) 从编号 `start` 往编号 `stop` 切片。\n",
    "\n",
    "【例子】\n"
   ]
  },
  {
   "cell_type": "code",
   "execution_count": 17,
   "metadata": {},
   "outputs": [
    {
     "name": "stdout",
     "output_type": "stream",
     "text": [
      "['Tuesday', 'Wednesday']\n",
      "['Wednesday', 'Thursday']\n"
     ]
    }
   ],
   "source": [
    "week = ['Monday', 'Tuesday', 'Wednesday', 'Thursday', 'Friday']\n",
    "print(week[1:3])  # ['Tuesday', 'Wednesday']\n",
    "print(week[-3:-1])  # ['Wednesday', 'Thursday']"
   ]
  },
  {
   "cell_type": "markdown",
   "metadata": {},
   "source": [
    "\n",
    "- 情况 4 - \"start : stop : step\"\n",
    "- 以具体的 `step` 从编号 `start` 往编号 `stop` 切片。注意最后把 `step` 【设为 -1】，相当于将列表【反向】排列。【反转的速度应该跟前面讨论的首地址+长度获取——可以回到 段地址×16 + 偏移地址 = 物理地址 理解？】\n",
    "\n",
    "【例子】\n"
   ]
  },
  {
   "cell_type": "code",
   "execution_count": 18,
   "metadata": {},
   "outputs": [
    {
     "name": "stdout",
     "output_type": "stream",
     "text": [
      "['Tuesday', 'Thursday']\n",
      "['Monday', 'Wednesday']\n",
      "['Tuesday', 'Thursday']\n",
      "['Friday', 'Thursday', 'Wednesday', 'Tuesday', 'Monday']\n"
     ]
    }
   ],
   "source": [
    "week = ['Monday', 'Tuesday', 'Wednesday', 'Thursday', 'Friday']\n",
    "print(week[1:4:2])  # ['Tuesday', 'Thursday']\n",
    "print(week[:4:2])  # ['Monday', 'Wednesday']\n",
    "print(week[1::2])  # ['Tuesday', 'Thursday']\n",
    "print(week[::-1])  \n",
    "# ['Friday', 'Thursday', 'Wednesday', 'Tuesday', 'Monday']"
   ]
  },
  {
   "cell_type": "markdown",
   "metadata": {},
   "source": [
    "- 情况 5 - \" : \"\n",
    "- 复制列表中的所有元素（【浅拷贝】）。\n",
    "\n",
    "【例子】\n"
   ]
  },
  {
   "cell_type": "code",
   "execution_count": 28,
   "metadata": {},
   "outputs": [
    {
     "name": "stdout",
     "output_type": "stream",
     "text": [
      "['Monday', 'Tuesday', 'Wednesday', 'Thursday', 'Friday']\n"
     ]
    }
   ],
   "source": [
    "week = ['Monday', 'Tuesday', 'Wednesday', 'Thursday', 'Friday']\n",
    "print(week[:])  \n",
    "# ['Monday', 'Tuesday', 'Wednesday', 'Thursday', 'Friday']"
   ]
  },
  {
   "cell_type": "markdown",
   "metadata": {},
   "source": [
    "【例子】浅拷贝与深拷贝——【本质区别：复制的是引用还是具体的值】\n",
    "* 【深拷贝】：B 复制 A => A 改变，B 不变。\n",
    "* 【浅拷贝】：B 复制 A => A 改变，B 也变。"
   ]
  },
  {
   "cell_type": "code",
   "execution_count": 33,
   "metadata": {},
   "outputs": [
    {
     "name": "stdout",
     "output_type": "stream",
     "text": [
      "2 [123, 456, 789, 213]\n",
      "3 [123, 456, 789, 213]\n",
      "2 [123, 213, 456, 789]\n",
      "3 [123, 456, 789, 213]\n",
      "[[123, 456], [789, 213]]\n",
      "[[123, 456], [789, 213]]\n",
      "[[111, 456], [789, 213]]\n",
      "[[111, 456], [789, 213]]\n",
      "[[123, 456], [789, 213], [999, 333]]\n",
      "[[111, 456], [789, 213], [999, 333]]\n"
     ]
    }
   ],
   "source": [
    "list1 = [123, 456, 789, 213]\n",
    "list2 = list1 # 【】\n",
    "list3 = list1[:] # 【】\n",
    "\n",
    "print('2', list2)  # [123, 456, 789, 213]\n",
    "print('3', list3)  # [123, 456, 789, 213]\n",
    "\n",
    "list1.sort()\n",
    "print('2', list2)  # [123, 213, 456, 789]  # 【变】\n",
    "print('3', list3)  # [123, 456, 789, 213] # 【不变】\n",
    "\n",
    "list1 = [[123, 456], [789, 213]]\n",
    "list2 = list1\n",
    "list3 = list1[:]\n",
    "print(list2)  # [[123, 456], [789, 213]]\n",
    "print(list3)  # [[123, 456], [789, 213]]\n",
    "\n",
    "list1[0][0] = 111\n",
    "print(list2)  # [[111, 456], [789, 213]]  # 【变】\n",
    "print(list3)  # [[111, 456], [789, 213]]  # 【变】【为什么前面一层是深拷贝，这里又变成浅拷贝？】\n",
    "\n",
    "list4 = [[123, 456], [789, 213], [999, 333]]\n",
    "list5 = list4.copy() # 【这玩意不是深拷贝用的吗？？居然也不行】\n",
    "print(list5)\n",
    "list4[0][0] = 111\n",
    "print(list5)"
   ]
  },
  {
   "cell_type": "markdown",
   "metadata": {},
   "source": [
    "## 6. 列表的常用操作符\n",
    "\n",
    "- 等号操作符：`==`\n",
    "- 连接操作符 `+`【list 较大时，不用。因为需要消耗额外的内存】\n",
    "- 重复操作符 `*`\n",
    "- 【成员关系】操作符 `in`、`not in`【用到成员这个词，应该是类、对象而言的底层实现】\n",
    "\n",
    "「等号 ==」，只有【成员、成员位置都相同】时才返回True。\n",
    "\n",
    "列表【拼接】有两种方式，用「加号 +」和「乘号 *」，前者【首尾拼接】，后者【复制拼接】。\n",
    "\n",
    "\n",
    "【例子】"
   ]
  },
  {
   "cell_type": "code",
   "execution_count": 21,
   "metadata": {},
   "outputs": [
    {
     "name": "stdout",
     "output_type": "stream",
     "text": [
      "False\n",
      "True\n",
      "[123, 456, 456, 123]\n",
      "[123, 456, 123, 456, 123, 456]\n",
      "[123, 456, 123, 456, 123, 456]\n",
      "True\n",
      "False\n"
     ]
    }
   ],
   "source": [
    "list1 = [123, 456]\n",
    "list2 = [456, 123]\n",
    "list3 = [123, 456]\n",
    "\n",
    "print(list1 == list2)  # False\n",
    "print(list1 == list3)  # True\n",
    "\n",
    "list4 = list1 + list2  # 【extend() 等价？首尾拼接——那么有没有额外内存花销？应该是没有的，因为可以直接修改原始的数据对象】\n",
    "print(list4)  # [123, 456, 456, 123]\n",
    "\n",
    "list5 = list3 * 3 # 【复制拼接——这个复制又是浅复制？】\n",
    "print(list5)  # [123, 456, 123, 456, 123, 456]\n",
    "\n",
    "list3 *= 3\n",
    "print(list3)  # [123, 456, 123, 456, 123, 456]\n",
    "\n",
    "print(123 in list3)  # True\n",
    "print(456 not in list3)  # False"
   ]
  },
  {
   "cell_type": "markdown",
   "metadata": {},
   "source": [
    "\n",
    "前面三种方法（`append`, `extend`, `insert`）可对列表增加元素，它们【没有返回值，是直接修改了原数据对象】。\n",
    "而将两个list相加，需要创建新的 list 对象，从而需要消耗【额外的内存】，特别是当 list 较大时，【尽量不要】使用 “+” 来添加list。【内存消耗很大】\n",
    "\n",
    "## 7. 列表的其它方法\n",
    "\n",
    "`list.count(obj)` 统计某个元素在列表中出现的【次数】\n",
    "\n",
    "【例子】\n"
   ]
  },
  {
   "cell_type": "code",
   "execution_count": 3,
   "metadata": {},
   "outputs": [
    {
     "name": "stdout",
     "output_type": "stream",
     "text": [
      "[123, 456, 123, 456, 123, 456]\n",
      "3\n"
     ]
    }
   ],
   "source": [
    "list1 = [123, 456] * 3\n",
    "print(list1)  # [123, 456, 123, 456, 123, 456]\n",
    "num = list1.count(123)\n",
    "print(num)  # 3"
   ]
  },
  {
   "cell_type": "markdown",
   "metadata": {},
   "source": [
    "\n",
    "`list.index(x[, start[, end]])` 从列表中找出某个值【第一个匹配】项的【索引】位置【这个可选参数有点奇葩，下面演示也没说明问题】【已解决】\n",
    "\n",
    "【例子】\n"
   ]
  },
  {
   "cell_type": "code",
   "execution_count": 79,
   "metadata": {},
   "outputs": [
    {
     "name": "stdout",
     "output_type": "stream",
     "text": [
      "[123, 456, 123, 456, 123, 456, 123, 456, 123, 456]\n",
      "[(0, 123), (1, 456), (2, 123), (3, 456), (4, 123), (5, 456), (6, 123), (7, 456), (8, 123), (9, 456)]\n",
      "0\n",
      "2\n",
      "4\n",
      "[(0, 9), (5, 9), (9, 9)]\n",
      "0\n",
      "5\n",
      "9\n"
     ]
    }
   ],
   "source": [
    "list1 = [123, 456] * 5\n",
    "print(list1)\n",
    "print(list(enumerate(list1))) # 【输出一个枚举值，可读性高一点】\n",
    "\n",
    "print(list1.index(123))  # 0\n",
    "print(list1.index(123, 1))  # 2【这个勉强可以理解，从索引 1 开始，匹配 123 ，返回第一个 123 的索引】【已解决】【后面的参数确定查找区间】\n",
    "print(list1.index(123, 3, 7))  # 4【从索引 3 开始 7 结束的区间，查找第一个匹配的 123】\n",
    "\n",
    "# 【换个更直观的数组】\n",
    "list2 = [9, 1, 2, 3, 4, 9, 6, 7, 8, 9]\n",
    "list3 = [j for i, j in zip(list2, list(enumerate(list2))) if i == 9] # 【一步筛选，并标记出 9 的对应索引值】\n",
    "print(list3)\n",
    "print(list2.index(9))\n",
    "print(list2.index(9, 1))\n",
    "print(list2.index(9, 6))"
   ]
  },
  {
   "cell_type": "markdown",
   "metadata": {},
   "source": [
    "\n",
    "`list.reverse()` 反向列表中元素\n",
    "\n",
    "【例子】"
   ]
  },
  {
   "cell_type": "code",
   "execution_count": 92,
   "metadata": {},
   "outputs": [
    {
     "name": "stdout",
     "output_type": "stream",
     "text": [
      "[789, 456, 123]\n",
      "[789, 456, 123]\n",
      "12345\n",
      "54321\n"
     ]
    }
   ],
   "source": [
    "x = [123, 456, 789]\n",
    "x.reverse()\n",
    "print(x)  # [789, 456, 123]\n",
    "\n",
    "x = [123, 456, 789]\n",
    "print(x[::-1]) # 【同样可实现】【一开始搞错了，因为 x.reverse() 会修改原来的数据对象】\n",
    "\n",
    "s = '12345'\n",
    "# 【s.reverse() # AttributeError: 'str' object has no attribute 'reverse'】\n",
    "print(s)\n",
    "print(s[::-1])"
   ]
  },
  {
   "cell_type": "markdown",
   "metadata": {},
   "source": [
    "\n",
    "`list.sort(key=None, reverse=False)` 对原列表进行排序。【查看了这个方法的源码，在 list() 里面，但是 pass】【why？】\n",
    "\n",
    "- `key` -- 主要是用来【进行比较】的元素，只有一个参数，具体的函数的参数就是【取自于可迭代对象】中，【指定可迭代对象中的一个元素来进行排序】。【数值、字典序，作为阈值的意思？】\n",
    "- `reverse` -- 【排序规则】，`reverse = True` 降序， `reverse = False` 升序（默认）。\n",
    "- 该方法没有返回值，但是会对列表的对象进行排序。\n",
    "\n",
    "【例子】\n"
   ]
  },
  {
   "cell_type": "code",
   "execution_count": 100,
   "metadata": {
    "scrolled": true
   },
   "outputs": [
    {
     "name": "stdout",
     "output_type": "stream",
     "text": [
      "[123, 213, 456, 789]\n",
      "[789, 456, 213, 123]\n",
      "[(4, 1), (2, 2), (1, 3), (3, 4)]\n",
      "[(1, 3), (2, 2), (3, 4), (4, 1)]\n"
     ]
    },
    {
     "ename": "TypeError",
     "evalue": "'int' object is not subscriptable",
     "output_type": "error",
     "traceback": [
      "\u001b[1;31m---------------------------------------------------------------------------\u001b[0m",
      "\u001b[1;31mTypeError\u001b[0m                                 Traceback (most recent call last)",
      "\u001b[1;32m~\\AppData\\Local\\Temp/ipykernel_11556/3139632825.py\u001b[0m in \u001b[0;36m<module>\u001b[1;34m\u001b[0m\n\u001b[0;32m     28\u001b[0m \u001b[1;33m\u001b[0m\u001b[0m\n\u001b[0;32m     29\u001b[0m \u001b[0mx\u001b[0m \u001b[1;33m=\u001b[0m \u001b[1;33m[\u001b[0m\u001b[1;36m2\u001b[0m\u001b[1;33m,\u001b[0m \u001b[1;36m4\u001b[0m\u001b[1;33m,\u001b[0m \u001b[1;36m1\u001b[0m\u001b[1;33m,\u001b[0m \u001b[1;36m3\u001b[0m\u001b[1;33m]\u001b[0m\u001b[1;33m\u001b[0m\u001b[1;33m\u001b[0m\u001b[0m\n\u001b[1;32m---> 30\u001b[1;33m \u001b[0mx\u001b[0m\u001b[1;33m.\u001b[0m\u001b[0msort\u001b[0m\u001b[1;33m(\u001b[0m\u001b[0mkey\u001b[0m\u001b[1;33m=\u001b[0m\u001b[0mtakeSecond\u001b[0m\u001b[1;33m)\u001b[0m \u001b[1;31m# 【TypeError: 'int' object is not subscriptable】\u001b[0m\u001b[1;33m\u001b[0m\u001b[1;33m\u001b[0m\u001b[0m\n\u001b[0m",
      "\u001b[1;32m~\\AppData\\Local\\Temp/ipykernel_11556/3139632825.py\u001b[0m in \u001b[0;36mtakeSecond\u001b[1;34m(elem)\u001b[0m\n\u001b[0;32m     11\u001b[0m \u001b[1;31m# 获取列表的第二个元素\u001b[0m\u001b[1;33m\u001b[0m\u001b[1;33m\u001b[0m\u001b[0m\n\u001b[0;32m     12\u001b[0m \u001b[1;32mdef\u001b[0m \u001b[0mtakeSecond\u001b[0m\u001b[1;33m(\u001b[0m\u001b[0melem\u001b[0m\u001b[1;33m)\u001b[0m\u001b[1;33m:\u001b[0m\u001b[1;33m\u001b[0m\u001b[1;33m\u001b[0m\u001b[0m\n\u001b[1;32m---> 13\u001b[1;33m     \u001b[1;32mreturn\u001b[0m \u001b[0melem\u001b[0m\u001b[1;33m[\u001b[0m\u001b[1;36m1\u001b[0m\u001b[1;33m]\u001b[0m\u001b[1;33m\u001b[0m\u001b[1;33m\u001b[0m\u001b[0m\n\u001b[0m\u001b[0;32m     14\u001b[0m \u001b[1;33m\u001b[0m\u001b[0m\n\u001b[0;32m     15\u001b[0m \u001b[1;33m\u001b[0m\u001b[0m\n",
      "\u001b[1;31mTypeError\u001b[0m: 'int' object is not subscriptable"
     ]
    }
   ],
   "source": [
    "x = [123, 456, 789, 213]\n",
    "x.sort()\n",
    "print(x)\n",
    "# [123, 213, 456, 789]\n",
    "\n",
    "x.sort(reverse=True) # 【这里的 reverse 参数逻辑，是否和 reverse() 方法的逻辑一样？是直接调用这个参数？还是重新实现一套逻辑？】\n",
    "print(x)\n",
    "# [789, 456, 213, 123]\n",
    "\n",
    "\n",
    "# 获取列表的第二个元素\n",
    "def takeSecond(elem):\n",
    "    return elem[1]\n",
    "\n",
    "\n",
    "x = [(2, 2), (3, 4), (4, 1), (1, 3)] # 【可迭代对象】\n",
    "x.sort(key=takeSecond) # 【有点没理解这种传参的方法】【但不难理解，按照第二个元素进行排序】\n",
    "print(x)\n",
    "# [(4, 1), (2, 2), (1, 3), (3, 4)]\n",
    "\n",
    "x.sort(key=lambda a: a[0]) # 【lambda 表达式，超纲了】【但不难理解，按照第一个元素进行排序】【不能用 int】\n",
    "print(x)\n",
    "# [(1, 3), (2, 2), (3, 4), (4, 1)]\n",
    "\n",
    "\n",
    "def takefirst(elem):\n",
    "    return elem[0]\n",
    "\n",
    "x = [2, 4, 1, 3]\n",
    "x.sort(key=takeSecond) # 【TypeError: 'int' object is not subscriptable】"
   ]
  },
  {
   "cell_type": "markdown",
   "metadata": {},
   "source": [
    "（2022/04/07 0:40:10 3h6min）\n",
    "## 【概括】【含深浅拷贝讨论】\n",
    "* （1）list —— 有序、任意类型对象 => 保存的是对象的指针。\n",
    "    * `[1, 2, 3]` => 3 个指针，3 个 int 对象。【=> 可推广至 Python 的内存机制】\n",
    "    * 普通列表、混合列表、空列表。\n",
    "* （2）三种创建方法\n",
    "    * `arr = [1, 2, 3]`\n",
    "    * `arr = list(range(3))`\n",
    "    * `arr = [i for i in range(3)]`\n",
    "* （3）深浅拷贝——引用与赋值的关系。【=> 可推广至 Python 的内存机制】\n",
    "    * 根据（1）的 list 对象为指针，可以推广到不同的数据结构，确定是否“万物皆对象”，从而可以抓住“引用”“赋值”的本质，就能理解深浅拷贝的区别\n",
    "    * 【例子】浅拷贝与深拷贝——【本质区别：复制的是引用还是具体的值】\n",
    "        * 【深拷贝】：B 复制 A => A 改变，B 不变。【错了,搞反了，详见第 5 章讨论】\n",
    "        * 【浅拷贝】：B 复制 A => A 改变，B 也变。【错了，详见第 5 章讨论】【不能这样简单地归纳，因为都是这种现象是交叉的】\n",
    "* （4）添加元素\n",
    "    * `append(obj)`追加 => 原结构 插入\n",
    "    * `extend(obj)`扩展 => 取出元素 插入\n",
    "    * `insert(index, element)`插入 => 指定位置 插入\n",
    "* （5）删除元素\n",
    "    * `remove(element)`\n",
    "    * `pop(index=-1)`\n",
    "    * `del list[start:stop:step]`\n",
    "* （6）获取元素\n",
    "    * `list[start:stop:step]`的四种情况\n",
    "* （7）list 常用操作符\n",
    "    * ==\n",
    "    * *\n",
    "    * +【注意使用场合——额外内存】\n",
    "    * in、not in\n",
    "* （8）其他方法——计数、索引、翻转、排序\n",
    "    * `cout(obj)`\n",
    "    * `index(x[, start[, end]])`\n",
    "    * `reverse()` VS `[::-1]`\n",
    "    * `sort(key=None, reverse=False)`\n",
    "* （9）Python 源码课程 http://www.imooc.com/read/76/article/1858\n",
    "    * 【看评论说挺好的，有时间试读，再考虑购买】\n",
    "    * 【沿着知乎、公众号，找到了大佬免费开放的课程】https://mp.weixin.qq.com/mp/appmsgalbum?action=getalbum&__biz=MzA5NjQ4OTgyNg==&scene=1&album_id=1368235987553402881&count=3#wechat_redirect\n",
    "* （10）两个看不懂的语法\n",
    "```Python\n",
    "def takeSecond(elem):\n",
    "    return elem[1]\n",
    "x = [(2, 2), (3, 4), (4, 1), (1, 3)]\n",
    "x.sort(key=takeSecond)\n",
    "print('以每个元素的第二个值排序', x)\n",
    "x.sort(key=lambda a: a[0]) \n",
    "print('以每个元素的第一个值排序', x)\n",
    "```"
   ]
  },
  {
   "cell_type": "markdown",
   "metadata": {},
   "source": [
    "\n",
    "\n",
    "# 元组\n",
    "\n",
    "「元组」定义语法为：`(元素1, 元素2, ..., 元素n)`\n",
    "- 小括号把所有元素绑在一起\n",
    "- 逗号将每个元素一一分开\n",
    "\n",
    "## 1. 创建和访问一个元组\n",
    "\n",
    "- Python 的元组与列表【类似】，不同之处在于tuple被创建后就【不能】对其进行【修改】，【类似字符串】。\n",
    "- 元组使用小括号，列表使用方括号。\n",
    "- 元组与列表类似，也用整数来对它进行【索引 (indexing) 和切片 (slicing)】。【可以用索引访问的，就是有序的】\n",
    "\n",
    "【例子】\n"
   ]
  },
  {
   "cell_type": "code",
   "execution_count": 26,
   "metadata": {
    "scrolled": true
   },
   "outputs": [
    {
     "name": "stdout",
     "output_type": "stream",
     "text": [
      "(1, 10.31, 'python') <class 'tuple'>\n",
      "(1, 10.31, 'python') <class 'tuple'>\n",
      "2\n",
      "(6, 7, 8)\n",
      "(1, 2, 3, 4, 5)\n",
      "(1, 2, 3, 4, 5, 6, 7, 8)\n"
     ]
    }
   ],
   "source": [
    "t1 = (1, 10.31, 'python')\n",
    "t2 = 1, 10.31, 'python'\n",
    "print(t1, type(t1))\n",
    "# (1, 10.31, 'python') <class 'tuple'>\n",
    "\n",
    "print(t2, type(t2))\n",
    "# (1, 10.31, 'python') <class 'tuple'>\n",
    "\n",
    "tuple1 = (1, 2, 3, 4, 5, 6, 7, 8)\n",
    "print(tuple1[1])  # 2\n",
    "print(tuple1[5:])  # (6, 7, 8) 【切片还是 tuple，因为只是检索而已】\n",
    "print(tuple1[:5])  # (1, 2, 3, 4, 5)\n",
    "tuple2 = tuple1[:]\n",
    "print(tuple2)  # (1, 2, 3, 4, 5, 6, 7, 8)"
   ]
  },
  {
   "cell_type": "markdown",
   "metadata": {},
   "source": [
    "\n",
    "- 创建元组可以用小括号 ()，也可以什么都不用，为了可读性，建议还是用 ()。\n",
    "- 元组中【只包含一个元素时】，需要在元素后面【添加逗号】，否则括号会被当作运算符使用。\n",
    "\n",
    "【例子】\n"
   ]
  },
  {
   "cell_type": "code",
   "execution_count": 27,
   "metadata": {},
   "outputs": [
    {
     "name": "stdout",
     "output_type": "stream",
     "text": [
      "<class 'int'>\n",
      "<class 'tuple'>\n",
      "<class 'list'>\n",
      "<class 'tuple'>\n",
      "<class 'tuple'>\n"
     ]
    }
   ],
   "source": [
    "x = (1)\n",
    "print(type(x))  # <class 'int'>\n",
    "x = 2, 3, 4, 5\n",
    "print(type(x))  # <class 'tuple'>\n",
    "x = []\n",
    "print(type(x))  # <class 'list'>\n",
    "x = ()\n",
    "print(type(x))  # <class 'tuple'>\n",
    "x = (1,) # 【1 个元素，后面加逗号】【想起一开始学习，不懂为什么要在后面加逗号，现在就清晰了】\n",
    "print(type(x))  # <class 'tuple'>"
   ]
  },
  {
   "cell_type": "markdown",
   "metadata": {},
   "source": [
    "\n",
    "【例子】\n"
   ]
  },
  {
   "cell_type": "code",
   "execution_count": 1,
   "metadata": {},
   "outputs": [
    {
     "name": "stdout",
     "output_type": "stream",
     "text": [
      "64\n",
      "(8, 8, 8, 8, 8, 8, 8, 8)\n",
      "[7, 7, 7, 7, 7, 7, 7]\n",
      "[7, 7, 7, 7, 7, 7, 7]\n"
     ]
    }
   ],
   "source": [
    "print(8 * (8))  # 64\n",
    "print(8 * (8,))  # (8, 8, 8, 8, 8, 8, 8, 8)\n",
    "\n",
    "print(7 * [7]) # 【list 没有这个问题，说明末位加逗号的语法，是针对元组与括号运算符的】\n",
    "print(7 * [7,])"
   ]
  },
  {
   "cell_type": "markdown",
   "metadata": {},
   "source": [
    "\n",
    "【例子】创建二维元组。\n"
   ]
  },
  {
   "cell_type": "code",
   "execution_count": 29,
   "metadata": {},
   "outputs": [
    {
     "name": "stdout",
     "output_type": "stream",
     "text": [
      "((1, 10.31, 'python'), ('data', 11))\n",
      "(1, 10.31, 'python')\n",
      "1 10.31 python\n",
      "(1, 10.31)\n"
     ]
    }
   ],
   "source": [
    "x = (1, 10.31, 'python'), ('data', 11)\n",
    "print(x)\n",
    "# ((1, 10.31, 'python'), ('data', 11)) # 【这里我想起了 matrix 的因果，第一个方括号的索引值，顺其自然地是首地址逻辑的结果】\n",
    "\n",
    "print(x[0])\n",
    "# (1, 10.31, 'python')\n",
    "print(x[0][0], x[0][1], x[0][2])\n",
    "# 1 10.31 python\n",
    "\n",
    "print(x[0][0:2]) # 【（1）获取第 0 个元素（2）获取里面的第 0、第 1 共两个值（本质也是（1）元组的元素）】\n",
    "# (1, 10.31)"
   ]
  },
  {
   "cell_type": "markdown",
   "metadata": {},
   "source": [
    "\n",
    "\n",
    "\n",
    "## 2. 更新和删除一个元组\n",
    "\n",
    "【例子】\n"
   ]
  },
  {
   "cell_type": "code",
   "execution_count": 30,
   "metadata": {},
   "outputs": [
    {
     "name": "stdout",
     "output_type": "stream",
     "text": [
      "('Monday', 'Tuesday', 'Wednesday', 'Thursday', 'Friday')\n"
     ]
    }
   ],
   "source": [
    "week = ('Monday', 'Tuesday', 'Thursday', 'Friday')\n",
    "week = week[:2] + ('Wednesday',) + week[2:]\n",
    "print(week)  # ('Monday', 'Tuesday', 'Wednesday', 'Thursday', 'Friday')"
   ]
  },
  {
   "cell_type": "markdown",
   "metadata": {},
   "source": [
    "\n",
    "【例子】元组有【不可更改 (immutable)】 的性质，因此【不能直接】给元组的元素【赋值】，但是只要元组中的【元素可更改 (mutable)】，那么我们可以【直接更改】其元素，注意这跟赋值其元素不同。【比如元组有个元素是列表】"
   ]
  },
  {
   "cell_type": "code",
   "execution_count": 4,
   "metadata": {},
   "outputs": [
    {
     "name": "stdout",
     "output_type": "stream",
     "text": [
      "(1, 2, 3, [4, 5, 6])\n",
      "(1, 2, 3, [9, 5, 6])\n"
     ]
    },
    {
     "ename": "TypeError",
     "evalue": "'int' object does not support item assignment",
     "output_type": "error",
     "traceback": [
      "\u001b[1;31m---------------------------------------------------------------------------\u001b[0m",
      "\u001b[1;31mTypeError\u001b[0m                                 Traceback (most recent call last)",
      "\u001b[1;32m~\\AppData\\Local\\Temp/ipykernel_13856/1067514412.py\u001b[0m in \u001b[0;36m<module>\u001b[1;34m\u001b[0m\n\u001b[0;32m      5\u001b[0m \u001b[0mprint\u001b[0m\u001b[1;33m(\u001b[0m\u001b[0mt1\u001b[0m\u001b[1;33m)\u001b[0m  \u001b[1;31m# (1, 2, 3, [9, 5, 6])\u001b[0m\u001b[1;33m\u001b[0m\u001b[1;33m\u001b[0m\u001b[0m\n\u001b[0;32m      6\u001b[0m \u001b[1;33m\u001b[0m\u001b[0m\n\u001b[1;32m----> 7\u001b[1;33m \u001b[0mt1\u001b[0m\u001b[1;33m[\u001b[0m\u001b[1;36m1\u001b[0m\u001b[1;33m]\u001b[0m\u001b[1;33m[\u001b[0m\u001b[1;36m0\u001b[0m\u001b[1;33m]\u001b[0m \u001b[1;33m=\u001b[0m \u001b[1;36m2\u001b[0m \u001b[1;31m# TypeError: 'int' object does not support item assignment\u001b[0m\u001b[1;33m\u001b[0m\u001b[1;33m\u001b[0m\u001b[0m\n\u001b[0m",
      "\u001b[1;31mTypeError\u001b[0m: 'int' object does not support item assignment"
     ]
    }
   ],
   "source": [
    "t1 = (1, 2, 3, [4, 5, 6])\n",
    "print(t1)  # (1, 2, 3, [4, 5, 6])\n",
    "\n",
    "t1[3][0] = 9\n",
    "print(t1)  # (1, 2, 3, [9, 5, 6])\n",
    "\n",
    "t1[1][0] = 2 # 【TypeError: 'int' object does not support item assignment】【int 类型是不能改的，这是否与“字面量”有关？左右值？】"
   ]
  },
  {
   "cell_type": "markdown",
   "metadata": {},
   "source": [
    "\n",
    "\n",
    "\n",
    "## 3. 元组相关的操作符\n",
    "\n",
    "- 等号操作符：`==`\n",
    "- 连接操作符 `+`\n",
    "- 重复操作符 `*`\n",
    "- 成员关系操作符 `in`、`not in`\n",
    "\n",
    "「等号 ==」，只有成员、成员位置都相同时才返回True。\n",
    "\n",
    "元组【拼接】有两种方式，用「加号 +」和「乘号 *」，前者首尾拼接，后者复制拼接。\n",
    "\n",
    "【例子】\n"
   ]
  },
  {
   "cell_type": "code",
   "execution_count": 5,
   "metadata": {},
   "outputs": [
    {
     "name": "stdout",
     "output_type": "stream",
     "text": [
      "False\n",
      "True\n",
      "(123, 456, 456, 123)\n",
      "(123, 456, 123, 456, 123, 456)\n",
      "t55  [123, 456, 123, 456, 123, 456]\n",
      "(123, 456, 123, 456, 123, 456)\n",
      "True\n",
      "False\n"
     ]
    }
   ],
   "source": [
    "t1 = (123, 456)\n",
    "t2 = (456, 123)\n",
    "t3 = (123, 456)\n",
    "\n",
    "t11 = [123, 456]\n",
    "t22 = [456, 123]\n",
    "t33 = [123, 456]\n",
    "\n",
    "print(t1 == t2)  # False\n",
    "print(t1 == t3)  # True\n",
    "\n",
    "t4 = t1 + t2\n",
    "print(t4)  # (123, 456, 456, 123)\n",
    "\n",
    "t5 = t3 * 3\n",
    "print(t5)  # (123, 456, 123, 456, 123, 456)\n",
    "\n",
    "t55 = t33 * 3 # 【可否通过【简单的运算】，得到二维数组？——[[123, 456], [123, 456], [123, 456]] ？】\n",
    "print('t55 ',t55)\n",
    "\n",
    "t3 *= 3\n",
    "print(t3)  # (123, 456, 123, 456, 123, 456)\n",
    "\n",
    "print(123 in t3)  # True\n",
    "print(456 not in t3)  # False"
   ]
  },
  {
   "cell_type": "markdown",
   "metadata": {},
   "source": [
    "\n",
    "## 4. 内置方法\n",
    "\n",
    "元组大小和内容都不可更改，因此只有 `count` 和 `index` 两种方法。\n",
    "\n",
    "【例子】"
   ]
  },
  {
   "cell_type": "code",
   "execution_count": 33,
   "metadata": {},
   "outputs": [
    {
     "name": "stdout",
     "output_type": "stream",
     "text": [
      "1\n",
      "1\n"
     ]
    }
   ],
   "source": [
    "t = (1, 10.31, 'python')\n",
    "print(t.count('python'))  # 1\n",
    "print(t.index(10.31))  # 1"
   ]
  },
  {
   "cell_type": "markdown",
   "metadata": {},
   "source": [
    "- `count('python')` 是记录在元组 `t` 中该元素出现几次，显然是 1 次\n",
    "- `index(10.31)` 是找到该元素在元组 `t` 的索引，显然是 1\n",
    "\n",
    "## 5. 解压元组\n",
    "\n",
    "【例子】解压（unpack）一维元组（有几个元素【左边括号】定义几个变量）\n",
    "\n"
   ]
  },
  {
   "cell_type": "code",
   "execution_count": 34,
   "metadata": {},
   "outputs": [
    {
     "name": "stdout",
     "output_type": "stream",
     "text": [
      "1 10.31 python\n"
     ]
    }
   ],
   "source": [
    "t = (1, 10.31, 'python')\n",
    "(a, b, c) = t\n",
    "print(a, b, c)\n",
    "# 1 10.31 python"
   ]
  },
  {
   "cell_type": "markdown",
   "metadata": {},
   "source": [
    "【例子】解压二维元组（按照元组里的元组【结构】来定义变量）"
   ]
  },
  {
   "cell_type": "code",
   "execution_count": 7,
   "metadata": {},
   "outputs": [
    {
     "name": "stdout",
     "output_type": "stream",
     "text": [
      "1 10.31 OK python\n"
     ]
    }
   ],
   "source": [
    "t = (1, 10.31, ('OK', 'python'))\n",
    "(a, b, (c, d)) = t\n",
    "print(a, b, c, d)\n",
    "# 1 10.31 OK python"
   ]
  },
  {
   "cell_type": "markdown",
   "metadata": {},
   "source": [
    "\n",
    "【例子】如果你只想要元组其中几个元素，用【通配符「*」】，英文叫 wildcard，在计算机语言中代表一个或多个元素。下例就是把多个元素丢给了 `rest` 变量。【想起刚开始学 C 语言的时候，对于 * 的含义总觉得在不断变化（比如一会用来声明数组，一会用来表示指针变量，一会又用来传参），现在如果从通配符的角度出发，就很好理解了】\n"
   ]
  },
  {
   "cell_type": "code",
   "execution_count": 36,
   "metadata": {},
   "outputs": [
    {
     "name": "stdout",
     "output_type": "stream",
     "text": [
      "1 2 5\n",
      "[3, 4]\n"
     ]
    }
   ],
   "source": [
    "t = 1, 2, 3, 4, 5\n",
    "a, b, *rest, c = t\n",
    "print(a, b, c)  # 1 2 5\n",
    "print(rest)  # [3, 4]"
   ]
  },
  {
   "cell_type": "markdown",
   "metadata": {},
   "source": [
    "【例子】如果你根本不在乎 rest 变量，那么就用通配符「*」加上【下划线「_」】。【这也行啊！神奇的 Python】"
   ]
  },
  {
   "cell_type": "code",
   "execution_count": 37,
   "metadata": {},
   "outputs": [
    {
     "name": "stdout",
     "output_type": "stream",
     "text": [
      "1 2\n"
     ]
    }
   ],
   "source": [
    "t = 1, 2, 3, 4, 5\n",
    "a, b, *_ = t\n",
    "print(a, b)  # 1 2"
   ]
  },
  {
   "cell_type": "markdown",
   "metadata": {},
   "source": [
    "（2022/04/07 16:51:24 58min）\n",
    "## 【概括】\n",
    "* 元组一些方法与列表类似，有序（索引、切片）\n",
    "* 区别：\n",
    "    * 只有一个元素时，(a,) VS 括号运算符\n",
    "    * immutable => 不能直接赋值\n",
    "    * 若元素 mutable => 可改元素的值【eg，tuple 的一个元素是 list】\n",
    "* 其他方法：\n",
    "    * ==、+、*\n",
    "    * in、not in\n",
    "    * `count`、`index`【由 immutable 性质决定 => 没有 `reverse`、`sort`】\n",
    "* 解压元组(unpack)：\n",
    "    * 结构定义变量；\n",
    "    * 通配符 `*` 的使用；\n",
    "    * `*_` 下划线的妙用\n",
    "    * 【从这个性质出发，也许可以更好了解正则表达式的语法，或者说通配符在编程语言下的意义】\n",
    "* 疑问\n",
    "    * 【由`sort`推测，所谓的不可变，是针对内存地址指向的对象的，那么元素的索引逻辑，和列表的索引逻辑有什么不同？】\n",
    "    * 【为什么要开辟元组这样的数据结构？有什么内存空间上的区别？有什么优势？】"
   ]
  },
  {
   "cell_type": "markdown",
   "metadata": {},
   "source": [
    "\n",
    "# 字符串\n",
    "\n",
    "## 1. 字符串的定义\n",
    "- Python 中字符串被定义为【引号之间的字符集合】。\n",
    "- Python 支持使用成对的 单引号 或 双引号。\n",
    "\n",
    "【例子】\n"
   ]
  },
  {
   "cell_type": "code",
   "execution_count": 1,
   "metadata": {},
   "outputs": [
    {
     "name": "stdout",
     "output_type": "stream",
     "text": [
      "i love Python! <class 'str'>\n",
      "I love Python! <class 'str'>\n",
      "13\n",
      "58\n"
     ]
    }
   ],
   "source": [
    "t1 = 'i love Python!'\n",
    "print(t1, type(t1))\n",
    "# i love Python! <class 'str'>\n",
    "\n",
    "t2 = \"I love Python!\"\n",
    "print(t2, type(t2))\n",
    "# I love Python! <class 'str'>\n",
    "\n",
    "print(5 + 8)  # 13【运算】\n",
    "print('5' + '8')  # 58【拼接】"
   ]
  },
  {
   "cell_type": "markdown",
   "metadata": {},
   "source": [
    "\n",
    "\n",
    "- Python 的常用转义字符\n",
    "\n",
    "\n",
    "转义字符 | 描述\n",
    ":---:|---\n",
    "`\\\\` | 反斜杠符号\n",
    "`\\'` | 单引号\n",
    "`\\\"` | 双引号\n",
    "`\\n` | 换行\n",
    "`\\t` | 横向制表符(TAB)\n",
    "`\\r` | 回车\n",
    "\n",
    "\n",
    "【例子】如果字符串中需要出现单引号或双引号，可以使用转义符号`\\`对字符串中的符号进行转义。\n"
   ]
  },
  {
   "cell_type": "code",
   "execution_count": 2,
   "metadata": {},
   "outputs": [
    {
     "name": "stdout",
     "output_type": "stream",
     "text": [
      "let's go\n",
      "let's go\n",
      "C:\\now\n",
      "C:\\Program Files\\Intel\\Wifi\\Help\n",
      "C:\\\\Program Files\\\\Intel\\\\Wifi\\\\Help\n"
     ]
    }
   ],
   "source": [
    "print('let\\'s go')  # let's go\n",
    "print(\"let's go\")  # let's go\n",
    "print('C:\\\\now')  # C:\\now\n",
    "print(\"C:\\\\Program Files\\\\Intel\\\\Wifi\\\\Help\")\n",
    "# C:\\Program Files\\Intel\\Wifi\\Help\n",
    "print(r\"C:\\\\Program Files\\\\Intel\\\\Wifi\\\\Help\")"
   ]
  },
  {
   "cell_type": "markdown",
   "metadata": {},
   "source": [
    "\n",
    "\n",
    "\n",
    "\n",
    "\n",
    "【例子】原始字符串只需要在字符串前边加一个英文字母 r 即可。\n"
   ]
  },
  {
   "cell_type": "code",
   "execution_count": 40,
   "metadata": {},
   "outputs": [
    {
     "name": "stdout",
     "output_type": "stream",
     "text": [
      "C:\\Program Files\\Intel\\Wifi\\Help\n"
     ]
    }
   ],
   "source": [
    "print(r'C:\\Program Files\\Intel\\Wifi\\Help')  \n",
    "# C:\\Program Files\\Intel\\Wifi\\Help"
   ]
  },
  {
   "cell_type": "markdown",
   "metadata": {},
   "source": [
    "\n",
    "\n",
    "【例子】【三引号】允许一个字符串跨多行，字符串中可以包含换行符、制表符以及其他特殊字符。【不是注释那么单一用途】\n"
   ]
  },
  {
   "cell_type": "code",
   "execution_count": 41,
   "metadata": {},
   "outputs": [
    {
     "name": "stdout",
     "output_type": "stream",
     "text": [
      "这是一个多行字符串的实例\n",
      "多行字符串可以使用制表符\n",
      "TAB ( \t )。\n",
      "也可以使用换行符 [ \n",
      " ]。\n",
      "\n",
      "这是一个多行字符串的实例\n",
      "多行字符串可以使用制表符\n",
      "TAB ( \t )。\n",
      "也可以使用换行符 [ \n",
      " ]。\n",
      "\n"
     ]
    }
   ],
   "source": [
    "para_str = \"\"\"这是一个多行字符串的实例\n",
    "多行字符串可以使用制表符\n",
    "TAB ( \\t )。\n",
    "也可以使用换行符 [ \\n ]。\n",
    "\"\"\"\n",
    "print(para_str)\n",
    "# 这是一个多行字符串的实例\n",
    "# 多行字符串可以使用制表符\n",
    "# TAB (    )。\n",
    "# 也可以使用换行符 [\n",
    "#  ]。\n",
    "\n",
    "para_str = '''这是一个多行字符串的实例\n",
    "多行字符串可以使用制表符\n",
    "TAB ( \\t )。\n",
    "也可以使用换行符 [ \\n ]。\n",
    "'''\n",
    "print(para_str)\n",
    "# 这是一个多行字符串的实例\n",
    "# 多行字符串可以使用制表符\n",
    "# TAB ( \t )。\n",
    "# 也可以使用换行符 [ \n",
    "#  ]。"
   ]
  },
  {
   "cell_type": "markdown",
   "metadata": {},
   "source": [
    "\n",
    "\n",
    "## 2. 字符串的切片与拼接\n",
    "\n",
    "- 类似于元组具有【不可修改性】\n",
    "- 从 0 开始 (和 Java 一样)\n",
    "- 切片通常写成 `start:end` 这种形式，包括「`start` 索引」对应的元素，不包括「`end`索引」对应的元素。\n",
    "- 索引值可正可负，正索引从 0 开始，从左往右；负索引从 -1 开始，从右往左。使用负数索引时，会从最后一个元素开始计数。最后一个元素的位置编号是 -1。【因为没有正负 0 的区分，所以只能从 -1 开始】\n",
    "\n",
    "【例子】\n"
   ]
  },
  {
   "cell_type": "code",
   "execution_count": 42,
   "metadata": {},
   "outputs": [
    {
     "name": "stdout",
     "output_type": "stream",
     "text": [
      "I Love\n",
      "e\n",
      "I Love 插入的字符串  LsgoGroup\n",
      "Python\n",
      "th\n",
      "yth\n",
      "t\n",
      "n\n"
     ]
    }
   ],
   "source": [
    "str1 = 'I Love LsgoGroup'\n",
    "print(str1[:6])  # I Love\n",
    "print(str1[5])  # e\n",
    "print(str1[:6] + \" 插入的字符串 \" + str1[6:])  \n",
    "# I Love 插入的字符串  LsgoGroup\n",
    "\n",
    "s = 'Python'\n",
    "print(s)  # Python\n",
    "print(s[2:4])  # th\n",
    "print(s[-5:-2])  # yth【顺序不变，因为 step > 0】\n",
    "print(s[2])  # t\n",
    "print(s[-1])  # n"
   ]
  },
  {
   "cell_type": "markdown",
   "metadata": {},
   "source": [
    "\n",
    "\n",
    "## 3. 字符串的常用内置方法\n",
    "\n",
    "\n",
    "\n",
    "- `capitalize()` 将字符串的【第一个字符】转换为【大写】。\n",
    "\n",
    "【例子】\n"
   ]
  },
  {
   "cell_type": "code",
   "execution_count": 43,
   "metadata": {},
   "outputs": [
    {
     "name": "stdout",
     "output_type": "stream",
     "text": [
      "Xiaoxie\n"
     ]
    }
   ],
   "source": [
    "str2 = 'xiaoxie'\n",
    "print(str2.capitalize())  # Xiaoxie"
   ]
  },
  {
   "cell_type": "markdown",
   "metadata": {},
   "source": [
    "\n",
    "- `lower()` 转换字符串中【所有】大写字符为【小写】。\n",
    "- `upper()` 转换字符串中的小写字母为【大写】。\n",
    "- `swapcase()` 将字符串中大写【转换】为小写，小写【转换】为大写。【这个功能不错，可以用在加密算法】\n",
    "\n",
    "【例子】\n"
   ]
  },
  {
   "cell_type": "code",
   "execution_count": 44,
   "metadata": {},
   "outputs": [
    {
     "name": "stdout",
     "output_type": "stream",
     "text": [
      "daxiexiaoxie\n",
      "DAXIEXIAOXIE\n",
      "daxieXIAOXIE\n"
     ]
    }
   ],
   "source": [
    "str2 = \"DAXIExiaoxie\"\n",
    "print(str2.lower())  # daxiexiaoxie\n",
    "print(str2.upper())  # DAXIEXIAOXIE\n",
    "print(str2.swapcase())  # daxieXIAOXIE"
   ]
  },
  {
   "cell_type": "markdown",
   "metadata": {},
   "source": [
    "\n",
    "- `count(str, beg= 0,end=len(string))` 返回`str`在 string 里面出现的次数，如果`beg`或者`end`指定则返回【指定范围】内`str`出现的次数。\n",
    "\n",
    "【例子】"
   ]
  },
  {
   "cell_type": "code",
   "execution_count": 7,
   "metadata": {},
   "outputs": [
    {
     "name": "stdout",
     "output_type": "stream",
     "text": [
      "2\n",
      "0\n"
     ]
    }
   ],
   "source": [
    "str2 = \"DAXIExiaoxie\"\n",
    "print(str2.count('xi'))  # 2\n",
    "print(str2.count('xi', 0, 6)) # 【DAXIEx ia】【居然是不用写 beg= 和 end=，推广到 print，也可以？实际上是修改了默认值】"
   ]
  },
  {
   "cell_type": "markdown",
   "metadata": {},
   "source": [
    "\n",
    "- `endswith(suffix, beg=0, end=len(string))` 检查字符串是否以【指定子字符串 `suffix` 结束】，如果是，返回 True，否则返回 False。如果 `beg` 和 `end` 指定值，则在【指定范围】内检查。\n",
    "- `startswith(substr, beg=0,end=len(string))` 检查字符串是否以【指定子字符串 `substr` 开头】，如果是，返回 True，否则返回 False。如果 `beg` 和 `end` 指定值，则在【指定范围】内检查。\n",
    "\n",
    "【例子】\n"
   ]
  },
  {
   "cell_type": "code",
   "execution_count": 46,
   "metadata": {},
   "outputs": [
    {
     "name": "stdout",
     "output_type": "stream",
     "text": [
      "True\n",
      "False\n",
      "False\n",
      "True\n"
     ]
    }
   ],
   "source": [
    "str2 = \"DAXIExiaoxie\"\n",
    "print(str2.endswith('ie'))  # True\n",
    "print(str2.endswith('xi'))  # False\n",
    "print(str2.startswith('Da'))  # False\n",
    "print(str2.startswith('DA'))  # True"
   ]
  },
  {
   "cell_type": "markdown",
   "metadata": {},
   "source": [
    "\n",
    "- `find(str, beg=0, end=len(string))` 检测 `str` 【是否包含】在字符串中，如果指定范围 `beg` 和 `end`，则检查是否包含在指定范围内，如果包含，【返回】开始的【索引值】，否则返回【 -1】。\n",
    "- `rfind(str, beg=0,end=len(string))` 类似于 `find()` 函数，不过是从【右边开始】查找。【right_find】\n",
    "\n",
    "【例子】\n"
   ]
  },
  {
   "cell_type": "code",
   "execution_count": 47,
   "metadata": {},
   "outputs": [
    {
     "name": "stdout",
     "output_type": "stream",
     "text": [
      "5\n",
      "-1\n",
      "9\n"
     ]
    }
   ],
   "source": [
    "str2 = \"DAXIExiaoxie\"\n",
    "print(str2.find('xi'))  # 5\n",
    "print(str2.find('ix'))  # -1\n",
    "print(str2.rfind('xi'))  # 9"
   ]
  },
  {
   "cell_type": "markdown",
   "metadata": {},
   "source": [
    "\n",
    "- `isnumeric()` 如果字符串中【只包含数字字符】，则返回 True，否则返回 False。\n",
    "\n",
    "【例子】"
   ]
  },
  {
   "cell_type": "code",
   "execution_count": 11,
   "metadata": {},
   "outputs": [
    {
     "ename": "SyntaxError",
     "evalue": "invalid syntax (<ipython-input-11-f6092060a144>, line 5)",
     "output_type": "error",
     "traceback": [
      "\u001b[1;36m  File \u001b[1;32m\"<ipython-input-11-f6092060a144>\"\u001b[1;36m, line \u001b[1;32m5\u001b[0m\n\u001b[1;33m    str4 = 123'12345'\u001b[0m\n\u001b[1;37m              ^\u001b[0m\n\u001b[1;31mSyntaxError\u001b[0m\u001b[1;31m:\u001b[0m invalid syntax\n"
     ]
    }
   ],
   "source": [
    "str3 = '12345'\n",
    "print(str3.isnumeric())  # True\n",
    "str3 += 'a'\n",
    "print(str3.isnumeric())  # False\n",
    "str4 = 123'12345'\n",
    "# print(str4.isnumeric())  # 【SyntaxError: invalid syntax】【范畴很重要——这章对应的是字符串范畴】"
   ]
  },
  {
   "cell_type": "markdown",
   "metadata": {},
   "source": [
    "\n",
    "- `ljust(width[, fillchar])`返回一个原字符串左对齐，并使用`fillchar`（默认空格）填充至长度`width`的新字符串。【神奇的方法】\n",
    "- `rjust(width[, fillchar])`返回一个原字符串右对齐，并使用`fillchar`（默认空格）填充至长度`width`的新字符串。\n",
    "\n",
    "【例子】"
   ]
  },
  {
   "cell_type": "code",
   "execution_count": 10,
   "metadata": {
    "scrolled": true
   },
   "outputs": [
    {
     "name": "stdout",
     "output_type": "stream",
     "text": [
      "11010000\n",
      "00001101\n",
      "1101    \n",
      "    1101\n"
     ]
    }
   ],
   "source": [
    "str4 = '1101'\n",
    "print(str4.ljust(8, '0'))  # 11010000\n",
    "print(str4.rjust(8, '0'))  # 00001101\n",
    "print(str4.ljust(8, ' '))\n",
    "print(str4.rjust(8, ' ')) # 【空格可行，那么制表符、图标、图片这些应该也可以】"
   ]
  },
  {
   "cell_type": "markdown",
   "metadata": {},
   "source": [
    "\n",
    "- `lstrip([chars])` 【截掉】字符串左边的【空格】或【指定字符】。\n",
    "- `rstrip([chars])` 【删除】字符串末尾的【空格】或【指定字符】。\n",
    "- `strip([chars])` 在字符串上执行`lstrip()`【和】`rstrip()`。\n",
    "\n",
    "【例子】"
   ]
  },
  {
   "cell_type": "code",
   "execution_count": 56,
   "metadata": {},
   "outputs": [
    {
     "name": "stdout",
     "output_type": "stream",
     "text": [
      "0[ I Love LsgoGroup ]原始 str\n",
      "1[I Love LsgoGroup ]左\n",
      "2[ Love LsgoGroup ]左 + I\n",
      "3[ove LsgoGroup]左，指定 L 无效？【必须连起来字符】——\"I L\"有效\n",
      "4[ I Love LsgoGroup]右\n",
      "4[ I Love LsgoGro]右 + up\n",
      "5[I Love LsgoGroup]左 + 右\n",
      "6[I Love LsgoGrou]p\n"
     ]
    }
   ],
   "source": [
    "str5 = ' I Love LsgoGroup '\n",
    "print('0[' + str5 + ']' + '原始 str')\n",
    "\n",
    "print('1[' + str5.lstrip()+ ']' + '左')  # 'I Love LsgoGroup '【左空格——删除】\n",
    "print('2[' + str5.lstrip().strip('I') + ']' + '左 + I')  # ' Love LsgoGroup '【左空格 + 'I'——删除】\n",
    "print('3[' + str5.lstrip().strip('I L') + ']' + '左，指定 L 无效？【必须连起来字符】——\"I L\"有效') # 【左 + 右空格——删除】\n",
    "\n",
    "print('4[' + str5.rstrip() + ']' + '右')  # ' I Love LsgoGroup'\n",
    "print('4[' + str5.rstrip().strip('up') + ']' + '右 + up')  # ' I Love LsgoGroup'\n",
    "\n",
    "print('5[' + str5.strip() + ']' + '左 + 右')  # 'I Love LsgoGroup'\n",
    "print('6[' + str5.strip().strip('p') + ']' + 'p')  # 'I Love LsgoGrou'"
   ]
  },
  {
   "cell_type": "markdown",
   "metadata": {},
   "source": [
    "\n",
    "\n",
    "- `partition(sub)` 找到【子】字符串sub，把字符串【分】为一个【三元组】`(pre_sub,sub,fol_sub)`，如果字符串中【不包含】sub则返回`('原字符串','','')`。\n",
    "- `rpartition(sub)`类似于`partition()`方法，不过是从【右边】开始查找。\n",
    "\n",
    "【例子】"
   ]
  },
  {
   "cell_type": "code",
   "execution_count": 51,
   "metadata": {},
   "outputs": [
    {
     "name": "stdout",
     "output_type": "stream",
     "text": [
      "('I L', 'o', 've LsgoGroup')\n",
      "('I Love LsgoGroup', '', '')\n",
      "('I Love LsgoGr', 'o', 'up')\n"
     ]
    }
   ],
   "source": [
    "str5 = ' I Love LsgoGroup ' # 【如果我想用中间的 'o' 来分割呢？】\n",
    "print(str5.strip().partition('o'))  # ('I L', 'o', 've LsgoGroup')\n",
    "print(str5.strip().partition('m'))  # ('I Love LsgoGroup', '', '')\n",
    "print(str5.strip().rpartition('o'))  # ('I Love LsgoGr', 'o', 'up')"
   ]
  },
  {
   "cell_type": "markdown",
   "metadata": {},
   "source": [
    "\n",
    "- `replace(old, new [, max])` 把 将字符串中的`old`【替换】成`new`，如果`max`指定，则替换不超过`max`次。【这个 replace 是 string 的方法】【还有什么数据结构有 replace 方法？】\n",
    "\n",
    "【例子】"
   ]
  },
  {
   "cell_type": "code",
   "execution_count": 60,
   "metadata": {},
   "outputs": [
    {
     "name": "stdout",
     "output_type": "stream",
     "text": [
      "We Love LsgoGroup\n",
      "1-We Love LsgoGroup\n",
      "2-We Love LsgoGroup\n",
      "3-I Love LsgoGroup\n",
      "4-I Love LsgoGroup\n"
     ]
    }
   ],
   "source": [
    "str5 = ' I Love LsgoGroup '\n",
    "print(str5.strip().replace('I', 'We'))  # We Love LsgoGroup\n",
    "\n",
    "str6 = '1-I Love LsgoGroup\\n2-I Love LsgoGroup\\n3-I Love LsgoGroup\\n4-I Love LsgoGroup'\n",
    "print(str6.strip().replace('I', 'We', 2)) # 【替换不超 2 次】"
   ]
  },
  {
   "cell_type": "markdown",
   "metadata": {},
   "source": [
    "\n",
    "- `split(str=\"\", num)` 不带参数【默认】是以【空格】为分隔符切片字符串，如果`num`参数有设置，则仅分隔【`num`个】子字符串，【返回】切片后的子字符串拼接的【列表】。【分隔符会删除】\n",
    "\n",
    "【例子】"
   ]
  },
  {
   "cell_type": "code",
   "execution_count": 61,
   "metadata": {},
   "outputs": [
    {
     "name": "stdout",
     "output_type": "stream",
     "text": [
      "['I', 'Love', 'LsgoGroup']\n",
      "['I L', 've Lsg', 'Gr', 'up']\n"
     ]
    }
   ],
   "source": [
    "str5 = ' I Love LsgoGroup '\n",
    "print(str5.strip().split())  # ['I', 'Love', 'LsgoGroup'] 【这个在数据清洗时应该很有用】\n",
    "print(str5.strip().split('o'))  # ['I L', 've Lsg', 'Gr', 'up']"
   ]
  },
  {
   "cell_type": "markdown",
   "metadata": {},
   "source": [
    "\n",
    "\n",
    "【例子】"
   ]
  },
  {
   "cell_type": "code",
   "execution_count": 71,
   "metadata": {},
   "outputs": [
    {
     "name": "stdout",
     "output_type": "stream",
     "text": [
      "['www.baidu.com.cn']\n",
      "['www', 'baidu', 'com', 'cn']\n",
      "['www.baidu.com.cn']\n",
      "['www', 'baidu.com.cn']\n",
      "['www', 'baidu', 'com.cn']\n",
      "分割10次 ['www', 'baidu', 'com', 'cn'] 就是穷举，超出了也就只有这么多可以分割\n",
      "baidu\n",
      "www\n",
      "baidu\n",
      "com\n",
      "cn\n"
     ]
    }
   ],
   "source": [
    "u = \"www.baidu.com.cn\"\n",
    "# 使用默认分隔符\n",
    "print(u.split())  # ['www.baidu.com.cn']\n",
    "\n",
    "# 以\".\"为分隔符\n",
    "print((u.split('.')))  # ['www', 'baidu', 'com', 'cn']\n",
    "\n",
    "# 分割0次\n",
    "print((u.split(\".\", 0)))  # ['www.baidu.com.cn']\n",
    "\n",
    "# 分割一次\n",
    "print((u.split(\".\", 1)))  # ['www', 'baidu.com.cn']\n",
    "\n",
    "# 分割两次\n",
    "print(u.split(\".\", 2))  # ['www', 'baidu', 'com.cn']\n",
    "\n",
    "print('分割10次', u.split(\".\", 10), '就是穷举，超出了也就只有这么多可以分割')  # ['www', 'baidu', 'com.cn']\n",
    "\n",
    "# 分割两次，并取序列为1的项\n",
    "print((u.split(\".\", 2)[1]))  # baidu【因为返回的是列表，因此无论它的形式如何，'u.split(\".\", 2)'这一块都能表示（指向）一个列表】\n",
    "\n",
    "# 分割两次，并把分割后的三个部分保存到三个变量\n",
    "u1, u2, u3, u4 = u.split(\".\", 10) # 【结构定义变量】【定义 3 个变量时，测试了 1， 2，3， 10 —— 分别对应 not enough，ok，too many，too many】\n",
    "print(u1)  # www\n",
    "print(u2)  # baidu\n",
    "print(u3)  # com.cn\n",
    "print(u4) # 【当把最大的变量数都定义之后，只要分割次数大于等于 3 ，即分成 4 份（对应该字符串在当前规则下的最大分割次数），均 OK】"
   ]
  },
  {
   "cell_type": "markdown",
   "metadata": {},
   "source": [
    "【例子】【去掉】换行符"
   ]
  },
  {
   "cell_type": "code",
   "execution_count": 1,
   "metadata": {},
   "outputs": [
    {
     "name": "stdout",
     "output_type": "stream",
     "text": [
      "say\n",
      "hello\n",
      "baby\n",
      "['say', 'hello', 'baby']\n"
     ]
    }
   ],
   "source": [
    "c = '''say\n",
    "hello\n",
    "baby'''\n",
    "\n",
    "print(c)\n",
    "# say\n",
    "# hello\n",
    "# baby\n",
    "\n",
    "print(c.split('\\n'))  # ['say', 'hello', 'baby']"
   ]
  },
  {
   "cell_type": "markdown",
   "metadata": {},
   "source": [
    "\n",
    "【例子】\n"
   ]
  },
  {
   "cell_type": "code",
   "execution_count": 56,
   "metadata": {},
   "outputs": [
    {
     "name": "stdout",
     "output_type": "stream",
     "text": [
      "www.baidu.com\n",
      "['www', 'baidu', 'com']\n"
     ]
    }
   ],
   "source": [
    "string = \"hello boy<[www.baidu.com]>byebye\"\n",
    "print(string.split('[')[1].split(']')[0])  # www.baidu.com【两句话，一个留了后半截，一个留了前半截】【没想到还能当正则用】\n",
    "print(string.split('[')[1].split(']')[0].split('.'))  # ['www', 'baidu', 'com']"
   ]
  },
  {
   "cell_type": "markdown",
   "metadata": {},
   "source": [
    "\n",
    "\n",
    "- `splitlines([keepends])` 按照行('\\r', '\\r\\n', \\n')【分隔】，返回一个包含【各行】作为【元素】的列表，如果参数`keepends`为 False，不包含【换行符】，如果为 True，则保留换行符。\n",
    "\n",
    "【例子】"
   ]
  },
  {
   "cell_type": "code",
   "execution_count": 6,
   "metadata": {},
   "outputs": [
    {
     "name": "stdout",
     "output_type": "stream",
     "text": [
      "\r",
      "I \n",
      " L\r",
      "ove \n",
      " \r",
      "LsgoGroup\n",
      "['', 'I ', ' L', 'ove ', ' ', 'LsgoGroup']\n",
      "['\\r', 'I \\n', ' L\\r', 'ove \\n', ' \\r', 'LsgoGroup']\n"
     ]
    }
   ],
   "source": [
    "str6 = 'I \\n Love \\n LsgoGroup'\n",
    "# str6 = '\\rI \\n L\\rove \\n \\rLsgoGroup' # 【\\r 将当前位置移到本行开头（如果前面有东西，则截掉）】\n",
    "\n",
    "print(str6)\n",
    "print(str6.splitlines())  # ['I ', ' Love ', ' LsgoGroup']\n",
    "print(str6.splitlines(True))  # ['I \\n', ' Love \\n', ' LsgoGroup']"
   ]
  },
  {
   "cell_type": "markdown",
   "metadata": {},
   "source": [
    "\n",
    "\n",
    "- `maketrans(intab, outtab)` 创建【字符映射】的【转换表】，【第一个】参数是字符串，表示【需要转】换的字符，【第二个】参数也是字符串表示转换的【目标】。\n",
    "- `translate(table, deletechars=\"\")` 根据参数`table`给出的表，转换字符串的字符，要【过滤】掉的字符放到`deletechars`参数中。\n",
    "\n",
    "【例子】"
   ]
  },
  {
   "cell_type": "code",
   "execution_count": 8,
   "metadata": {},
   "outputs": [
    {
     "name": "stdout",
     "output_type": "stream",
     "text": [
      "{97: 49, 101: 50, 105: 51, 111: 52, 117: 53}\n",
      "th3s 3s str3ng 2x1mpl2....w4w!!!\n",
      "this is string example....wow!!!\n",
      "this is string example....wow!!!\n"
     ]
    }
   ],
   "source": [
    "str7 = 'this is string example....wow!!!'\n",
    "intab = 'aeiou'\n",
    "outtab = '12345'\n",
    "trantab = str7.maketrans(intab, outtab)\n",
    "print(trantab)  # {97: 49, 111: 52, 117: 53, 101: 50, 105: 51} # 【将两者进行映射】\n",
    "print(str7.translate(trantab))  # th3s 3s str3ng 2x1mpl2....w4w!!! # 【这个过滤方法很强啊！】【两步需要合起来用？】【已解决】【这是映射替换】\n",
    "print(str7.translate(intab)) # 【不变，因为没有映射关系】\n",
    "print(str7.translate(outtab)) # 【不变，同理】"
   ]
  },
  {
   "cell_type": "markdown",
   "metadata": {},
   "source": [
    "\n",
    "\n",
    "\n",
    "\n",
    "## 4. 字符串格式化\n",
    "\n",
    "- `format` 格式化函数\n",
    "\n",
    "【例子】"
   ]
  },
  {
   "cell_type": "code",
   "execution_count": 59,
   "metadata": {
    "scrolled": true
   },
   "outputs": [
    {
     "name": "stdout",
     "output_type": "stream",
     "text": [
      "I Love Lsgogroup\n",
      "I Love Lsgogroup\n",
      "I Love Lsgogroup\n",
      "27.66GB\n"
     ]
    }
   ],
   "source": [
    "str8 = \"{0} Love {1}\".format('I', 'Lsgogroup')  # 位置参数\n",
    "print(str8)  # I Love Lsgogroup\n",
    "\n",
    "str8 = \"{a} Love {b}\".format(a='I', b='Lsgogroup')  # 关键字参数【原来如此！回想起以前自己瞎学的情况】\n",
    "print(str8)  # I Love Lsgogroup\n",
    "\n",
    "str8 = \"{0} Love {b}\".format('I', b='Lsgogroup')  # 位置参数要在关键字参数【之前】\n",
    "print(str8)  # I Love Lsgogroup\n",
    "\n",
    "str8 = '{0:.2f}{1}'.format(27.658, 'GB')  # 保留【小数点】后两位【格式化与 re 的语法是否有关联？】\n",
    "print(str8)  # 27.66GB"
   ]
  },
  {
   "cell_type": "markdown",
   "metadata": {},
   "source": [
    "\n",
    "\n",
    "- Python 字符串格式化符号\n",
    "\n",
    "\n",
    " 符   号 | 描述【神奇的表格语法】\n",
    ":---:|:---\n",
    "%c | 格式化【字符】及其ASCII码\n",
    "%s | 格式化字符【串】，用str()方法处理对象\n",
    "%r | 格式化字符【串】，用rper()方法处理对象【有何不同？】\n",
    "|\n",
    "|\n",
    "%d | 格式化整数\n",
    "%o | 格式化【无符号八】进制数\n",
    "%x | 格式化【无符号十六】进制数\n",
    "%X | 格式化【无符号十六】进制数（大写）\n",
    "|\n",
    "|\n",
    "%f | 格式化浮点数字，可指定小数点后的精度\n",
    "%e | 用【科学计数法】格式化【浮点】数\n",
    "%E | 作用【同】%e，用科学计数法格式化浮点数\n",
    "|\n",
    "|\n",
    "%g | 根据值的大小决定使用%f或%e【C 语言——实数】\n",
    "%G | 作用同%g，根据值的大小决定使用%f或%E\n",
    "\n",
    "\n",
    "【例子】"
   ]
  },
  {
   "cell_type": "code",
   "execution_count": 10,
   "metadata": {},
   "outputs": [
    {
     "name": "stdout",
     "output_type": "stream",
     "text": [
      "a\n",
      "a b c\n",
      "4 + 5 = 9\n",
      "我叫 小明 今年 10 岁!\n",
      "12\n",
      "a\n",
      "A\n",
      "27.658000\n",
      "2.765800e+01\n",
      "2.765800E+01\n",
      "27.658\n",
      "I said: I am 22 years old..\n",
      "I said: 'I am 22 years old.'.\n"
     ]
    }
   ],
   "source": [
    "print('%c' % 97)  # a\n",
    "print('%c %c %c' % (97, 98, 99))  # a b c\n",
    "print('%d + %d = %d' % (4, 5, 9))  # 4 + 5 = 9\n",
    "print(\"我叫 %s 今年 %d 岁!\" % ('小明', 10))  # 我叫 小明 今年 10 岁!\n",
    "print('%o' % 10)  # 12\n",
    "print('%x' % 10)  # a\n",
    "print('%X' % 10)  # A\n",
    "print('%f' % 27.658)  # 27.658000\n",
    "print('%e' % 27.658)  # 2.765800e+01\n",
    "print('%E' % 27.658)  # 2.765800E+01\n",
    "print('%g' % 27.658)  # 27.658\n",
    "text = \"I am %d years old.\" % 22\n",
    "print(\"I said: %s.\" % text)  # I said: I am 22 years old..\n",
    "print(\"I said: %r.\" % text)  # I said: 'I am 22 years old.' # 【带引号】"
   ]
  },
  {
   "cell_type": "markdown",
   "metadata": {},
   "source": [
    "\n",
    "\n",
    "\n",
    "- 格式化操作符【辅助】指令\n",
    "\n",
    "符号 | 功能\n",
    ":---:|:---\n",
    "`m.n` | m 是显示的最小总【宽度】,n 是小数点后的【位数】（如果可用的话）\n",
    "`-` | 用作【左对齐】\n",
    "`+` | 在正数前面显示加号( + )\n",
    "`#` | 在【八进制】数前面显示零('0')，在【十六进制】前面显示'0x'或者'0X'(取决于用的是'x'还是'X')\n",
    "`0` | 显示的数字前面【填充】'0'而不是默认的空格\n",
    "\n",
    "【例子】"
   ]
  },
  {
   "cell_type": "code",
   "execution_count": 11,
   "metadata": {
    "scrolled": true
   },
   "outputs": [
    {
     "name": "stdout",
     "output_type": "stream",
     "text": [
      " 27.7\n",
      "2.77e+01\n",
      "        10\n",
      "10        \n",
      "+10\n",
      "0o12\n",
      "0x6c\n",
      "0000000005\n"
     ]
    }
   ],
   "source": [
    "print('%5.1f' % 27.658)  # ' 27.7'\n",
    "print('%.2e' % 27.658)  # 2.77e+01\n",
    "print('%10d' % 10)  # '        10'\n",
    "print('%-10d' % 10)  # '10        '\n",
    "print('%+d' % 10)  # +10\n",
    "print('%#o' % 10)  # 0o12\n",
    "print('%#x' % 108)  # 0x6c\n",
    "print('%010d' % 5)  # 0000000005 # 【9 个 0，宽度 10】"
   ]
  },
  {
   "cell_type": "markdown",
   "metadata": {},
   "source": [
    "（2022/04/08 17:41:13 1h43min）\n",
    "（2022/04/08 19:57:01 33min）\n",
    "## 【概括】\n",
    "* 引号之间的字符集合——单引号、双引号、三引号。最意想不到的是三引号在 str 的应用。\n",
    "* 转义字符`\\`、`r`的理解。\n",
    "* 索引 -1，因为 Python 的 0 没有分正负。\n",
    "* 内置方法：【这方法是真的多，记是记不住的，那些最有用，就多用用，这些方法组成了字符串操作的部分上限（边界）】\n",
    "    * 字母大小写转换\n",
    "        * `capitalize()`首字母 => 大写\n",
    "        * `lower()`所有\n",
    "        * `upper()`所有\n",
    "        * `swapcase()`所有 => 大 <=> 小\n",
    "    * 计数\n",
    "        * `count(str, beg= 0,end=len(string))`\n",
    "    * 检查是否以指定子串结束/开始\n",
    "        * `endswith(suffix, beg=0, end=len(string))`\n",
    "        * `startswith(substr, beg=0,end=len(string))` \n",
    "    * 检查是否包含子串\n",
    "        * `find(str, beg=0, end=len(string))`\n",
    "        * `rfind(str, beg=0,end=len(string))`\n",
    "    * 字符串数字检测\n",
    "        * `isnumeric()`\n",
    "    * 指定长度，对齐\n",
    "        * `ljust(width[, fillchar])`\n",
    "        * `rjust(width[, fillchar])`\n",
    "    * 空格/指定字符/字符串处理（连起来，含空格）\n",
    "        * `lstrip([chars])` \n",
    "        * `rstrip([chars])` \n",
    "        * `strip([chars])`\n",
    "    * 查找子串，分割为三元组（tuple）\n",
    "        * `partition(sub)` => 三元组`(pre_sub,sub,fol_sub)`\n",
    "        * `rpartition(sub)`\n",
    "    * 替换，可控次数\n",
    "        * `replace(old, new [, max])`\n",
    "    * 分割，可控次数，返回【列表】（list）=> (u.split(\".\", 2)[1])形式 VS 本质\n",
    "        * `split(str=\"\", num)`\n",
    "        * 【去除】分隔符\n",
    "        * 某种程度的【正则】表达式\n",
    "    * 分割\n",
    "        * `splitlines([keepends])` 按照行('\\r', '\\r\\n', \\n')\n",
    "    * 映射替换\n",
    "        * `maketrans(intab, outtab)`\n",
    "        * `translate(table, deletechars=\"\")`\n",
    "    * 字符串格式化\n",
    "        * `format`\n",
    "        * 格式化符号\n",
    "            * `c、s、r`\n",
    "            * `d、o、x、X`\n",
    "            * `f、e、E`\n",
    "            * `g、G`\n",
    "        * 格式化操作符辅助指令\n",
    "            * `m.n`宽度.\n",
    "            * `-`左对齐【有没有右对齐？标准输出无限长，应该没有右参考点】\n",
    "            * `+`\n",
    "            * `#`进制格式\n",
    "            * `O`填充，默认空格"
   ]
  },
  {
   "cell_type": "markdown",
   "metadata": {},
   "source": [
    "\n",
    "# 字典\n",
    "\n",
    "## 1. 可变类型与不可变类型\n",
    "\n",
    "- 【序列】是以连续的整数为索引，与此不同的是，【字典】以\"关键字\"为索引，关键字可以是【任意不可变类型】，通常用字符串或数值。\n",
    "- 字典是 Python 【唯一】的一个 <u>映射类型</u>，字符串、元组、列表属于<u>序列类型</u>。\n",
    "\n",
    "那么如何快速判断一个数据类型 `X` 是不是可变类型的呢？两种方法：\n",
    "- 麻烦方法：用 `id(X)` 函数，对 X 进行某种操作，【比较操作前后的 `id`】，如果【不一样】，则 `X` 【不可变】，如果一样，则 `X` 可变。\n",
    "    * 【表述搞反了？有待考证】【已解决】【没有搞反】【但原理是什么？id 指向的是引用对象？如果要重新赋值，则表示 id 改变？】\n",
    "    * 【已解决】【id 变说明得到的不是原来那个东西（内容变了，id 也变了；如果内容变了，id 不变，说明那玩意是可变类型的）】\n",
    "        * 【简单来说，就像门牌号，门牌号不变，房子里面可以变——那就是可变类型的】\n",
    "- 便捷方法：用 `hash(X)`，只要不报错，证明 `X` 【可被哈希，即不可变】，反过来不可被哈希，即可变。\n",
    "\n",
    "【例子】"
   ]
  },
  {
   "cell_type": "code",
   "execution_count": 62,
   "metadata": {
    "scrolled": true
   },
   "outputs": [
    {
     "name": "stdout",
     "output_type": "stream",
     "text": [
      "140731832701760\n",
      "140731832701824\n",
      "2131670369800\n",
      "2131670369800\n"
     ]
    }
   ],
   "source": [
    "i = 1\n",
    "print(id(i))  # 140732167000896\n",
    "i = i + 2\n",
    "print(id(i))  # 140732167000960\n",
    "\n",
    "l = [1, 2]\n",
    "print(id(l))  # 4300825160\n",
    "l.append('Python')\n",
    "print(id(l))  # 4300825160"
   ]
  },
  {
   "cell_type": "markdown",
   "metadata": {},
   "source": [
    "- 整数 `i` 在加 2 之后的 `id` 和之前不一样，因此加完之后的这个 `i` (虽然【名字没变】)，【但不是加之前的那个 `i` 了】，因此整数是不可变类型。【原来如此！】\n",
    "- 列表 `l` 在附加 `'Python'` 之后的 `id` 和之前一样，因此列表是可变类型。\n",
    "\n",
    "\n",
    "【例子】\n"
   ]
  },
  {
   "cell_type": "code",
   "execution_count": 3,
   "metadata": {},
   "outputs": [
    {
     "name": "stdout",
     "output_type": "stream",
     "text": [
      "-7386330456159387103\n",
      "-3271097027950340393\n"
     ]
    },
    {
     "ename": "TypeError",
     "evalue": "unhashable type: 'list'",
     "output_type": "error",
     "traceback": [
      "\u001b[1;31m---------------------------------------------------------------------------\u001b[0m",
      "\u001b[1;31mTypeError\u001b[0m                                 Traceback (most recent call last)",
      "Input \u001b[1;32mIn [3]\u001b[0m, in \u001b[0;36m<cell line: 5>\u001b[1;34m()\u001b[0m\n\u001b[0;32m      1\u001b[0m \u001b[38;5;28mprint\u001b[39m(\u001b[38;5;28mhash\u001b[39m(\u001b[38;5;124m'\u001b[39m\u001b[38;5;124mName\u001b[39m\u001b[38;5;124m'\u001b[39m))  \u001b[38;5;66;03m# 7047218704141848153\u001b[39;00m\n\u001b[0;32m      3\u001b[0m \u001b[38;5;28mprint\u001b[39m(\u001b[38;5;28mhash\u001b[39m((\u001b[38;5;241m1\u001b[39m, \u001b[38;5;241m2\u001b[39m, \u001b[38;5;124m'\u001b[39m\u001b[38;5;124mPython\u001b[39m\u001b[38;5;124m'\u001b[39m)))  \u001b[38;5;66;03m# 1704535747474881831\u001b[39;00m\n\u001b[1;32m----> 5\u001b[0m \u001b[38;5;28mprint\u001b[39m(\u001b[38;5;28;43mhash\u001b[39;49m\u001b[43m(\u001b[49m\u001b[43m[\u001b[49m\u001b[38;5;241;43m1\u001b[39;49m\u001b[43m,\u001b[49m\u001b[43m \u001b[49m\u001b[38;5;241;43m2\u001b[39;49m\u001b[43m,\u001b[49m\u001b[43m \u001b[49m\u001b[38;5;124;43m'\u001b[39;49m\u001b[38;5;124;43mPython\u001b[39;49m\u001b[38;5;124;43m'\u001b[39;49m\u001b[43m]\u001b[49m\u001b[43m)\u001b[49m)\n",
      "\u001b[1;31mTypeError\u001b[0m: unhashable type: 'list'"
     ]
    }
   ],
   "source": [
    "print(hash('Name'))  # 7047218704141848153\n",
    "\n",
    "print(hash((1, 2, 'Python')))  # 1704535747474881831\n",
    "\n",
    "print(hash([1, 2, 'Python'])) # 【可变类型不可作 hash 运算，就像一个完整的圆，不符合函数的定义那样】\n",
    "# TypeError: unhashable type: 'list'"
   ]
  },
  {
   "cell_type": "code",
   "execution_count": 1,
   "metadata": {},
   "outputs": [
    {
     "ename": "TypeError",
     "evalue": "unhashable type: 'set'",
     "output_type": "error",
     "traceback": [
      "\u001b[1;31m---------------------------------------------------------------------------\u001b[0m",
      "\u001b[1;31mTypeError\u001b[0m                                 Traceback (most recent call last)",
      "Input \u001b[1;32mIn [1]\u001b[0m, in \u001b[0;36m<cell line: 1>\u001b[1;34m()\u001b[0m\n\u001b[1;32m----> 1\u001b[0m \u001b[38;5;28mprint\u001b[39m(\u001b[38;5;28;43mhash\u001b[39;49m\u001b[43m(\u001b[49m\u001b[43m{\u001b[49m\u001b[38;5;241;43m1\u001b[39;49m\u001b[43m,\u001b[49m\u001b[43m \u001b[49m\u001b[38;5;241;43m2\u001b[39;49m\u001b[43m,\u001b[49m\u001b[43m \u001b[49m\u001b[38;5;241;43m3\u001b[39;49m\u001b[43m}\u001b[49m\u001b[43m)\u001b[49m)\n",
      "\u001b[1;31mTypeError\u001b[0m: unhashable type: 'set'"
     ]
    }
   ],
   "source": [
    "print(hash({1, 2, 3}))\n",
    "# TypeError: unhashable type: 'set'"
   ]
  },
  {
   "cell_type": "markdown",
   "metadata": {},
   "source": [
    "- 数值、字符和元组 都能被哈希，因此它们是不可变类型。\n",
    "- 列表、集合、字典不能被哈希，因此它是可变类型。【这么看，字典的 key: value 也是一种 hash 实现吧？有时间源码剖析】【下面写字典无序，hash呢？忘记了。若否，则可否定前面的疑问】\n",
    "\n",
    "\n",
    "\n",
    "\n",
    "## 2. 字典的定义\n",
    "\n",
    "字典 是无序的 键:值（`key:value`）对集合，键必须是互不相同的（在同一个字典之内）。\n",
    "\n",
    "- `dict` 内部存放的顺序和 `key` 放入的【顺序是没有关系】的。\n",
    "- `dict` 查找和插入的【速度极快】，不会随着 `key` 的增加而增加，但是需要占用【大量的内存】。【典型的空间换时间】\n",
    "\n",
    "\n",
    "字典 定义语法为 `{元素1, 元素2, ..., 元素n}`\n",
    "\n",
    "- 其中每一个元素是一个「键值对」-- 键:值 (`key:value`)\n",
    "- 关键点是「大括号 {}」,「逗号 ,」和「冒号 :」\n",
    "- 大括号 -- 把所有元素绑在一起\n",
    "- 逗号 -- 将每个键值对分开\n",
    "- 冒号 -- 将键和值分开\n",
    "\n",
    "\n",
    "## 3. 创建和访问字典\n",
    "\n",
    "【例子】"
   ]
  },
  {
   "cell_type": "code",
   "execution_count": 88,
   "metadata": {},
   "outputs": [
    {
     "name": "stdout",
     "output_type": "stream",
     "text": [
      "耐克的口号是: Just do it\n",
      "耐克的口号是: Just do it\n"
     ]
    }
   ],
   "source": [
    "brand = ['李宁', '耐克', '阿迪达斯']\n",
    "slogan = ['一切皆有可能', 'Just do it', 'Impossible is nothing']\n",
    "print('耐克的口号是:', slogan[brand.index('耐克')])  # 【位置对应才行，繁琐，不直观】\n",
    "# 耐克的口号是: Just do it\n",
    "\n",
    "dic = {'李宁': '一切皆有可能', '耐克': 'Just do it', '阿迪达斯': 'Impossible is nothing'}\n",
    "print('耐克的口号是:', dic['耐克'])\n",
    "# 耐克的口号是: Just do it"
   ]
  },
  {
   "cell_type": "markdown",
   "metadata": {},
   "source": [
    "\n",
    "\n",
    "\n",
    "\n",
    "【例子】通过字符串或数值作为`key`来创建字典。\n"
   ]
  },
  {
   "cell_type": "code",
   "execution_count": 2,
   "metadata": {},
   "outputs": [
    {
     "name": "stdout",
     "output_type": "stream",
     "text": [
      "{1: 'one', 2: 'two', 3: 'three'}\n",
      "one\n"
     ]
    },
    {
     "ename": "KeyError",
     "evalue": "4",
     "output_type": "error",
     "traceback": [
      "\u001b[0;31m---------------------------------------------------------------------------\u001b[0m",
      "\u001b[0;31mKeyError\u001b[0m                                  Traceback (most recent call last)",
      "\u001b[0;32m<ipython-input-2-bb8d02bd63a3>\u001b[0m in \u001b[0;36m<module>\u001b[0;34m()\u001b[0m\n\u001b[1;32m      2\u001b[0m \u001b[0mprint\u001b[0m\u001b[0;34m(\u001b[0m\u001b[0mdic1\u001b[0m\u001b[0;34m)\u001b[0m  \u001b[0;31m# {1: 'one', 2: 'two', 3: 'three'}\u001b[0m\u001b[0;34m\u001b[0m\u001b[0m\n\u001b[1;32m      3\u001b[0m \u001b[0mprint\u001b[0m\u001b[0;34m(\u001b[0m\u001b[0mdic1\u001b[0m\u001b[0;34m[\u001b[0m\u001b[0;36m1\u001b[0m\u001b[0;34m]\u001b[0m\u001b[0;34m)\u001b[0m  \u001b[0;31m# one\u001b[0m\u001b[0;34m\u001b[0m\u001b[0m\n\u001b[0;32m----> 4\u001b[0;31m \u001b[0mprint\u001b[0m\u001b[0;34m(\u001b[0m\u001b[0mdic1\u001b[0m\u001b[0;34m[\u001b[0m\u001b[0;36m4\u001b[0m\u001b[0;34m]\u001b[0m\u001b[0;34m)\u001b[0m  \u001b[0;31m# KeyError: 4\u001b[0m\u001b[0;34m\u001b[0m\u001b[0m\n\u001b[0m",
      "\u001b[0;31mKeyError\u001b[0m: 4"
     ]
    }
   ],
   "source": [
    "dic1 = {1: 'one', 2: 'two', 3: 'three'}\n",
    "print(dic1)  # {1: 'one', 2: 'two', 3: 'three'}\n",
    "print(dic1[1])  # one\n",
    "print(dic1[4])  # KeyError: 4\n"
   ]
  },
  {
   "cell_type": "code",
   "execution_count": 3,
   "metadata": {},
   "outputs": [
    {
     "name": "stdout",
     "output_type": "stream",
     "text": [
      "{'rice': 35, 'wheat': 101, 'corn': 67}\n",
      "35\n"
     ]
    }
   ],
   "source": [
    "dic2 = {'rice': 35, 'wheat': 101, 'corn': 67}\n",
    "print(dic2)  # {'wheat': 101, 'corn': 67, 'rice': 35}\n",
    "print(dic2['rice'])  # 35"
   ]
  },
  {
   "cell_type": "markdown",
   "metadata": {},
   "source": [
    "\n",
    "注意：如果我们取的键在字典中不存在，会直接报错`KeyError`。\n",
    "\n",
    "【例子】通过【元组】作为`key`来创建字典，但【一般不】这样使用。\n"
   ]
  },
  {
   "cell_type": "code",
   "execution_count": 91,
   "metadata": {},
   "outputs": [
    {
     "name": "stdout",
     "output_type": "stream",
     "text": [
      "{(1, 2, 3): 'Tom', 'Age': 12, 3: [3, 5, 7]}\n",
      "<class 'dict'>\n"
     ]
    }
   ],
   "source": [
    "dic = {(1, 2, 3): \"Tom\", \"Age\": 12, 3: [3, 5, 7]}\n",
    "print(dic)  # {(1, 2, 3): 'Tom', 'Age': 12, 3: [3, 5, 7]}\n",
    "print(type(dic))  # <class 'dict'>"
   ]
  },
  {
   "cell_type": "markdown",
   "metadata": {},
   "source": [
    "\n",
    "通过构造函数`dict`来创建字典。\n",
    "\n",
    "- `dict()` 创建一个空的字典。\n",
    "\n",
    "【例子】通过`key`直接把数据放入字典中，但一个`key`只能对应一个`value`，多次对一个`key`放入 `value`，后面的值会把前面的值冲掉。"
   ]
  },
  {
   "cell_type": "code",
   "execution_count": 92,
   "metadata": {},
   "outputs": [
    {
     "name": "stdout",
     "output_type": "stream",
     "text": [
      "{'a': 1, 'b': 2, 'c': 3}\n",
      "{'a': 11, 'b': 2, 'c': 3}\n",
      "{'a': 11, 'b': 2, 'c': 3, 'd': 4}\n"
     ]
    }
   ],
   "source": [
    "dic = dict() # 【初始化】\n",
    "# dic = {} # 【初始化】\n",
    "dic['a'] = 1\n",
    "dic['b'] = 2\n",
    "dic['c'] = 3\n",
    "\n",
    "print(dic)\n",
    "# {'a': 1, 'b': 2, 'c': 3}\n",
    "\n",
    "dic['a'] = 11\n",
    "print(dic)\n",
    "# {'a': 11, 'b': 2, 'c': 3}\n",
    "\n",
    "dic['d'] = 4\n",
    "print(dic)\n",
    "# {'a': 11, 'b': 2, 'c': 3, 'd': 4}"
   ]
  },
  {
   "cell_type": "markdown",
   "metadata": {},
   "source": [
    "\n",
    "- `dict(mapping)` new dictionary initialized from a 【mapping object】's (key, value) pairs【at most one argument】\n",
    "\n",
    "【例子】"
   ]
  },
  {
   "cell_type": "code",
   "execution_count": 4,
   "metadata": {},
   "outputs": [
    {
     "name": "stdout",
     "output_type": "stream",
     "text": [
      "{'apple': 4139, 'peach': 4127, 'cherry': 4098}\n",
      "{'apple': 4139, 'peach': 4127, 'cherry': 4098}\n"
     ]
    }
   ],
   "source": [
    "dic1 = dict([('apple', 4139), ('peach', 4127), ('cherry', 4098)]) # 【最多一个参数】\n",
    "print(dic1)  # {'cherry': 4098, 'apple': 4139, 'peach': 4127}\n",
    "\n",
    "dic2 = dict((('apple', 4139), ('peach', 4127), ('cherry', 4098)))\n",
    "print(dic2)  # {'peach': 4127, 'cherry': 4098, 'apple': 4139}"
   ]
  },
  {
   "cell_type": "markdown",
   "metadata": {},
   "source": [
    "\n",
    "- `dict(**kwargs)` -> new dictionary initialized with the 【name=value】 pairs in the keyword argument list.  For example:  dict(one=1, two=2)\n",
    "\n",
    "【例子】这种情况下，【键只能为字符串类型】，并且创建的时候字符串【不能加引号】，加上就会直接报语法错误。【不难理解，因为是相当于变量赋值】"
   ]
  },
  {
   "cell_type": "code",
   "execution_count": 96,
   "metadata": {},
   "outputs": [
    {
     "name": "stdout",
     "output_type": "stream",
     "text": [
      "{'name': 'Tom', 'age': 10}\n",
      "<class 'dict'>\n"
     ]
    }
   ],
   "source": [
    "dic = dict(name='Tom', age=10)\n",
    "print(dic)  # {'name': 'Tom', 'age': 10}\n",
    "print(type(dic))  # <class 'dict'>"
   ]
  },
  {
   "cell_type": "markdown",
   "metadata": {},
   "source": [
    "（2022/04/09 21:22:33 52min）\n",
    "## 【概括】\n",
    "* 索引\n",
    "    * 以连续整数为索引\n",
    "    * 以“关键字”为索引\n",
    "* 序列类型 VS 映射类型\n",
    "* 可变类型 VS 不可变类型\n",
    "    * 判断方法\n",
    "        * `id(X)`\n",
    "        * `hash(X)`\n",
    "        * 【简单来说，就像门牌号，门牌号不变，房子里面可以变——那就是可变类型的】\n",
    "    * 不可变类型——数值、字符和元组(can hash()) => 同理，可做 `key`\n",
    "    * 可变类型——列表、集合、字典\n",
    "* dict 定义\n",
    "    * `dic2 = dict()`\n",
    "    * `dic2 = {}`\n",
    "    * `dict([mapping])`\n",
    "    * `dict((mapping))`\n",
    "    * `dict(**kwarge)`关键字参数\n",
    "    * `dic2[key] = value`"
   ]
  },
  {
   "cell_type": "markdown",
   "metadata": {},
   "source": [
    "\n",
    "## 4. 字典的内置方法\n",
    "\n",
    "- `dict.fromkeys(seq[, value])` 用于【创建】一个新字典，以【序列】 `seq` 中元素做字典的【键】，`value` 为字典【所有】键对应的【初始值】。【看到是可选参数——没有初始化则 None】\n",
    "\n",
    "【例子】"
   ]
  },
  {
   "cell_type": "code",
   "execution_count": 97,
   "metadata": {},
   "outputs": [
    {
     "name": "stdout",
     "output_type": "stream",
     "text": [
      "{'name': None, 'age': None, 'sex': None}\n",
      "{'name': 10, 'age': 10, 'sex': 10}\n",
      "{'name': ('小马', '8', '男'), 'age': ('小马', '8', '男'), 'sex': ('小马', '8', '男')}\n"
     ]
    }
   ],
   "source": [
    "seq = ('name', 'age', 'sex')\n",
    "dic1 = dict.fromkeys(seq)\n",
    "print(dic1)\n",
    "# {'name': None, 'age': None, 'sex': None}\n",
    "\n",
    "dic2 = dict.fromkeys(seq, 10)\n",
    "print(dic2)\n",
    "# {'name': 10, 'age': 10, 'sex': 10}\n",
    "\n",
    "dic3 = dict.fromkeys(seq, ('小马', '8', '男')) # 【对所有键的初始化，不是一对一元素】\n",
    "print(dic3)\n",
    "# {'name': ('小马', '8', '男'), 'age': ('小马', '8', '男'), 'sex': ('小马', '8', '男')}"
   ]
  },
  {
   "cell_type": "markdown",
   "metadata": {},
   "source": [
    "\n",
    "- `dict.keys()`返回一个【可迭代对象】，可以使用 `list()` 来【转换】为列表，列表为字典中的所有键。【获取所有 key】\n",
    "\n",
    "【例子】"
   ]
  },
  {
   "cell_type": "code",
   "execution_count": 6,
   "metadata": {},
   "outputs": [
    {
     "name": "stdout",
     "output_type": "stream",
     "text": [
      "dict_keys(['Name', 'Age'])\n",
      "['Name', 'Age']\n",
      "('Name', 'Age')\n"
     ]
    }
   ],
   "source": [
    "dic = {'Name': 'lsgogroup', 'Age': 7}\n",
    "print(dic.keys())  # dict_keys(['Name', 'Age'])\n",
    "lst = list(dic.keys())  # 转换为列表\n",
    "print(lst)  # ['Name', 'Age']\n",
    "\n",
    "print(tuple(dic.keys())) # 【可迭代对象也可以转换为元组】"
   ]
  },
  {
   "cell_type": "markdown",
   "metadata": {},
   "source": [
    "\n",
    "- `dict.values()`返回一个【迭代器】，可以使用 `list()` 来转换为列表，列表为字典中的所有值。【获取所有 value】\n",
    "\n",
    "【例子】"
   ]
  },
  {
   "cell_type": "code",
   "execution_count": 4,
   "metadata": {},
   "outputs": [
    {
     "name": "stdout",
     "output_type": "stream",
     "text": [
      "dict_values(['female', 7, 'Zara'])\n",
      "['female', 7, 'Zara']\n",
      "('female', 7, 'Zara')\n"
     ]
    }
   ],
   "source": [
    "dic = {'Sex': 'female', 'Age': 7, 'Name': 'Zara'}\n",
    "print(dic.values())\n",
    "# dict_values(['female', 7, 'Zara'])\n",
    "\n",
    "print(list(dic.values()))\n",
    "# ['female', 7, 'Zara']\n",
    "\n",
    "print(tuple(dic.values())) # 【迭代器也可以转换为元组】"
   ]
  },
  {
   "cell_type": "markdown",
   "metadata": {},
   "source": [
    "- `dict.items()`以列表返回可遍历的 (键, 值) 元组数组。【获取所有键值对】\n",
    "\n",
    "【例子】"
   ]
  },
  {
   "cell_type": "code",
   "execution_count": 101,
   "metadata": {},
   "outputs": [
    {
     "name": "stdout",
     "output_type": "stream",
     "text": [
      "dict_items([('Name', 'Lsgogroup'), ('Age', 7)])\n",
      "(('Name', 'Lsgogroup'), ('Age', 7))\n",
      "[('Name', 'Lsgogroup'), ('Age', 7)]\n"
     ]
    }
   ],
   "source": [
    "dic = {'Name': 'Lsgogroup', 'Age': 7}\n",
    "print(dic.items())\n",
    "# dict_items([('Name', 'Lsgogroup'), ('Age', 7)])\n",
    "\n",
    "print(tuple(dic.items()))\n",
    "# (('Name', 'Lsgogroup'), ('Age', 7))\n",
    "\n",
    "print(list(dic.items()))\n",
    "# [('Name', 'Lsgogroup'), ('Age', 7)]"
   ]
  },
  {
   "cell_type": "markdown",
   "metadata": {},
   "source": [
    "\n",
    "- `dict.get(key, default=None)` 返回指定键的值，如果【值不在】字典中返回【默认值】。【获取指定的 value，无则返回 default 值】【直接用 key 访问不就行了吗？为什么要多此一举？还是有哪些更合适的使用场景？】【有的，以下列 NA 为例，这个方法可以把 None 覆盖掉，便于修改字典（有误）——因为原字典没有改变；换一个说法，这个方法可以用在向字典访问指定对象，对象不存在/为空时，临时的数据操作（当然也可以把结果存储在新的字典中）】【字典不变】\n",
    "\n",
    "【例子】"
   ]
  },
  {
   "cell_type": "code",
   "execution_count": 8,
   "metadata": {},
   "outputs": [
    {
     "name": "stdout",
     "output_type": "stream",
     "text": [
      "Age 值为 : 27\n",
      "Sex 值为 : NA\n",
      "{'Name': 'Lsgogroup', 'Age': 27}\n"
     ]
    }
   ],
   "source": [
    "dic = {'Name': 'Lsgogroup', 'Age': 27}\n",
    "print(\"Age 值为 : %s\" % dic.get('Age'))  # Age 值为 : 27\n",
    "print(\"Sex 值为 : %s\" % dic.get('Sex', \"NA\"))  # Sex 值为 : NA 【设置一个默认值】\n",
    "print(dic)  # {'Name': 'Lsgogroup', 'Age': 27}"
   ]
  },
  {
   "cell_type": "markdown",
   "metadata": {},
   "source": [
    "\n",
    "- `dict.setdefault(key, default=None)`和`get()`方法 【类似】, 如果键【不存在】于字典中，将会添加键并将值设为默认值。【区别是修改字典】\n",
    "\n",
    "【例子】"
   ]
  },
  {
   "cell_type": "code",
   "execution_count": 10,
   "metadata": {},
   "outputs": [
    {
     "name": "stdout",
     "output_type": "stream",
     "text": [
      "Age 键的值为 : 7\n",
      "Sex 键的值为 : None\n",
      "{'Name': 'Lsgogroup', 'Age': 7, 'Sex': None}\n"
     ]
    }
   ],
   "source": [
    "dic = {'Name': 'Lsgogroup', 'Age': 7}\n",
    "print(\"Age 键的值为 : %s\" % dic.setdefault('Age', None))  # Age 键的值为 : 7\n",
    "print(\"Sex 键的值为 : %s\" % dic.setdefault('Sex', None))  # Sex 键的值为 : None 【修改字典内容（此处添加 k-w）】\n",
    "print(dic)  \n",
    "# {'Age': 7, 'Name': 'Lsgogroup', 'Sex': None}"
   ]
  },
  {
   "cell_type": "markdown",
   "metadata": {},
   "source": [
    "\n",
    "- `key in dict` `in` 操作符用于判断键【是否存在】于字典中，如果键在字典 dict 里返回`true`，否则返回`false`。而`not in`操作符刚好相反，如果键在字典 dict 里返回`false`，否则返回`true`。\n",
    "\n",
    "【例子】"
   ]
  },
  {
   "cell_type": "code",
   "execution_count": 104,
   "metadata": {},
   "outputs": [
    {
     "name": "stdout",
     "output_type": "stream",
     "text": [
      "键 Age 存在\n",
      "键 Sex 不存在\n",
      "键 Age 存在\n"
     ]
    }
   ],
   "source": [
    "dic = {'Name': 'Lsgogroup', 'Age': 7}\n",
    "\n",
    "# in 检测键 Age 是否存在\n",
    "if 'Age' in dic:\n",
    "    print(\"键 Age 存在\")\n",
    "else:\n",
    "    print(\"键 Age 不存在\")\n",
    "\n",
    "# 检测键 Sex 是否存在\n",
    "if 'Sex' in dic:\n",
    "    print(\"键 Sex 存在\")\n",
    "else:\n",
    "    print(\"键 Sex 不存在\")\n",
    "\n",
    "# not in 检测键 Age 是否存在\n",
    "if 'Age' not in dic:\n",
    "    print(\"键 Age 不存在\")\n",
    "else:\n",
    "    print(\"键 Age 存在\")\n",
    "\n",
    "# 键 Age 存在\n",
    "# 键 Sex 不存在\n",
    "# 键 Age 存在"
   ]
  },
  {
   "cell_type": "markdown",
   "metadata": {},
   "source": [
    "\n",
    "- `dict.pop(key[,default])`删除字典给定键 `key` 所对应的值，返回值为【被删除的值】。`key` 值必须给出。若`key`不存在，则返回 `default` 值。【改变字典】\n",
    "- `del dict[key]` 删除字典给定键 `key` 所对应的值。【改变字典】\n",
    "\n",
    "【例子】"
   ]
  },
  {
   "cell_type": "code",
   "execution_count": 17,
   "metadata": {},
   "outputs": [
    {
     "name": "stdout",
     "output_type": "stream",
     "text": [
      "a {2: [1, 2]}\n",
      "第一次 pop： {2: [1, 2]}\n",
      "nokey {2: [1, 2]}\n",
      "第二次 pop： {2: [1, 2]}\n",
      "{}\n"
     ]
    }
   ],
   "source": [
    "dic1 = {1: \"a\", 2: [1, 2]}\n",
    "print(dic1.pop(1), dic1)  # a {2: [1, 2]}\n",
    "print('第一次 pop：', dic1) # 【字典是无序的，为什么弹出第一个？反正随便弹一个，不如弹第一个更方便？】【已解决】\n",
    "                            # 【我傻了，这个功能就是指定了 key 1 弹出的】【哈哈哈，走神了吧！】\n",
    "\n",
    "# 设置默认值，必须添加，否则报错\n",
    "print(dic1.pop(3, \"nokey\"), dic1)  # nokey {2: [1, 2]} 【注意，此处弹的是不存在的 key，因此需设置默认值】\n",
    "print('第二次 pop：', dic1) # 【还有 2 号】\n",
    "\n",
    "del dic1[2]\n",
    "print(dic1)  # {}"
   ]
  },
  {
   "cell_type": "markdown",
   "metadata": {},
   "source": [
    "\n",
    "- `dict.popitem()`【随机】返回并删除字典中的一对键和值，如果字典已经为【空】，却调用了此方法，就报出KeyError【异常】。\n",
    "\n",
    "\n",
    "【例子】"
   ]
  },
  {
   "cell_type": "code",
   "execution_count": 31,
   "metadata": {},
   "outputs": [
    {
     "name": "stdout",
     "output_type": "stream",
     "text": [
      "(6, 10)\n",
      "{1: 'a', 2: [1, 2], 3: 10, 4: 10, 5: 10}\n"
     ]
    }
   ],
   "source": [
    "dic1 = {1: \"a\", 2: [1, 2], 3: 10, 4: 10, 5: 10, 6:10} # 【这个所谓的随机也太不走心了吧。。总是弹出“最后”一个元素；这里引号是因为字典无序】\n",
    "print(dic1.popitem())  # {2: [1, 2]}\n",
    "print(dic1)  # (1, 'a')"
   ]
  },
  {
   "cell_type": "markdown",
   "metadata": {},
   "source": [
    "\n",
    "\n",
    "- `dict.clear()`用于【删除】字典内【所有】元素。【为啥字典要有那么多的删除方法_ (:з」∠)_ 】【这个 clear 的底层实现是什么？hash是怎么删除的？断链？】\n",
    "\n",
    "\n",
    "【例子】"
   ]
  },
  {
   "cell_type": "code",
   "execution_count": 108,
   "metadata": {},
   "outputs": [
    {
     "name": "stdout",
     "output_type": "stream",
     "text": [
      "字典长度 : 2\n",
      "字典删除后长度 : 0\n"
     ]
    }
   ],
   "source": [
    "dic = {'Name': 'Zara', 'Age': 7}\n",
    "print(\"字典长度 : %d\" % len(dic))  # 字典长度 : 2【len 方法还可以用在什么对象？】\n",
    "dic.clear()\n",
    "print(\"字典删除后长度 : %d\" % len(dic))  \n",
    "# 字典删除后长度 : 0"
   ]
  },
  {
   "cell_type": "markdown",
   "metadata": {},
   "source": [
    "\n",
    "- `dict.copy()`返回一个字典的【浅复制】。\n",
    "\n",
    "【例子】"
   ]
  },
  {
   "cell_type": "code",
   "execution_count": 42,
   "metadata": {
    "scrolled": false
   },
   "outputs": [
    {
     "name": "stdout",
     "output_type": "stream",
     "text": [
      "{'Name': 'Lsgogroup', 'Age': 7, 'Class': 'First'}\n",
      "{'Age': 7, 'Class': 'First'}\n",
      "{'Name': 'Lsgogroup', 'Age': 7, 'Class': 'First'}\n",
      "105544392\n",
      "106636824\n",
      "1466624016\n",
      "1466624016\n",
      "{'Class': 'First'}\n",
      "{'Name': 'Lsgogroup', 'Age': 7, 'Class': 'First'}\n"
     ]
    }
   ],
   "source": [
    "dic1 = {'Name': 'Lsgogroup', 'Age': 7, 'Class': 'First'}\n",
    "dic2 = dic1.copy()\n",
    "print(dic2)  \n",
    "# {'Age': 7, 'Name': 'Lsgogroup', 'Class': 'First'}\n",
    "\n",
    "dic1['Name'] = 'Peter' # 【这能叫浅复制吗？】【这个问题会反复出现】\n",
    "dic1.pop('Name')\n",
    "print(dic1)\n",
    "print(dic2) # 两个操作后还是不变啊\n",
    "\n",
    "print(id(dic1))\n",
    "print(id(dic2))\n",
    "\n",
    "print(id(dic1.get('Age')))\n",
    "print(id(dic2.get('Age'))) # 【指向同一块内存】\n",
    "\n",
    "dic1['Age'] = 10 # 【这能叫浅复制吗？】【这个问题会反复出现】\n",
    "dic1.pop('Age')\n",
    "print(dic1)\n",
    "print(dic2) # 还是不变【翻白眼】"
   ]
  },
  {
   "cell_type": "markdown",
   "metadata": {},
   "source": [
    "## 【深浅拷贝】\n",
    "* 因为内容物存在可变类型，改变该内容物之后，元组本身也会改变。这带来一个思考——改变后的元组内存结构是怎样的？需重新开辟空间？\n",
    "* https://time.geekbang.org/column/article/100105\n",
    "* `is` 不需重载，因此效率比 `==` 高，而日常开发 `is` 使用频率远小于 `==`。\n",
    "* （3）深浅拷贝——引用与赋值的关系。【=> 可推广至 Python 的内存机制】\n",
    "    * 根据（1）的 list 对象为指针，可以推广到不同的数据结构，确定是否“万物皆对象”，从而可以抓住“引用”“赋值”的本质，就能理解深浅拷贝的区别\n",
    "    * 【例子】浅拷贝与深拷贝——【本质区别：复制的是引用还是具体的值】\n",
    "        * 【深拷贝】：B 复制 A => A 改变，B 【也】变。【错】【对了一半】\n",
    "        * 【浅拷贝】：B 复制 A => A 改变，B 【不】变。【错】【并不能这样简单地说】\n",
    "    * 【深拷贝】：目的是获得完全独立的对象。\n",
    "    * 【浅拷贝】：还有东西“连”在一起，可能带来副作用。\n",
    "* 何为深浅：\n",
    "    * 根据资料判断，是拷贝的深入程度 / 层数（例如只拷贝父对象，不拷贝子对象 => 浅拷贝）\n",
    "* 何为引用：\n",
    "    * 两个不同名称的变量，指向同一个内存地址（同一个对象），则为引用。\n",
    "    * “赋值”的操作什么情况下为引用？什么情况下不是引用？或者说一定都是引用？\n",
    "        * 【不，如果赋值右侧为 dict.copy，则另开辟内存空间】\n",
    "        * 【说明是否引用，得看等号右侧载入的对象 / 方法】\n",
    "    * 有什么具体操作一定属于“引用”？\n",
    "* 正确的判断方法：【错误】【就没有什么判断方法？？为什么查看的资料都矛盾？】\n",
    "    * `is`（比较标识） => False 就是浅拷贝【错误！！】`l2 = l1`得到`True`但是浅拷贝\n",
    "    * `==`(比较值)\n",
    "* 【鉴于这部分的探索错漏百出，我认为关键在于理解“引用”、“父子对象”的层级关系，但有一个是确定的——深拷贝的对象之间完全独立，浅拷贝的还存在某种联系】"
   ]
  },
  {
   "cell_type": "markdown",
   "metadata": {},
   "source": [
    "【例子】直接赋值和 copy 的区别\n"
   ]
  },
  {
   "cell_type": "code",
   "execution_count": 62,
   "metadata": {
    "scrolled": true
   },
   "outputs": [
    {
     "name": "stdout",
     "output_type": "stream",
     "text": [
      "107167288\n",
      "107167288\n",
      "107166208\n",
      "{'user': 'lsgogroup', 'num': [1, 2, 3]}\n",
      "{'user': 'root', 'num': [2, 3]}\n",
      "{'user': 'root', 'num': [2, 3]}\n",
      "{'user': 'lsgogroup', 'num': [2, 3]}\n",
      "109357160\n",
      "109357160\n",
      "1466623824 1466623824 1466623824\n",
      "-5 1466623824\n",
      "-4 1466623840\n",
      "-3 1466623856\n",
      "-2 1466623872\n",
      "-1 1466623888\n",
      "0 1466623904\n",
      "1 1466623920\n",
      "2 1466623936\n",
      "255 1466627984\n",
      "256 1466628000\n",
      "1466628000 1466628000 1466628000\n",
      "103943776 103943392 114392368\n",
      "False\n"
     ]
    }
   ],
   "source": [
    "dic1 = {'user': 'lsgogroup', 'num': [1, 2, 3]}\n",
    "\n",
    "# 引用对象\n",
    "dic2 = dic1  \n",
    "# 浅拷贝父对象（一级目录），子对象（二级目录）不拷贝，还是引用【这里父类是什么？子类是什么？】\n",
    "dic3 = dic1.copy()  \n",
    "\n",
    "print(id(dic1))  # 148635574728\n",
    "print(id(dic2))  # 148635574728\n",
    "print(id(dic3))  # 148635574344\n",
    "\n",
    "print(dic1)\n",
    "\n",
    "# 修改 data 数据\n",
    "dic1['user'] = 'root'\n",
    "dic1['num'].remove(1)\n",
    "\n",
    "# 输出结果\n",
    "print(dic1)  # {'user': 'root', 'num': [2, 3]}\n",
    "print(dic2)  # {'user': 'root', 'num': [2, 3]}\n",
    "print(dic3)  # {'user': 'runoob', 'num': [2, 3]}\n",
    "\n",
    "dic9 = [1, 2, 3]\n",
    "dic10 = dic9\n",
    "print(id(dic9)) # 【指向相同地址】\n",
    "print(id(dic10))\n",
    "\n",
    "# 【-5 ~ 256，地址固定】\n",
    "a = -5\n",
    "b = -5\n",
    "print(id(a), id(b), id(-5)) # 【|1466623824 - 1466628000| = 4176( + 1 * 16)，262 个数字，平均占用地址 15.9389 个，说明有个结构不一样】【已解决】\n",
    "print(-5, id(-5))\n",
    "print(-4, id(-4))\n",
    "print(-3, id(-3))\n",
    "print(-2, id(-2)) # 【负数占 16个地址】\n",
    "print(-1, id(-1))\n",
    "print(0, id(0))\n",
    "print(1, id(1)) # 【正数占 16 个地址】【总地址数 = 5】【为啥数据对不上？256 + 1 + 5 = 262, 262 * 16 = 4192】【懂了 4176 + 16 = 4192】\n",
    "print(2, id(2))\n",
    "print(255, id(255))\n",
    "print(256, id(256))\n",
    "a = 256\n",
    "b = 256\n",
    "print(id(a), id(b), id(256))\n",
    "a = 257\n",
    "b = 257\n",
    "print(id(a), id(b), id(257))\n",
    "\n",
    "print(a is b)"
   ]
  },
  {
   "cell_type": "markdown",
   "metadata": {},
   "source": [
    "\n",
    "- `dict.update(dict2)`把字典参数 `dict2` 的 `key:value`对 更新到字典 `dict` 里。\n",
    "\n",
    "\n",
    "【例子】"
   ]
  },
  {
   "cell_type": "code",
   "execution_count": 111,
   "metadata": {},
   "outputs": [
    {
     "name": "stdout",
     "output_type": "stream",
     "text": [
      "{'Name': 'Lsgogroup', 'Age': 8, 'Sex': 'female'}\n"
     ]
    }
   ],
   "source": [
    "dic = {'Name': 'Lsgogroup', 'Age': 7}\n",
    "dic2 = {'Sex': 'female', 'Age': 8}\n",
    "dic.update(dic2)\n",
    "print(dic)  \n",
    "# {'Sex': 'female', 'Age': 8, 'Name': 'Lsgogroup'}"
   ]
  },
  {
   "cell_type": "markdown",
   "metadata": {},
   "source": [
    "（2022/04/10 23:32:13 1h52min）\n",
    "### 【浅拷贝】\n",
    "* 浅拷贝：重新分配一块内存，创建一个新的对象，里面的【元素】是【原对象中子对象的引用】。\n",
    "* 因此，如果原对象的元素【可变】，可能有【副作用】。"
   ]
  },
  {
   "cell_type": "code",
   "execution_count": 35,
   "metadata": {},
   "outputs": [
    {
     "name": "stdout",
     "output_type": "stream",
     "text": [
      "False\n",
      "False\n",
      "直接赋值 True\n",
      "False\n",
      "True\n",
      "True\n",
      "True\n",
      "原子类型 True\n",
      "非原子类型 False\n",
      "False\n"
     ]
    }
   ],
   "source": [
    "# 【列表】【可变序列】\n",
    "l1 = [1, 2, 3]\n",
    "\n",
    "l2 = list(l1)\n",
    "print(l1 is l2)\n",
    "\n",
    "l2 = l1[:]\n",
    "print(l1 is l2)\n",
    "\n",
    "l2 = l1\n",
    "print('直接赋值', l1 is l2)\n",
    "\n",
    "import copy\n",
    "l2 = copy.copy(l1)\n",
    "print(l1 is l2)\n",
    "\n",
    "# 【元组】【切片，返回同一个元组的引用（不创建拷贝）】【不可变序列】\n",
    "t1 = (1, 2, 3)\n",
    "\n",
    "t2 = tuple(t1)\n",
    "print(t1 is t2) # 【相同】\n",
    "\n",
    "t2 = copy.copy(t1)\n",
    "print(t1 is t2) # 【相同】\n",
    "\n",
    "t2 = tuple(t1)\n",
    "print(t1 is t2) # 【相同】\n",
    "\n",
    "# 【补充】“原子”类型对象的深拷贝\n",
    "t1 = (1, 2, 3)\n",
    "t2 = copy.deepcopy(t1)\n",
    "print('原子类型', t1 is t2)\n",
    "\n",
    "t1 = ([1], [2], [3])\n",
    "t2 = copy.deepcopy(t1)\n",
    "print('非原子类型', t1 is t2)\n",
    "\n",
    "# 【集合】【可变序列】\n",
    "s1 = set([1, 2, 3])\n",
    "\n",
    "s2 = set(s1)\n",
    "print(s1 is s2) # 【不同】"
   ]
  },
  {
   "cell_type": "code",
   "execution_count": 13,
   "metadata": {
    "scrolled": false
   },
   "outputs": [
    {
     "name": "stdout",
     "output_type": "stream",
     "text": [
      "2308346216832 2308377726400\n",
      "[[1, 2], (30, 40)] 初始\n",
      "[[1, 2, 3], (30, 40), 100]\n",
      "[[1, 2, 3], (30, 40)]\n",
      "[[1, 2, 3], (30, 40, 50, 60), 100]\n",
      "[[1, 2, 3], (30, 40)]\n"
     ]
    }
   ],
   "source": [
    "# 【副作用】——整体与局部，互相切换（关系混乱，因此为不期待出现的副作用）\n",
    "l1 = [[1, 2], (30, 40)]\n",
    "l2 = list(l1)\n",
    "\n",
    "print(l1,'初始',)\n",
    "l1.append(100)\n",
    "l1[0].append(3)\n",
    "\n",
    "print(l1)\n",
    "print(l2) # 【第一个 list 元素也会变】\n",
    "\n",
    "l1[1] += (50, 60) # 【实际上重新创建了一个元组，替换了原来的元素】\n",
    "print(l1)\n",
    "print(l2) # 【第二个 tuple 元素不变】"
   ]
  },
  {
   "cell_type": "markdown",
   "metadata": {},
   "source": [
    "### 【深拷贝】\n",
    "* 深拷贝：重新分配一块内存，创建一个新的对象，并且将原对象中的元素，以【递归】的方式，通过创建新的子对象拷贝到新对象中。=> 【完全独立】\n",
    "* `copy.deepcopy()`\n",
    "* 局限性：如果被拷贝对象中存在指向自身的引用，那么程序很容易陷入【无限循环】。"
   ]
  },
  {
   "cell_type": "code",
   "execution_count": 18,
   "metadata": {},
   "outputs": [
    {
     "name": "stdout",
     "output_type": "stream",
     "text": [
      "[[1, 2, 3], (30, 40), 100]\n",
      "[[1, 2], (30, 40)]\n",
      "[[1, 2, 3], (30, 40), 100]\n",
      "[[1, 2, 3], (30, 40), 100]\n",
      "True\n"
     ]
    }
   ],
   "source": [
    "import copy\n",
    "l1 = [[1, 2], (30, 40)]\n",
    "l2 = copy.deepcopy(l1)\n",
    "\n",
    "l1.append(100)\n",
    "l1[0].append(3)\n",
    "\n",
    "print(l1)\n",
    "print(l2)\n",
    "\n",
    "\n",
    "l1 = [[1, 2], (30, 40)]\n",
    "l2 = l1\n",
    "l1.append(100)\n",
    "l1[0].append(3)\n",
    "\n",
    "print(l1)\n",
    "print(l2)\n",
    "print(l1 is l2)"
   ]
  },
  {
   "cell_type": "code",
   "execution_count": 22,
   "metadata": {},
   "outputs": [
    {
     "name": "stdout",
     "output_type": "stream",
     "text": [
      "[1, [...]]\n",
      "[1, [...]]\n"
     ]
    }
   ],
   "source": [
    "# 【局限性】\n",
    "import copy\n",
    "x = [1]\n",
    "x.append(x)\n",
    "print(x)\n",
    "\n",
    "y = copy.deepcopy(x)\n",
    "print(y) # 【没有出现 stack overflow，因为 deepcopy 方法会维护一个字典】"
   ]
  },
  {
   "cell_type": "code",
   "execution_count": 24,
   "metadata": {},
   "outputs": [],
   "source": [
    "# deepcopy 源码\n",
    "\n",
    "def deepcopy(x, memo=None, _nil=[]):\n",
    "    \"\"\"\n",
    "        Deep copy operation on arbitrary Python objects.\n",
    "      \n",
    "        See the module's __doc__ string for more info.\n",
    "    \"\"\"\n",
    "  \n",
    "    if memo is None: # 【存储已经出现的 kw】\n",
    "        memo = {}\n",
    "        \n",
    "    d = id(x) # 查询被拷贝对象x的id【这到底传进来的是元素还是序列？我理解的是每个元素 id 不同】\n",
    "    y = memo.get(d, _nil) # 查询字典里是否已经存储了该对象\n",
    "                          #【若存在返回对象的值，否则用默认值替代】\n",
    "    if y is not _nil:\n",
    "        return y # 如果字典里已经存储了将要拷贝的对象，则直接返回\n",
    "    \n",
    "    ..."
   ]
  },
  {
   "cell_type": "code",
   "execution_count": 28,
   "metadata": {},
   "outputs": [
    {
     "name": "stdout",
     "output_type": "stream",
     "text": [
      "[1, [...]] [1, [...]]\n"
     ]
    },
    {
     "ename": "RecursionError",
     "evalue": "maximum recursion depth exceeded in comparison",
     "output_type": "error",
     "traceback": [
      "\u001b[1;31m---------------------------------------------------------------------------\u001b[0m",
      "\u001b[1;31mRecursionError\u001b[0m                            Traceback (most recent call last)",
      "Input \u001b[1;32mIn [28]\u001b[0m, in \u001b[0;36m<cell line: 12>\u001b[1;34m()\u001b[0m\n\u001b[0;32m      8\u001b[0m \u001b[38;5;66;03m# 以下命令的输出是？\u001b[39;00m\n\u001b[0;32m      9\u001b[0m \u001b[38;5;66;03m# x == y\u001b[39;00m\n\u001b[0;32m     11\u001b[0m \u001b[38;5;28mprint\u001b[39m(x, y)\n\u001b[1;32m---> 12\u001b[0m \u001b[38;5;28mprint\u001b[39m(\u001b[43mx\u001b[49m\u001b[43m \u001b[49m\u001b[38;5;241;43m==\u001b[39;49m\u001b[43m \u001b[49m\u001b[43my\u001b[49m)\n",
      "\u001b[1;31mRecursionError\u001b[0m: maximum recursion depth exceeded in comparison"
     ]
    }
   ],
   "source": [
    "# 【思考】\n",
    "import copy\n",
    "x = [1]\n",
    "x.append(x)\n",
    "\n",
    "y = copy.deepcopy(x)\n",
    "\n",
    "# 以下命令的输出是？\n",
    "# x == y\n",
    "\n",
    "print(x, y)\n",
    "print(x == y) # 【得先理解无限嵌套的结构】【因为是递归嵌套自身，而 deep 是递归复制的】\n",
    "              # 【执行递归复制后，还是指向 x，推测这两者的值本该相等】【但 deep 是构建完全独立的对象】\n",
    "              # 【因此，出现矛盾 / 二义性 => 程序报错】"
   ]
  },
  {
   "cell_type": "markdown",
   "metadata": {},
   "source": [
    "【网友的回答 SCAR】\n",
    "* 究其原因也是 python 的递归层数是有限定的。\n",
    "```python\n",
    "def factorial(n):\n",
    "    return 1 if n <=1 else n*factorial(n-1)\n",
    "factorial(5000)\n",
    "RecursionError: maximum recursion depth exceeded in comparison\n",
    "```\n",
    "* 在sys模块中有个方法可以得到递归的层数:\n",
    "```python\n",
    "import sys\n",
    "sys.getrecursionlimit()\n",
    "3000\n",
    "```\n",
    "* 当然你也可以重新设定递归的层数：\n",
    "`sys.setrecursionlimit(10000)`\n",
    "* 那是不是可以设定无穷大呢？理论上可以，但你的程序崩溃也是一定的，我的mac内存是16G，如果把递归层数设定到1百万，大概跑到35000层左右，我的服务就挂了。"
   ]
  },
  {
   "cell_type": "markdown",
   "metadata": {},
   "source": [
    "【网友回答 瞳梦】\n",
    "* 这节没讲好，其实可以简单归纳的：\n",
    "* 一、赋值:\n",
    "    * 在 Python 中，对象的【赋值就是】简单的对象【引用】，这点和 C++ 不同\n",
    "* 二、浅拷贝(shallow copy):\n",
    "    * 浅拷贝会创建【新】对象，其内容非原对象本身的引用，而是原对象内【第一层对象的引用】。浅拷贝有【三种】形式: 切片操作、工厂函数、copy 模块中的 copy 函数。\n",
    "* 三、深拷贝(deep copy):\n",
    "    * 深拷贝只有【一种】形式，copy 模块中的 deepcopy() 函数。深拷贝和浅拷贝对应，深拷贝拷贝了对象的所有元素，包括多层嵌套的元素。因此，它的时间和空间开销要高。\n",
    "* 四、拷贝的注意点:\n",
    "    * 1、对于【非容器类型】，如数字、字符，以及其他的“原子”类型，【没有拷贝】一说，产生的都是原对象的【引用】。\n",
    "    * 2、如果元组变量值包含【原子类型】对象，即使采用了深拷贝，也只能得到浅拷贝。"
   ]
  },
  {
   "cell_type": "code",
   "execution_count": 30,
   "metadata": {
    "scrolled": true
   },
   "outputs": [
    {
     "name": "stdout",
     "output_type": "stream",
     "text": [
      "2308378426112\n",
      "2308378426112\n",
      "True\n",
      "True\n",
      "2308378568192\n",
      "2308378567936\n",
      "True\n",
      "False\n"
     ]
    }
   ],
   "source": [
    "# 元组包含原子类型对象，任何拷贝都【失效】，只会返回指向相同元组的引用\n",
    "t1 = (1, 2, 3)\n",
    "# t2 = tuple(t1)\n",
    "# t2 = copy.copy(t1)\n",
    "t2 = copy.deepcopy(t1)\n",
    "print(id(t1))\n",
    "print(id(t2))\n",
    "print(t1 == t2)\n",
    "print(t1 is t2)\n",
    "\n",
    "# 元组不包含原子类型对象时，深拷贝生效，浅拷贝还是返回指向相同元组的引用\n",
    "t1 = ([1], [2], [3])\n",
    "# t2 = tuple(t1)\n",
    "# t2 = copy.copy(t1)\n",
    "t2 = copy.deepcopy(t1)\n",
    "print(id(t1))\n",
    "print(id(t2))\n",
    "print(t1 == t2)\n",
    "print(t1 is t2)"
   ]
  },
  {
   "cell_type": "markdown",
   "metadata": {},
   "source": [
    "【网友回答 突击坚持】\n",
    "* 1.只要没有可变的部分，不用讨论深浅拷贝没有意义(任何原子都不可变，整体就不可变，深复制的意义就没了啊！，并且还多占一份内存)，直接指向对应的引用就好了。\n",
    "* 2.t2 = tuple(t1),这个相当于实例化了一个新的tuple对象再复制给t2,t1只是tuple类实例所需要的一个必须参数，不涉及复制不复制的。【存疑，需理解`tuple()`工厂函数的源码，做了什么，有没有涉及赋值的方法（但是没有 deepcopy 的话，都是浅复制了，或者说，原子类型不必讨论深浅复制问题）】【这个问题留在源码学习时解决】\n",
    "* 不知道理解的对不对"
   ]
  },
  {
   "cell_type": "markdown",
   "metadata": {},
   "source": [
    "（2022/04/10 18:58:24 1h56min）\n",
    "## 【概括】\n",
    "* 创建，全体初始化 / None\n",
    "    * `dict.fromkeys(seq[, value])`\n",
    "* 获取键 / 值（返回：可迭代对象、迭代器）\n",
    "    * `dict.keys()` => `list()`\n",
    "    * `dict.values()`\n",
    "    * `dict.items()`\n",
    "    * `dict.get(key, default=None)`\n",
    "* 获取 + 添加 => 改变字典\n",
    "    * `dict.setdefault(key, default=None)`【类似上述 `get()`】\n",
    "* 判断是否存在\n",
    "    * `in`\n",
    "    * `not in`\n",
    "* 删除\n",
    "    * `dict.pop(key[,default])`\n",
    "    * `del dict[key]`\n",
    "    * `dict.popitem()`【说是随机，测试发现都是弹出最后一个元素】\n",
    "    * `dict.clear()`【删除所有】\n",
    "* 复制\n",
    "    * `dict.copy()`【浅复制】\n",
    "* 更新\n",
    "    * `dict.update(dict2)`"
   ]
  },
  {
   "cell_type": "markdown",
   "metadata": {},
   "source": [
    "\n",
    "# 集合\n",
    "\n",
    "Python 中`set`与`dict`类似，也是一组`key`的集合，但不存储`value`。由于`key`不能重复，所以，在`set`中，没有重复的`key`。\n",
    "\n",
    "注意，`key`为不可变类型，即可哈希的值。\n",
    "\n",
    "【例子】"
   ]
  },
  {
   "cell_type": "code",
   "execution_count": 112,
   "metadata": {},
   "outputs": [
    {
     "name": "stdout",
     "output_type": "stream",
     "text": [
      "<class 'dict'>\n",
      "<class 'set'>\n"
     ]
    }
   ],
   "source": [
    "num = {}\n",
    "print(type(num))  # <class 'dict'>\n",
    "num = {1, 2, 3, 4}\n",
    "print(type(num))  # <class 'set'>"
   ]
  },
  {
   "cell_type": "markdown",
   "metadata": {},
   "source": [
    "\n",
    "## 1. 集合的创建\n",
    "\n",
    "- 先创建对象再加入元素。\n",
    "- 在创建空集合的时候只能使用`s = set()`，因为`s = {}`创建的是空字典。\n",
    "\n",
    "【例子】"
   ]
  },
  {
   "cell_type": "code",
   "execution_count": 113,
   "metadata": {},
   "outputs": [
    {
     "name": "stdout",
     "output_type": "stream",
     "text": [
      "{'banana', 'apple'}\n"
     ]
    }
   ],
   "source": [
    "basket = set()\n",
    "basket.add('apple')\n",
    "basket.add('banana')\n",
    "print(basket)  # {'banana', 'apple'}"
   ]
  },
  {
   "cell_type": "markdown",
   "metadata": {},
   "source": [
    "\n",
    "- 直接把一堆元素用花括号括起来`{元素1, 元素2, ..., 元素n}`。\n",
    "- 重复元素在`set`中会被自动被过滤。\n",
    "\n",
    "【例子】"
   ]
  },
  {
   "cell_type": "code",
   "execution_count": 114,
   "metadata": {},
   "outputs": [
    {
     "name": "stdout",
     "output_type": "stream",
     "text": [
      "{'pear', 'orange', 'banana', 'apple'}\n"
     ]
    }
   ],
   "source": [
    "basket = {'apple', 'orange', 'apple', 'pear', 'orange', 'banana'}\n",
    "print(basket)  # {'banana', 'apple', 'pear', 'orange'}"
   ]
  },
  {
   "cell_type": "markdown",
   "metadata": {},
   "source": [
    "\n",
    "- 使用`set(value)`工厂函数，把列表或元组转换成集合。\n",
    "\n",
    "【例子】"
   ]
  },
  {
   "cell_type": "code",
   "execution_count": 115,
   "metadata": {},
   "outputs": [
    {
     "name": "stdout",
     "output_type": "stream",
     "text": [
      "{'b', 'r', 'a', 'c', 'd'}\n",
      "{'Taobao', 'Google', 'Lsgogroup'}\n",
      "{'Taobao', 'Google', 'Lsgogroup'}\n"
     ]
    }
   ],
   "source": [
    "a = set('abracadabra')\n",
    "print(a)  \n",
    "# {'r', 'b', 'd', 'c', 'a'}\n",
    "\n",
    "b = set((\"Google\", \"Lsgogroup\", \"Taobao\", \"Taobao\"))\n",
    "print(b)  \n",
    "# {'Taobao', 'Lsgogroup', 'Google'}\n",
    "\n",
    "c = set([\"Google\", \"Lsgogroup\", \"Taobao\", \"Google\"])\n",
    "print(c)  \n",
    "# {'Taobao', 'Lsgogroup', 'Google'}"
   ]
  },
  {
   "cell_type": "markdown",
   "metadata": {},
   "source": [
    "\n",
    "【例子】去掉列表中重复的元素"
   ]
  },
  {
   "cell_type": "code",
   "execution_count": 116,
   "metadata": {},
   "outputs": [
    {
     "name": "stdout",
     "output_type": "stream",
     "text": [
      "[0, 1, 2, 3, 4, 5]\n",
      "[0, 1, 2, 3, 4, 5]\n"
     ]
    }
   ],
   "source": [
    "lst = [0, 1, 2, 3, 4, 5, 5, 3, 1]\n",
    "\n",
    "temp = []\n",
    "for item in lst:\n",
    "    if item not in temp:\n",
    "        temp.append(item)\n",
    "\n",
    "print(temp)  # [0, 1, 2, 3, 4, 5]\n",
    "\n",
    "a = set(lst)\n",
    "print(list(a))  # [0, 1, 2, 3, 4, 5]"
   ]
  },
  {
   "cell_type": "markdown",
   "metadata": {},
   "source": [
    "\n",
    "从结果发现集合的两个特点：无序 (unordered) 和唯一 (unique)。\n",
    "\n",
    "由于 `set` 存储的是无序集合，所以我们不可以为集合创建索引或执行切片(slice)操作，也没有键(keys)可用来获取集合中元素的值，但是可以判断一个元素是否在集合中。\n",
    "\n",
    "\n",
    "\n",
    "\n",
    "## 2. 访问集合中的值\n",
    "\n",
    "- 可以使用`len()`內建函数得到集合的大小。\n",
    "\n",
    "【例子】"
   ]
  },
  {
   "cell_type": "code",
   "execution_count": 117,
   "metadata": {},
   "outputs": [
    {
     "name": "stdout",
     "output_type": "stream",
     "text": [
      "3\n"
     ]
    }
   ],
   "source": [
    "s = set(['Google', 'Baidu', 'Taobao'])\n",
    "print(len(s))  # 3"
   ]
  },
  {
   "cell_type": "markdown",
   "metadata": {},
   "source": [
    "\n",
    "- 可以使用`for`把集合中的数据一个个读取出来。\n",
    "\n",
    "【例子】"
   ]
  },
  {
   "cell_type": "code",
   "execution_count": 7,
   "metadata": {},
   "outputs": [
    {
     "name": "stdout",
     "output_type": "stream",
     "text": [
      "Baidu\n",
      "Taobao\n",
      "Google\n"
     ]
    }
   ],
   "source": [
    "s = set(['Google', 'Baidu', 'Taobao'])\n",
    "for item in s:\n",
    "    print(item)\n",
    "    \n",
    "# Baidu\n",
    "# Google\n",
    "# Taobao"
   ]
  },
  {
   "cell_type": "markdown",
   "metadata": {},
   "source": [
    "\n",
    "- 可以通过`in`或`not in`判断一个元素是否在集合中已经存在\n",
    "\n",
    "【例子】"
   ]
  },
  {
   "cell_type": "code",
   "execution_count": 119,
   "metadata": {},
   "outputs": [
    {
     "name": "stdout",
     "output_type": "stream",
     "text": [
      "True\n",
      "True\n"
     ]
    }
   ],
   "source": [
    "s = set(['Google', 'Baidu', 'Taobao'])\n",
    "print('Taobao' in s)  # True\n",
    "print('Facebook' not in s)  # True"
   ]
  },
  {
   "cell_type": "markdown",
   "metadata": {},
   "source": [
    "\n",
    "## 3. 集合的内置方法\n",
    "\n",
    "- `set.add(elmnt)`用于给集合添加元素，如果添加的元素在集合中已存在，则不执行任何操作。\n",
    "\n",
    "【例子】"
   ]
  },
  {
   "cell_type": "code",
   "execution_count": 120,
   "metadata": {},
   "outputs": [
    {
     "name": "stdout",
     "output_type": "stream",
     "text": [
      "{'cherry', 'orange', 'banana', 'apple'}\n",
      "{'cherry', 'orange', 'banana', 'apple'}\n"
     ]
    }
   ],
   "source": [
    "fruits = {\"apple\", \"banana\", \"cherry\"}\n",
    "fruits.add(\"orange\")\n",
    "print(fruits)  \n",
    "# {'orange', 'cherry', 'banana', 'apple'}\n",
    "\n",
    "fruits.add(\"apple\")\n",
    "print(fruits)  \n",
    "# {'orange', 'cherry', 'banana', 'apple'}"
   ]
  },
  {
   "cell_type": "markdown",
   "metadata": {},
   "source": [
    "\n",
    "- `set.update(set)`用于修改当前集合，可以添加新的元素或集合到当前集合中，如果添加的元素在集合中已存在，则该元素只会出现一次，重复的会忽略。\n",
    "\n",
    "【例子】"
   ]
  },
  {
   "cell_type": "code",
   "execution_count": 121,
   "metadata": {},
   "outputs": [
    {
     "name": "stdout",
     "output_type": "stream",
     "text": [
      "{'google', 'banana', 'cherry', 'apple', 'baidu'}\n",
      "{'apple', 'dreamtech', 'lsgo', 'google', 'baidu'}\n"
     ]
    }
   ],
   "source": [
    "x = {\"apple\", \"banana\", \"cherry\"}\n",
    "y = {\"google\", \"baidu\", \"apple\"}\n",
    "x.update(y)\n",
    "print(x)\n",
    "# {'cherry', 'banana', 'apple', 'google', 'baidu'}\n",
    "\n",
    "y.update([\"lsgo\", \"dreamtech\"])\n",
    "print(y)\n",
    "# {'lsgo', 'baidu', 'dreamtech', 'apple', 'google'}"
   ]
  },
  {
   "cell_type": "markdown",
   "metadata": {},
   "source": [
    "\n",
    "\n",
    "- `set.remove(item)` 用于移除集合中的指定元素。如果元素不存在，则会发生错误。\n",
    "\n",
    "【例子】"
   ]
  },
  {
   "cell_type": "code",
   "execution_count": 122,
   "metadata": {},
   "outputs": [
    {
     "name": "stdout",
     "output_type": "stream",
     "text": [
      "{'cherry', 'apple'}\n"
     ]
    }
   ],
   "source": [
    "fruits = {\"apple\", \"banana\", \"cherry\"}\n",
    "fruits.remove(\"banana\")\n",
    "print(fruits)  # {'apple', 'cherry'}"
   ]
  },
  {
   "cell_type": "markdown",
   "metadata": {},
   "source": [
    "\n",
    "- `set.discard(value)` 用于移除指定的集合元素。`remove()` 方法在移除一个不存在的元素时会发生错误，而 `discard()` 方法不会。\n",
    "\n",
    "【例子】"
   ]
  },
  {
   "cell_type": "code",
   "execution_count": 123,
   "metadata": {},
   "outputs": [
    {
     "name": "stdout",
     "output_type": "stream",
     "text": [
      "{'cherry', 'apple'}\n"
     ]
    }
   ],
   "source": [
    "fruits = {\"apple\", \"banana\", \"cherry\"}\n",
    "fruits.discard(\"banana\")\n",
    "print(fruits)  # {'apple', 'cherry'}"
   ]
  },
  {
   "cell_type": "markdown",
   "metadata": {},
   "source": [
    "\n",
    "- `set.pop()` 用于随机移除一个元素。\n",
    "\n",
    "【例子】"
   ]
  },
  {
   "cell_type": "code",
   "execution_count": 66,
   "metadata": {},
   "outputs": [
    {
     "name": "stdout",
     "output_type": "stream",
     "text": [
      "{'banana', 'apple'}\n",
      "cherry\n"
     ]
    }
   ],
   "source": [
    "fruits = {\"apple\", \"banana\", \"cherry\"}\n",
    "x = fruits.pop()\n",
    "print(fruits)  # {'cherry', 'apple'}\n",
    "print(x)  # banana"
   ]
  },
  {
   "cell_type": "markdown",
   "metadata": {},
   "source": [
    "由于 set 是无序和无重复元素的集合，所以两个或多个 set 可以做数学意义上的集合操作。\n",
    "- `set.intersection(set1, set2)` 返回两个集合的交集。\n",
    "- `set1 & set2` 返回两个集合的交集。\n",
    "- `set.intersection_update(set1, set2)` 交集，在原始的集合上移除不重叠的元素。\n",
    "\n",
    "【例子】"
   ]
  },
  {
   "cell_type": "code",
   "execution_count": 67,
   "metadata": {},
   "outputs": [
    {
     "name": "stdout",
     "output_type": "stream",
     "text": [
      "{'b', 'r', 'a', 'c', 'd'}\n",
      "{'l', 'a', 'c', 'z', 'm'}\n",
      "{'a', 'c'}\n",
      "{'a', 'c'}\n",
      "{'b', 'r', 'a', 'c', 'd'}\n",
      "{'a', 'c'}\n"
     ]
    }
   ],
   "source": [
    "a = set('abracadabra')\n",
    "b = set('alacazam')\n",
    "print(a)  # {'r', 'a', 'c', 'b', 'd'}\n",
    "print(b)  # {'c', 'a', 'l', 'm', 'z'}\n",
    "\n",
    "c = a.intersection(b)\n",
    "print(c)  # {'a', 'c'}\n",
    "print(a & b)  # {'c', 'a'}\n",
    "print(a)  # {'a', 'r', 'c', 'b', 'd'}\n",
    "\n",
    "a.intersection_update(b)\n",
    "print(a)  # {'a', 'c'}"
   ]
  },
  {
   "cell_type": "markdown",
   "metadata": {},
   "source": [
    "- `set.union(set1, set2)` 返回两个集合的并集。\n",
    "- `set1 | set2` 返回两个集合的并集。\n",
    "\n",
    "【例子】"
   ]
  },
  {
   "cell_type": "code",
   "execution_count": 68,
   "metadata": {},
   "outputs": [
    {
     "name": "stdout",
     "output_type": "stream",
     "text": [
      "{'b', 'r', 'a', 'c', 'd'}\n",
      "{'l', 'a', 'c', 'z', 'm'}\n",
      "{'l', 'b', 'r', 'a', 'c', 'z', 'd', 'm'}\n",
      "{'l', 'b', 'r', 'a', 'c', 'z', 'd', 'm'}\n"
     ]
    }
   ],
   "source": [
    "a = set('abracadabra')\n",
    "b = set('alacazam')\n",
    "print(a)  # {'r', 'a', 'c', 'b', 'd'}\n",
    "print(b)  # {'c', 'a', 'l', 'm', 'z'}\n",
    "\n",
    "print(a | b)  \n",
    "# {'l', 'd', 'm', 'b', 'a', 'r', 'z', 'c'}\n",
    "\n",
    "c = a.union(b)\n",
    "print(c)  \n",
    "# {'c', 'a', 'd', 'm', 'r', 'b', 'z', 'l'}"
   ]
  },
  {
   "cell_type": "markdown",
   "metadata": {},
   "source": [
    "\n",
    "- `set.difference(set)` 返回集合的差集。\n",
    "- `set1 - set2` 返回集合的差集。\n",
    "- `set.difference_update(set)` 集合的差集，直接在原来的集合中移除元素，没有返回值。\n",
    "\n",
    "【例子】"
   ]
  },
  {
   "cell_type": "code",
   "execution_count": 69,
   "metadata": {},
   "outputs": [
    {
     "name": "stdout",
     "output_type": "stream",
     "text": [
      "{'b', 'r', 'a', 'c', 'd'}\n",
      "{'l', 'a', 'c', 'z', 'm'}\n",
      "{'d', 'b', 'r'}\n",
      "{'d', 'b', 'r'}\n",
      "{'b', 'r', 'a', 'c', 'd'}\n",
      "{'b', 'r', 'd'}\n"
     ]
    }
   ],
   "source": [
    "a = set('abracadabra')\n",
    "b = set('alacazam')\n",
    "print(a)  # {'r', 'a', 'c', 'b', 'd'}\n",
    "print(b)  # {'c', 'a', 'l', 'm', 'z'}\n",
    "\n",
    "c = a.difference(b)\n",
    "print(c)  # {'b', 'd', 'r'}\n",
    "print(a - b)  # {'d', 'b', 'r'}\n",
    "\n",
    "print(a)  # {'r', 'd', 'c', 'a', 'b'}\n",
    "a.difference_update(b)\n",
    "print(a)  # {'d', 'r', 'b'}"
   ]
  },
  {
   "cell_type": "markdown",
   "metadata": {},
   "source": [
    "\n",
    "\n",
    "- `set.symmetric_difference(set)`返回集合的异或。\n",
    "- `set1 ^ set2` 返回集合的异或。\n",
    "- `set.symmetric_difference_update(set)`移除当前集合中在另外一个指定集合相同的元素，并将另外一个指定集合中不同的元素插入到当前集合中。\n",
    "\n",
    "【例子】"
   ]
  },
  {
   "cell_type": "code",
   "execution_count": 70,
   "metadata": {},
   "outputs": [
    {
     "name": "stdout",
     "output_type": "stream",
     "text": [
      "{'b', 'r', 'a', 'c', 'd'}\n",
      "{'l', 'a', 'c', 'z', 'm'}\n",
      "{'l', 'b', 'z', 'r', 'd', 'm'}\n",
      "{'l', 'b', 'z', 'r', 'd', 'm'}\n",
      "{'b', 'r', 'a', 'c', 'd'}\n",
      "{'l', 'b', 'r', 'z', 'd', 'm'}\n"
     ]
    }
   ],
   "source": [
    "a = set('abracadabra')\n",
    "b = set('alacazam')\n",
    "print(a)  # {'r', 'a', 'c', 'b', 'd'}\n",
    "print(b)  # {'c', 'a', 'l', 'm', 'z'}\n",
    "\n",
    "c = a.symmetric_difference(b)\n",
    "print(c)  # {'m', 'r', 'l', 'b', 'z', 'd'}\n",
    "print(a ^ b)  # {'m', 'r', 'l', 'b', 'z', 'd'}\n",
    "\n",
    "print(a)  # {'r', 'd', 'c', 'a', 'b'}\n",
    "a.symmetric_difference_update(b)\n",
    "print(a)  # {'r', 'b', 'm', 'l', 'z', 'd'}"
   ]
  },
  {
   "cell_type": "markdown",
   "metadata": {},
   "source": [
    "\n",
    "- `set.issubset(set)`判断集合是不是被其他集合包含，如果是则返回 True，否则返回 False。\n",
    "- `set1 <= set2` 判断集合是不是被其他集合包含，如果是则返回 True，否则返回 False。\n",
    "\n",
    "【例子】"
   ]
  },
  {
   "cell_type": "code",
   "execution_count": 71,
   "metadata": {},
   "outputs": [
    {
     "name": "stdout",
     "output_type": "stream",
     "text": [
      "True\n",
      "True\n",
      "False\n",
      "False\n"
     ]
    }
   ],
   "source": [
    "x = {\"a\", \"b\", \"c\"}\n",
    "y = {\"f\", \"e\", \"d\", \"c\", \"b\", \"a\"}\n",
    "z = x.issubset(y)\n",
    "print(z)  # True\n",
    "print(x <= y)  # True\n",
    "\n",
    "x = {\"a\", \"b\", \"c\"}\n",
    "y = {\"f\", \"e\", \"d\", \"c\", \"b\"}\n",
    "z = x.issubset(y)\n",
    "print(z)  # False\n",
    "print(x <= y)  # False"
   ]
  },
  {
   "cell_type": "markdown",
   "metadata": {},
   "source": [
    "\n",
    "- `set.issuperset(set)`用于判断集合是不是包含其他集合，如果是则返回 True，否则返回 False。\n",
    "- `set1 >= set2` 判断集合是不是包含其他集合，如果是则返回 True，否则返回 False。\n",
    "\n",
    "【例子】"
   ]
  },
  {
   "cell_type": "code",
   "execution_count": 72,
   "metadata": {},
   "outputs": [
    {
     "name": "stdout",
     "output_type": "stream",
     "text": [
      "True\n",
      "True\n",
      "False\n",
      "False\n"
     ]
    }
   ],
   "source": [
    "x = {\"f\", \"e\", \"d\", \"c\", \"b\", \"a\"}\n",
    "y = {\"a\", \"b\", \"c\"}\n",
    "z = x.issuperset(y)\n",
    "print(z)  # True\n",
    "print(x >= y)  # True\n",
    "\n",
    "x = {\"f\", \"e\", \"d\", \"c\", \"b\"}\n",
    "y = {\"a\", \"b\", \"c\"}\n",
    "z = x.issuperset(y)\n",
    "print(z)  # False\n",
    "print(x >= y)  # False"
   ]
  },
  {
   "cell_type": "markdown",
   "metadata": {},
   "source": [
    "- `set.isdisjoint(set)` 用于判断两个集合是不是不相交，如果是返回 True，否则返回 False。\n",
    "\n",
    "【例子】"
   ]
  },
  {
   "cell_type": "code",
   "execution_count": 73,
   "metadata": {},
   "outputs": [
    {
     "name": "stdout",
     "output_type": "stream",
     "text": [
      "False\n",
      "True\n"
     ]
    }
   ],
   "source": [
    "x = {\"f\", \"e\", \"d\", \"c\", \"b\"}\n",
    "y = {\"a\", \"b\", \"c\"}\n",
    "z = x.isdisjoint(y)\n",
    "print(z)  # False\n",
    "\n",
    "x = {\"f\", \"e\", \"d\", \"m\", \"g\"}\n",
    "y = {\"a\", \"b\", \"c\"}\n",
    "z = x.isdisjoint(y)\n",
    "print(z)  # True"
   ]
  },
  {
   "cell_type": "markdown",
   "metadata": {},
   "source": [
    "## 4. 集合的转换\n",
    "\n",
    "【例子】"
   ]
  },
  {
   "cell_type": "code",
   "execution_count": 74,
   "metadata": {},
   "outputs": [
    {
     "name": "stdout",
     "output_type": "stream",
     "text": [
      "{0, 1, 2, 3} <class 'set'>\n",
      "[0, 1, 2, 3] <class 'list'>\n",
      "(0, 1, 2, 3) <class 'tuple'>\n"
     ]
    }
   ],
   "source": [
    "se = set(range(4))\n",
    "li = list(se)\n",
    "tu = tuple(se)\n",
    "\n",
    "print(se, type(se))  # {0, 1, 2, 3} <class 'set'>\n",
    "print(li, type(li))  # [0, 1, 2, 3] <class 'list'>\n",
    "print(tu, type(tu))  # (0, 1, 2, 3) <class 'tuple'>"
   ]
  },
  {
   "cell_type": "markdown",
   "metadata": {},
   "source": [
    "## 5. 不可变集合\n",
    "\n",
    "Python 提供了不能改变元素的集合的实现版本，即不能增加或删除元素，类型名叫`frozenset`。需要注意的是`frozenset`仍然可以进行集合操作，只是不能用带有`update`的方法。\n",
    "\n",
    "- `frozenset([iterable])` 返回一个冻结的集合，冻结后集合不能再添加或删除任何元素。\n",
    "\n",
    "【例子】"
   ]
  },
  {
   "cell_type": "code",
   "execution_count": 75,
   "metadata": {},
   "outputs": [
    {
     "name": "stdout",
     "output_type": "stream",
     "text": [
      "frozenset({0, 1, 2, 3, 4, 5, 6, 7, 8, 9})\n",
      "frozenset({'l', 'g', 'r', 'u', 'o', 's', 'p'})\n"
     ]
    }
   ],
   "source": [
    "a = frozenset(range(10))  # 生成一个新的不可变集合\n",
    "print(a)  \n",
    "# frozenset({0, 1, 2, 3, 4, 5, 6, 7, 8, 9})\n",
    "\n",
    "b = frozenset('lsgogroup')\n",
    "print(b)  \n",
    "# frozenset({'g', 's', 'p', 'r', 'u', 'o', 'l'})"
   ]
  },
  {
   "cell_type": "markdown",
   "metadata": {},
   "source": [
    "# 序列\n",
    "\n",
    "在 Python 中，序列类型包括字符串、列表、元组、集合和字典，这些序列支持一些通用的操作，但比较特殊的是，集合和字典不支持索引、切片、相加和相乘操作。\n",
    "\n",
    "## 1. 针对序列的内置函数\n",
    "\n",
    "- `list(sub)` 把一个可迭代对象转换为列表。\n",
    "\n",
    "【例子】"
   ]
  },
  {
   "cell_type": "code",
   "execution_count": 76,
   "metadata": {},
   "outputs": [
    {
     "name": "stdout",
     "output_type": "stream",
     "text": [
      "[]\n",
      "['I', ' ', 'L', 'o', 'v', 'e', ' ', 'L', 's', 'g', 'o', 'G', 'r', 'o', 'u', 'p']\n",
      "[1, 1, 2, 3, 5, 8]\n"
     ]
    }
   ],
   "source": [
    "a = list()\n",
    "print(a)  # []\n",
    "\n",
    "b = 'I Love LsgoGroup'\n",
    "b = list(b)\n",
    "print(b)  \n",
    "# ['I', ' ', 'L', 'o', 'v', 'e', ' ', 'L', 's', 'g', 'o', 'G', 'r', 'o', 'u', 'p']\n",
    "\n",
    "c = (1, 1, 2, 3, 5, 8)\n",
    "c = list(c)\n",
    "print(c)  # [1, 1, 2, 3, 5, 8]"
   ]
  },
  {
   "cell_type": "markdown",
   "metadata": {},
   "source": [
    "\n",
    "\n",
    "- `tuple(sub)` 把一个可迭代对象转换为元组。\n",
    "\n",
    "【例子】"
   ]
  },
  {
   "cell_type": "code",
   "execution_count": 77,
   "metadata": {},
   "outputs": [
    {
     "name": "stdout",
     "output_type": "stream",
     "text": [
      "()\n",
      "('I', ' ', 'L', 'o', 'v', 'e', ' ', 'L', 's', 'g', 'o', 'G', 'r', 'o', 'u', 'p')\n",
      "(1, 1, 2, 3, 5, 8)\n"
     ]
    }
   ],
   "source": [
    "a = tuple()\n",
    "print(a)  # ()\n",
    "\n",
    "b = 'I Love LsgoGroup'\n",
    "b = tuple(b)\n",
    "print(b)  \n",
    "# ('I', ' ', 'L', 'o', 'v', 'e', ' ', 'L', 's', 'g', 'o', 'G', 'r', 'o', 'u', 'p')\n",
    "\n",
    "c = [1, 1, 2, 3, 5, 8]\n",
    "c = tuple(c)\n",
    "print(c)  # (1, 1, 2, 3, 5, 8)"
   ]
  },
  {
   "cell_type": "markdown",
   "metadata": {},
   "source": [
    "\n",
    "- `str(obj)` 把obj对象转换为字符串\n",
    "\n",
    "【例子】"
   ]
  },
  {
   "cell_type": "code",
   "execution_count": 78,
   "metadata": {},
   "outputs": [
    {
     "name": "stdout",
     "output_type": "stream",
     "text": [
      "123\n"
     ]
    }
   ],
   "source": [
    "a = 123\n",
    "a = str(a)\n",
    "print(a)  # 123"
   ]
  },
  {
   "cell_type": "markdown",
   "metadata": {},
   "source": [
    "\n",
    "- `len(s)` 返回对象（字符、列表、元组等）长度或元素个数。\n",
    "    - `s` -- 对象。\n",
    "\n",
    "【例子】"
   ]
  },
  {
   "cell_type": "code",
   "execution_count": 79,
   "metadata": {},
   "outputs": [
    {
     "name": "stdout",
     "output_type": "stream",
     "text": [
      "0\n",
      "16\n",
      "16\n"
     ]
    }
   ],
   "source": [
    "a = list()\n",
    "print(len(a))  # 0\n",
    "\n",
    "b = ('I', ' ', 'L', 'o', 'v', 'e', ' ', 'L', 's', 'g', 'o', 'G', 'r', 'o', 'u', 'p')\n",
    "print(len(b))  # 16\n",
    "\n",
    "c = 'I Love LsgoGroup'\n",
    "print(len(c))  # 16"
   ]
  },
  {
   "cell_type": "markdown",
   "metadata": {},
   "source": [
    "\n",
    "- `max(sub)`返回序列或者参数集合中的最大值\n",
    "\n",
    "【例子】"
   ]
  },
  {
   "cell_type": "code",
   "execution_count": 80,
   "metadata": {},
   "outputs": [
    {
     "name": "stdout",
     "output_type": "stream",
     "text": [
      "5\n",
      "99\n",
      "v\n"
     ]
    }
   ],
   "source": [
    "print(max(1, 2, 3, 4, 5))  # 5\n",
    "print(max([-8, 99, 3, 7, 83]))  # 99\n",
    "print(max('IloveLsgoGroup'))  # v"
   ]
  },
  {
   "cell_type": "markdown",
   "metadata": {},
   "source": [
    "\n",
    "\n",
    "- `min(sub)`返回序列或参数集合中的最小值\n",
    "\n",
    "【例子】"
   ]
  },
  {
   "cell_type": "code",
   "execution_count": 81,
   "metadata": {},
   "outputs": [
    {
     "name": "stdout",
     "output_type": "stream",
     "text": [
      "1\n",
      "-8\n",
      "G\n"
     ]
    }
   ],
   "source": [
    "print(min(1, 2, 3, 4, 5))  # 1\n",
    "print(min([-8, 99, 3, 7, 83]))  # -8\n",
    "print(min('IloveLsgoGroup'))  # G"
   ]
  },
  {
   "cell_type": "markdown",
   "metadata": {},
   "source": [
    "\n",
    "- `sum(iterable[, start=0])` 返回序列`iterable`与可选参数`start`的总和。\n",
    "\n",
    "【例子】"
   ]
  },
  {
   "cell_type": "code",
   "execution_count": 82,
   "metadata": {},
   "outputs": [
    {
     "name": "stdout",
     "output_type": "stream",
     "text": [
      "25\n",
      "35\n",
      "25\n",
      "45\n"
     ]
    }
   ],
   "source": [
    "print(sum([1, 3, 5, 7, 9]))  # 25\n",
    "print(sum([1, 3, 5, 7, 9], 10))  # 35\n",
    "print(sum((1, 3, 5, 7, 9)))  # 25\n",
    "print(sum((1, 3, 5, 7, 9), 20))  # 45"
   ]
  },
  {
   "cell_type": "markdown",
   "metadata": {},
   "source": [
    "\n",
    "\n",
    "- `sorted(iterable, key=None, reverse=False) ` 对所有可迭代的对象进行排序操作。\n",
    "    - `iterable` -- 可迭代对象。\n",
    "    - `key` -- 主要是用来进行比较的元素，只有一个参数，具体的函数的参数就是取自于可迭代对象中，指定可迭代对象中的一个元素来进行排序。\n",
    "    - `reverse` -- 排序规则，`reverse = True` 降序 ， `reverse = False` 升序（默认）。\n",
    "    - 返回重新排序的列表。\n",
    "\n",
    "【例子】"
   ]
  },
  {
   "cell_type": "code",
   "execution_count": 83,
   "metadata": {},
   "outputs": [
    {
     "name": "stdout",
     "output_type": "stream",
     "text": [
      "[-8, 3, 7, 83, 99]\n",
      "[99, 83, 7, 3, -8]\n",
      "[{'age': 10, 'name': 'c'}, {'age': 20, 'name': 'a'}, {'age': 25, 'name': 'b'}]\n"
     ]
    }
   ],
   "source": [
    "x = [-8, 99, 3, 7, 83]\n",
    "print(sorted(x))  # [-8, 3, 7, 83, 99]\n",
    "print(sorted(x, reverse=True))  # [99, 83, 7, 3, -8]\n",
    "\n",
    "t = ({\"age\": 20, \"name\": \"a\"}, {\"age\": 25, \"name\": \"b\"}, {\"age\": 10, \"name\": \"c\"})\n",
    "x = sorted(t, key=lambda a: a[\"age\"])\n",
    "print(x)\n",
    "# [{'age': 10, 'name': 'c'}, {'age': 20, 'name': 'a'}, {'age': 25, 'name': 'b'}]"
   ]
  },
  {
   "cell_type": "markdown",
   "metadata": {},
   "source": [
    "\n",
    "\n",
    "- `reversed(seq)` 函数返回一个反转的迭代器。\n",
    "    - `seq` -- 要转换的序列，可以是 tuple, string, list 或 range。\n",
    "\n",
    "【例子】"
   ]
  },
  {
   "cell_type": "code",
   "execution_count": 84,
   "metadata": {},
   "outputs": [
    {
     "name": "stdout",
     "output_type": "stream",
     "text": [
      "<class 'reversed'>\n",
      "<reversed object at 0x000001F0517DFD68>\n",
      "['p', 'u', 'o', 'r', 'g', 'o', 'g', 's', 'l']\n",
      "['p', 'u', 'o', 'r', 'g', 'o', 'g', 's', 'l']\n",
      "[8, 7, 6, 5]\n",
      "[83, 7, 3, 99, -8]\n"
     ]
    }
   ],
   "source": [
    "s = 'lsgogroup'\n",
    "x = reversed(s)\n",
    "print(type(x))  # <class 'reversed'>\n",
    "print(x)  # <reversed object at 0x000002507E8EC2C8>\n",
    "print(list(x))\n",
    "# ['p', 'u', 'o', 'r', 'g', 'o', 'g', 's', 'l']\n",
    "\n",
    "t = ('l', 's', 'g', 'o', 'g', 'r', 'o', 'u', 'p')\n",
    "print(list(reversed(t)))\n",
    "# ['p', 'u', 'o', 'r', 'g', 'o', 'g', 's', 'l']\n",
    "\n",
    "r = range(5, 9)\n",
    "print(list(reversed(r)))\n",
    "# [8, 7, 6, 5]\n",
    "\n",
    "x = [-8, 99, 3, 7, 83]\n",
    "print(list(reversed(x)))\n",
    "# [83, 7, 3, 99, -8]"
   ]
  },
  {
   "cell_type": "markdown",
   "metadata": {},
   "source": [
    "\n",
    "\n",
    "- `enumerate(sequence, [start=0])`\n",
    "\n",
    "\n",
    "\n",
    "【例子】用于将一个可遍历的数据对象(如列表、元组或字符串)组合为一个索引序列，同时列出数据和数据下标，一般用在 for 循环当中。"
   ]
  },
  {
   "cell_type": "code",
   "execution_count": 85,
   "metadata": {},
   "outputs": [
    {
     "name": "stdout",
     "output_type": "stream",
     "text": [
      "[(0, 'Spring'), (1, 'Summer'), (2, 'Fall'), (3, 'Winter')]\n",
      "[(1, 'Spring'), (2, 'Summer'), (3, 'Fall'), (4, 'Winter')]\n",
      "0,Spring\n",
      "1,Summer\n",
      "2,Fall\n",
      "3,Winter\n"
     ]
    }
   ],
   "source": [
    "seasons = ['Spring', 'Summer', 'Fall', 'Winter']\n",
    "a = list(enumerate(seasons))\n",
    "print(a)  \n",
    "# [(0, 'Spring'), (1, 'Summer'), (2, 'Fall'), (3, 'Winter')]\n",
    "\n",
    "b = list(enumerate(seasons, 1))\n",
    "print(b)  \n",
    "# [(1, 'Spring'), (2, 'Summer'), (3, 'Fall'), (4, 'Winter')]\n",
    "\n",
    "for i, element in a:\n",
    "    print('{0},{1}'.format(i, element))\n",
    "# 0,Spring\n",
    "# 1,Summer\n",
    "# 2,Fall\n",
    "# 3,Winter"
   ]
  },
  {
   "cell_type": "markdown",
   "metadata": {},
   "source": [
    "\n",
    "- `zip(iter1 [,iter2 [...]])`\n",
    "    - 用于将可迭代的对象作为参数，将对象中对应的元素打包成一个个元组，然后返回由这些元组组成的对象，这样做的好处是节约了不少的内存。\n",
    "    - 我们可以使用 `list()` 转换来输出列表。\n",
    "    - 如果各个迭代器的元素个数不一致，则返回列表长度与最短的对象相同，利用 `*` 号操作符，可以将元组解压为列表。\n",
    "\n",
    "【例子】"
   ]
  },
  {
   "cell_type": "code",
   "execution_count": 86,
   "metadata": {},
   "outputs": [
    {
     "name": "stdout",
     "output_type": "stream",
     "text": [
      "<zip object at 0x000001F0517E38C8>\n",
      "[(1, 4), (2, 5), (3, 6)]\n",
      "[(1, 4), (2, 5), (3, 6)]\n",
      "[1, 2, 3]\n",
      "[4, 5, 6]\n"
     ]
    }
   ],
   "source": [
    "a = [1, 2, 3]\n",
    "b = [4, 5, 6]\n",
    "c = [4, 5, 6, 7, 8]\n",
    "\n",
    "zipped = zip(a, b)\n",
    "print(zipped)  # <zip object at 0x000000C5D89EDD88>\n",
    "print(list(zipped))  # [(1, 4), (2, 5), (3, 6)]\n",
    "zipped = zip(a, c)\n",
    "print(list(zipped))  # [(1, 4), (2, 5), (3, 6)]\n",
    "\n",
    "a1, a2 = zip(*zip(a, b))\n",
    "print(list(a1))  # [1, 2, 3]\n",
    "print(list(a2))  # [4, 5, 6]"
   ]
  }
 ],
 "metadata": {
  "kernelspec": {
   "display_name": "Python 3 (ipykernel)",
   "language": "python",
   "name": "python3"
  },
  "language_info": {
   "codemirror_mode": {
    "name": "ipython",
    "version": 3
   },
   "file_extension": ".py",
   "mimetype": "text/x-python",
   "name": "python",
   "nbconvert_exporter": "python",
   "pygments_lexer": "ipython3",
   "version": "3.9.7"
  },
  "latex_envs": {
   "LaTeX_envs_menu_present": true,
   "autoclose": true,
   "autocomplete": true,
   "bibliofile": "biblio.bib",
   "cite_by": "apalike",
   "current_citInitial": 1,
   "eqLabelWithNumbers": true,
   "eqNumInitial": 1,
   "hotkeys": {
    "equation": "Ctrl-E",
    "itemize": "Ctrl-I"
   },
   "labels_anchors": false,
   "latex_user_defs": false,
   "report_style_numbering": false,
   "user_envs_cfg": false
  },
  "toc": {
   "base_numbering": 1,
   "nav_menu": {},
   "number_sections": true,
   "sideBar": true,
   "skip_h1_title": false,
   "title_cell": "Table of Contents",
   "title_sidebar": "Contents",
   "toc_cell": true,
   "toc_position": {
    "height": "calc(100% - 180px)",
    "left": "10px",
    "top": "150px",
    "width": "305.554px"
   },
   "toc_section_display": true,
   "toc_window_display": true
  }
 },
 "nbformat": 4,
 "nbformat_minor": 4
}
