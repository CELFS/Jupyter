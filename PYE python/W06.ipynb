{
 "cells": [
  {
   "cell_type": "markdown",
   "id": "bf594e51",
   "metadata": {},
   "source": [
    "### 人名独特性统计"
   ]
  },
  {
   "cell_type": "code",
   "execution_count": 6,
   "id": "f7b71677",
   "metadata": {},
   "outputs": [
    {
     "name": "stdout",
     "output_type": "stream",
     "text": [
      "36\n"
     ]
    }
   ],
   "source": [
    "s = '''双儿 洪七公 赵敏 赵敏 逍遥子 鳌拜 殷天正 金轮法王 乔峰 杨过 洪七公 郭靖 \n",
    "       杨逍 鳌拜 殷天正 段誉 杨逍 慕容复 阿紫 慕容复 郭芙 乔峰 令狐冲 郭芙 \n",
    "       金轮法王 小龙女 杨过 慕容复 梅超风 李莫愁 洪七公 张无忌 梅超风 杨逍 \n",
    "       鳌拜 岳不群 黄药师 黄蓉 段誉 金轮法王 忽必烈 忽必烈 张三丰 乔峰 乔峰 \n",
    "       阿紫 乔峰 金轮法王 袁冠南 张无忌 郭襄 黄蓉 李莫愁 赵敏 赵敏 郭芙 张三丰 \n",
    "       乔峰 赵敏 梅超风 双儿 鳌拜 陈家洛 袁冠南 郭芙 郭芙 杨逍 赵敏 金轮法王 \n",
    "       忽必烈 慕容复 张三丰 杨逍 令狐冲 黄药师 袁冠南 杨逍 完颜洪烈 殷天正 \n",
    "       李莫愁 阿紫 逍遥子 乔峰 逍遥子 完颜洪烈 郭芙 杨逍 张无忌 杨过 慕容复 \n",
    "       逍遥子 虚竹 双儿 乔峰 郭芙 黄蓉 李莫愁 陈家洛 杨过 忽必烈 鳌拜 王语嫣 \n",
    "       洪七公 韦小宝 阿朱 梅超风 段誉 岳灵珊 完颜洪烈 乔峰 段誉 杨过 杨过 慕容复 \n",
    "       黄蓉 杨过 阿紫 杨逍 张三丰 张三丰 赵敏 张三丰 杨逍 黄蓉 金轮法王 郭襄 \n",
    "       张三丰 令狐冲 郭芙 韦小宝 黄药师 阿紫 韦小宝 金轮法王 杨逍 令狐冲 阿紫 \n",
    "       洪七公 袁冠南 双儿 郭靖 鳌拜 谢逊 阿紫 郭襄 梅超风 张无忌 段誉 忽必烈 \n",
    "       完颜洪烈 双儿 逍遥子 谢逊 完颜洪烈 殷天正 金轮法王 张三丰 双儿 郭襄 阿朱 \n",
    "       郭襄 双儿 李莫愁 郭襄 忽必烈 金轮法王 张无忌 鳌拜 忽必烈 郭襄 令狐冲 \n",
    "       谢逊 梅超风 殷天正 段誉 袁冠南 张三丰 王语嫣 阿紫 谢逊 杨过 郭靖 黄蓉 \n",
    "       双儿 灭绝师太 段誉 张无忌 陈家洛 黄蓉 鳌拜 黄药师 逍遥子 忽必烈 赵敏 \n",
    "       逍遥子 完颜洪烈 金轮法王 双儿 鳌拜 洪七公 郭芙 郭襄'''\n",
    "\n",
    "uniqe = s.split()  \n",
    "uniqe = set(uniqe)\n",
    "print(len(uniqe))"
   ]
  },
  {
   "cell_type": "markdown",
   "id": "f4881407",
   "metadata": {},
   "source": [
    "### 字典翻转输出"
   ]
  },
  {
   "cell_type": "code",
   "execution_count": 47,
   "id": "6764d36e",
   "metadata": {},
   "outputs": [
    {
     "name": "stdout",
     "output_type": "stream",
     "text": [
      "{1:'a', 2:'b', -100:'c', -200:'值'}\n",
      "{\"'a'\": '', \"'b'\": '', \"'c'\": '10', \"'值'\": '20'}\n"
     ]
    }
   ],
   "source": [
    "# 一种拆东墙补西墙的垃圾做法\n",
    "d0 = input()\n",
    "if ':' not in d0:\n",
    "    cnt = 1\n",
    "    print('输入错误')\n",
    "\n",
    "d0 = d0[1:-1].split(',')\n",
    "d1 = {}\n",
    "cnt = 0\n",
    "\n",
    "for i in d0:\n",
    "    if cnt != 1:\n",
    "        i = i.strip()\n",
    "        j = i.split(':')\n",
    "        j[0] = j[0].replace('\"', '\\'')\n",
    "        j[1] = j[1].strip()\n",
    "        d1[j[1]] = j[0][1:-1]\n",
    "    else:\n",
    "        break\n",
    "\n",
    "if cnt != 1:\n",
    "    print(d1)\n",
    "else:\n",
    "    pass"
   ]
  },
  {
   "cell_type": "code",
   "execution_count": 57,
   "id": "4bd7aa22",
   "metadata": {
    "collapsed": true
   },
   "outputs": [
    {
     "name": "stdout",
     "output_type": "stream",
     "text": [
      "<class 'dict'>\n"
     ]
    },
    {
     "ename": "SyntaxError",
     "evalue": "invalid syntax (<string>, line 1)",
     "output_type": "error",
     "traceback": [
      "Traceback \u001b[1;36m(most recent call last)\u001b[0m:\n",
      "  File \u001b[0;32mD:\\conda\\envs\\py397\\lib\\site-packages\\IPython\\core\\interactiveshell.py:3369\u001b[0m in \u001b[0;35mrun_code\u001b[0m\n    exec(code_obj, self.user_global_ns, self.user_ns)\n",
      "\u001b[1;36m  Input \u001b[1;32mIn [57]\u001b[1;36m in \u001b[1;35m<cell line: 2>\u001b[1;36m\u001b[0m\n\u001b[1;33m    dic0 = eval(input())\u001b[0m\n",
      "\u001b[1;36m  File \u001b[1;32m<string>:1\u001b[1;36m\u001b[0m\n\u001b[1;33m    <class 'dict'>\u001b[0m\n\u001b[1;37m    ^\u001b[0m\n\u001b[1;31mSyntaxError\u001b[0m\u001b[1;31m:\u001b[0m invalid syntax\n"
     ]
    }
   ],
   "source": [
    "# 找到了获取内容的方法，eval() 真强大！\n",
    "dic0 = eval(input())\n",
    "dic1 = {}\n",
    "err = 0\n",
    "\n",
    "for i in dic0:\n",
    "    if str(type(dic0)) == \"<class 'dict'>\": # 这里判断类型有点奇葩\n",
    "        dic1[dic0.get(i)] = i\n",
    "    else:\n",
    "        err = 1\n",
    "        print(\"输入有误\")\n",
    "        break\n",
    "        \n",
    "if err == 0:\n",
    "    print(dic1)\n",
    "else:\n",
    "    pass"
   ]
  },
  {
   "cell_type": "code",
   "execution_count": 58,
   "id": "6822af37",
   "metadata": {},
   "outputs": [
    {
     "name": "stdout",
     "output_type": "stream",
     "text": [
      "11\n",
      "输入有误\n"
     ]
    }
   ],
   "source": [
    "dic0 = eval(input())\n",
    "dic1 = {}\n",
    "\n",
    "try: # 其实根本不用判断类型\n",
    "    for i in dic0:\n",
    "        dic1[dic0.get(i)] = i # 可以不用 get 方法\n",
    "        \n",
    "    print(dic1)\n",
    "except:\n",
    "    print(\"输入错误\")"
   ]
  },
  {
   "cell_type": "code",
   "execution_count": null,
   "id": "c71ede65",
   "metadata": {},
   "outputs": [],
   "source": [
    "# 参考答案\n",
    "s = input()\n",
    "try:\n",
    "    d = eval(s)\n",
    "    e = {}\n",
    "    for k in d:\n",
    "        e[d[k]] = k # 直接键访问\n",
    "    print(e)\n",
    "except:\n",
    "    print(\"输入错误\")"
   ]
  },
  {
   "cell_type": "markdown",
   "id": "e24bb0b7",
   "metadata": {},
   "source": [
    "### 基本统计值计算"
   ]
  },
  {
   "cell_type": "code",
   "execution_count": 12,
   "id": "fffa8877",
   "metadata": {},
   "outputs": [
    {
     "name": "stdout",
     "output_type": "stream",
     "text": [
      "1 , 3 , 6 , 9 , 2 , 5 , 1\n",
      "平均值:3.86,标准差:2.97,中位数:3\n"
     ]
    }
   ],
   "source": [
    "#请在...补充一行或多行代码\n",
    "#CalStatisticsV1.py\n",
    "def getNum():       #获取用户不定长度的输入\n",
    "    numbers = eval(input())\n",
    "    return numbers\n",
    "\n",
    "def mean(numbers):  #计算平均值\n",
    "    sumup = 0.0\n",
    "    for i in numbers:\n",
    "        sumup = sumup + i\n",
    "    average = sumup / len(numbers)\n",
    "    return average\n",
    "    \n",
    "def dev(numbers, mean): #计算标准差\n",
    "    sdev = 0.0\n",
    "    for num in numbers:\n",
    "        sdev = sdev + (num - mean)**2\n",
    "    return pow(sdev / (len(numbers)-1), 0.5)\n",
    "\n",
    "def median(numbers):    #计算中位数\n",
    "#     numbers = sorted(numbers)\n",
    "    numbers.sort()\n",
    "    size = len(numbers)\n",
    "    if size % 2 == 0:\n",
    "        midNum = (numbers[size // 2 - 1] + numbers[size // 2]) / 2\n",
    "    else:\n",
    "        midNum = numbers[size // 2] # from Zero\n",
    "    return midNum\n",
    "    \n",
    "n =  getNum() #主体函数\n",
    "m =  mean(n)\n",
    "print(\"平均值:{:.2f},标准差:{:.2f},中位数:{}\".format(m, dev(n, m), median(n)))"
   ]
  },
  {
   "cell_type": "markdown",
   "id": "c7ab8623",
   "metadata": {},
   "source": [
    "### 文本词频统计——Hamlet"
   ]
  },
  {
   "cell_type": "code",
   "execution_count": null,
   "id": "48914bd6",
   "metadata": {},
   "outputs": [],
   "source": [
    "# 参考答案 【这里面有很多东西要学】\n",
    "def getText():\n",
    "    txt = open(\"hamlet.txt\", \"r\").read()\n",
    "    txt = txt.lower()\n",
    "    for ch in '!\"#$%&()*+,-./:;<=>?@[\\\\]^_‘{|}~':\n",
    "        txt = txt.replace(ch, \" \")   #将文本中特殊字符替换为空格\n",
    "    return txt\n",
    "\n",
    "hamletTxt = getText()\n",
    "words  = hamletTxt.split()\n",
    "counts = {}\n",
    "for word in words:\n",
    "    counts[word] = counts.get(word,0) + 1\n",
    "items = list(counts.items())\n",
    "items.sort(key=lambda x:x[1], reverse=True) \n",
    "for i in range(10):\n",
    "    word, count = items[i]\n",
    "    # print (\"{0:<10}{1:>5}\".format(word, count))  输出出现最多的10个单词和其出现次数\n"
   ]
  },
  {
   "cell_type": "markdown",
   "id": "eeb93c2b",
   "metadata": {},
   "source": [
    "### 《沉默的羔羊》之最多单词"
   ]
  },
  {
   "cell_type": "code",
   "execution_count": null,
   "id": "d1c91dc3",
   "metadata": {},
   "outputs": [],
   "source": [
    "# 参考答案 【虽然很简单，但有点头痛，暂时跳过吧】\n",
    "import jieba\n",
    "\n",
    "f = open(\"沉默的羔羊.txt\", encoding='utf-8')\n",
    "ls = jieba.lcut(f.read())\n",
    "d = {}\n",
    "\n",
    "for w in ls:\n",
    "    if len(w) >= 2:\n",
    "        d[w] = d.get(w, 0) + 1\n",
    "\n",
    "maxc = 0\n",
    "maxw = \"\"\n",
    "\n",
    "for k in d:\n",
    "    if d[k] > maxc :\n",
    "        maxc = d[k]\n",
    "        maxw = k\n",
    "    elif d[k] == maxc and k > maxw:\n",
    "        maxw = k\n",
    "\n",
    "print(maxw)\n",
    "\n",
    "f.close()"
   ]
  }
 ],
 "metadata": {
  "kernelspec": {
   "display_name": "Python 3 (ipykernel)",
   "language": "python",
   "name": "python3"
  },
  "language_info": {
   "codemirror_mode": {
    "name": "ipython",
    "version": 3
   },
   "file_extension": ".py",
   "mimetype": "text/x-python",
   "name": "python",
   "nbconvert_exporter": "python",
   "pygments_lexer": "ipython3",
   "version": "3.9.7"
  },
  "toc": {
   "base_numbering": 1,
   "nav_menu": {},
   "number_sections": true,
   "sideBar": true,
   "skip_h1_title": false,
   "title_cell": "Table of Contents",
   "title_sidebar": "Contents",
   "toc_cell": false,
   "toc_position": {},
   "toc_section_display": true,
   "toc_window_display": false
  }
 },
 "nbformat": 4,
 "nbformat_minor": 5
}
