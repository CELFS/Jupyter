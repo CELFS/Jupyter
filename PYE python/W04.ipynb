{
 "cells": [
  {
   "cell_type": "markdown",
   "id": "fc9e2519",
   "metadata": {},
   "source": [
    "### 身体质量指数 BMI"
   ]
  },
  {
   "cell_type": "code",
   "execution_count": 1,
   "id": "f9e9aa50",
   "metadata": {},
   "outputs": [
    {
     "name": "stdout",
     "output_type": "stream",
     "text": [
      "1.72 , 80\n",
      "BMI数值为:27.04\n",
      "BMI指标为:国际'偏胖',国内'偏胖'\n"
     ]
    }
   ],
   "source": [
    "h, w = map(float, input().split(','))\n",
    "BMI = w / (h ** 2)\n",
    "print('BMI数值为:{:.2f}'.format(BMI))\n",
    "\n",
    "inter, local = \"\", \"\"\n",
    "judge = ['偏瘦', '正常', '偏胖', '肥胖']\n",
    "\n",
    "if BMI < 18.5:\n",
    "    inter = local = judge[0]\n",
    "elif 18.5 <= BMI < 24:\n",
    "    inter = local = judge[1]\n",
    "elif 24 <= BMI < 25:\n",
    "    inter = judge[1]\n",
    "    local = judge[2]\n",
    "elif 25 <= BMI < 28:\n",
    "    inter = local = judge[2]\n",
    "elif 28 <= BMI <30:\n",
    "    inter = judge[2]\n",
    "    local = judge[3]\n",
    "else:\n",
    "    inter = local = judge[3]\n",
    "    \n",
    "print(\"BMI指标为:国际'{0}',国内'{1}'\".format(inter, local))"
   ]
  },
  {
   "cell_type": "code",
   "execution_count": null,
   "id": "c799323c",
   "metadata": {},
   "outputs": [],
   "source": [
    "# 参考答案\n",
    "height, weight = eval(input())\n",
    "bmi = weight / pow(height, 2)\n",
    "print(\"BMI数值为:{:.2f}\".format(bmi))\n",
    "who, nat = \"\", \"\"\n",
    "if bmi < 18.5:\n",
    "    who, nat = \"偏瘦\", \"偏瘦\"\n",
    "elif 18.5 <= bmi < 24:\n",
    "    who, nat = \"正常\", \"正常\"\n",
    "elif 24 <= bmi < 25:\n",
    "    who, nat = \"正常\", \"偏胖\"\n",
    "elif 25 <= bmi < 28:\n",
    "    who, nat = \"偏胖\", \"偏胖\"\n",
    "elif 28 <= bmi < 30:\n",
    "    who, nat = \"偏胖\", \"肥胖\"\n",
    "else:\n",
    "    who, nat = \"肥胖\", \"肥胖\"\n",
    "print(\"BMI指标为:国际'{0}',国内'{1}'\".format(who, nat))"
   ]
  },
  {
   "cell_type": "markdown",
   "id": "9715ac09",
   "metadata": {},
   "source": [
    "### 圆周率的计算"
   ]
  },
  {
   "cell_type": "code",
   "execution_count": 14,
   "id": "4494961c",
   "metadata": {},
   "outputs": [
    {
     "name": "stdout",
     "output_type": "stream",
     "text": [
      "1024\n",
      "3.145308\n"
     ]
    }
   ],
   "source": [
    "import random\n",
    "from time import perf_counter\n",
    "\n",
    "n = int(input())\n",
    "\n",
    "random.seed(123)\n",
    "DARTS = n * n\n",
    "hits = 0.0\n",
    "start = perf_counter()\n",
    "\n",
    "for i in range(1, DARTS + 1):\n",
    "    x, y = random.random(), random.random()\n",
    "    dist = pow(x ** 2 + y ** 2, 0.5)\n",
    "    if dist <= 1.0:\n",
    "        hits = hits + 1\n",
    "\n",
    "pi = 4 * (hits / DARTS) # why by 4 ?\n",
    "\n",
    "print(\"{:.6f}\".format(pi))\n",
    "# print(\"圆周率是:{}\".format(pi))\n",
    "# print(\"运行时间是:{:.5f}s\".format(perf_counter() - start))"
   ]
  },
  {
   "cell_type": "code",
   "execution_count": 17,
   "id": "3793129d",
   "metadata": {
    "scrolled": true
   },
   "outputs": [
    {
     "name": "stdout",
     "output_type": "stream",
     "text": [
      "1024\n",
      "3.218750\n"
     ]
    }
   ],
   "source": [
    "# 参考答案\n",
    "from random import random, seed\n",
    "\n",
    "DARTS = eval(input()) # 这里对象搞错了\n",
    "seed(123)\n",
    "hits = 0.0\n",
    "for i in range(DARTS):\n",
    "    x, y = random(), random()\n",
    "    dist = pow(x ** 2 + y ** 2, 0.5)\n",
    "    if dist <= 1.0:\n",
    "        hits = hits + 1\n",
    "pi = 4 * (hits/DARTS)\n",
    "print(\"{:.6f}\".format(pi))"
   ]
  },
  {
   "cell_type": "markdown",
   "id": "dd392659",
   "metadata": {},
   "source": [
    "### 整数的加减和"
   ]
  },
  {
   "cell_type": "code",
   "execution_count": 18,
   "id": "388e81ca",
   "metadata": {},
   "outputs": [
    {
     "name": "stdout",
     "output_type": "stream",
     "text": [
      "-483\n"
     ]
    }
   ],
   "source": [
    "a, b = 1, 2\n",
    "res = 0\n",
    "while b <= 966:\n",
    "    res = res + a - b\n",
    "    a, b = a + 2, b + 2\n",
    "\n",
    "print(res)"
   ]
  },
  {
   "cell_type": "code",
   "execution_count": 19,
   "id": "ff147e3d",
   "metadata": {},
   "outputs": [
    {
     "name": "stdout",
     "output_type": "stream",
     "text": [
      "-483\n"
     ]
    }
   ],
   "source": [
    "# 参考答案\n",
    "s = 0\n",
    "count = 1\n",
    "while count <=966:\n",
    "    if count%2 == 0:\n",
    "        s -= count\n",
    "    else:\n",
    "        s += count\n",
    "    count += 1\n",
    "print(s)"
   ]
  },
  {
   "cell_type": "markdown",
   "id": "6ff22383",
   "metadata": {},
   "source": [
    "### 三位水仙花数"
   ]
  },
  {
   "cell_type": "code",
   "execution_count": 22,
   "id": "99702fc1",
   "metadata": {
    "scrolled": false
   },
   "outputs": [
    {
     "name": "stdout",
     "output_type": "stream",
     "text": [
      "3\n",
      "2\n",
      "1\n"
     ]
    }
   ],
   "source": [
    "print(321 // 100)\n",
    "print(321 // 10 % 10)\n",
    "print(321 % 10)"
   ]
  },
  {
   "cell_type": "code",
   "execution_count": 33,
   "id": "064d3a6f",
   "metadata": {},
   "outputs": [
    {
     "name": "stdout",
     "output_type": "stream",
     "text": [
      "153,370,371,407\n"
     ]
    }
   ],
   "source": [
    "arr = \"\"\n",
    "for i in range(100, 1000):\n",
    "    A = i // 100\n",
    "    B = i // 10 % 10\n",
    "    C = i % 10\n",
    "    if pow(A, 3) + pow(B, 3) + pow(C, 3) == i:\n",
    "        arr = arr + str(i) + ','\n",
    "#         print(i, end=',')\n",
    "#         print(A, B, C)\n",
    "#         print(A, pow(A, 3), B, pow(B, 3), C, pow(C, 3))\n",
    "print(arr[:-1])"
   ]
  },
  {
   "cell_type": "code",
   "execution_count": null,
   "id": "587f3f1c",
   "metadata": {},
   "outputs": [],
   "source": [
    "# 参考答案\n",
    "s = \"\"\n",
    "for i in range(100, 1000):\n",
    "    t = str(i)\n",
    "    if pow(eval(t[0]),3) + pow(eval(t[1]),3) + pow(eval(t[2]),3) == i :\n",
    "        s += \"{},\".format(i)\n",
    "print(s[:-1])"
   ]
  },
  {
   "cell_type": "markdown",
   "id": "7518e976",
   "metadata": {},
   "source": [
    "* 这方法也太简便了吧！！不用模运算，直接按 str 获取各数位"
   ]
  },
  {
   "cell_type": "markdown",
   "id": "06b69c19",
   "metadata": {},
   "source": [
    "### 用户登录的三次机会"
   ]
  },
  {
   "cell_type": "code",
   "execution_count": null,
   "id": "e3a39ce9",
   "metadata": {},
   "outputs": [],
   "source": [
    "cnt = 0\n",
    "arr = []\n",
    "while True:\n",
    "    user_or_pwd = input() # 为什么总想一行输入？\n",
    "    arr.append(user_or_pwd)\n",
    "    cnt += 1\n",
    "    if "
   ]
  },
  {
   "cell_type": "code",
   "execution_count": null,
   "id": "3d222572",
   "metadata": {},
   "outputs": [],
   "source": [
    "# 参考答案\n",
    "count = 0\n",
    "while count < 3:\n",
    "    name = input()\n",
    "    password = input()\n",
    "    if name == 'Kate'and password == '666666':\n",
    "        print(\"登录成功！\")\n",
    "        break\n",
    "    else:\n",
    "        count += 1\n",
    "        if count == 3:\n",
    "            print(\"3次用户名或者密码均有误！退出程序。\")"
   ]
  }
 ],
 "metadata": {
  "kernelspec": {
   "display_name": "Python 3 (ipykernel)",
   "language": "python",
   "name": "python3"
  },
  "language_info": {
   "codemirror_mode": {
    "name": "ipython",
    "version": 3
   },
   "file_extension": ".py",
   "mimetype": "text/x-python",
   "name": "python",
   "nbconvert_exporter": "python",
   "pygments_lexer": "ipython3",
   "version": "3.9.7"
  },
  "toc": {
   "base_numbering": 1,
   "nav_menu": {},
   "number_sections": true,
   "sideBar": true,
   "skip_h1_title": false,
   "title_cell": "Table of Contents",
   "title_sidebar": "Contents",
   "toc_cell": false,
   "toc_position": {},
   "toc_section_display": true,
   "toc_window_display": false
  }
 },
 "nbformat": 4,
 "nbformat_minor": 5
}
