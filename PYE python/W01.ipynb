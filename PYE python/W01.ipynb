{
 "cells": [
  {
   "cell_type": "markdown",
   "id": "6f163b46",
   "metadata": {},
   "source": [
    "### 温度转换 I"
   ]
  },
  {
   "cell_type": "code",
   "execution_count": 8,
   "id": "276028a0",
   "metadata": {
    "scrolled": true
   },
   "outputs": [
    {
     "name": "stdout",
     "output_type": "stream",
     "text": [
      "123456789.0123456789F\n",
      "68587087.23C\n"
     ]
    }
   ],
   "source": [
    "TempStr = input()\n",
    "\n",
    "if TempStr[-1] in ['f', 'F']:\n",
    "    C = (eval(TempStr[0:-1]) - 32) / 1.8\n",
    "#     print('{:.2f}C'.format(C))\n",
    "    print('%.2fC' % C)\n",
    "elif TempStr[-1] in ['c', 'C']:\n",
    "    F = eval(TempStr[0:-1]) * 1.8 + 32\n",
    "    print('{:.2f}F'.format(F))\n",
    "else:\n",
    "    print(\"输入格式错误\")"
   ]
  },
  {
   "cell_type": "markdown",
   "id": "40866b3c",
   "metadata": {},
   "source": [
    "### 数字形式转换 I\n",
    "* https://python123.io/student/courses/6318/groups/79291/problems/programmings/12205#pagetop"
   ]
  },
  {
   "cell_type": "code",
   "execution_count": null,
   "id": "38640d62",
   "metadata": {},
   "outputs": [],
   "source": [
    "123\n",
    "一二三\n",
    "\n",
    "9876543210\n",
    "九八七六五四三二一零"
   ]
  },
  {
   "cell_type": "code",
   "execution_count": 18,
   "id": "1d883e88",
   "metadata": {},
   "outputs": [
    {
     "name": "stdout",
     "output_type": "stream",
     "text": [
      "999\n",
      "九九九"
     ]
    }
   ],
   "source": [
    "dictStr = {'9':'九', '8':'八', '7':'七', '6':'六', '5':'五', '4':'四', '3':'三', '2':'二', '1':'一', '0':'零'}\n",
    "inStr = input()\n",
    "leng = len(inStr)\n",
    "\n",
    "for i in range(leng):\n",
    "    tran = dictStr.get(inStr[i])\n",
    "    print(tran, end='')"
   ]
  },
  {
   "cell_type": "markdown",
   "id": "ceb9b46b",
   "metadata": {},
   "source": [
    "### 温度转换 II"
   ]
  },
  {
   "cell_type": "code",
   "execution_count": 20,
   "id": "765672c3",
   "metadata": {},
   "outputs": [
    {
     "name": "stdout",
     "output_type": "stream",
     "text": [
      "F87.65\n",
      "30.92C\n"
     ]
    }
   ],
   "source": [
    "TempStr = input()\n",
    "\n",
    "if TempStr[0] in ['f', 'F']:\n",
    "    C = (eval(TempStr[1:]) - 32) / 1.8\n",
    "#     print('C{:.2f}'.format(C))\n",
    "    print('C%.2f' % C)\n",
    "elif TempStr[0] in ['c', 'C']:\n",
    "    F = eval(TempStr[1:]) * 1.8 + 32\n",
    "    print('F{:.2f}'.format(F))\n",
    "else:\n",
    "    print(\"输入格式错误\")"
   ]
  },
  {
   "cell_type": "markdown",
   "id": "e88a83c1",
   "metadata": {},
   "source": [
    "### 货币转换 I"
   ]
  },
  {
   "cell_type": "code",
   "execution_count": 23,
   "id": "bb3e5110",
   "metadata": {},
   "outputs": [
    {
     "name": "stdout",
     "output_type": "stream",
     "text": [
      "USD20\n",
      "RMB135.60\n"
     ]
    }
   ],
   "source": [
    "TempStr = input()\n",
    "\n",
    "if TempStr[0:3] == 'RMB':\n",
    "    USD = eval(TempStr[3:]) / 6.78\n",
    "    print('USD%.2f' % USD)\n",
    "elif TempStr[0:3] == 'USD':\n",
    "    RMB = eval(TempStr[3:]) * 6.78\n",
    "    print('RMB%.2f' % RMB)\n",
    "else:\n",
    "    pass"
   ]
  }
 ],
 "metadata": {
  "kernelspec": {
   "display_name": "Python 3 (ipykernel)",
   "language": "python",
   "name": "python3"
  },
  "language_info": {
   "codemirror_mode": {
    "name": "ipython",
    "version": 3
   },
   "file_extension": ".py",
   "mimetype": "text/x-python",
   "name": "python",
   "nbconvert_exporter": "python",
   "pygments_lexer": "ipython3",
   "version": "3.9.7"
  },
  "toc": {
   "base_numbering": 1,
   "nav_menu": {},
   "number_sections": true,
   "sideBar": true,
   "skip_h1_title": false,
   "title_cell": "Table of Contents",
   "title_sidebar": "Contents",
   "toc_cell": false,
   "toc_position": {},
   "toc_section_display": true,
   "toc_window_display": false
  }
 },
 "nbformat": 4,
 "nbformat_minor": 5
}
