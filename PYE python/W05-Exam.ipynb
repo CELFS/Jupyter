{
 "cells": [
  {
   "cell_type": "code",
   "execution_count": 31,
   "id": "0d013be4",
   "metadata": {},
   "outputs": [
    {
     "name": "stdout",
     "output_type": "stream",
     "text": [
      "10        (1)origin\n",
      "10        (2)round\n",
      "10        (3)i\n",
      "******************************\n",
      "10.1      (1)origin\n",
      "10        (2)round\n",
      "11        (3)i + 1\n",
      "******************************\n",
      "10.5      (1)origin\n",
      "10        (2)round\n",
      "11        (3)i + 1\n",
      "******************************\n",
      "10.9      (1)origin\n",
      "11        (2)round\n",
      "11        (3)i + 1\n",
      "******************************\n"
     ]
    }
   ],
   "source": [
    "# fl = [10, 10.1, 10.9, 0, 11, 11.2, 11.9, 0, 12, 12.1, 12.9]\n",
    "fl = [10, 10.1, 10.5, 10.9]\n",
    "\n",
    "for i in fl:\n",
    "    print(\"{0:<10}{1:>}\".format(i, \"(1)origin\"))\n",
    "    print(\"{0:<10}{1:>}\".format(round(i), \"(2)round\"))\n",
    "    if int(i) < i:\n",
    "        print(\"{0:<10}{1:>}\".format(int(i + 1), \"(3)i + 1\"))\n",
    "    else:\n",
    "        print(\"{0:<10}{1:>}\".format(int(i), \"(3)i\"))\n",
    "    print(\"*\" * 30)"
   ]
  },
  {
   "cell_type": "code",
   "execution_count": 45,
   "id": "4cdbc108",
   "metadata": {},
   "outputs": [
    {
     "name": "stdout",
     "output_type": "stream",
     "text": [
      "11\n",
      "11,13,17,19,23"
     ]
    }
   ],
   "source": [
    "def prime2(m):\n",
    "    for i in range(2,m):\n",
    "        if m % i == 0:\n",
    "            return False\n",
    "    return True\n",
    "\n",
    "n = eval(input())\n",
    "n_ = int(n)\n",
    "# n_ = n_+1 if n_ < n else n_\n",
    "\n",
    "if int(n) < n:\n",
    "    prime2(int(n + 1))\n",
    "else:\n",
    "    prime2(int(n))\n",
    "\n",
    "count = 5\n",
    "\n",
    "while count > 0:\n",
    "    if prime2(n_):\n",
    "        if count > 1:\n",
    "            print(n_, end=\",\")\n",
    "        else:\n",
    "            print(n_, end=\"\")\n",
    "        count -= 1 \n",
    "    n_ += 1"
   ]
  },
  {
   "cell_type": "code",
   "execution_count": 41,
   "id": "887afcdf",
   "metadata": {},
   "outputs": [
    {
     "name": "stdout",
     "output_type": "stream",
     "text": [
      "11\n",
      "13,17,19,23,29"
     ]
    }
   ],
   "source": [
    "# 我的垃圾代码\n",
    "def prime1(m):\n",
    "    se = []\n",
    "    for i in range(m, 1000000):\n",
    "        if len(se) == 5:\n",
    "            break\n",
    "        cnt = 0\n",
    "        for j in range(2, i + 1):\n",
    "            if i % j == 0:\n",
    "                cnt += 1\n",
    "            else:\n",
    "                continue\n",
    "            if j == i and cnt == 1:\n",
    "                se.append(i)\n",
    "                cnt = 0\n",
    "    s = \"\"\n",
    "    for i in se:\n",
    "        s = s + ',' + str(i)\n",
    "        # print(i, end=',')\n",
    "    print(s[1:], end='')\n",
    "\n",
    "n = eval(input())\n",
    "n = int(n)\n",
    "prime1(n + 1)"
   ]
  },
  {
   "cell_type": "code",
   "execution_count": null,
   "id": "097a8325",
   "metadata": {},
   "outputs": [],
   "source": [
    "def prime(m):\n",
    "    for i in range(2, m):\n",
    "        if m % i == 0\n",
    "            return False\n",
    "    return True\n",
    "\n",
    "n = eval(input())\n",
    "n_"
   ]
  },
  {
   "cell_type": "code",
   "execution_count": 43,
   "id": "57f7cf2e",
   "metadata": {},
   "outputs": [
    {
     "name": "stdout",
     "output_type": "stream",
     "text": [
      "11\n",
      "13,17,19,23,29\n"
     ]
    }
   ],
   "source": [
    "def prime(m):\n",
    "    x = True\n",
    "    for j in range(2, m):\n",
    "        if m % j == 0:\n",
    "            x = False\n",
    "            break\n",
    "    if x:\n",
    "        return True\n",
    "    else:\n",
    "        return False\n",
    "    \n",
    "n = eval(input())\n",
    "m = round(n)\n",
    "string = \"\"\n",
    "s = 0\n",
    "for i in range(10000):\n",
    "    m = m + 1\n",
    "    if prime(m) and m > 1:\n",
    "        string += str(m) + ','\n",
    "        s += 1\n",
    "        if s == 5:\n",
    "            break\n",
    "\n",
    "print(string[:-1])"
   ]
  }
 ],
 "metadata": {
  "kernelspec": {
   "display_name": "Python 3 (ipykernel)",
   "language": "python",
   "name": "python3"
  },
  "language_info": {
   "codemirror_mode": {
    "name": "ipython",
    "version": 3
   },
   "file_extension": ".py",
   "mimetype": "text/x-python",
   "name": "python",
   "nbconvert_exporter": "python",
   "pygments_lexer": "ipython3",
   "version": "3.9.7"
  },
  "toc": {
   "base_numbering": 1,
   "nav_menu": {},
   "number_sections": true,
   "sideBar": true,
   "skip_h1_title": false,
   "title_cell": "Table of Contents",
   "title_sidebar": "Contents",
   "toc_cell": false,
   "toc_position": {},
   "toc_section_display": true,
   "toc_window_display": false
  }
 },
 "nbformat": 4,
 "nbformat_minor": 5
}
