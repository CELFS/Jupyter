{
 "cells": [
  {
   "cell_type": "markdown",
   "id": "373ea49a",
   "metadata": {},
   "source": [
    "### 天天进步的力量"
   ]
  },
  {
   "cell_type": "code",
   "execution_count": 10,
   "id": "61c8f709",
   "metadata": {},
   "outputs": [
    {
     "name": "stdout",
     "output_type": "stream",
     "text": [
      "37.78343433288728\n",
      "工作日的努力参数是：4.63\n"
     ]
    }
   ],
   "source": [
    "dayup = 1.0\n",
    "rate = 0.01\n",
    "for i in range(365):\n",
    "    if i % 7 in [6,0]:\n",
    "        dayup = dayup * (1 - rate)\n",
    "    else:\n",
    "        dayup = dayup * (1 + rate)\n",
    "dayupup = pow(1 + rate, 365)\n",
    "while dayup\n",
    "print(\"工作日的努力参数是：{:.2f}\".format(dayup))"
   ]
  },
  {
   "cell_type": "code",
   "execution_count": 12,
   "id": "f2395d75",
   "metadata": {},
   "outputs": [
    {
     "name": "stdout",
     "output_type": "stream",
     "text": [
      "工作日的努力参数是：0.019 \n"
     ]
    }
   ],
   "source": [
    "def dayUP(df):\n",
    "    dayup = 1\n",
    "    for i in range(365):\n",
    "        if i % 7 in [6,0]:\n",
    "            dayup = dayup*(1 - 0.01)\n",
    "        else:\n",
    "            dayup = dayup*(1 + df)\n",
    "    return dayup\n",
    "dayfactor = 0.01\n",
    "dayupup = pow(1 + dayfactor, 365)\n",
    "while dayUP(dayfactor)<dayupup:\n",
    "    dayfactor += 0.001\n",
    "print(\"工作日的努力参数是: {:.3f}\".format(dayfactor))"
   ]
  },
  {
   "cell_type": "markdown",
   "id": "d2ae851b",
   "metadata": {},
   "source": [
    "### 文本进度条"
   ]
  },
  {
   "cell_type": "code",
   "execution_count": 17,
   "id": "a2db5d65",
   "metadata": {},
   "outputs": [
    {
     "name": "stdout",
     "output_type": "stream",
     "text": [
      "-----------执行开始----------\n",
      "100%[**************************************************->]5.38s\n",
      "-----------执行结束----------\n"
     ]
    }
   ],
   "source": [
    "#TextProBarV3.py\n",
    "import time\n",
    "scale = 50\n",
    "print(\"执行开始\".center(scale//2,'-'))\n",
    "start = time.perf_counter()\n",
    "for i in range(scale+1):\n",
    "    a = '*' * i\n",
    "    b = '.' * (scale - i)\n",
    "    c = (i/scale)*100\n",
    "    dur = time.perf_counter() - start                            # 更新时间\n",
    "    print(\"\\r{:^3.0f}%[{}->{}]{:.2f}s\".format(c,a,b,dur),end='')\n",
    "    time.sleep(0.1)\n",
    "print(\"\\n\"+\"执行结束\".center(scale//2,'-'))"
   ]
  },
  {
   "cell_type": "markdown",
   "id": "547ec0c8",
   "metadata": {},
   "source": [
    "### 三次方格式化"
   ]
  },
  {
   "cell_type": "code",
   "execution_count": 32,
   "id": "749eb33e",
   "metadata": {},
   "outputs": [
    {
     "name": "stdout",
     "output_type": "stream",
     "text": [
      "99999999999999\n",
      "********************\n",
      "**********\n",
      "999999999999970000000000000299999999999999\n"
     ]
    }
   ],
   "source": [
    "a = input()\n",
    "a = eval(a)\n",
    "cube = a * a * a\n",
    "strlen = len(str(cube))\n",
    "# print('*'*20)\n",
    "# print('*'*10)\n",
    "print(\"{0:-^20}\".format(cube)) # 错在用 str.center()"
   ]
  },
  {
   "cell_type": "markdown",
   "id": "abfd7f39",
   "metadata": {},
   "source": [
    "### 星号三角形"
   ]
  },
  {
   "cell_type": "code",
   "execution_count": 69,
   "id": "31b45ba9",
   "metadata": {
    "scrolled": true
   },
   "outputs": [
    {
     "name": "stdout",
     "output_type": "stream",
     "text": [
      "5\n",
      "  *  \n",
      " *** \n",
      "*****\n"
     ]
    }
   ],
   "source": [
    "N = int(input())\n",
    "star = 1\n",
    "while (star <= N):\n",
    "    output = '*' * star\n",
    "    print(output.center(N, \" \"))\n",
    "    star = star + 2"
   ]
  },
  {
   "cell_type": "code",
   "execution_count": 68,
   "id": "e3133357",
   "metadata": {
    "scrolled": true
   },
   "outputs": [
    {
     "name": "stdout",
     "output_type": "stream",
     "text": [
      "5\n",
      "  *  \n",
      " *** \n",
      "*****\n"
     ]
    }
   ],
   "source": [
    "# 参考答案\n",
    "n = eval(input())\n",
    "for i in range(1,n+1,2):\n",
    "    print(\"{0:^{1}}\".format('*'*i, n))"
   ]
  },
  {
   "cell_type": "markdown",
   "id": "41d6a87d",
   "metadata": {},
   "source": [
    "### 凯撒密码"
   ]
  },
  {
   "cell_type": "code",
   "execution_count": 87,
   "id": "ac95aab4",
   "metadata": {},
   "outputs": [
    {
     "name": "stdout",
     "output_type": "stream",
     "text": [
      "python is an excellent language\n",
      "sbwkrq lv dq hafhoohqw odqjxdjh"
     ]
    }
   ],
   "source": [
    "# org = 'ABCDEFGHIJKLMNOPQRSTUVWXYZ'\n",
    "p = input()\n",
    "tempStr = 'A B C D E F G H I J K L M N O P Q R S T U V W X Y Z'\n",
    "processStr = tempStr.split(' ')\n",
    "# cypeStr = list(range(26))\n",
    "# for i in range(26):\n",
    "#     cypeStr[i] = processStr[(i + 3) % 26]\n",
    "# print(p)\n",
    "leng = len(processStr)\n",
    "for i in p:\n",
    "    if i.isupper() or i.islower():\n",
    "        if i.isupper():\n",
    "            idx = (processStr.index(i) + 3) % 26\n",
    "            print(processStr[idx], end='')\n",
    "        else:\n",
    "            i = i.upper()\n",
    "            idx = (processStr.index(i) + 3) % 26\n",
    "            print(processStr[idx].lower(), end='')\n",
    "    else:\n",
    "        print(i, end='')"
   ]
  },
  {
   "cell_type": "code",
   "execution_count": null,
   "id": "5d1423d4",
   "metadata": {},
   "outputs": [],
   "source": [
    "# 参考答案\n",
    "s = input()\n",
    "t = \"\"\n",
    "for c in s:\n",
    "    if 'a' <= c <= 'z': # 直接比较字典序\n",
    "        t += chr( ord('a') + ((ord(c)-ord('a')) + 3 )%26 ) # ord() return Unicode\n",
    "    elif 'A' <= c <= 'Z':\n",
    "        t += chr( ord('A') + ((ord(c)-ord('A')) + 3 )%26 )\n",
    "    else:\n",
    "        t += c\n",
    "print(t)"
   ]
  },
  {
   "cell_type": "markdown",
   "id": "d47e2917",
   "metadata": {},
   "source": [
    "* 2022/06/09 23:50:10 1h37min"
   ]
  }
 ],
 "metadata": {
  "kernelspec": {
   "display_name": "Python 3 (ipykernel)",
   "language": "python",
   "name": "python3"
  },
  "language_info": {
   "codemirror_mode": {
    "name": "ipython",
    "version": 3
   },
   "file_extension": ".py",
   "mimetype": "text/x-python",
   "name": "python",
   "nbconvert_exporter": "python",
   "pygments_lexer": "ipython3",
   "version": "3.9.7"
  },
  "toc": {
   "base_numbering": 1,
   "nav_menu": {},
   "number_sections": true,
   "sideBar": true,
   "skip_h1_title": false,
   "title_cell": "Table of Contents",
   "title_sidebar": "Contents",
   "toc_cell": false,
   "toc_position": {},
   "toc_section_display": true,
   "toc_window_display": false
  }
 },
 "nbformat": 4,
 "nbformat_minor": 5
}
