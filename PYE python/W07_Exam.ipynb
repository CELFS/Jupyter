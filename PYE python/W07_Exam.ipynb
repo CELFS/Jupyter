{
 "cells": [
  {
   "cell_type": "markdown",
   "id": "9aa2c931",
   "metadata": {},
   "source": [
    "### 文本的平均列数"
   ]
  },
  {
   "cell_type": "code",
   "execution_count": 120,
   "id": "ae8f632b",
   "metadata": {},
   "outputs": [
    {
     "name": "stdout",
     "output_type": "stream",
     "text": [
      "48\n"
     ]
    }
   ],
   "source": [
    "def getText():\n",
    "    txt = open(r\"dataSet/latex.log\", \"r\").read()\n",
    "    for ch in '!\"#$%&()*+,-./:;<=>?@[\\\\]^_.‘{|}~`\\x14\\x02\\x1e\\t':\n",
    "        txt = txt.replace(ch, ' ')\n",
    "    return txt\n",
    "\n",
    "sum_col = 0.0\n",
    "\n",
    "cnt = 0\n",
    "with open(r\"dataSet/latex.log\", \"r\") as fr:\n",
    "    for i in fr.readlines():\n",
    "        if i != \"\\n\":\n",
    "#         if i.count(\"\\n\") != len(i):  \n",
    "#             i = i.replace(\" \", \"\")\n",
    "            i = i.replace(\"\\n\", \"\")\n",
    "            sum_col = sum_col + len(i)\n",
    "#             print(len(i))\n",
    "#             print(i + \"】\")\n",
    "#             if len(i) != 1:\n",
    "            cnt += 1\n",
    "        else:\n",
    "            continue\n",
    "# s = getText()\n",
    "avg_col = round(sum_col / cnt)\n",
    "print(avg_col)\n",
    "# print(sum_col)\n",
    "# print(cnt)\n",
    "# print(s)"
   ]
  },
  {
   "cell_type": "code",
   "execution_count": 118,
   "id": "0f586d50",
   "metadata": {},
   "outputs": [
    {
     "name": "stdout",
     "output_type": "stream",
     "text": [
      "48\n"
     ]
    }
   ],
   "source": [
    "# 参考答案\n",
    "f = open(r\"dataSet/latex.log\", \"r\")\n",
    "s, c = 0, 0\n",
    "for line in f:\n",
    "    line = line.strip(\"\\n\")\n",
    "    if line == \"\":\n",
    "        continue\n",
    "    s += len(line)\n",
    "    c += 1\n",
    "#     print(line)\n",
    "print(round(s/c))"
   ]
  },
  {
   "cell_type": "markdown",
   "id": "04721a9d",
   "metadata": {},
   "source": [
    "### CSV格式清洗与转换"
   ]
  },
  {
   "cell_type": "code",
   "execution_count": 78,
   "id": "6c1e91ac",
   "metadata": {
    "scrolled": true
   },
   "outputs": [
    {
     "name": "stdout",
     "output_type": "stream",
     "text": [
      "3;8;6;1;7;4;2;5\n",
      "'k';'j';'i';'c';'z';'x';'b';'y';'a'\n",
      "'x';'y';'j';'i';'k';'a';'b';'c';'z'\n",
      "'x';'a';'z';'y';'i';'c';'j';'b';'k'\n",
      "'k';'j';'i';'z';'y';'x';'c';'b';'a'\n",
      "2;4;7;5;8;3;1;6\n",
      "5;6;4;1;7;2;3;8\n",
      "7;6;5;4;3;2;1\n",
      "\n"
     ]
    }
   ],
   "source": [
    "row_join = \"\"\n",
    "with open(r'dataSet/data.csv', 'r') as f:\n",
    "    for line in f.readlines():\n",
    "        line = line.strip(\"\\n\")\n",
    "        ls = line.split(\",\")\n",
    "        ls = ls[::-1]\n",
    "        row = \";\".join(ls)\n",
    "        row_join = row_join + \";\".join(ls)\n",
    "        row_join = row_join.replace(\" \", \"\")\n",
    "        row = row.replace(\" \", \"\")\n",
    "        row_join = row_join + \"\\n\"\n",
    "#         print(row)\n",
    "\n",
    "# print(row[1:5])\n",
    "# print(\"*\" * 30)\n",
    "res0 = row_join[::-1]\n",
    "ls = res0.split(\"\\n\")\n",
    "res1 = \"\"\n",
    "for str_sub in ls:\n",
    "    res1 = res1 + str_sub[::-1] + \"\\n\"\n",
    "#     print(str_sub[::-1])\n",
    "print(res1[1:])\n",
    "# print(result[1:])\n",
    "f.close()"
   ]
  },
  {
   "cell_type": "code",
   "execution_count": null,
   "id": "a0638e26",
   "metadata": {},
   "outputs": [],
   "source": [
    "# 参考答案\n",
    "f = open(\"data.csv\")\n",
    "ls = f.readlines()\n",
    "ls = ls[::-1]\n",
    "lt = []\n",
    "for item in ls:\n",
    "    item = item.strip(\"\\n\")\n",
    "    item = item.replace(\" \", \"\")\n",
    "    lt = item.split(\",\")\n",
    "    lt = lt[::-1]\n",
    "    print(\";\".join(lt))\n",
    "f.close()"
   ]
  }
 ],
 "metadata": {
  "kernelspec": {
   "display_name": "Python 3 (ipykernel)",
   "language": "python",
   "name": "python3"
  },
  "language_info": {
   "codemirror_mode": {
    "name": "ipython",
    "version": 3
   },
   "file_extension": ".py",
   "mimetype": "text/x-python",
   "name": "python",
   "nbconvert_exporter": "python",
   "pygments_lexer": "ipython3",
   "version": "3.9.7"
  },
  "toc": {
   "base_numbering": 1,
   "nav_menu": {},
   "number_sections": true,
   "sideBar": true,
   "skip_h1_title": false,
   "title_cell": "Table of Contents",
   "title_sidebar": "Contents",
   "toc_cell": false,
   "toc_position": {},
   "toc_section_display": true,
   "toc_window_display": false
  }
 },
 "nbformat": 4,
 "nbformat_minor": 5
}
