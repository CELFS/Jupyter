{
 "cells": [
  {
   "cell_type": "markdown",
   "id": "339ea63d",
   "metadata": {},
   "source": [
    "### lambda 函数"
   ]
  },
  {
   "cell_type": "code",
   "execution_count": 1,
   "id": "fb08ffb7",
   "metadata": {
    "scrolled": true
   },
   "outputs": [
    {
     "name": "stdout",
     "output_type": "stream",
     "text": [
      "6\n"
     ]
    }
   ],
   "source": [
    "f = lambda x : x + 1\n",
    "\n",
    "print(f(5))"
   ]
  },
  {
   "cell_type": "markdown",
   "id": "1ef9ec53",
   "metadata": {},
   "source": [
    "### 七段数码管"
   ]
  },
  {
   "cell_type": "code",
   "execution_count": null,
   "id": "43acad67",
   "metadata": {
    "scrolled": true
   },
   "outputs": [],
   "source": [
    "import turtle as t\n",
    "import time\n",
    "\n",
    "\n",
    "# 绘制数码管间隔\n",
    "def drawGap():\n",
    "    t.penup()\n",
    "    t.fd(5)\n",
    "\n",
    "\n",
    "# 绘制单段数码管\n",
    "def drawLine(draw):\n",
    "    drawGap()\n",
    "    t.pendown() if draw else t.penup()\n",
    "    t.fd(40)\n",
    "    drawGap()\n",
    "    t.right(90)\n",
    "\n",
    "\n",
    "\n",
    "# 根据数字绘制七段数码管\n",
    "def drawDigit(digit):\n",
    "    drawLine(True) if digit in [2, 3, 4, 5, 6, 8, 9] else drawLine(False)\n",
    "    drawLine(True) if digit in [0, 1, 3, 4, 5, 6, 7, 8, 9] else drawLine(False)\n",
    "    drawLine(True) if digit in [0, 2, 3, 5, 6, 8, 9] else drawLine(False)\n",
    "    drawLine(True) if digit in [0, 2, 4, 6, 8] else drawLine(False)\n",
    "    t.left(90)\n",
    "\n",
    "    drawLine(True) if digit in [0, 4, 5, 6, 8, 9] else drawLine(False)\n",
    "    drawLine(True) if digit in [0, 2, 3, 5, 6, 7, 8, 9] else drawLine(False)\n",
    "    drawLine(True) if digit in [0, 1, 2, 3, 4, 7, 8, 9] else drawLine(False)\n",
    "    t.left(180)\n",
    "\n",
    "    # 为绘制后续数字确定位置\n",
    "    t.penup()\n",
    "    t.fd(20)\n",
    "\n",
    "\n",
    "def drawDate(date):\n",
    "    t.pencolor(\"red\")\n",
    "    for i in date:\n",
    "        if i == '-':\n",
    "            t.write('年', font=(\"Arial\", 18, \"normal\"))\n",
    "            t.pencolor(\"green\")\n",
    "            t.fd(40)\n",
    "        elif i == '=':\n",
    "            t.write('月', font=(\"Arial\", 18, \"normal\"))\n",
    "            t.pencolor(\"blue\")\n",
    "            t.fd(40)\n",
    "        elif i == '+':\n",
    "            t.write('日', font=(\"Arial\", 18, \"normal\"))\n",
    "        else:\n",
    "            drawDigit(eval(i))\n",
    "\n",
    "\n",
    "def main():\n",
    "    window = t.Screen()  # 弹出绘图窗口\n",
    "    t.setup(800, 350, 200, 200)\n",
    "    t.penup()\n",
    "    t.fd(-300)\n",
    "    t.pensize(5)\n",
    "    #     drawDate('20220610')\n",
    "    drawDate(time.strftime('%Y-%m=%d+', time.gmtime()))\n",
    "    t.hideturtle()\n",
    "    t.done()\n",
    "    window.exitonclick()\n",
    "#     t.exitonclick()\n",
    "\n",
    "if __name__ == '__main__':\n",
    "    main()"
   ]
  },
  {
   "cell_type": "markdown",
   "id": "05ba2dbc",
   "metadata": {},
   "source": [
    "### 科赫雪花"
   ]
  },
  {
   "cell_type": "code",
   "execution_count": 1,
   "id": "e4fe5536",
   "metadata": {},
   "outputs": [],
   "source": [
    "import turtle\n",
    "\n",
    "def koch(size, n):\n",
    "    if n == 0:\n",
    "        turtle.fd(size)\n",
    "    else:\n",
    "        for angle in [0, 60, -120, 60]:\n",
    "            turtle.left(angle)\n",
    "            koch(size / 3, n - 1)\n",
    "\n",
    "# def main():\n",
    "#     window = turtle.Screen()\n",
    "#     turtle.setup(800, 400)\n",
    "#     turtle.penup()\n",
    "#     turtle.goto(-300, -50)\n",
    "#     turtle.pendown()\n",
    "#     turtle.pensize(2)\n",
    "#     koch(600, 3) # 3 阶科赫曲线，阶数\n",
    "#     turtle.hideturtle()\n",
    "#     window.exitonclick()\n",
    "\n",
    "def main():\n",
    "    window = turtle.Screen()  \n",
    "    turtle.setup(600, 600)\n",
    "    turtle.penup()\n",
    "    turtle.goto(-200, 100)\n",
    "    turtle.pendown()\n",
    "    turtle.pensize(2)\n",
    "    level = 3\n",
    "    koch(400, level)\n",
    "    turtle.right(120)\n",
    "    koch(400, level)\n",
    "    turtle.right(120)\n",
    "    koch(400, level)\n",
    "    turtle.hideturtle()\n",
    "    window.exitonclick()\n",
    "\n",
    "if __name__ == '__main__':\n",
    "    main()"
   ]
  },
  {
   "cell_type": "markdown",
   "id": "1d0eab98",
   "metadata": {},
   "source": [
    "### 任意累积"
   ]
  },
  {
   "cell_type": "code",
   "execution_count": 10,
   "id": "9701aac0",
   "metadata": {},
   "outputs": [
    {
     "name": "stdout",
     "output_type": "stream",
     "text": [
      "1,2,3,4\n",
      "24\n"
     ]
    }
   ],
   "source": [
    "def cmul(nums, *add):\n",
    "    mul = 1\n",
    "    for i in add:\n",
    "        mul = mul * i\n",
    "    mul = nums * mul\n",
    "    return mul\n",
    "\n",
    "print(eval(\"cmul({})\".format(input())))"
   ]
  },
  {
   "cell_type": "code",
   "execution_count": null,
   "id": "aa205d86",
   "metadata": {},
   "outputs": [],
   "source": [
    "# 参考答案\n",
    "def cmul(a, *b):\n",
    "    m = a # 再省一步\n",
    "    for i in b:\n",
    "        m *= i\n",
    "    return m\n",
    "\n",
    "print(eval(\"cmul({})\".format(input())))"
   ]
  },
  {
   "cell_type": "markdown",
   "id": "8c78088b",
   "metadata": {},
   "source": [
    "### 斐波那契数列计算"
   ]
  },
  {
   "cell_type": "code",
   "execution_count": 13,
   "id": "4d2f1a9d",
   "metadata": {},
   "outputs": [
    {
     "name": "stdout",
     "output_type": "stream",
     "text": [
      "4\n",
      "3\n"
     ]
    }
   ],
   "source": [
    "def fbi(n):\n",
    "    if n == 1 or n == 2:\n",
    "        return 1\n",
    "    else:\n",
    "        return fbi(n - 1) + fbi(n - 2)\n",
    "\n",
    "n = eval(input())\n",
    "print(fbi(n))"
   ]
  },
  {
   "cell_type": "markdown",
   "id": "c866cc13",
   "metadata": {},
   "source": [
    "### 汉诺塔实践"
   ]
  },
  {
   "cell_type": "code",
   "execution_count": 14,
   "id": "19c550bb",
   "metadata": {},
   "outputs": [
    {
     "name": "stdout",
     "output_type": "stream",
     "text": [
      "4\n",
      "[STEP   1] A->B\n",
      "[STEP   2] A->C\n",
      "[STEP   3] B->C\n",
      "[STEP   4] A->B\n",
      "[STEP   5] C->A\n",
      "[STEP   6] C->B\n",
      "[STEP   7] A->B\n",
      "[STEP   8] A->C\n",
      "[STEP   9] B->C\n",
      "[STEP  10] B->A\n",
      "[STEP  11] C->A\n",
      "[STEP  12] B->C\n",
      "[STEP  13] A->B\n",
      "[STEP  14] A->C\n",
      "[STEP  15] B->C\n"
     ]
    }
   ],
   "source": [
    "steps = 0\n",
    "def hanoi(src, des, mid, n):\n",
    "    global steps\n",
    "    if n == 1:\n",
    "        steps += 1\n",
    "        print(\"[STEP{:>4}] {}->{}\".format(steps, src, des))\n",
    "    else:\n",
    "        hanoi(src, mid, des, n - 1)\n",
    "        steps += 1\n",
    "        print(\"[STEP{:>4}] {}->{}\".format(steps, src, des))\n",
    "        hanoi(mid, des, src, n - 1)\n",
    "\n",
    "N = eval(input())\n",
    "hanoi(\"A\", \"C\", \"B\", N)"
   ]
  },
  {
   "cell_type": "markdown",
   "id": "133de255",
   "metadata": {},
   "source": [
    "* 函数定义 + 分支表示\n",
    "* 递归链条\n",
    "* 递归基例\n",
    "* 【具体是什么？】"
   ]
  }
 ],
 "metadata": {
  "kernelspec": {
   "display_name": "Python 3 (ipykernel)",
   "language": "python",
   "name": "python3"
  },
  "language_info": {
   "codemirror_mode": {
    "name": "ipython",
    "version": 3
   },
   "file_extension": ".py",
   "mimetype": "text/x-python",
   "name": "python",
   "nbconvert_exporter": "python",
   "pygments_lexer": "ipython3",
   "version": "3.9.7"
  },
  "toc": {
   "base_numbering": 1,
   "nav_menu": {},
   "number_sections": true,
   "sideBar": true,
   "skip_h1_title": false,
   "title_cell": "Table of Contents",
   "title_sidebar": "Contents",
   "toc_cell": false,
   "toc_position": {},
   "toc_section_display": true,
   "toc_window_display": false
  }
 },
 "nbformat": 4,
 "nbformat_minor": 5
}
