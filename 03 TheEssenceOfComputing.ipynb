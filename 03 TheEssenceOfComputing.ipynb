{
 "cells": [
  {
   "cell_type": "markdown",
   "id": "361dca81",
   "metadata": {},
   "source": [
    "# 计算的本质——从机械到电子"
   ]
  },
  {
   "cell_type": "markdown",
   "id": "87657703",
   "metadata": {},
   "source": [
    "## 思考题 0.1 P004\n",
    "* 要点：指令控制\n",
    "* 如何通过指令控制，将一副扑克牌变成一种简单的计算机？[★★★★☆]"
   ]
  },
  {
   "cell_type": "markdown",
   "id": "11e3be1c",
   "metadata": {},
   "source": [
    "## 思考题 0.2 P013\n",
    "* 要点：等价性、模块化，以及通过它们化繁为简\n",
    "* 利用“与非”（AND-NOT）运算实现布尔代数中的与、或、非三种运算。[★★☆☆☆]"
   ]
  },
  {
   "cell_type": "markdown",
   "id": "b3ab3ad1",
   "metadata": {},
   "source": [
    "## 思考题 0.3 P18\n",
    "* 要点：图灵机、可计算的问题\n",
    "* 如果计算机的本质是机械运动，那么信息处理和能量就存在一个对应关系。比如，我们可以计算一下 1946 年的 ENIAC 消耗 1 度电（1 千瓦时）能完成多少次计算，今天的华为 P30 手机消耗 1 度电能完成多少次计算。[★★☆☆☆]"
   ]
  },
  {
   "cell_type": "markdown",
   "id": "be25774f",
   "metadata": {},
   "source": [
    "## 思考题 0.4 P022\n",
    "* 要点：人工智能的边界\n",
    "* 在数字计算机出现之前曾经出现过模拟计算机，如何证明后者等价于前者的某个子集？[★★★☆☆]"
   ]
  },
  {
   "cell_type": "markdown",
   "id": "ecb19105",
   "metadata": {},
   "source": [
    "# 毫厘千里之差——大 O 概念"
   ]
  },
  {
   "cell_type": "markdown",
   "id": "4b7dd5cf",
   "metadata": {},
   "source": [
    "## 思考题 1.1 P028\n",
    "* 要点：体系结构，软件从计算机科学中分离出来\n",
    "* 世界上还有什么产品类似于计算机的，是软硬件分离的？[★☆☆☆☆]"
   ]
  },
  {
   "cell_type": "markdown",
   "id": "07e1048e",
   "metadata": {},
   "source": [
    "[★☆☆☆☆]\n",
    "[★★☆☆☆]\n",
    "[★★★☆☆]\n",
    "[★★★★☆]\n",
    "[★★★★★]"
   ]
  },
  {
   "cell_type": "markdown",
   "id": "e628e776",
   "metadata": {},
   "source": [
    "### 例题 1.1 P032\n",
    "* 围棋有多复杂？[★☆☆☆☆]"
   ]
  },
  {
   "cell_type": "markdown",
   "id": "f9120a20",
   "metadata": {},
   "source": [
    "### 例题 1.2 P033\n",
    "* 一句有 20 个单词的英语语句可以有多少种组合？[★★★☆☆]"
   ]
  },
  {
   "cell_type": "markdown",
   "id": "6febe375",
   "metadata": {},
   "source": [
    "## 思考题 1.2 P034\n",
    "* 要点：复杂度、数量级、大 O 的概念\n",
    "* 如果一个程序只运行一次，在编写它的时候，你是采用最直观但是效率较低的算法，还是依然寻找复杂度最优的算法？[★★☆☆☆]"
   ]
  },
  {
   "cell_type": "markdown",
   "id": "d5583b3a",
   "metadata": {},
   "source": [
    "### 例题 1.3 P035\n",
    "* 总和最大区间问题。\n",
    "    * 给定一个实数序列，设计一个最有效的算法，找到一个总和最大的区间。\n",
    "    * 1.5, -12.3, 3.2, -5.5, 23.2, 3.2, -1.4, -12.2, 34.2, 5.4, -7.8, 1.1, -4.9\n",
    "    * 总和的最大区间是从第 5 个数（23.2）到第 10 个数（5.4）"
   ]
  }
 ],
 "metadata": {
  "kernelspec": {
   "display_name": "Python 3 (ipykernel)",
   "language": "python",
   "name": "python3"
  },
  "language_info": {
   "codemirror_mode": {
    "name": "ipython",
    "version": 3
   },
   "file_extension": ".py",
   "mimetype": "text/x-python",
   "name": "python",
   "nbconvert_exporter": "python",
   "pygments_lexer": "ipython3",
   "version": "3.9.7"
  },
  "toc": {
   "base_numbering": "0",
   "nav_menu": {},
   "number_sections": true,
   "sideBar": true,
   "skip_h1_title": false,
   "title_cell": "Table of Contents",
   "title_sidebar": "Contents",
   "toc_cell": false,
   "toc_position": {},
   "toc_section_display": true,
   "toc_window_display": true
  }
 },
 "nbformat": 4,
 "nbformat_minor": 5
}
