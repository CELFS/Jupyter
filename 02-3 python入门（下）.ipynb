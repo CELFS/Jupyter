{
 "cells": [
  {
   "cell_type": "markdown",
   "metadata": {
    "toc": true
   },
   "source": [
    "<h1>目录<span class=\"tocSkip\"></span></h1>\n",
    "<div class=\"toc\"><ul class=\"toc-item\"><li><span><a href=\"#简介\" data-toc-modified-id=\"简介-1\"><span class=\"toc-item-num\">1&nbsp;&nbsp;</span>简介</a></span><ul class=\"toc-item\"><li><span><a href=\"#【目标】\" data-toc-modified-id=\"【目标】-1.1\"><span class=\"toc-item-num\">1.1&nbsp;&nbsp;</span>【目标】</a></span></li></ul></li><li><span><a href=\"#函数\" data-toc-modified-id=\"函数-2\"><span class=\"toc-item-num\">2&nbsp;&nbsp;</span>函数</a></span><ul class=\"toc-item\"><li><span><a href=\"#函数的定义\" data-toc-modified-id=\"函数的定义-2.1\"><span class=\"toc-item-num\">2.1&nbsp;&nbsp;</span>函数的定义</a></span></li><li><span><a href=\"#函数的调用\" data-toc-modified-id=\"函数的调用-2.2\"><span class=\"toc-item-num\">2.2&nbsp;&nbsp;</span>函数的调用</a></span></li><li><span><a href=\"#函数文档\" data-toc-modified-id=\"函数文档-2.3\"><span class=\"toc-item-num\">2.3&nbsp;&nbsp;</span>函数文档</a></span></li><li><span><a href=\"#函数参数\" data-toc-modified-id=\"函数参数-2.4\"><span class=\"toc-item-num\">2.4&nbsp;&nbsp;</span>函数参数</a></span><ul class=\"toc-item\"><li><span><a href=\"#1.-位置参数\" data-toc-modified-id=\"1.-位置参数-2.4.1\"><span class=\"toc-item-num\">2.4.1&nbsp;&nbsp;</span>1. 位置参数</a></span></li><li><span><a href=\"#2.-默认参数\" data-toc-modified-id=\"2.-默认参数-2.4.2\"><span class=\"toc-item-num\">2.4.2&nbsp;&nbsp;</span>2. 默认参数</a></span></li><li><span><a href=\"#3.-可变参数\" data-toc-modified-id=\"3.-可变参数-2.4.3\"><span class=\"toc-item-num\">2.4.3&nbsp;&nbsp;</span>3. 可变参数</a></span></li><li><span><a href=\"#4.-关键字参数\" data-toc-modified-id=\"4.-关键字参数-2.4.4\"><span class=\"toc-item-num\">2.4.4&nbsp;&nbsp;</span>4. 关键字参数</a></span></li><li><span><a href=\"#5.-命名关键字参数\" data-toc-modified-id=\"5.-命名关键字参数-2.4.5\"><span class=\"toc-item-num\">2.4.5&nbsp;&nbsp;</span>5. 命名关键字参数</a></span></li><li><span><a href=\"#6.-参数组合\" data-toc-modified-id=\"6.-参数组合-2.4.6\"><span class=\"toc-item-num\">2.4.6&nbsp;&nbsp;</span>6. 参数组合</a></span></li></ul></li><li><span><a href=\"#【概括】\" data-toc-modified-id=\"【概括】-2.5\"><span class=\"toc-item-num\">2.5&nbsp;&nbsp;</span>【概括】</a></span></li><li><span><a href=\"#函数的返回值\" data-toc-modified-id=\"函数的返回值-2.6\"><span class=\"toc-item-num\">2.6&nbsp;&nbsp;</span>函数的返回值</a></span></li><li><span><a href=\"#变量作用域\" data-toc-modified-id=\"变量作用域-2.7\"><span class=\"toc-item-num\">2.7&nbsp;&nbsp;</span>变量作用域</a></span><ul class=\"toc-item\"><li><span><a href=\"#内嵌函数\" data-toc-modified-id=\"内嵌函数-2.7.1\"><span class=\"toc-item-num\">2.7.1&nbsp;&nbsp;</span>内嵌函数</a></span></li><li><span><a href=\"#闭包【这章讲的什么玩意？】\" data-toc-modified-id=\"闭包【这章讲的什么玩意？】-2.7.2\"><span class=\"toc-item-num\">2.7.2&nbsp;&nbsp;</span>闭包【这章讲的什么玩意？】</a></span></li></ul></li><li><span><a href=\"#【Python-的闭包（Closure）剖析】\" data-toc-modified-id=\"【Python-的闭包（Closure）剖析】-2.8\"><span class=\"toc-item-num\">2.8&nbsp;&nbsp;</span>【Python 的闭包（Closure）剖析】</a></span><ul class=\"toc-item\"><li><span><a href=\"#递归\" data-toc-modified-id=\"递归-2.8.1\"><span class=\"toc-item-num\">2.8.1&nbsp;&nbsp;</span>递归</a></span></li></ul></li><li><span><a href=\"#【概括】\" data-toc-modified-id=\"【概括】-2.9\"><span class=\"toc-item-num\">2.9&nbsp;&nbsp;</span>【概括】</a></span></li></ul></li><li><span><a href=\"#Lambda-表达式\" data-toc-modified-id=\"Lambda-表达式-3\"><span class=\"toc-item-num\">3&nbsp;&nbsp;</span>Lambda 表达式</a></span><ul class=\"toc-item\"><li><span><a href=\"#匿名函数的定义\" data-toc-modified-id=\"匿名函数的定义-3.1\"><span class=\"toc-item-num\">3.1&nbsp;&nbsp;</span>匿名函数的定义</a></span></li><li><span><a href=\"#匿名函数的应用\" data-toc-modified-id=\"匿名函数的应用-3.2\"><span class=\"toc-item-num\">3.2&nbsp;&nbsp;</span>匿名函数的应用</a></span></li><li><span><a href=\"#【概括】\" data-toc-modified-id=\"【概括】-3.3\"><span class=\"toc-item-num\">3.3&nbsp;&nbsp;</span>【概括】</a></span></li></ul></li><li><span><a href=\"#类与对象\" data-toc-modified-id=\"类与对象-4\"><span class=\"toc-item-num\">4&nbsp;&nbsp;</span>类与对象</a></span><ul class=\"toc-item\"><li><span><a href=\"#对象-=-属性-+-方法\" data-toc-modified-id=\"对象-=-属性-+-方法-4.1\"><span class=\"toc-item-num\">4.1&nbsp;&nbsp;</span>对象 = 属性 + 方法</a></span><ul class=\"toc-item\"><li><span><a href=\"#封装\" data-toc-modified-id=\"封装-4.1.1\"><span class=\"toc-item-num\">4.1.1&nbsp;&nbsp;</span>封装</a></span></li><li><span><a href=\"#继承\" data-toc-modified-id=\"继承-4.1.2\"><span class=\"toc-item-num\">4.1.2&nbsp;&nbsp;</span>继承</a></span></li><li><span><a href=\"#多态\" data-toc-modified-id=\"多态-4.1.3\"><span class=\"toc-item-num\">4.1.3&nbsp;&nbsp;</span>多态</a></span></li></ul></li><li><span><a href=\"#self-是什么？\" data-toc-modified-id=\"self-是什么？-4.2\"><span class=\"toc-item-num\">4.2&nbsp;&nbsp;</span>self 是什么？</a></span><ul class=\"toc-item\"><li><span><a href=\"#【self-剖析】\" data-toc-modified-id=\"【self-剖析】-4.2.1\"><span class=\"toc-item-num\">4.2.1&nbsp;&nbsp;</span>【self 剖析】</a></span></li></ul></li><li><span><a href=\"#Python-的魔法方法\" data-toc-modified-id=\"Python-的魔法方法-4.3\"><span class=\"toc-item-num\">4.3&nbsp;&nbsp;</span>Python 的魔法方法</a></span></li><li><span><a href=\"#公有和私有\" data-toc-modified-id=\"公有和私有-4.4\"><span class=\"toc-item-num\">4.4&nbsp;&nbsp;</span>公有和私有</a></span></li><li><span><a href=\"#继承\" data-toc-modified-id=\"继承-4.5\"><span class=\"toc-item-num\">4.5&nbsp;&nbsp;</span>继承</a></span></li><li><span><a href=\"#【概括】\" data-toc-modified-id=\"【概括】-4.6\"><span class=\"toc-item-num\">4.6&nbsp;&nbsp;</span>【概括】</a></span></li><li><span><a href=\"#【概括-继承】\" data-toc-modified-id=\"【概括-继承】-4.7\"><span class=\"toc-item-num\">4.7&nbsp;&nbsp;</span>【概括-继承】</a></span></li><li><span><a href=\"#组合\" data-toc-modified-id=\"组合-4.8\"><span class=\"toc-item-num\">4.8&nbsp;&nbsp;</span>组合</a></span></li><li><span><a href=\"#类、类对象和实例对象\" data-toc-modified-id=\"类、类对象和实例对象-4.9\"><span class=\"toc-item-num\">4.9&nbsp;&nbsp;</span>类、类对象和实例对象</a></span></li><li><span><a href=\"#什么是绑定？\" data-toc-modified-id=\"什么是绑定？-4.10\"><span class=\"toc-item-num\">4.10&nbsp;&nbsp;</span>什么是绑定？</a></span></li><li><span><a href=\"#【概括】\" data-toc-modified-id=\"【概括】-4.11\"><span class=\"toc-item-num\">4.11&nbsp;&nbsp;</span>【概括】</a></span></li><li><span><a href=\"#一些相关的内置函数（BIF）\" data-toc-modified-id=\"一些相关的内置函数（BIF）-4.12\"><span class=\"toc-item-num\">4.12&nbsp;&nbsp;</span>一些相关的内置函数（BIF）</a></span></li></ul></li><li><span><a href=\"#魔法方法\" data-toc-modified-id=\"魔法方法-5\"><span class=\"toc-item-num\">5&nbsp;&nbsp;</span>魔法方法</a></span><ul class=\"toc-item\"><li><span><a href=\"#基本的魔法方法\" data-toc-modified-id=\"基本的魔法方法-5.1\"><span class=\"toc-item-num\">5.1&nbsp;&nbsp;</span>基本的魔法方法</a></span></li><li><span><a href=\"#算术运算符\" data-toc-modified-id=\"算术运算符-5.2\"><span class=\"toc-item-num\">5.2&nbsp;&nbsp;</span>算术运算符</a></span></li><li><span><a href=\"#反算术运算符\" data-toc-modified-id=\"反算术运算符-5.3\"><span class=\"toc-item-num\">5.3&nbsp;&nbsp;</span>反算术运算符</a></span></li><li><span><a href=\"#增量赋值运算符\" data-toc-modified-id=\"增量赋值运算符-5.4\"><span class=\"toc-item-num\">5.4&nbsp;&nbsp;</span>增量赋值运算符</a></span></li><li><span><a href=\"#一元运算符\" data-toc-modified-id=\"一元运算符-5.5\"><span class=\"toc-item-num\">5.5&nbsp;&nbsp;</span>一元运算符</a></span></li><li><span><a href=\"#属性访问\" data-toc-modified-id=\"属性访问-5.6\"><span class=\"toc-item-num\">5.6&nbsp;&nbsp;</span>属性访问</a></span></li><li><span><a href=\"#描述符\" data-toc-modified-id=\"描述符-5.7\"><span class=\"toc-item-num\">5.7&nbsp;&nbsp;</span>描述符</a></span></li><li><span><a href=\"#定制序列\" data-toc-modified-id=\"定制序列-5.8\"><span class=\"toc-item-num\">5.8&nbsp;&nbsp;</span>定制序列</a></span></li><li><span><a href=\"#迭代器\" data-toc-modified-id=\"迭代器-5.9\"><span class=\"toc-item-num\">5.9&nbsp;&nbsp;</span>迭代器</a></span></li></ul></li></ul></div>"
   ]
  },
  {
   "cell_type": "markdown",
   "metadata": {},
   "source": [
    "# 简介\n",
    "\n",
    "Python 是一种通用编程语言，其在科学计算和机器学习领域具有广泛的应用。如果我们打算利用 Python 来执行机器学习，那么对 Python 有一些基本的了解就是至关重要的。本 Python 入门系列体验就是为这样的初学者精心准备的。\n",
    "\n",
    "\n",
    "本实验包括以下内容：\n",
    "\n",
    "- 函数\n",
    "    - 函数的定义\n",
    "    - 函数的调用\n",
    "    - 函数文档\n",
    "    - 函数参数\n",
    "    - 函数的返回值\n",
    "    - 变量作用域\n",
    "- Lambda 表达式\n",
    "    - 匿名函数的定义\n",
    "    - 匿名函数的应用\n",
    "- 类与对象\n",
    "    - 对象 = 属性 + 方法\n",
    "    - self 是什么？\n",
    "    - Python 的魔法方法\n",
    "    - 公有和私有\n",
    "    - 继承\n",
    "    - 组合\n",
    "    - 类、类对象和实例对象\n",
    "    - 什么是绑定？\n",
    "    - 一些相关的内置函数（BIF）\n",
    "- 魔法方法\n",
    "    - 基本的魔法方法\n",
    "    - 算术运算符\n",
    "    - 反算术运算符\n",
    "    - 增量赋值运算符\n",
    "    - 一元运算符\n",
    "    - 属性访问\n",
    "    - 描述符\n",
    "    - 定制序列\n",
    "    - 迭代器\n"
   ]
  },
  {
   "cell_type": "markdown",
   "metadata": {},
   "source": [
    "## 【目标】\n",
    "* 这一篇我认为是 Python 真正的核心，名词有点多，但需要下苦功学完，弄懂 => 也只有把这部分的坎迈过去了，才有可能说“入门”了。\n",
    "* Lambda 表达式相关剖析。\n",
    "* 类与对象的关系要清晰，回头理解 Python（中）留下的疑问，例如深浅拷贝、引用的关系。\n",
    "* OOP 的三个重要特征：封装、继承、多态。\n",
    "* 魔法方法。\n",
    "* 迭代器、可迭代对象。"
   ]
  },
  {
   "cell_type": "markdown",
   "metadata": {},
   "source": [
    "# 函数\n",
    "\n",
    "## 函数的定义\n",
    "\n",
    "还记得 Python 里面“万物皆对象”么？Python 把函数也当成【对象】，可以从另一个函数中返回出来而去构建【高阶函数】，比如：\n",
    "参数是函数、返回值是函数。\n",
    "\n",
    "我们首先来介绍函数的定义。\n",
    "\n",
    "- 函数以`def`关键词开头，后接函数名和圆括号()。\n",
    "- 函数执行的代码以冒号起始，并且缩进。\n",
    "- return [表达式] 结束函数，选择性地返回一个值给调用方。不带表达式的 return 相当于返回`None`。\n",
    "\n",
    "\n",
    "\n",
    "> def functionname (parameters):<br>\n",
    "> &nbsp; &nbsp; &nbsp; &nbsp;\"函数_文档字符串\"<br>\n",
    "> &nbsp; &nbsp; &nbsp; &nbsp; function_suite<br>\n",
    "> &nbsp; &nbsp; &nbsp; &nbsp; return [expression]【是哪位天才写出的这个垃圾代码（见 markdown 格式）？实习生做的？】\n",
    "\n",
    "\n",
    "\n",
    "## 函数的调用\n",
    "\n",
    "【例子】\n"
   ]
  },
  {
   "cell_type": "code",
   "execution_count": 1,
   "metadata": {},
   "outputs": [
    {
     "name": "stdout",
     "output_type": "stream",
     "text": [
      "我要调用用户自定义函数!\n",
      "再次调用同一函数\n",
      "hello\n",
      "None\n"
     ]
    }
   ],
   "source": [
    "def printme(str):\n",
    "    print(str)\n",
    "\n",
    "\n",
    "printme(\"我要调用用户自定义函数!\")  # 我要调用用户自定义函数!\n",
    "printme(\"再次调用同一函数\")  # 再次调用同一函数\n",
    "temp = printme('hello') # hello\n",
    "print(temp)  # None【没有返回值，因此指向 None】"
   ]
  },
  {
   "cell_type": "markdown",
   "metadata": {},
   "source": [
    "\n",
    "## 函数文档"
   ]
  },
  {
   "cell_type": "code",
   "execution_count": 2,
   "metadata": {},
   "outputs": [
    {
     "name": "stdout",
     "output_type": "stream",
     "text": [
      "传递进来的老马的程序人生叫做【实参】，因为Ta是具体的参数值！\n",
      "函数定义过程中name是【形参】\n",
      "Help on function MyFirstFunction in module __main__:\n",
      "\n",
      "MyFirstFunction(name)\n",
      "    函数定义过程中name是【形参】\n",
      "\n"
     ]
    }
   ],
   "source": [
    "def MyFirstFunction(name):\n",
    "    \"函数定义过程中name是【形参】\"\n",
    "    # 因为Ta只是一个形式，表示占据一个参数位置\n",
    "    print('传递进来的{0}叫做【实参】，因为Ta是具体的参数值！'.format(name))\n",
    "\n",
    "\n",
    "MyFirstFunction('老马的程序人生')  \n",
    "# 传递进来的老马的程序人生叫做实参，因为Ta是具体的参数值！\n",
    "\n",
    "print(MyFirstFunction.__doc__)  #【如何理解 X.__doc__ ？应该是定义一个文档，当 help 的时候可以显示帮助信息】\n",
    "# 函数定义过程中name是形参\n",
    "\n",
    "help(MyFirstFunction)\n",
    "# Help on function MyFirstFunction in module __main__:\n",
    "# MyFirstFunction(name)\n",
    "#    函数定义过程中name是形参"
   ]
  },
  {
   "cell_type": "markdown",
   "metadata": {},
   "source": [
    "\n",
    "## 函数参数\n",
    "\n",
    "Python 的函数具有非常灵活多样的参数形态，既可以实现简单的调用，又可以传入非常复杂的参数。从简到繁的参数形态如下：\n",
    "- 位置参数 (positional argument)\n",
    "- 默认参数 (default argument)\n",
    "- 可变参数 (variable argument)\n",
    "- 关键字参数 (keyword argument)\n",
    "- 命名关键字参数 (name keyword argument)\n",
    "- 参数组合\n",
    "\n",
    "\n",
    "### 1. 位置参数\n",
    "\n",
    "> def functionname(arg1):<br>\n",
    "> &nbsp; &nbsp; &nbsp; &nbsp;\"函数_文档字符串\"<br>\n",
    "> &nbsp; &nbsp; &nbsp; &nbsp;function_suite<br>\n",
    "> &nbsp; &nbsp; &nbsp; &nbsp;return [expression]<br>\n",
    "\n",
    "- `arg1` - 位置参数 ，这些参数在调用函数 (call function) 时【位置要固定】。\n",
    "\n",
    "### 2. 默认参数\n",
    "\n",
    "\n",
    "> def functionname(arg1, arg2=v):<br>\n",
    "> &nbsp; &nbsp; &nbsp; &nbsp;\"函数_文档字符串\"<br>\n",
    "> &nbsp; &nbsp; &nbsp; &nbsp;function_suite<br>\n",
    "> &nbsp; &nbsp; &nbsp; &nbsp;return [expression]<br>\n",
    "\n",
    "- `arg2 = v` - 默认参数 = 【默认值】，调用函数时，默认参数的值如果没有传入，则被认为是默认值。\n",
    "- 默认参数一定要放在位置参数 <b>后面</b>，不然程序会报错。【为什么默认参数感觉跟关键字参数区别不大？不过确切地说，默认值可用在不同参数】\n",
    "\n",
    "【例子】"
   ]
  },
  {
   "cell_type": "code",
   "execution_count": 3,
   "metadata": {},
   "outputs": [
    {
     "name": "stdout",
     "output_type": "stream",
     "text": [
      "Name:小马,Age:8\n",
      "Name:小马,Age:10\n"
     ]
    }
   ],
   "source": [
    "def printinfo(name, age=8):\n",
    "    print('Name:{0},Age:{1}'.format(name, age))\n",
    "\n",
    "\n",
    "printinfo('小马')  # Name:小马,Age:8\n",
    "printinfo('小马', 10)  # Name:小马,Age:10"
   ]
  },
  {
   "cell_type": "markdown",
   "metadata": {},
   "source": [
    "\n",
    "- Python 允许函数【调用】时参数的【顺序与声明】时【不一致】，因为 Python 解释器【能够用参数名匹配参数值】。【如何理解这句话？参数名-匹配-值？】【已解决】【见下面代码，调用的传参顺序 VS 声明参数顺序】\n",
    "\n",
    "【例子】"
   ]
  },
  {
   "cell_type": "code",
   "execution_count": 4,
   "metadata": {},
   "outputs": [
    {
     "name": "stdout",
     "output_type": "stream",
     "text": [
      "Name:小马,Age:8\n"
     ]
    }
   ],
   "source": [
    "def printinfo(name, age):\n",
    "    print('Name:{0},Age:{1}'.format(name, age))\n",
    "\n",
    "\n",
    "printinfo(age=8, name='小马')  # Name:小马,Age:8"
   ]
  },
  {
   "cell_type": "markdown",
   "metadata": {},
   "source": [
    "\n",
    "\n",
    "### 3. 可变参数\n",
    "\n",
    "顾名思义，可变参数就是传入的【参数个数是可变】的，可以是 0, 1, 2 到任意个，是【不定长】的参数。\n",
    "\n",
    "```python\n",
    "def functionname(arg1, arg2=v, *args):\n",
    "    # \"函数_文档字符串\"\n",
    "    function_suite\n",
    "    return [expression]\n",
    "```\n",
    "- `*args` - 可变参数，可以是从零个到任意个，【自动组装成元组】。【C 语言同样，某种传承了】【以前用这个功能做过 C 语言的测试宏】\n",
    "- 加了星号“* ”的变量名会存放所有未命名的变量参数。【* 还是作为通配符的功能——本质是一样的，无论是数组还是传参】\n",
    "\n",
    "【例子】"
   ]
  },
  {
   "cell_type": "code",
   "execution_count": 5,
   "metadata": {},
   "outputs": [
    {
     "name": "stdout",
     "output_type": "stream",
     "text": [
      "10\n",
      "70\n",
      "60\n",
      "50\n"
     ]
    }
   ],
   "source": [
    "def printinfo(arg1, *args):\n",
    "    print(arg1)\n",
    "    for var in args:\n",
    "        print(var)\n",
    "\n",
    "\n",
    "printinfo(10)  # 10\n",
    "printinfo(70, 60, 50)\n",
    "# 70\n",
    "# 60\n",
    "# 50"
   ]
  },
  {
   "cell_type": "markdown",
   "metadata": {},
   "source": [
    "\n",
    "\n",
    "\n",
    "### 4. 关键字参数\n",
    "\n",
    "```python\n",
    "def functionname(arg1, arg2=v, *args, **kw):\n",
    "    # 函数_文档字符串\n",
    "    function_suite\n",
    "    return [expression]【写这个的人，markdown 是真的有毒，通配符变成斜杠，导致一堆格式错乱】【受不了，改了】\n",
    "```\n",
    "- `**kw` - 关键字参数，可以是从零个到任意个，【自动组装成字典】。\n",
    "\n",
    "【例子】"
   ]
  },
  {
   "cell_type": "code",
   "execution_count": 3,
   "metadata": {},
   "outputs": [
    {
     "name": "stdout",
     "output_type": "stream",
     "text": [
      "70\n",
      "(60, 50)\n",
      "{}\n",
      "70\n",
      "(60, 50)\n",
      "{'a': 1, 'b': 2}\n"
     ]
    }
   ],
   "source": [
    "def printinfo(arg1, *args, **kwargs):\n",
    "    print(arg1)\n",
    "    print(args)\n",
    "    print(kwargs)\n",
    "\n",
    "\n",
    "printinfo(70, 60, 50)\n",
    "# 70\n",
    "# (60, 50)\n",
    "# {}\n",
    "printinfo(70, 60, 50, a=1, b=2) # 【传入键值对】\n",
    "# 70\n",
    "# (60, 50)\n",
    "# {'a': 1, 'b': 2}"
   ]
  },
  {
   "cell_type": "markdown",
   "metadata": {},
   "source": [
    "\n",
    "「可变参数」和「关键字参数」的同异总结如下：\n",
    "- 【可变参数】允许传入零个到任意个参数，它们在函数调用时自动组装为一个【元组 (tuple)】。【这是结果，不是原因】\n",
    "- 【关键字参数】允许传入零个到任意个参数，它们在函数内部自动组装为一个【字典 (dict)】。\n",
    "\n",
    "### 5. 命名关键字参数\n",
    "\n",
    "```python\n",
    "def functionname(arg1, arg2=v, *args, *, nkw, **kw):\n",
    "    # \"函数_文档字符串\"\n",
    "    function_suite\n",
    "    return [expression]\n",
    "```\n",
    "- `*, nkw` - 命名关键字参数，用户想要输入的关键字参数，定义方式是在nkw 前面加个分隔符 `*`。\n",
    "- 如果要【限制关键字参数的名字】，就可以用「命名关键字参数」\n",
    "- 使用命名关键字参数时，要特别注意【不能缺少参数名】。\n",
    "\n",
    "【例子】"
   ]
  },
  {
   "cell_type": "code",
   "execution_count": 9,
   "metadata": {},
   "outputs": [
    {
     "name": "stdout",
     "output_type": "stream",
     "text": [
      "70\n",
      "10\n",
      "{'a': 1, 'b': 2}\n"
     ]
    },
    {
     "ename": "TypeError",
     "evalue": "printinfo() takes 1 positional argument but 2 were given",
     "output_type": "error",
     "traceback": [
      "\u001b[1;31m---------------------------------------------------------------------------\u001b[0m",
      "\u001b[1;31mTypeError\u001b[0m                                 Traceback (most recent call last)",
      "Input \u001b[1;32mIn [9]\u001b[0m, in \u001b[0;36m<cell line: 12>\u001b[1;34m()\u001b[0m\n\u001b[0;32m      7\u001b[0m printinfo(\u001b[38;5;241m70\u001b[39m, nkw\u001b[38;5;241m=\u001b[39m\u001b[38;5;241m10\u001b[39m, a\u001b[38;5;241m=\u001b[39m\u001b[38;5;241m1\u001b[39m, b\u001b[38;5;241m=\u001b[39m\u001b[38;5;241m2\u001b[39m) \u001b[38;5;66;03m# 【为什么我觉得作用跟关键字参数没有任何区别？】【最大的区别是参数名要跟定义一样？】\u001b[39;00m\n\u001b[0;32m      8\u001b[0m \u001b[38;5;66;03m# 70\u001b[39;00m\n\u001b[0;32m      9\u001b[0m \u001b[38;5;66;03m# 10\u001b[39;00m\n\u001b[0;32m     10\u001b[0m \u001b[38;5;66;03m# {'a': 1, 'b': 2}\u001b[39;00m\n\u001b[1;32m---> 12\u001b[0m \u001b[43mprintinfo\u001b[49m\u001b[43m(\u001b[49m\u001b[38;5;241;43m70\u001b[39;49m\u001b[43m,\u001b[49m\u001b[43m \u001b[49m\u001b[38;5;241;43m10\u001b[39;49m\u001b[43m,\u001b[49m\u001b[43m \u001b[49m\u001b[43ma\u001b[49m\u001b[38;5;241;43m=\u001b[39;49m\u001b[38;5;241;43m1\u001b[39;49m\u001b[43m,\u001b[49m\u001b[43m \u001b[49m\u001b[43mb\u001b[49m\u001b[38;5;241;43m=\u001b[39;49m\u001b[38;5;241;43m2\u001b[39;49m\u001b[43m)\u001b[49m\n",
      "\u001b[1;31mTypeError\u001b[0m: printinfo() takes 1 positional argument but 2 were given"
     ]
    }
   ],
   "source": [
    "def printinfo(arg1, *, nkw, **kwargs):\n",
    "    print(arg1)\n",
    "    print(nkw)\n",
    "    print(kwargs)\n",
    "\n",
    "\n",
    "printinfo(70, nkw=10, a=1, b=2) # 【为什么我觉得作用跟关键字参数没有任何区别？】【最大的区别是参数名要跟定义一样？】\n",
    "# 70\n",
    "# 10\n",
    "# {'a': 1, 'b': 2}\n",
    "\n",
    "printinfo(70, 10, a=1, b=2) # 【传参要指定固定的参数名】\n",
    "# TypeError: printinfo() takes 1 positional argument but 2 were given"
   ]
  },
  {
   "cell_type": "markdown",
   "metadata": {},
   "source": [
    "- 没有写参数名`nwk`，因此 10 被当成「位置参数」，而原函数只有 1 个位置函数，现在调用了 2 个，因此程序会报错。\n",
    "\n",
    "\n",
    "### 6. 参数组合\n",
    "\n",
    "在 Python 中定义函数，可以用位置参数、默认参数、可变参数、命名关键字参数和关键字参数，这 5 种参数中的 【4 个都可以一起使用】，但是注意，参数定义的【顺序】必须是：\n",
    "- 位置参数、默认参数、可变参数和关键字参数。\n",
    "- 位置参数、默认参数、命名关键字参数和关键字参数。\n",
    "\n",
    "要注意定义可变参数和关键字参数的语法：\n",
    "- `*args` 是可变参数，`args` 接收的是一个 `tuple`\n",
    "- `**kw` 是关键字参数，`kw` 接收的是一个 `dict`\n",
    "\n",
    "命名关键字参数是为了限制调用者可以传入的参数名，同时可以提供默认值。定义命名关键字参数不要忘了写分隔符 `*`，否则定义的是位置参数。\n",
    "\n",
    "警告：虽然可以组合多达 5 种参数，但不要同时使用太多的组合，否则函数很难懂。"
   ]
  },
  {
   "cell_type": "markdown",
   "metadata": {},
   "source": [
    "（2022/04/12 2:24:13 1h28min）\n",
    "## 【概括】\n",
    "* “万物皆对象”——高阶函数构建。\n",
    "* 函数结构\n",
    "* 函数文档\n",
    "    * `function.__doc__`\n",
    "* 参数\n",
    "    * 位置参数 => 位置固定 `arg1`\n",
    "    * 默认参数 `arg2=v`\n",
    "    * 可变参数 `*args` => 自动组装为元组\n",
    "    * 关键字参数 `**kw` => 自动组装为字典\n",
    "    * 命名关键字参数 `*, nkw`【传递固定参数名】\n",
    "* 参数组合\n",
    "    * 5 种参数可挑 4 个组合？\n",
    "    * 定义顺序必须满足：\n",
    "        * 位置参数、默认参数、可变参数和关键字参数。\n",
    "        * 位置参数、默认参数、命名关键字参数和关键字参数。\n",
    "* 调用传参顺序 VS 参数声明顺序"
   ]
  },
  {
   "cell_type": "markdown",
   "metadata": {},
   "source": [
    "## 函数的返回值\n",
    "\n",
    "【例子】"
   ]
  },
  {
   "cell_type": "code",
   "execution_count": 9,
   "metadata": {
    "scrolled": true
   },
   "outputs": [
    {
     "name": "stdout",
     "output_type": "stream",
     "text": [
      "3\n",
      "[1, 2, 3, 4, 5, 6]\n"
     ]
    }
   ],
   "source": [
    "def add(a, b):\n",
    "    return a + b\n",
    "\n",
    "print(add(1, 2))  # 3\n",
    "print(add([1, 2, 3], [4, 5, 6]))  # [1, 2, 3, 4, 5, 6]【返回一个拼接后的列表，可回到 list 的加号操作符理解】"
   ]
  },
  {
   "cell_type": "markdown",
   "metadata": {},
   "source": [
    "\n",
    "【例子】\n"
   ]
  },
  {
   "cell_type": "code",
   "execution_count": 10,
   "metadata": {},
   "outputs": [
    {
     "name": "stdout",
     "output_type": "stream",
     "text": [
      "[1, '小马的程序人生', 3.14]\n"
     ]
    }
   ],
   "source": [
    "def back():\n",
    "    return [1, '小马的程序人生', 3.14]\n",
    "\n",
    "print(back())  # [1, '小马的程序人生', 3.14]【返回一个列表】"
   ]
  },
  {
   "cell_type": "markdown",
   "metadata": {},
   "source": [
    "\n",
    "【例子】\n"
   ]
  },
  {
   "cell_type": "code",
   "execution_count": 2,
   "metadata": {},
   "outputs": [
    {
     "name": "stdout",
     "output_type": "stream",
     "text": [
      "(1, '小马的程序人生', 3.14)\n"
     ]
    }
   ],
   "source": [
    "def back():\n",
    "    return 1, '小马的程序人生', 3.14\n",
    "\n",
    "print(back())  # (1, '小马的程序人生', 3.14)【返回元组】"
   ]
  },
  {
   "cell_type": "markdown",
   "metadata": {},
   "source": [
    "\n",
    "【例子】"
   ]
  },
  {
   "cell_type": "code",
   "execution_count": 12,
   "metadata": {},
   "outputs": [
    {
     "name": "stdout",
     "output_type": "stream",
     "text": [
      "hello\n",
      "None\n",
      "<class 'NoneType'>\n"
     ]
    }
   ],
   "source": [
    "def printme(str):\n",
    "    print(str)\n",
    "\n",
    "temp = printme('hello') # hello\n",
    "print(temp) # None\n",
    "print(type(temp))  # <class 'NoneType'>【NoneType】"
   ]
  },
  {
   "cell_type": "markdown",
   "metadata": {},
   "source": [
    "\n",
    "## 变量作用域\n",
    "\n",
    "- Python 中，程序的变量并不是在哪个位置都可以访问的，【访问权限】决定于这个变量是在【哪里赋值】的。\n",
    "- 定义在函数内部的变量拥有局部作用域，该变量称为局部变量。\n",
    "- 定义在函数外部的变量拥有全局作用域，该变量称为全局变量。\n",
    "- 局部变量只能在其被声明的【函数内部】访问，而全局变量可以在【整个程序】范围内访问。\n",
    "\n",
    "【例子】"
   ]
  },
  {
   "cell_type": "code",
   "execution_count": 13,
   "metadata": {},
   "outputs": [
    {
     "name": "stdout",
     "output_type": "stream",
     "text": [
      "请输入原价:98\n",
      "请输入折扣率:0.9\n",
      "打折后价格是:88.20\n"
     ]
    }
   ],
   "source": [
    "def discounts(price, rate):\n",
    "    final_price = price * rate\n",
    "    return final_price\n",
    "\n",
    "old_price = float(input('请输入原价:'))  # 98\n",
    "rate = float(input('请输入折扣率:'))  # 0.9\n",
    "new_price = discounts(old_price, rate)\n",
    "print('打折后价格是:%.2f' % new_price)  # 88.20"
   ]
  },
  {
   "cell_type": "markdown",
   "metadata": {},
   "source": [
    "- 当【内部】作用域【想修改外部】作用域的变量时，就要用到`global`和`nonlocal`关键字了。\n",
    "\n",
    "【例子】"
   ]
  },
  {
   "cell_type": "code",
   "execution_count": 11,
   "metadata": {},
   "outputs": [
    {
     "name": "stdout",
     "output_type": "stream",
     "text": [
      "1\n",
      "123\n",
      "123\n"
     ]
    }
   ],
   "source": [
    "num = 1\n",
    "\n",
    "def fun1():\n",
    "    global num  # 需要使用 global 关键字声明\n",
    "#     nonlocal num #【这语法是什么？】 SyntaxError: no binding for nonlocal 'num' found\n",
    "    print(num)  # 1\n",
    "    num = 123\n",
    "    print(num)  # 123\n",
    "\n",
    "fun1()\n",
    "print(num)  # 123"
   ]
  },
  {
   "cell_type": "code",
   "execution_count": 4,
   "metadata": {},
   "outputs": [
    {
     "name": "stdout",
     "output_type": "stream",
     "text": [
      "inner b: 10\n",
      "outer b: 20\n",
      "a ： 1000\n"
     ]
    }
   ],
   "source": [
    "a = 100\n",
    "def outer():\n",
    "    b = 10\n",
    "    def inner():\n",
    "        nonlocal b  # 声明【外部函数】的【局部】变量\n",
    "        print(r\"inner b:\", b)\n",
    "        b = 20\n",
    "        global a  # 声明全局变量\n",
    "        a = 1000\n",
    "    inner()\n",
    "    print(r\"outer b:\", b)\n",
    "outer()\n",
    "print(\"a ：\" ,a)"
   ]
  },
  {
   "cell_type": "markdown",
   "metadata": {},
   "source": [
    "\n",
    "### 内嵌函数\n",
    "* 【被嵌套的函数，只能在最近的外层函数中被调用】\n",
    "\n",
    "【例子】"
   ]
  },
  {
   "cell_type": "code",
   "execution_count": 15,
   "metadata": {},
   "outputs": [
    {
     "name": "stdout",
     "output_type": "stream",
     "text": [
      "outer函数在这被调用\n",
      "inner函数在这被调用\n"
     ]
    }
   ],
   "source": [
    "def outer():\n",
    "    print('outer函数在这被调用')\n",
    "\n",
    "    def inner():\n",
    "        print('inner函数在这被调用')\n",
    "\n",
    "    inner()  # 该函数【只能在outer函数内部】被调用\n",
    "\n",
    "outer()\n",
    "# outer函数在这被调用\n",
    "# inner函数在这被调用"
   ]
  },
  {
   "cell_type": "code",
   "execution_count": 15,
   "metadata": {},
   "outputs": [
    {
     "name": "stdout",
     "output_type": "stream",
     "text": [
      "taowa1\n"
     ]
    },
    {
     "ename": "NameError",
     "evalue": "name 'taowa3' is not defined",
     "output_type": "error",
     "traceback": [
      "\u001b[1;31m---------------------------------------------------------------------------\u001b[0m",
      "\u001b[1;31mNameError\u001b[0m                                 Traceback (most recent call last)",
      "Input \u001b[1;32mIn [15]\u001b[0m, in \u001b[0;36m<cell line: 11>\u001b[1;34m()\u001b[0m\n\u001b[0;32m      8\u001b[0m     taowa3()\n\u001b[0;32m      9\u001b[0m     taowa2()\n\u001b[1;32m---> 11\u001b[0m \u001b[43mtaowa1\u001b[49m\u001b[43m(\u001b[49m\u001b[43m)\u001b[49m\n",
      "Input \u001b[1;32mIn [15]\u001b[0m, in \u001b[0;36mtaowa1\u001b[1;34m()\u001b[0m\n\u001b[0;32m      6\u001b[0m         \u001b[38;5;28mprint\u001b[39m(\u001b[38;5;124m'\u001b[39m\u001b[38;5;124mtaowa3\u001b[39m\u001b[38;5;124m'\u001b[39m)\n\u001b[0;32m      7\u001b[0m     taowa3()\n\u001b[1;32m----> 8\u001b[0m \u001b[43mtaowa3\u001b[49m()\n\u001b[0;32m      9\u001b[0m taowa2()\n",
      "\u001b[1;31mNameError\u001b[0m: name 'taowa3' is not defined"
     ]
    }
   ],
   "source": [
    "def taowa1():\n",
    "    print('taowa1')\n",
    "    def taowa2():\n",
    "        print('taowa2')\n",
    "        def taowa3():\n",
    "            print('taowa3')\n",
    "        taowa3()\n",
    "#     taowa3() # 【NameError: name 'taowa3' is not defined】\n",
    "    taowa2()\n",
    "\n",
    "taowa1()\n",
    "# taowa2() # 【NameError: name 'taowa2' is not defined】"
   ]
  },
  {
   "cell_type": "markdown",
   "metadata": {},
   "source": [
    "\n",
    "### 闭包【这章讲的什么玩意？】\n",
    "\n",
    "- 是【函数式编程】的一个重要的语法结构，是一种【特殊的内嵌函数】。\n",
    "- 如果在一个【内部函数里】【对】【外层非全局作用域的变量】进行【引用】，那么内部函数就被认为是闭包。\n",
    "- 通过闭包【可以访问】外层非全局作用域的变量，这个作用域称为 <b>闭包作用域</b>。\n",
    "\n",
    "【例子】\n"
   ]
  },
  {
   "cell_type": "code",
   "execution_count": 31,
   "metadata": {},
   "outputs": [
    {
     "name": "stdout",
     "output_type": "stream",
     "text": [
      "taowa11\n",
      "b :  ['c', 'd']\n",
      "taowa22\n",
      "c :  ('c', 'd')\n",
      "taowa33\n",
      "d :  {'d', 'c'}\n",
      "taowa11\n",
      "b :  ['c', 'd']\n",
      "taowa22\n",
      "c :  ('c', 'd')\n",
      "taowa33\n",
      "d :  {'d', 'c'}\n",
      "<class 'NoneType'>\n"
     ]
    }
   ],
   "source": [
    "# 【我的理解】\n",
    "def taowa11():\n",
    "    a = 1\n",
    "    print('taowa11')\n",
    "    if a == 1:\n",
    "        b = ['c','d']\n",
    "        print('b : ', b)\n",
    "    else:\n",
    "        print('else')\n",
    "    def taowa22():\n",
    "        print('taowa22')\n",
    "        c = tuple(b) # 【引用了外层非全局作用域的变量 b 】【为什么 if 里面的局部变量可以被内嵌函数访问？】\n",
    "        print('c : ', c)\n",
    "        def taowa33():\n",
    "            print('taowa33')\n",
    "            d = set(b) # 【再深一层也可以引用】【想起 JS 里面的闭包】【或者说作用域链】\n",
    "            print('d : ', d)\n",
    "        \n",
    "        taowa33()\n",
    "        \n",
    "    taowa22()\n",
    "\n",
    "taowa11()\n",
    "print(type(taowa11()))"
   ]
  },
  {
   "cell_type": "code",
   "execution_count": 16,
   "metadata": {},
   "outputs": [
    {
     "name": "stdout",
     "output_type": "stream",
     "text": [
      "<class 'function'>\n",
      "40\n"
     ]
    }
   ],
   "source": [
    "def funX(x):\n",
    "    def funY(y):\n",
    "        return x * y # 【访问了外层 x 变量】\n",
    "\n",
    "    return funY\n",
    "\n",
    "\n",
    "i = funX(8)\n",
    "print(type(i))  # <class 'function'>\n",
    "print(i(5))  # 40"
   ]
  },
  {
   "cell_type": "markdown",
   "metadata": {},
   "source": [
    "\n",
    "【例子】闭包的返回值通常是函数。\n"
   ]
  },
  {
   "cell_type": "code",
   "execution_count": 34,
   "metadata": {},
   "outputs": [
    {
     "name": "stdout",
     "output_type": "stream",
     "text": [
      "3\n",
      "2\n",
      "0\n"
     ]
    }
   ],
   "source": [
    "def make_counter(init):\n",
    "    counter = [init]\n",
    "\n",
    "    def inc(): counter[0] += 1\n",
    "\n",
    "    def dec(): counter[0] -= 1\n",
    "\n",
    "    def get(): return counter[0]\n",
    "\n",
    "    def reset(): counter[0] = init\n",
    "\n",
    "    return inc, dec, get, reset\n",
    "\n",
    "\n",
    "inc, dec, get, reset = make_counter(0) #【这是个什么玩意语法?这教程重要的反而不细讲，简单的就在那里渲染？】\n",
    "inc() # 【为什么全局可以调用内层函数？】\n",
    "inc()\n",
    "inc()\n",
    "print(get())  # 3\n",
    "dec()\n",
    "print(get())  # 2\n",
    "reset()\n",
    "print(get())  # 0"
   ]
  },
  {
   "cell_type": "markdown",
   "metadata": {},
   "source": [
    "\n",
    "【例子】 如果要【修改闭包作用域中的变量】则需要 `nonlocal` 关键字"
   ]
  },
  {
   "cell_type": "code",
   "execution_count": 18,
   "metadata": {},
   "outputs": [
    {
     "name": "stdout",
     "output_type": "stream",
     "text": [
      "100\n",
      "100\n"
     ]
    }
   ],
   "source": [
    "def outer():\n",
    "    num = 10\n",
    "\n",
    "    def inner():\n",
    "        nonlocal num  # nonlocal关键字声明\n",
    "        num = 100\n",
    "        print(num)\n",
    "\n",
    "    inner()\n",
    "    print(num)\n",
    "\n",
    "\n",
    "outer()\n",
    "\n",
    "# 100\n",
    "# 100"
   ]
  },
  {
   "cell_type": "markdown",
   "metadata": {},
   "source": [
    "（2022/04/13 20:56:07 1h5min）\n",
    "## 【Python 的闭包（Closure）剖析】\n",
    "* Python闭包（Closure）详解 - 知乎  https://zhuanlan.zhihu.com/p/453787908\n",
    "    * 闭包：\n",
    "        * 本质是一个可以访问外层变量的内部函数（嵌套定义的函数，OOP语言一般都支持闭包）。 => 桥梁\n",
    "        * “可理解为轻量级的接口封装”\n",
    "    * 目的：\n",
    "        * 当需要在函数外部得到函数内的局部变量（私有变量之间创建联系）；\n",
    "        * 持久保存外层变量到内存中【未理解】。=> 不会造成变量污染\n",
    "    * 用途（与目的相似）：\n",
    "        * 可读取函数内部的变量；\n",
    "        * 让这些变量的值始终保存在内存中。【避免垃圾回收】\n",
    "    * “链式作用域”结构（chain scope）：子对象会一级一级地向上寻找所有父对象的变量），这一点通常是无法实现的。【Python 的作用域搜索顺序 => 阻止了函数内部变量被外部代码读取到】\n",
    "    * 但是，“在函数的内部，再定义一个函数”可以实现。\n",
    "        * 外层的所有局部变量，对内层都是【可见】的，但反过来却不行。\n",
    "        * 父对象的所有变量，对子对象都是可见的，反之则不成立。\n",
    "        * 既然f2可以读取f1中的局部变量，那么只要把f2作为返回值，我们不就可以在f1外部读取它的内部变量了吗?【这里没理解，见下代码】\n",
    "    * 【疑问】\n",
    "        * （1）闭包为何可以保存局部变量，而不被回收？\n",
    "        * （2）开闭包这样的口，为什么不直接在链式作用域层面构建更适配的协议？\n",
    "        * （3）如何理解“引用”。"
   ]
  },
  {
   "cell_type": "code",
   "execution_count": 35,
   "metadata": {},
   "outputs": [
    {
     "name": "stdout",
     "output_type": "stream",
     "text": [
      "999\n"
     ]
    }
   ],
   "source": [
    "# 例子1\n",
    "def f1():\n",
    "    n=999\n",
    "    def f2():\n",
    "        print(n)\n",
    "    \n",
    "    return f2\n",
    "\n",
    "result = f1() # 【本质上，括号充当怎样的角色？对函数外而言，仅仅表示调用？】\n",
    "result() # 【这相当于调用再调用？】"
   ]
  },
  {
   "cell_type": "code",
   "execution_count": 37,
   "metadata": {},
   "outputs": [
    {
     "name": "stdout",
     "output_type": "stream",
     "text": [
      "<a>Hello</a>\n",
      "<b>Hello</b>\n"
     ]
    }
   ],
   "source": [
    "# 例子2\n",
    "def tag(tag_name):\n",
    "    def add_tag(content):\n",
    "        return \"<{0}>{1}</{0}>\".format(tag_name, content) # 【这是什么语法？</>】【只是字符而已】\n",
    "    return add_tag\n",
    "    \n",
    "content = 'Hello'\n",
    "\n",
    "add_tag = tag('a')\n",
    "print(add_tag(content)) # 【外部调用的接口】【如何理解 tag('a')(content) ？】\n",
    "# <a>Hello</a>\n",
    "\n",
    "add_tag = tag('b')\n",
    "print(add_tag(content))\n",
    "# <b>Hello</b>"
   ]
  },
  {
   "cell_type": "code",
   "execution_count": 38,
   "metadata": {
    "scrolled": true
   },
   "outputs": [
    {
     "name": "stdout",
     "output_type": "stream",
     "text": [
      "[10, 0]\n",
      "[10, 20]\n",
      "[0, 20]\n"
     ]
    }
   ],
   "source": [
    "# 例子3\n",
    "def create(pos=[0,0]):\n",
    "    \n",
    "    def go(direction, step):\n",
    "        new_x = pos[0]+direction[0]*step\n",
    "        new_y = pos[1]+direction[1]*step\n",
    "        \n",
    "        pos[0] = new_x\n",
    "        pos[1] = new_y\n",
    "        \n",
    "        return pos\n",
    "    \n",
    "    \n",
    "    return go\n",
    "\n",
    "player = create() # 【外部只是借壳访问内部变量，因此不考虑可读性的话，名字无所谓】\n",
    "                  # 【player 实际上是闭包 go 函数的一个实例对象】\n",
    "print(player([1,0],10)) # 【10,0】\n",
    "print(player([0,1],20)) # 【10,20】\n",
    "print(player([-1,0],10)) # 【0,20】"
   ]
  },
  {
   "cell_type": "markdown",
   "metadata": {},
   "source": [
    "* 为什么会这样呢？原因就在于create是go的父函数，而go被赋给了一个全局变量【哪个变量？】，这导致go始终在内存中，而go的存在依赖于create，因此create也始终在内存中，不会在调用结束后，被垃圾回收机制（garbage collection）回收。【不理解】\n",
    "* 这个时候，闭包使得函数的实例对象的内部变量，【变得很像一个类的实例对象的属性】，可以一直保存在内存中，并不断的对其进行运算。【不理解】\n",
    "* 【还是有点不懂，学完这篇，再学 Python源码剖析，再理解】"
   ]
  },
  {
   "cell_type": "markdown",
   "metadata": {},
   "source": [
    "\n",
    "### 递归\n",
    "\n",
    "- 如果一个函数在内部【调用自身】本身，这个函数就是递归函数。\n",
    "\n",
    "【例子】`n! = 1 x 2 x 3 x ... x n`\n"
   ]
  },
  {
   "cell_type": "code",
   "execution_count": 20,
   "metadata": {},
   "outputs": [
    {
     "name": "stdout",
     "output_type": "stream",
     "text": [
      "120\n",
      "120\n"
     ]
    }
   ],
   "source": [
    "# 利用循环\n",
    "n = 5\n",
    "for k in range(1, 5):\n",
    "    n = n * k\n",
    "print(n)  # 120\n",
    "\n",
    "# 利用递归\n",
    "def factorial(n):\n",
    "    if n == 1:\n",
    "        return 1\n",
    "    return n * factorial(n - 1)\n",
    "\n",
    "\n",
    "print(factorial(5)) # 120"
   ]
  },
  {
   "cell_type": "markdown",
   "metadata": {},
   "source": [
    "\n",
    "【例子】斐波那契数列 `f(n)=f(n-1)+f(n-2), f(0)=0 f(1)=1`\n"
   ]
  },
  {
   "cell_type": "code",
   "execution_count": 47,
   "metadata": {},
   "outputs": [
    {
     "name": "stdout",
     "output_type": "stream",
     "text": [
      "[0, 1, 1, 2, 3, 5, 8, 13, 21, 34, 55]\n"
     ]
    }
   ],
   "source": [
    "# 【练习】\n",
    "def fibonacci(n):\n",
    "    if n == 0:\n",
    "        return 0\n",
    "    if n == 1:\n",
    "        return 1\n",
    "    a = fibonacci(n - 1)\n",
    "    b = fibonacci(n - 2)\n",
    "    return a + b\n",
    "    \n",
    "lst = list()\n",
    "for k in range(11):\n",
    "    lst.append(fibonacci(k))\n",
    "print(lst)  \n",
    "# [0, 1, 1, 2, 3, 5, 8, 13, 21, 34, 55]"
   ]
  },
  {
   "cell_type": "code",
   "execution_count": 21,
   "metadata": {
    "scrolled": true
   },
   "outputs": [
    {
     "name": "stdout",
     "output_type": "stream",
     "text": [
      "[0, 1, 1, 2, 3, 5, 8, 13, 21, 34, 55]\n",
      "[0, 1, 1, 2, 3, 5, 8, 13, 21, 34, 55]\n"
     ]
    }
   ],
   "source": [
    "# 利用循环\n",
    "i = 0\n",
    "j = 1\n",
    "lst = list([i, j])\n",
    "for k in range(2, 11):\n",
    "    k = i + j\n",
    "    lst.append(k)\n",
    "    i = j\n",
    "    j = k\n",
    "print(lst)  \n",
    "# [0, 1, 1, 2, 3, 5, 8, 13, 21, 34, 55]\n",
    "\n",
    "# 利用递归\n",
    "def recur_fibo(n):\n",
    "    if n <= 1:\n",
    "        return n\n",
    "    return recur_fibo(n - 1) + recur_fibo(n - 2)\n",
    "\n",
    "\n",
    "lst = list()\n",
    "for k in range(11):\n",
    "    lst.append(recur_fibo(k))\n",
    "print(lst)  \n",
    "# [0, 1, 1, 2, 3, 5, 8, 13, 21, 34, 55]"
   ]
  },
  {
   "cell_type": "markdown",
   "metadata": {},
   "source": [
    "\n",
    "\n",
    "【例子】设置【递归的层数】，Python默认递归层数为 100"
   ]
  },
  {
   "cell_type": "code",
   "execution_count": 22,
   "metadata": {},
   "outputs": [],
   "source": [
    "import sys\n",
    "\n",
    "sys.setrecursionlimit(1000)"
   ]
  },
  {
   "cell_type": "markdown",
   "metadata": {},
   "source": [
    "（2022/04/13 21:09:07 14min）\n",
    "## 【概括】\n",
    "* 这里断续学了几天。\n",
    "* 函数的返回值\n",
    "    * 对象\n",
    "    * `<class 'NoneType'>`\n",
    "* 变量的作用域\n",
    "    * 全局作用域 => 全局变量\n",
    "        * `global`\n",
    "    * 局部作用域 => 局部变量\n",
    "        * `nonlocal`\n",
    "    * 内嵌函数\n",
    "    * 闭包作用域 VS 链式作用域 => 变量可见性\n",
    "* 递归\n",
    "    * 调用自身的结构\n",
    "    * 设置递归层数`sys.setrecursionlimit(1000)`"
   ]
  },
  {
   "cell_type": "markdown",
   "metadata": {},
   "source": [
    "\n",
    "# Lambda 表达式\n",
    "\n",
    "## 匿名函数的定义\n",
    "\n",
    "在 Python 里有两类函数：\n",
    "- 第一类：用 `def` 关键词定义的【正规】函数\n",
    "- 第二类：用 `lambda` 关键词定义的【匿名】函数\n",
    "\n",
    "Python 使用 `lambda` 关键词来创建匿名函数，而非`def`关键词，它【没有函数名】，其语法结构如下：\n",
    "\n",
    "```python\n",
    "lambda argument_list: expression\n",
    "```\n",
    "- `lambda` - 定义匿名函数的关键词。\n",
    "- `argument_list` - 函数参数，它们可以是位置参数、默认参数、关键字参数，和正规函数里的参数类型一样。\n",
    "- `:`- 冒号，在函数参数和表达式中间要加个冒号。\n",
    "- `expression` - 只是一个表达式，输入函数参数，输出一些值。\n",
    "\n",
    "注意：\n",
    "- `expression` 中【没有 return 】语句，因为 lambda 【不需要】它来返回，表达式本身【结果就是返回值】。\n",
    "- 匿名函数拥有自己的【命名空间】，且【不能访问】自己参数列表【之外或全局】命名空间里的参数。\n",
    "\n",
    "【例子】"
   ]
  },
  {
   "cell_type": "code",
   "execution_count": 7,
   "metadata": {},
   "outputs": [
    {
     "name": "stdout",
     "output_type": "stream",
     "text": [
      "<function <lambda> at 0x000001D3FE9AA820>\n",
      "[1, 2, 3, 4, 5, 6, 7, 8, 9, 10]\n"
     ]
    }
   ],
   "source": [
    "# 【练习】\n",
    "test = lambda x: x + 1 # 【相当于给定了一个函数规则】\n",
    "print(test)\n",
    "\n",
    "y = [test(i) for i in range(10)] # 【通过函数规则创建变量映射关系】\n",
    "print(y)"
   ]
  },
  {
   "cell_type": "code",
   "execution_count": 23,
   "metadata": {},
   "outputs": [
    {
     "name": "stdout",
     "output_type": "stream",
     "text": [
      "<function sqr at 0x00000220081D9E18>\n",
      "[0, 1, 4, 9, 16, 25, 36, 49, 64, 81]\n",
      "<function <lambda> at 0x00000220081FF400>\n",
      "[0, 1, 4, 9, 16, 25, 36, 49, 64, 81]\n",
      "30\n",
      "15\n"
     ]
    }
   ],
   "source": [
    "def sqr(x):\n",
    "    return x ** 2\n",
    "\n",
    "print(sqr)\n",
    "# <function sqr at 0x000000BABD3A4400>\n",
    "\n",
    "y = [sqr(x) for x in range(10)]\n",
    "print(y)\n",
    "# [0, 1, 4, 9, 16, 25, 36, 49, 64, 81]\n",
    "\n",
    "lbd_sqr = lambda x: x ** 2\n",
    "print(lbd_sqr)\n",
    "# <function <lambda> at 0x000000BABB6AC1E0>\n",
    "\n",
    "y = [lbd_sqr(x) for x in range(10)]\n",
    "print(y)\n",
    "# [0, 1, 4, 9, 16, 25, 36, 49, 64, 81]\n",
    "\n",
    "sumary = lambda arg1, arg2: arg1 + arg2 # 【看到这个公式，想起斐波那契数列，是否可以以此构建？bb】\n",
    "print(sumary(10, 20))  # 30\n",
    "\n",
    "func = lambda *args: sum(args) # 【可以传递可变参数，或者说一个对象】\n",
    "print(func(1, 2, 3, 4, 5))  # 15"
   ]
  },
  {
   "cell_type": "code",
   "execution_count": 7,
   "metadata": {},
   "outputs": [
    {
     "ename": "SyntaxError",
     "evalue": "invalid syntax (1937389392.py, line 6)",
     "output_type": "error",
     "traceback": [
      "\u001b[1;36m  Input \u001b[1;32mIn [7]\u001b[1;36m\u001b[0m\n\u001b[1;33m    y = [fibo(a, b) for a, b in zip(range(i), range(j)) i += 1]\u001b[0m\n\u001b[1;37m                                                        ^\u001b[0m\n\u001b[1;31mSyntaxError\u001b[0m\u001b[1;31m:\u001b[0m invalid syntax\n"
     ]
    }
   ],
   "source": [
    "# 【斐波那契数列】【未完成】\n",
    "fibo = lambda a, b: a + b\n",
    "sum = [0, 1, 1, 2, 3, ]\n",
    "i = 1\n",
    "j = i + 1\n",
    "y = [fibo(a, b) for a, b in zip(range(i), range(j))]\n",
    "print(y)"
   ]
  },
  {
   "cell_type": "markdown",
   "metadata": {},
   "source": [
    "\n",
    "\n",
    "## 匿名函数的应用\n",
    "\n",
    "【函数式编程】 是指【代码中每一块都是不可变】的，都由【纯函数】的形式组成。这里的纯函数，是指函数本身相互独立、互不影响，对于相同的输入，总会有相同的输出，没有任何副作用。【引入有点莫名其妙】\n",
    "\n",
    "【例子】非函数式编程"
   ]
  },
  {
   "cell_type": "code",
   "execution_count": 13,
   "metadata": {},
   "outputs": [
    {
     "name": "stdout",
     "output_type": "stream",
     "text": [
      "[11, 12, 13]\n"
     ]
    }
   ],
   "source": [
    "def f(x):\n",
    "    for i in range(0, len(x)): # 【len 可变？所以不是函数式编程？】\n",
    "        x[i] += 10\n",
    "    return x\n",
    "\n",
    "\n",
    "x = [1, 2, 3]\n",
    "f(x)\n",
    "print(x)\n",
    "# [11, 12, 13] #【改变了输入的数值】"
   ]
  },
  {
   "cell_type": "markdown",
   "metadata": {},
   "source": [
    "\n",
    "【例子】函数式编程【都不知道想说什么，一句注释也没有的垃圾代码】"
   ]
  },
  {
   "cell_type": "code",
   "execution_count": 14,
   "metadata": {},
   "outputs": [
    {
     "name": "stdout",
     "output_type": "stream",
     "text": [
      "[1, 2, 3]\n"
     ]
    }
   ],
   "source": [
    "def f(x):\n",
    "    y = []\n",
    "    for item in x:\n",
    "        y.append(item + 10)\n",
    "    return y\n",
    "\n",
    "\n",
    "x = [1, 2, 3]\n",
    "f(x)\n",
    "print(x)\n",
    "# [1, 2, 3] # 【输入值 = 输出值】【难道不是因为返回的是 y，而不是 x 才会这样？】【跟函数式有什么关系？】"
   ]
  },
  {
   "cell_type": "markdown",
   "metadata": {},
   "source": [
    "\n",
    "匿名函数 常常应用于函数式编程的高阶函数 (high-order function)中，主要有两种形式：\n",
    "- 参数是函数 (filter, map)\n",
    "- 返回值是函数 (closure)【闭包的返回值一定是函数？那么前面的理解就错了？】\n",
    "\n",
    "\n",
    "如，在 `filter`和`map`函数中的应用：\n",
    "\n",
    "- `filter(function, iterable)` 过滤序列，【过滤掉不符合】条件的元素，返回一个迭代器对象，如果要转换为列表，可以使用 `list()` 来转换。\n",
    "\n",
    "【例子】"
   ]
  },
  {
   "cell_type": "code",
   "execution_count": 16,
   "metadata": {},
   "outputs": [
    {
     "name": "stdout",
     "output_type": "stream",
     "text": [
      "[1, 3, 5, 7, 9]\n"
     ]
    }
   ],
   "source": [
    "odd = lambda x: x % 2 == 1\n",
    "templist = filter(odd, [1, 2, 3, 4, 5, 6, 7, 8, 9]) # 【filter 是内置函数？】【已解决，是的】\n",
    "print(list(templist))  # [1, 3, 5, 7, 9]"
   ]
  },
  {
   "cell_type": "markdown",
   "metadata": {},
   "source": [
    "\n",
    "- `map(function, *iterables)` 根据提供的函数【对指定序列做映射】。\n",
    "\n",
    "【例子】"
   ]
  },
  {
   "cell_type": "code",
   "execution_count": 15,
   "metadata": {},
   "outputs": [
    {
     "name": "stdout",
     "output_type": "stream",
     "text": [
      "[1, 4, 9, 16, 25]\n",
      "[3, 7, 11, 15, 19]\n"
     ]
    }
   ],
   "source": [
    "m1 = map(lambda x: x ** 2, [1, 2, 3, 4, 5])\n",
    "print(list(m1))  \n",
    "# [1, 4, 9, 16, 25]\n",
    "\n",
    "m2 = map(lambda x, y: x + y, [1, 3, 5, 7, 9], [2, 4, 6, 8, 10])#【为什么可以结合 lambda 自动匹配 x 和 y 到后面的两个序列？】\n",
    "print(list(m2))  \n",
    "# [3, 7, 11, 15, 19]"
   ]
  },
  {
   "cell_type": "markdown",
   "metadata": {},
   "source": [
    "\n",
    "\n",
    "\n",
    "除了 Python 这些【内置函数】，我们也可以【自己定义】高阶函数。\n",
    "\n",
    "【例子】"
   ]
  },
  {
   "cell_type": "code",
   "execution_count": 28,
   "metadata": {},
   "outputs": [
    {
     "name": "stdout",
     "output_type": "stream",
     "text": [
      "15\n",
      "5\n",
      "3.0\n"
     ]
    }
   ],
   "source": [
    "def apply_to_list(fun, some_list):\n",
    "    return fun(some_list) # 【这样嵌套，到底什么语法？或者说是预设一个函数，具体的规则由传参决定？Python 是弱数据类型？】\n",
    "\n",
    "lst = [1, 2, 3, 4, 5]\n",
    "print(apply_to_list(sum, lst))\n",
    "# 15\n",
    "\n",
    "print(apply_to_list(len, lst))\n",
    "# 5\n",
    "\n",
    "print(apply_to_list(lambda x: sum(x) / len(x), lst))\n",
    "# 3.0"
   ]
  },
  {
   "cell_type": "markdown",
   "metadata": {},
   "source": [
    "（2022/04/14 18:30:16 17min）\n",
    "## 【概括】\n",
    "* 正规函数 VS 匿名函数\n",
    "```python\n",
    "lambda argument_list: expression\n",
    "```\n",
    "* lambda 表达式\n",
    "    * 不需返回值；\n",
    "    * 私有命名空间、作用域仅在自身范围内。\n",
    "* 非函数式编程（不可变） VS 函数式编程（可变）【未理解】\n",
    "* 应用——high-order function，两种形式：\n",
    "    * 参数是函数 (filter, map)\n",
    "    * 返回值是函数 (closure)\n",
    "* 内置函数 VS 自定义高阶函数：\n",
    "    * `filter(function, iterable)`\n",
    "    * `map(function, *iterables)`\n",
    "    * 自定义高阶函数"
   ]
  },
  {
   "cell_type": "markdown",
   "metadata": {},
   "source": [
    "\n",
    "\n",
    "# 类与对象\n",
    "\n",
    "## 对象 = 属性 + 方法\n",
    "\n",
    "对象是【类的实例】。换句话说，类主要定义对象的【结构】，然后我们以类为【模板】创建对象。类不但包含【方法定义】，而且还包含所有实例【共享的数据】。【如何理解实例共享的数据？就像 C 语言数据结构里面线性表定义的线性空间？但只是把数据放到了同一个存储结构里面，并不能说共享吧。而这里说的“共享数据”我理解的是更偏向于公有、私有属性的说法】\n",
    "\n",
    "### 封装\n",
    "* 封装：信息隐蔽技术\n",
    "\n",
    "我们可以使用关键字 `class` 定义 Python 类，关键字后面紧跟【类的名称、分号和类的实现】。【分号？我认识的分号只有在 C++ 的类当中，C 语言结构体当中，充当末尾可附加语句、别称而使用的】【或者只是笔误，应该是冒号】\n",
    "\n",
    "【例子】"
   ]
  },
  {
   "cell_type": "code",
   "execution_count": 31,
   "metadata": {},
   "outputs": [
    {
     "name": "stdout",
     "output_type": "stream",
     "text": [
      "<__main__.Turtle object at 0x000002200820E898>\n",
      "<class '__main__.Turtle'>\n",
      "<class '__main__.Turtle'>\n",
      "Turtle\n",
      "我正在很努力的向前爬...\n",
      "我正在飞快的向前跑...\n",
      "咬死你咬死你!!\n",
      "<class 'type'>\n"
     ]
    }
   ],
   "source": [
    "class Turtle:  # Python中的类名约定以【大写字母】开头\n",
    "    \"\"\"关于类的一个简单例子\"\"\"\n",
    "    # 属性\n",
    "    color = 'green'\n",
    "    weight = 10\n",
    "    legs = 4\n",
    "    shell = True\n",
    "    mouth = '大嘴'\n",
    "\n",
    "    # 方法\n",
    "    def climb(self):\n",
    "        print('我正在很努力的向前爬...')\n",
    "\n",
    "    def run(self):\n",
    "        print('我正在飞快的向前跑...')\n",
    "\n",
    "    def bite(self):\n",
    "        print('咬死你咬死你!!')\n",
    "\n",
    "    def eat(self):\n",
    "        print('有得吃，真满足...')\n",
    "\n",
    "    def sleep(self):\n",
    "        print('困了，睡了，晚安，zzz')\n",
    "\n",
    "\n",
    "tt = Turtle() # 【创建对象——一个类的实例】\n",
    "print(tt)\n",
    "# <__main__.Turtle object at 0x0000007C32D67F98>\n",
    "\n",
    "print(type(tt))\n",
    "# <class '__main__.Turtle'>\n",
    "\n",
    "print(tt.__class__)\n",
    "# <class '__main__.Turtle'>\n",
    "\n",
    "print(tt.__class__.__name__)\n",
    "# Turtle\n",
    "\n",
    "tt.climb()\n",
    "# 我正在很努力的向前爬...\n",
    "\n",
    "tt.run()\n",
    "# 我正在飞快的向前跑...\n",
    "\n",
    "tt.bite()\n",
    "# 咬死你咬死你!!\n",
    "\n",
    "# Python类也是对象。它们是【type的实例】【意思是类建立在 type 这个方法/结构下？】\n",
    "print(type(Turtle))\n",
    "# <class 'type'>"
   ]
  },
  {
   "cell_type": "markdown",
   "metadata": {},
   "source": [
    "### 继承\n",
    "* 继承：子类【自动共享】父类之间【数据和方法】的机制。\n",
    "\n",
    "【例子】"
   ]
  },
  {
   "cell_type": "code",
   "execution_count": 31,
   "metadata": {},
   "outputs": [
    {
     "name": "stdout",
     "output_type": "stream",
     "text": [
      "[1, 2, 5, 7, 8, 9]\n"
     ]
    }
   ],
   "source": [
    "class MyList(list): # 【把 list 类丢进来，就继承了】\n",
    "    pass\n",
    "\n",
    "\n",
    "lst = MyList([1, 5, 2, 7, 8]) #【相当于创建了一个 list 实例】\n",
    "lst.append(9)\n",
    "lst.sort()\n",
    "print(lst)\n",
    "\n",
    "# [1, 2, 5, 7, 8, 9]"
   ]
  },
  {
   "cell_type": "markdown",
   "metadata": {},
   "source": [
    "\n",
    "### 多态\n",
    "* 多态：【不同对象】对【同一方法】响应【不同的行动】。【对象-方法-行动】\n",
    "\n",
    "【例子】"
   ]
  },
  {
   "cell_type": "code",
   "execution_count": 33,
   "metadata": {},
   "outputs": [
    {
     "name": "stdout",
     "output_type": "stream",
     "text": [
      "pig is walking\n"
     ]
    }
   ],
   "source": [
    "class Animal:\n",
    "    def run(self):\n",
    "        raise AttributeError('子类必须实现这个方法') # 【如何区分父类、子类？这里看不出两者的关系】【已解决】\n",
    "\n",
    "\n",
    "class People(Animal): # 【这里父类是 Animal，丢进参数列表的】\n",
    "    def run(self):\n",
    "        print('人正在走')\n",
    "\n",
    "\n",
    "class Pig(Animal):\n",
    "    def run(self):\n",
    "        print('pig is walking')\n",
    "\n",
    "\n",
    "class Dog(Animal):\n",
    "    def run(self):\n",
    "        print('dog is running')\n",
    "\n",
    "\n",
    "def func(animal):\n",
    "    animal.run()\n",
    "\n",
    "\n",
    "func(Pig())\n",
    "# pig is walking"
   ]
  },
  {
   "cell_type": "markdown",
   "metadata": {},
   "source": [
    "\n",
    "---\n",
    "## self 是什么？\n",
    "\n",
    "Python 的 `self` 相当于 C++ 的 `this` 指针。【这前面没有优先解释。这里引入其他语言的概念而不直接解释 Python 的 self，是一个很大的问题，也对不起课程叫做“入门”的原则】\n",
    "\n",
    "【例子】"
   ]
  },
  {
   "cell_type": "markdown",
   "metadata": {},
   "source": [
    "### 【self 剖析】\n",
    "* C++ 的 `this`\n",
    "    * 对象指针\n",
    "    * https://xiaoke-lps.kaikeba.com/demonstration/course/7c75fef0-6731-451d-a42b-fbc70cf5ba92/class/57309e29-56f3-4835-bc89-9eae9bef713a?app_data=Y29udGVudF9pZD00ODA0OTM%3D&backUrl=https%3A%2F%2Flearn.kaikeba.com%2Fcatalog%2F226269%3Ftype%3D1\n",
    "* 其实读到后面，就知道 `self` 的意义在于指代类名，以及一些内置方法 => 使用后可以进行必要的类操作，并且不需要额外起名字 => 节省时间、精力"
   ]
  },
  {
   "cell_type": "code",
   "execution_count": 34,
   "metadata": {},
   "outputs": [
    {
     "name": "stdout",
     "output_type": "stream",
     "text": [
      "<__main__.Test object at 0x000002200820EA20>\n",
      "<class '__main__.Test'>\n"
     ]
    }
   ],
   "source": [
    "class Test:\n",
    "    def prt(self):\n",
    "        print(self)\n",
    "        print(self.__class__)\n",
    "\n",
    "\n",
    "t = Test()\n",
    "t.prt()\n",
    "# <__main__.Test object at 0x000000BC5A351208>\n",
    "# <class '__main__.Test'>"
   ]
  },
  {
   "cell_type": "markdown",
   "metadata": {},
   "source": [
    "\n",
    "类的方法与普通的函数只有一个特别的【区别】 —— 它们【必须有一个额外的第一个参数名称】（对应于该实例，即该对象本身），按照惯例它的名称是 `self`。在调用方法时，我们【无需明确提供】与【参数`self`】相对应的参数。【所以`self`本质是一个参数？用来指代本该每次命名而传入的自身名称？由于不同的类，名称不同，但是访问诸如`__main__.ClassName`的内容则需要用到类的名称，因此共性 => 全部以`self`指代各异的名称，从而调用的时候，可以省略具体类名？】【第一参数好像在什么地方见过，必须放在类的方法参数里作为首个参数的，想不起来了，但一定有一个对应关系 => 应该是令类的方法可以指向所属类的一个参数，或者说指明属于哪个类】\n",
    "\n",
    "\n",
    "【例子】"
   ]
  },
  {
   "cell_type": "code",
   "execution_count": 12,
   "metadata": {},
   "outputs": [
    {
     "name": "stdout",
     "output_type": "stream",
     "text": [
      "我叫球A,该死的，谁踢我...\n",
      "我叫球B,该死的，谁踢我...\n"
     ]
    }
   ],
   "source": [
    "# class Ball: # 【果然，把 self 换成类的名字，代码正常运行 => 说明 self 就是类本身】\n",
    "#     def setName(Ball, name):\n",
    "#         Ball.name = name\n",
    "\n",
    "#     def kick(Ball):\n",
    "#         print(\"我叫%s,该死的，谁踢我...\" % Ball.name)\n",
    "\n",
    "class Ball:\n",
    "    def setName(self, name): # 【删掉 self 报错】【TypeError: setName() takes 1 positional argument but 2 were given】\n",
    "        self.name = name\n",
    "\n",
    "    def kick(self):\n",
    "        print(\"我叫%s,该死的，谁踢我...\" % self.name)\n",
    "\n",
    "\n",
    "a = Ball()\n",
    "a.setName(\"球A\")\n",
    "b = Ball()\n",
    "b.setName(\"球B\")\n",
    "c = Ball()\n",
    "c.setName(\"球C\")\n",
    "a.kick()\n",
    "# 我叫球A,该死的，谁踢我...\n",
    "b.kick()\n",
    "# 我叫球B,该死的，谁踢我..."
   ]
  },
  {
   "cell_type": "markdown",
   "metadata": {},
   "source": [
    "\n",
    "---\n",
    "## Python 的魔法方法\n",
    "\n",
    "据说，Python 的对象天生拥有一些神奇的方法，它们是面向对象的 Python 的【一切】...\n",
    "\n",
    "它们是可以给你的类增加魔力的特殊方法...\n",
    "\n",
    "如果你的对象实现了这些方法中的某一个，那么这个方法就会在【特殊】的情况下被 Python 所【调用】，而这一切都是【自动】发生的...\n",
    "\n",
    "类有一个名为`__init__(self[, param1, param2...])`的魔法方法，该方法在【类实例化时】会自动调用。\n",
    "\n",
    "【例子】"
   ]
  },
  {
   "cell_type": "code",
   "execution_count": 36,
   "metadata": {},
   "outputs": [
    {
     "name": "stdout",
     "output_type": "stream",
     "text": [
      "我叫球A,该死的，谁踢我...\n",
      "我叫球B,该死的，谁踢我...\n"
     ]
    }
   ],
   "source": [
    "class Ball:\n",
    "    def __init__(self, name): #【用__init__直接可以初始化，类的初始化应该都是必须的，因此有此方法，可以不必额外起名，节省更多时间】【原来如此，每每想起刚开始自学 Python 的时候那种茫然，现在就看懂了】\n",
    "        self.name = name\n",
    "\n",
    "    def kick(self):\n",
    "        print(\"我叫%s,该死的，谁踢我...\" % self.name)\n",
    "\n",
    "\n",
    "a = Ball(\"球A\")\n",
    "b = Ball(\"球B\")\n",
    "c = Ball(\"球C\")\n",
    "a.kick()\n",
    "# 我叫球A,该死的，谁踢我...\n",
    "b.kick()\n",
    "# 我叫球B,该死的，谁踢我..."
   ]
  },
  {
   "cell_type": "markdown",
   "metadata": {},
   "source": [
    "\n",
    "---\n",
    "## 公有和私有\n",
    "\n",
    "在 Python 中定义私有变量只需要在变量名或函数名前加上“ __ ”两个【下划线】，那么这个函数或变量就会为私有的了。\n",
    "* 【私有属性-分析】\n",
    "    * 【伪私有应该说的是，通过内置方法仍然可以访问私有变量】\n",
    "    * 【那么与 C++ 不同，说明 Python 封装严密性不强？那如何确保完美封装呢？】\n",
    "    * 【但是另一方面来说，由于 Python 的内存操作封装得很好（私有堆空间），应该基本不会出现越权编译而影响硬件安全性的问题】\n",
    "    * 【所以可能私有的严密性不是必须的，但始终不懂“防君子不防小人”的意义何在】\n",
    "    * 【越来越想了解“私有堆空间”的结构了】\n",
    "\n",
    "【例子】类的私有属性实例"
   ]
  },
  {
   "cell_type": "code",
   "execution_count": 13,
   "metadata": {
    "scrolled": true
   },
   "outputs": [
    {
     "name": "stdout",
     "output_type": "stream",
     "text": [
      "1\n",
      "2\n",
      "2\n",
      "2\n"
     ]
    },
    {
     "ename": "AttributeError",
     "evalue": "'JustCounter' object has no attribute '__secretCount'",
     "output_type": "error",
     "traceback": [
      "\u001b[1;31m---------------------------------------------------------------------------\u001b[0m",
      "\u001b[1;31mAttributeError\u001b[0m                            Traceback (most recent call last)",
      "Input \u001b[1;32mIn [13]\u001b[0m, in \u001b[0;36m<cell line: 22>\u001b[1;34m()\u001b[0m\n\u001b[0;32m     17\u001b[0m \u001b[38;5;28mprint\u001b[39m(counter\u001b[38;5;241m.\u001b[39m_JustCounter__secretCount)  \u001b[38;5;66;03m# 2 【伪私有应该说的是，通过内置方法仍然可以访问私有变量】\u001b[39;00m\n\u001b[0;32m     18\u001b[0m                                             \u001b[38;5;66;03m#【那么与 C++ 不同，说明 Python 封装严密性不强？那如何确保完美封装呢？】\u001b[39;00m\n\u001b[0;32m     19\u001b[0m                                             \u001b[38;5;66;03m# 【但是另一方面来说，由于 Python 的内存操作封装得很好（私有堆空间），应该基本不会出现越权编译而影响硬件安全性的问题】\u001b[39;00m\n\u001b[0;32m     20\u001b[0m                                             \u001b[38;5;66;03m#【所以可能私有的严密性不是必须的，但始终不懂“防君子不防小人”的意义何在】\u001b[39;00m\n\u001b[0;32m     21\u001b[0m                                             \u001b[38;5;66;03m#【越来越想了解“私有堆空间”的结构了】\u001b[39;00m\n\u001b[1;32m---> 22\u001b[0m \u001b[38;5;28mprint\u001b[39m(\u001b[43mcounter\u001b[49m\u001b[38;5;241;43m.\u001b[39;49m\u001b[43m__secretCount\u001b[49m)\n",
      "\u001b[1;31mAttributeError\u001b[0m: 'JustCounter' object has no attribute '__secretCount'"
     ]
    }
   ],
   "source": [
    "class JustCounter:\n",
    "    __secretCount = 0  # 私有变量【其实可以对应 C++ 的 private, public 逻辑应该也是一样的】【可以用机械钟表的例子来理解】\n",
    "    publicCount = 0  # 公开变量\n",
    "\n",
    "    def count(self):\n",
    "        self.__secretCount += 1\n",
    "        self.publicCount += 1\n",
    "        print(self.__secretCount)\n",
    "\n",
    "\n",
    "counter = JustCounter()\n",
    "counter.count()  # 1\n",
    "counter.count()  # 2\n",
    "print(counter.publicCount)  # 2\n",
    "\n",
    "# Python的私有为【伪私有】\n",
    "print(counter._JustCounter__secretCount)  # 2 【伪私有应该说的是，通过内置方法仍然可以访问私有变量】\n",
    "                                            #【那么与 C++ 不同，说明 Python 封装严密性不强？那如何确保完美封装呢？】\n",
    "                                            # 【但是另一方面来说，由于 Python 的内存操作封装得很好（私有堆空间），应该基本不会出现越权编译而影响硬件安全性的问题】\n",
    "                                            #【所以可能私有的严密性不是必须的，但始终不懂“防君子不防小人”的意义何在】\n",
    "                                            #【越来越想了解“私有堆空间”的结构了】\n",
    "print(counter.__secretCount)  \n",
    "# AttributeError: 'JustCounter' object has no attribute '__secretCount'"
   ]
  },
  {
   "cell_type": "markdown",
   "metadata": {},
   "source": [
    "\n",
    "\n",
    "【例子】类的私有方法实例【不难理解，有私有变量自然有私有方法】【所以“私有”的意义在于只让类来调用？稍微与外部程序接口隔开？】【其实相当于类的内置方法，是否会自动调用？】【否】【可以通过类中的公有成员间接访问】【但可否通过“伪私有”的方法调用？】【已解决，可以】"
   ]
  },
  {
   "cell_type": "code",
   "execution_count": 30,
   "metadata": {},
   "outputs": [
    {
     "name": "stdout",
     "output_type": "stream",
     "text": [
      "name  :  老马的程序人生\n",
      "url :  https://blog.csdn.net/LSGO_MYP\n",
      "这是公共方法\n",
      "这是私有方法\n",
      "这是私有方法\n"
     ]
    }
   ],
   "source": [
    "class Site:\n",
    "    def __init__(self, name, url):\n",
    "        self.name = name  # public\n",
    "        self.__url = url  # private\n",
    "\n",
    "    def who(self):\n",
    "        print('name  : ', self.name)\n",
    "        print('url : ', self.__url)\n",
    "\n",
    "    def __foo(self):  # 私有方法【后自动调用？】【已解决，否】\n",
    "        print('这是私有方法')\n",
    "\n",
    "    def foo(self):  # 公共方法【先调用】\n",
    "        print('这是公共方法')\n",
    "        self.__foo() # 【私有方法需要用公有方法，本质是就是用类中的公有成员（属性、方法）才能间接访问】\n",
    "\n",
    "\n",
    "x = Site('老马的程序人生', 'https://blog.csdn.net/LSGO_MYP') #【初始化 name，url】\n",
    "x.who() #【调用记录的信息】\n",
    "# name  :  老马的程序人生\n",
    "# url :  https://blog.csdn.net/LSGO_MYP\n",
    "\n",
    "x.foo()\n",
    "# 这是公共方法\n",
    "# 这是私有方法\n",
    "\n",
    "x._Site__foo() #【可以通过“伪私有”的方法访问——间接访问】\n",
    "\n",
    "# x.__foo() #【直接访问，报错】\n",
    "# AttributeError: 'Site' object has no attribute '__foo'"
   ]
  },
  {
   "cell_type": "markdown",
   "metadata": {},
   "source": [
    "\n",
    "---\n",
    "##  继承\n",
    "\n",
    "Python 同样支持类的继承，【派生类】的定义如下所示：\n",
    "\n",
    "```python\n",
    "class DerivedClassName(BaseClassName): #【把基类名丢进去，就相当于继承了？】【已解决，是的】\n",
    "    statement-1\n",
    "         .\n",
    "         .\n",
    "         .\n",
    "    statement-N\n",
    "```\n",
    "\n",
    "`BaseClassName`（基类名）必须与派生类定义在【一个作用域内】。除了类，还可以用【表达式】，基类定义在另一个模块中时这一点非常有用：\n",
    "```python\n",
    "class DerivedClassName(modname.BaseClassName): # 【也可以把表达式丢进来】【如何理解 modname 与另一模板？】\n",
    "    statement-1\n",
    "         .\n",
    "         .\n",
    "         .\n",
    "    statement-N\n",
    "```\n",
    "\n",
    "【例子】如果子类中定义与父类【同名】的方法或属性，则会【自动覆盖】父类对应的方法或属性。【没记错的话，这就是子类的继承特性，可以用遗产的例子解释（在我没有找到更好的例子之前，因为不能很好解释“覆盖”的行为）】【简单来说，就是父类做过的事情，子类要做的时候可以省下很多功夫】\n"
   ]
  },
  {
   "cell_type": "code",
   "execution_count": 37,
   "metadata": {},
   "outputs": [
    {
     "name": "stdout",
     "output_type": "stream",
     "text": [
      "小马的程序人生 说: 我 10 岁了，我在读 3 年级\n"
     ]
    }
   ],
   "source": [
    "# 类定义\n",
    "class people:\n",
    "    # 定义基本属性\n",
    "    name = ''\n",
    "    age = 0\n",
    "    # 定义私有属性,私有属性在【类外部无法直接】进行访问\n",
    "    __weight = 0\n",
    "\n",
    "    # 定义构造方法\n",
    "    def __init__(self, n, a, w):\n",
    "        self.name = n\n",
    "        self.age = a\n",
    "        self.__weight = w\n",
    "\n",
    "    def speak(self):\n",
    "        print(\"%s 说: 我 %d 岁。\" % (self.name, self.age))\n",
    "\n",
    "\n",
    "# 单继承示例\n",
    "class student(people):\n",
    "    grade = ''\n",
    "\n",
    "    def __init__(self, n, a, w, g):\n",
    "        # 调用父类的构函\n",
    "        people.__init__(self, n, a, w) #【覆盖】【原来是这样！父类做了的，子类就可以省很多功夫了，剩下的就是有差别的，单独操作】\n",
    "        self.grade = g\n",
    "\n",
    "    # 覆写父类的方法\n",
    "    def speak(self):\n",
    "        print(\"%s 说: 我 %d 岁了，我在读 %d 年级\" % (self.name, self.age, self.grade))\n",
    "\n",
    "\n",
    "s = student('小马的程序人生', 10, 60, 3) #【n ,a:10, w:60 ,g:3】\n",
    "s.speak()\n",
    "# 小马的程序人生 说: 我 10 岁了，我在读 3 年级"
   ]
  },
  {
   "cell_type": "markdown",
   "metadata": {},
   "source": [
    "\n",
    "注意：如果上面的程序去掉：`people.__init__(self, n, a, w)`，则输出：` 说: 我 0 岁了，我在读 3 年级`，因为子类的构造方法把父类的构造方法覆盖了。\n",
    "\n",
    "【例子】"
   ]
  },
  {
   "cell_type": "code",
   "execution_count": 35,
   "metadata": {},
   "outputs": [
    {
     "name": "stdout",
     "output_type": "stream",
     "text": [
      "我的位置 9 6\n",
      "吃货的梦想就是天天有得吃！\n",
      "我的位置 -1 7\n"
     ]
    }
   ],
   "source": [
    "import random\n",
    "\n",
    "class Fish:\n",
    "    def __init__(self):\n",
    "        self.x = random.randint(0, 10)\n",
    "        self.y = random.randint(0, 10)\n",
    "\n",
    "    def move(self):\n",
    "        self.x -= 1\n",
    "        print(\"我的位置\", self.x, self.y)\n",
    "\n",
    "\n",
    "class GoldFish(Fish):  # 金鱼\n",
    "    pass\n",
    "\n",
    "\n",
    "class Carp(Fish):  # 鲤鱼\n",
    "    pass\n",
    "\n",
    "\n",
    "class Salmon(Fish):  # 三文鱼\n",
    "    pass\n",
    "\n",
    "\n",
    "class Shark(Fish):  # 鲨鱼\n",
    "    def __init__(self):\n",
    "        Fish.__init__(self) # 【AttributeError: 'Shark' object has no attribute 'x'】【对比上一个代码案例，这里不需要引入外部实参来初始化】\n",
    "        self.hungry = True\n",
    "\n",
    "    def eat(self):\n",
    "        if self.hungry:\n",
    "            print(\"吃货的梦想就是天天有得吃！\")\n",
    "            self.hungry = False\n",
    "        else:\n",
    "            print(\"太撑了，吃不下了！\")\n",
    "            self.hungry = True\n",
    "\n",
    "\n",
    "g = GoldFish()\n",
    "g.move()  # 我的位置 9 4\n",
    "s = Shark()\n",
    "s.eat() # 吃货的梦想就是天天有得吃！\n",
    "s.move()  \n",
    "# AttributeError: 'Shark' object has no attribute 'x'"
   ]
  },
  {
   "cell_type": "markdown",
   "metadata": {},
   "source": [
    "解决该问题可用以下两种方式：\n",
    "- 调用【未绑定】的父类方法`Fish.__init__(self)`【这里的绑定是那个“绑定”？】\n"
   ]
  },
  {
   "cell_type": "code",
   "execution_count": 38,
   "metadata": {},
   "outputs": [],
   "source": [
    "class Shark(Fish):  # 鲨鱼\n",
    "    def __init__(self):\n",
    "        Fish.__init__(self)#【就是这里】\n",
    "        self.hungry = True\n",
    "\n",
    "    def eat(self):\n",
    "        if self.hungry:\n",
    "            print(\"吃货的梦想就是天天有得吃！\")\n",
    "            self.hungry = False\n",
    "        else:\n",
    "            print(\"太撑了，吃不下了！\")\n",
    "            self.hungry = True"
   ]
  },
  {
   "cell_type": "markdown",
   "metadata": {},
   "source": [
    "\n",
    "- 使用super函数`super().__init__()`【super() 等价于替代父类名称？】"
   ]
  },
  {
   "cell_type": "code",
   "execution_count": 39,
   "metadata": {},
   "outputs": [],
   "source": [
    "class Shark(Fish):  # 鲨鱼\n",
    "    def __init__(self):\n",
    "        super().__init__() # 【super() 等价于替代父类名称？】\n",
    "        self.hungry = True\n",
    "\n",
    "    def eat(self):\n",
    "        if self.hungry:\n",
    "            print(\"吃货的梦想就是天天有得吃！\")\n",
    "            self.hungry = False\n",
    "        else:\n",
    "            print(\"太撑了，吃不下了！\")\n",
    "            self.hungry = True"
   ]
  },
  {
   "cell_type": "markdown",
   "metadata": {},
   "source": [
    "\n",
    "Python 虽然支持多继承的形式，但我们一般【不使用多继承】，因为容易引起【混乱】。\n",
    "\n",
    "```python\n",
    "class DerivedClassName(Base1, Base2, Base3):\n",
    "    statement-1\n",
    "         .\n",
    "         .\n",
    "         .\n",
    "    statement-N\n",
    "```\n",
    "\n",
    "\n",
    "需要注意圆括号中【父类的顺序】，若是父类中有【相同】的方法名，而在子类使用时未指定，Python 从左至右搜索，即方法在子类中未找到时，【从左到右查找父类中是否包含方法】。\n",
    "\n",
    "【例子】"
   ]
  },
  {
   "cell_type": "code",
   "execution_count": 44,
   "metadata": {},
   "outputs": [
    {
     "name": "stdout",
     "output_type": "stream",
     "text": [
      "我叫 Tim，我是一个演说家，我演讲的主题是 Python\n",
      "Tim 说: 我 25 岁了，我在读 4 年级\n"
     ]
    }
   ],
   "source": [
    "# 类定义\n",
    "class People:\n",
    "    name = ''\n",
    "    age = 0\n",
    "    __weight = 0\n",
    "    def __init__(self, n, a, w):\n",
    "        self.name = n\n",
    "        self.age = a\n",
    "        self.__weight = w\n",
    "    def speak(self):\n",
    "        print(\"%s 说: 我 %d 岁。\" % (self.name, self.age))\n",
    "\n",
    "# 单继承示例\n",
    "class Student(People): # 【子类】\n",
    "    grade = ''\n",
    "    def __init__(self, n, a, w, g):\n",
    "        People.__init__(self, n, a, w)\n",
    "        self.grade = g\n",
    "    # 覆写父类的方法\n",
    "    def speak(self):\n",
    "        print(\"%s 说: 我 %d 岁了，我在读 %d 年级\" % (self.name, self.age, self.grade))\n",
    "\n",
    "# 另一个类，多重继承之前的准备\n",
    "class Speaker:\n",
    "    topic = ''\n",
    "    name = '' #【一个单独的父类】有相同属性 name\n",
    "    def __init__(self, n, t):\n",
    "        self.name = n\n",
    "        self.topic = t\n",
    "    def speak(self): # 【有相同方法 speak】\n",
    "        print(\"我叫 %s，我是一个演说家，我演讲的主题是 %s\" % (self.name, self.topic))\n",
    "\n",
    "# 多重继承\n",
    "class Sample01(Speaker, Student):\n",
    "    a = ''\n",
    "    def __init__(self, n, a, w, g, t):\n",
    "        Student.__init__(self, n, a, w, g)\n",
    "        Speaker.__init__(self, n, t)\n",
    "\n",
    "# 【方法名同】，默认调用的是在括号中【排前】的父类的方法\n",
    "test = Sample01(\"Tim\", 25, 80, 4, \"Python\") #【# 我叫 Tim，我是一个演说家，我演讲的主题是 Python】\n",
    "test.speak() #【父类顺序，调用 Speaker 的 speak 方法，覆盖了 student 的】\n",
    "\n",
    "class Sample02(Student, Speaker):\n",
    "    a = ''\n",
    "    def __init__(self, n, a, w, g, t):\n",
    "        Student.__init__(self, n, a, w, g)\n",
    "        Speaker.__init__(self, n, t)\n",
    "\n",
    "# 方法名同，默认调用的是在括号中【排前】的父类的方法\n",
    "test = Sample02(\"Tim\", 25, 80, 4, \"Python\")\n",
    "test.speak()  \n",
    "# Tim 说: 我 25 岁了，我在读 4 年级"
   ]
  },
  {
   "cell_type": "markdown",
   "metadata": {},
   "source": [
    "（2022/04/14 22:40:04 同下）\n",
    "## 【概括】\n",
    "* 对象是类的实例。\n",
    "    * 类——定义对象的【结构】\n",
    "        * 方法定义\n",
    "        * 共享数据\n",
    "* OOP 三大特征\n",
    "    * 封装：信息隐蔽技术。\n",
    "    * 继承：子类自动共享父类之间数据和方法的机制。\n",
    "    * 多态：不同对象对同一方法响应不同的行动。\n",
    "* `this`指针 VS `self`参数\n",
    "    * `self`的意义：指代类名【以及一些内置方法？】 => 使用后可进行必要的类操作，不需要额外起名字 => 节省时间、精力\n",
    "    * `self`的本质是对类的共性的一种便捷抽象。\n",
    "* 类的方法 VS 普通函数\n",
    "    * 必须有一个第一参数。\n",
    "* 魔法方法：\n",
    "    * 初始化\n",
    "        * `__init__(self[, param1, param2...])`\n",
    "* 公有 VS 私有\n",
    "    * 私有 => 通过公有属性/方法 => 间接访问\n",
    "        * 私有变量/属性\n",
    "        * 私有方法\n",
    "    * 【私有属性-分析】\n",
    "        * “伪私有”——通过内置方法（`self._ClassName__privateMothed`）仍然可以访问私有变量\n",
    "        * 【那么与 C++ 不同，说明 Python 封装严密性不强？那如何确保完美封装呢？】\n",
    "        * 【但是另一方面来说，由于 Python 的内存操作封装得很好（私有堆空间），应该基本不会出现越权编译而影响硬件安全性的问题】\n",
    "        * 【所以可能私有的严密性不是必须的，但始终不懂“防君子不防小人”的意义何在】\n",
    "        * 【越来越想了解“私有堆空间”的结构了】\n",
    "* 疑问：\n",
    "    * 如何理解实例共享的数据？\n",
    "        * 就像 C 语言数据结构里面线性表定义的线性空间？但只是把数据放到了同一个存储结构里面，并不能说共享吧。\n",
    "        * 而这里说的“共享数据”我理解的是更偏向于公有、私有属性的说法\n",
    "    * 如何区分父类、子类？【已解决】\n",
    "        * 丢进参数列表的基类名 / 表达式 => 父"
   ]
  },
  {
   "cell_type": "markdown",
   "metadata": {},
   "source": [
    "（2022/04/14 22:39:10 2h40min）\n",
    "## 【概括-继承】\n",
    "* 类的继承方法（派生类的定义） => 相同作用域\n",
    "    * 基类名\n",
    "    * 表达式\n",
    "* 子类\n",
    "    * 自动覆盖父类对应的同名方法 / 属性。\n",
    "    * 简单来说，就是【父类做过的】事情，子类要做的时候可以【省下很多】功夫。\n",
    "* 初始化的代称\n",
    "    * `super().__init__()`【super() 等价于替代父类名称？】\n",
    "* 多继承：\n",
    "    * 一般【不使用】多继承，因为容易引起混乱。\n",
    "    * 父类的顺序将影响同名方法的执行，同名若干个方法，只会执行前排第一个匹配的一次。【一句话，python 支持，别用】\n",
    "* 疑问：\n",
    "    * 继承 VS 绑定【这里的绑定是那个“绑定”？下文似乎有讲解】"
   ]
  },
  {
   "cell_type": "markdown",
   "metadata": {},
   "source": [
    "\n",
    "## 组合\n",
    "\n",
    "【例子】\n",
    "* 【太水了，这里根本没说组合的相关信息；组合跟格式化输出有什么不同?】"
   ]
  },
  {
   "cell_type": "code",
   "execution_count": 48,
   "metadata": {},
   "outputs": [
    {
     "name": "stdout",
     "output_type": "stream",
     "text": [
      "水池里面有乌龟2只，小鱼3条\n"
     ]
    }
   ],
   "source": [
    "class Turtle:\n",
    "    def __init__(self, x):\n",
    "        self.num = x\n",
    "\n",
    "\n",
    "class Fish:\n",
    "    def __init__(self, x):\n",
    "        self.num = x\n",
    "\n",
    "\n",
    "class Pool:\n",
    "    def __init__(self, x, y):\n",
    "        self.turtle = Turtle(x)\n",
    "        self.fish = Fish(y)\n",
    "\n",
    "    def print_num(self):\n",
    "        print(\"水池里面有乌龟%s只，小鱼%s条\" % (self.turtle.num, self.fish.num))\n",
    "\n",
    "\n",
    "p = Pool(2, 3)\n",
    "p.print_num()\n",
    "# 水池里面有乌龟2只，小鱼3条"
   ]
  },
  {
   "cell_type": "markdown",
   "metadata": {},
   "source": [
    "\n",
    "\n",
    "## 类、类对象和实例对象\n",
    "\n",
    "![类对象和实例对象](https://img-blog.csdnimg.cn/20191007090316462.png)\n",
    "\n",
    "类对象：【创建一个类】，其实也是一个对象也在内存开辟了一块空间，称为类对象，【类对象只有一个】。【什么意思？】\n",
    "\n",
    "> class A(object):<br>\n",
    "> &nbsp; &nbsp; &nbsp; &nbsp;pass\n",
    "\n",
    "实例对象：就是通过实例化类创建的对象，称为实例对象，实例对象可以有多个。\n",
    "\n",
    "【例子】"
   ]
  },
  {
   "cell_type": "code",
   "execution_count": 49,
   "metadata": {},
   "outputs": [],
   "source": [
    "class A(object): #【创建了一个子类】\n",
    "    pass\n",
    "\n",
    "# 实例化对象 a、b、c都属于实例对象。\n",
    "a = A()\n",
    "b = A()\n",
    "c = A()"
   ]
  },
  {
   "cell_type": "markdown",
   "metadata": {},
   "source": [
    "\n",
    "类属性：类里面方法外面定义的变量称为类属性。类属性所属于类对象并且多个实例对象之间【共享】同一个类属性，说白了就是类属性【所有的通过该类实例化的对象】都能共享。\n",
    "\n",
    "【例子】"
   ]
  },
  {
   "cell_type": "code",
   "execution_count": 3,
   "metadata": {},
   "outputs": [],
   "source": [
    "class A():\n",
    "    a = 0  #类属性\n",
    "    def __init__(self, xx):\n",
    "        A.a = xx  #使用类属性可以通过 （类名.类属性）调用。"
   ]
  },
  {
   "cell_type": "markdown",
   "metadata": {},
   "source": [
    "\n",
    "\n",
    "\n",
    "实例属性：实例属性和具体的某个实例对象有关系，并且一个实例对象和另外一个实例对象是【不共享】属性的，说白了实例属性只能在自己的对象里面使用，其他的对象不能直接使用，因为`self`是谁调用，它的值就属于该对象。\n",
    "\n",
    "【例子】"
   ]
  },
  {
   "cell_type": "code",
   "execution_count": 3,
   "metadata": {},
   "outputs": [
    {
     "name": "stdout",
     "output_type": "stream",
     "text": [
      "类对象.类属性的值: 100\n",
      "self.类属性的值 100\n",
      "self.实例属性的值 100\n",
      "类对象.类属性的值: 100\n",
      "self.类属性的值 100\n",
      "self.实例属性的值 100\n",
      "类对象.类属性的值: 100\n",
      "self.类属性的值 200\n",
      "self.实例属性的值 200\n",
      "类对象.类属性的值: 100\n",
      "self.类属性的值 100\n",
      "self.实例属性的值 100\n",
      "类对象.类属性的值: 300\n",
      "self.类属性的值 200\n",
      "self.实例属性的值 200\n",
      "类对象.类属性的值: 300\n",
      "self.类属性的值 300\n",
      "self.实例属性的值 100\n"
     ]
    }
   ],
   "source": [
    "# 创建类对象\n",
    "class Test(object):\n",
    "    class_attr = 100  # 类属性\n",
    "\n",
    "    def __init__(self):\n",
    "        self.sl_attr = 100  # 实例属性【为什么要区分实例属性？】\n",
    "\n",
    "    def func(self):\n",
    "        print('类对象.类属性的值:', Test.class_attr)  # 调用类属性【这是最一般的调用方式】\n",
    "        print('self.类属性的值', self.class_attr)  # 相当于把类属性 变成实例属性【为什么相当于变成实例属性？】【不是等价于(类名.类属性)？】\n",
    "        print('self.实例属性的值', self.sl_attr)  # 调用实例属性\n",
    "\n",
    "\n",
    "a = Test()\n",
    "a.func()\n",
    "# 类对象.类属性的值: 100\n",
    "# self.类属性的值 100\n",
    "# self.实例属性的值 100\n",
    "\n",
    "b = Test()\n",
    "b.func()\n",
    "# 类对象.类属性的值: 100\n",
    "# self.类属性的值 100\n",
    "# self.实例属性的值 100\n",
    "\n",
    "a.class_attr = 200\n",
    "a.sl_attr = 200\n",
    "a.func()\n",
    "# 类对象.类属性的值: 100 【不变，why？】【应该是因为调用的是类本身的内部属性，应该以 self 调用为准】\n",
    "# self.类属性的值 200\n",
    "# self.实例属性的值 200\n",
    "\n",
    "b.func() # 【全部不变，说明两个实例的属性是独立的】\n",
    "# 类对象.类属性的值: 100\n",
    "# self.类属性的值 100\n",
    "# self.实例属性的值 100\n",
    "\n",
    "Test.class_attr = 300 # 【当直接修改原始类的属性时，实例对象的值也发生变化】\n",
    "a.func()\n",
    "# 类对象.类属性的值: 300 # 【同步变化】\n",
    "# self.类属性的值 200\n",
    "# self.实例属性的值 200\n",
    "\n",
    "# b.class_attr = 200 # 【若已执行（self.类属性的值）的赋值操作，那么将变为 200，不受 300 的影响】\n",
    "b.func()\n",
    "# 类对象.类属性的值: 300 # 【同步变化】\n",
    "# self.类属性的值 300 # 【这个为什么也会跟着变？】【应该跟 b 没有进行赋值有关——表示不会覆盖；本质还是父子类的关系】\n",
    "# self.实例属性的值 100"
   ]
  },
  {
   "cell_type": "markdown",
   "metadata": {},
   "source": [
    "\n",
    "注意：【属性与方法名】相同，属性会【覆盖】方法。\n",
    "\n",
    "【例子】"
   ]
  },
  {
   "cell_type": "code",
   "execution_count": 6,
   "metadata": {},
   "outputs": [
    {
     "name": "stdout",
     "output_type": "stream",
     "text": [
      "x_man\n",
      "1\n"
     ]
    },
    {
     "ename": "TypeError",
     "evalue": "'int' object is not callable",
     "output_type": "error",
     "traceback": [
      "\u001b[1;31m---------------------------------------------------------------------------\u001b[0m",
      "\u001b[1;31mTypeError\u001b[0m                                 Traceback (most recent call last)",
      "Input \u001b[1;32mIn [6]\u001b[0m, in \u001b[0;36m<cell line: 10>\u001b[1;34m()\u001b[0m\n\u001b[0;32m      8\u001b[0m aa\u001b[38;5;241m.\u001b[39mx \u001b[38;5;241m=\u001b[39m \u001b[38;5;241m1\u001b[39m\n\u001b[0;32m      9\u001b[0m \u001b[38;5;28mprint\u001b[39m(aa\u001b[38;5;241m.\u001b[39mx)  \u001b[38;5;66;03m# 1 【同名，属性 > 方法 => 覆盖】\u001b[39;00m\n\u001b[1;32m---> 10\u001b[0m \u001b[43maa\u001b[49m\u001b[38;5;241;43m.\u001b[39;49m\u001b[43mx\u001b[49m\u001b[43m(\u001b[49m\u001b[43m)\u001b[49m\n",
      "\u001b[1;31mTypeError\u001b[0m: 'int' object is not callable"
     ]
    }
   ],
   "source": [
    "class A:\n",
    "    def x(self):\n",
    "        print('x_man')\n",
    "\n",
    "\n",
    "aa = A()\n",
    "aa.x()  # x_man\n",
    "aa.x = 1\n",
    "print(aa.x)  # 1 【同名，属性 > 方法 => 覆盖】\n",
    "aa.x()\n",
    "# TypeError: 'int' object is not callable【已经改变为 int 类型了，覆盖了原来的打印方法，因此提示整型不可调用】"
   ]
  },
  {
   "cell_type": "markdown",
   "metadata": {},
   "source": [
    "\n",
    "## 什么是绑定？\n",
    "\n",
    "Python 严格要求【方法需要有实例】【才能被调用】，这种限制其实就是 Python 所谓的【绑定概念】。【问题是，提出这个概念却毫无相关分析！？】\n",
    "\n",
    "Python 【对象的数据属性】通常【存储】在名为`.__ dict__`的字典中，我们可以直接访问`__dict__`，或利用 Python 的内置函数`vars()`获取`.__ dict__`。\n",
    "\n",
    "【例子】"
   ]
  },
  {
   "cell_type": "code",
   "execution_count": 7,
   "metadata": {},
   "outputs": [
    {
     "name": "stdout",
     "output_type": "stream",
     "text": [
      "{}\n",
      "{}\n",
      "{'__module__': '__main__', 'setXY': <function CC.setXY at 0x000001869AC41B80>, 'printXY': <function CC.printXY at 0x000001869AC41EE0>, '__dict__': <attribute '__dict__' of 'CC' objects>, '__weakref__': <attribute '__weakref__' of 'CC' objects>, '__doc__': None}\n",
      "{'x': 4, 'y': 5}\n",
      "{'__module__': '__main__', 'setXY': <function CC.setXY at 0x000001869AC41B80>, 'printXY': <function CC.printXY at 0x000001869AC41EE0>, '__dict__': <attribute '__dict__' of 'CC' objects>, '__weakref__': <attribute '__weakref__' of 'CC' objects>, '__doc__': None}\n",
      "{'__module__': '__main__', 'setXY': <function CC.setXY at 0x000001869AC41B80>, 'printXY': <function CC.printXY at 0x000001869AC41EE0>, '__dict__': <attribute '__dict__' of 'CC' objects>, '__weakref__': <attribute '__weakref__' of 'CC' objects>, '__doc__': None}\n"
     ]
    }
   ],
   "source": [
    "class CC:\n",
    "    def setXY(self, x, y):\n",
    "        self.x = x\n",
    "        self.y = y\n",
    "\n",
    "    def printXY(self):\n",
    "        print(self.x, self.y)\n",
    "\n",
    "\n",
    "dd = CC()\n",
    "print(dd.__dict__)\n",
    "# {}\n",
    "\n",
    "print(vars(dd))\n",
    "# {}\n",
    "\n",
    "print(CC.__dict__)\n",
    "# {'__module__': '__main__', 'setXY': <function CC.setXY at 0x000000C3473DA048>, 'printXY': <function CC.printXY at 0x000000C3473C4F28>, '__dict__': <attribute '__dict__' of 'CC' objects>, '__weakref__': <attribute '__weakref__' of 'CC' objects>, '__doc__': None}\n",
    "\n",
    "dd.setXY(4, 5)\n",
    "print(dd.__dict__)\n",
    "# {'x': 4, 'y': 5}\n",
    "\n",
    "print(vars(CC))\n",
    "# {'__module__': '__main__', 'setXY': <function CC.setXY at 0x000000632CA9B048>, 'printXY': <function CC.printXY at 0x000000632CA83048>, '__dict__': <attribute '__dict__' of 'CC' objects>, '__weakref__': <attribute '__weakref__' of 'CC' objects>, '__doc__': None}\n",
    "\n",
    "print(CC.__dict__)\n",
    "# {'__module__': '__main__', 'setXY': <function CC.setXY at 0x000000632CA9B048>, 'printXY': <function CC.printXY at 0x000000632CA83048>, '__dict__': <attribute '__dict__' of 'CC' objects>, '__weakref__': <attribute '__weakref__' of 'CC' objects>, '__doc__': None}"
   ]
  },
  {
   "cell_type": "markdown",
   "metadata": {},
   "source": [
    "（2022/04/15 19:23:35）\n",
    "## 【概括】\n",
    "* 一下子引入一些莫名其妙的概念，又没有说清楚定义、作用、必要性，让人非常头大。\n",
    "* 目前的理解：\n",
    "    * 组合：把不同的类属性、方法进行组合。\n",
    "    * 类定义：理解为“原始对象”或者说“实例的父类”，可直接修改，将影响实例中未定义的属性、方法。\n",
    "    * 类对象\n",
    "    * 实例对象\n",
    "    * 类属性（共享）\n",
    "    * 实例属性（不共享）：自身额外定义的属性，将具有优先权。\n",
    "* 属性名 VS 方法名（同名）\n",
    "    * 属性 => 覆盖 => 方法\n",
    "* 绑定\n",
    "    * 方法 => 实例化（前提条件） => 被调用\n",
    "    * `ClassName.__ dict__`【可直接访问】\n",
    "    * `vars()`【可获取`.__ dict__`】【与前者等价】"
   ]
  },
  {
   "cell_type": "markdown",
   "metadata": {},
   "source": [
    "\n",
    "## 一些相关的内置函数（BIF）\n",
    "- `issubclass(class, classinfo)` 方法用于【判断】参数 class 是否是类型参数 classinfo 的【子类】。【ok前面提出的一个疑问解决了】\n",
    "    - 一个类被认为是其【自身的子类】。【可以用集合的概念去理解，没记错的话，一个集合本身是其子集？即全集是该集合的子集（特例）】\n",
    "    - `classinfo`可以是【类对象的元组】，只要class是其中任何一个候选类的子类，则返回`True`。【如何理解“类对象的元组”？应该类似多继承的传参形式？】\n",
    "\n",
    "【例子】"
   ]
  },
  {
   "cell_type": "code",
   "execution_count": 59,
   "metadata": {
    "scrolled": true
   },
   "outputs": [
    {
     "name": "stdout",
     "output_type": "stream",
     "text": [
      "True\n",
      "True\n",
      "False\n",
      "True\n"
     ]
    }
   ],
   "source": [
    "class A:\n",
    "    pass\n",
    "\n",
    "\n",
    "class B(A):\n",
    "    pass\n",
    "\n",
    "\n",
    "print(issubclass(B, A))  # True\n",
    "print(issubclass(B, B))  # True\n",
    "print(issubclass(A, B))  # False\n",
    "print(issubclass(B, object))  # True【类 属于对象】"
   ]
  },
  {
   "cell_type": "markdown",
   "metadata": {},
   "source": [
    "\n",
    "- `isinstance(object, classinfo)` 方法用于判断一个对象是否是一个已知的类型，类似`type()`。\n",
    "- `type()`不会认为子类是一种父类类型，不考虑继承关系。\n",
    "- `isinstance()`会认为子类是一种父类类型，考虑继承关系。\n",
    "- 如果第一个参数不是对象，则永远返回`False`。\n",
    "- 如果第二个参数不是类或者由类对象组成的元组，会抛出一个`TypeError`异常。\n",
    "\n",
    "\n",
    "【例子】"
   ]
  },
  {
   "cell_type": "code",
   "execution_count": 60,
   "metadata": {},
   "outputs": [
    {
     "name": "stdout",
     "output_type": "stream",
     "text": [
      "True\n",
      "False\n",
      "True\n",
      "True\n",
      "True\n",
      "True\n",
      "False\n"
     ]
    }
   ],
   "source": [
    "a = 2\n",
    "print(isinstance(a, int))  # True\n",
    "print(isinstance(a, str))  # False\n",
    "print(isinstance(a, (str, int, list)))  # True\n",
    "\n",
    "\n",
    "class A:\n",
    "    pass\n",
    "\n",
    "\n",
    "class B(A):\n",
    "    pass\n",
    "\n",
    "\n",
    "print(isinstance(A(), A))  # True\n",
    "print(type(A()) == A)  # True\n",
    "print(isinstance(B(), A))  # True\n",
    "print(type(B()) == A)  # False"
   ]
  },
  {
   "cell_type": "markdown",
   "metadata": {},
   "source": [
    "- `hasattr(object, name)`用于判断对象是否包含对应的属性。\n",
    "\n",
    "\n",
    "【例子】"
   ]
  },
  {
   "cell_type": "code",
   "execution_count": 61,
   "metadata": {},
   "outputs": [
    {
     "name": "stdout",
     "output_type": "stream",
     "text": [
      "True\n",
      "True\n",
      "True\n",
      "False\n"
     ]
    }
   ],
   "source": [
    "class Coordinate:\n",
    "    x = 10\n",
    "    y = -5\n",
    "    z = 0\n",
    "\n",
    "\n",
    "point1 = Coordinate()\n",
    "print(hasattr(point1, 'x'))  # True\n",
    "print(hasattr(point1, 'y'))  # True\n",
    "print(hasattr(point1, 'z'))  # True\n",
    "print(hasattr(point1, 'no'))  # False"
   ]
  },
  {
   "cell_type": "markdown",
   "metadata": {},
   "source": [
    "\n",
    "- `getattr(object, name[, default])`用于返回一个对象属性值。\n",
    "\n",
    "\n",
    "【例子】"
   ]
  },
  {
   "cell_type": "code",
   "execution_count": 63,
   "metadata": {},
   "outputs": [
    {
     "name": "stdout",
     "output_type": "stream",
     "text": [
      "1\n",
      "3\n"
     ]
    }
   ],
   "source": [
    "class A(object):\n",
    "    bar = 1\n",
    "\n",
    "\n",
    "a = A()\n",
    "print(getattr(a, 'bar'))  # 1\n",
    "print(getattr(a, 'bar2', 3))  # 3\n",
    "print(getattr(a, 'bar2'))\n",
    "# AttributeError: 'A' object has no attribute 'bar2'"
   ]
  },
  {
   "cell_type": "markdown",
   "metadata": {},
   "source": [
    "\n",
    "【例子】这个例子很酷！"
   ]
  },
  {
   "cell_type": "code",
   "execution_count": 64,
   "metadata": {},
   "outputs": [
    {
     "name": "stdout",
     "output_type": "stream",
     "text": [
      "2 1\n"
     ]
    }
   ],
   "source": [
    "class A(object):\n",
    "    def set(self, a, b):\n",
    "        x = a\n",
    "        a = b\n",
    "        b = x\n",
    "        print(a, b)\n",
    "\n",
    "\n",
    "a = A()\n",
    "c = getattr(a, 'set')\n",
    "c(a='1', b='2')  # 2 1\n"
   ]
  },
  {
   "cell_type": "markdown",
   "metadata": {},
   "source": [
    "\n",
    "- `setattr(object, name, value)`对应函数 `getattr()`，用于设置属性值，该属性不一定是存在的。\n",
    "\n",
    "【例子】"
   ]
  },
  {
   "cell_type": "code",
   "execution_count": 65,
   "metadata": {},
   "outputs": [
    {
     "name": "stdout",
     "output_type": "stream",
     "text": [
      "1\n",
      "5\n",
      "28\n"
     ]
    }
   ],
   "source": [
    "class A(object):\n",
    "    bar = 1\n",
    "\n",
    "\n",
    "a = A()\n",
    "print(getattr(a, 'bar'))  # 1\n",
    "setattr(a, 'bar', 5)\n",
    "print(a.bar)  # 5\n",
    "setattr(a, \"age\", 28)\n",
    "print(a.age)  # 28"
   ]
  },
  {
   "cell_type": "markdown",
   "metadata": {},
   "source": [
    "\n",
    "- `delattr(object, name)`用于删除属性。\n",
    "\n",
    "【例子】"
   ]
  },
  {
   "cell_type": "code",
   "execution_count": 66,
   "metadata": {},
   "outputs": [
    {
     "name": "stdout",
     "output_type": "stream",
     "text": [
      "x =  10\n",
      "y =  -5\n",
      "z =  0\n",
      "--删除 z 属性后--\n",
      "x =  10\n",
      "y =  -5\n"
     ]
    }
   ],
   "source": [
    "class Coordinate:\n",
    "    x = 10\n",
    "    y = -5\n",
    "    z = 0\n",
    "\n",
    "\n",
    "point1 = Coordinate()\n",
    "\n",
    "print('x = ', point1.x)  # x =  10\n",
    "print('y = ', point1.y)  # y =  -5\n",
    "print('z = ', point1.z)  # z =  0\n",
    "\n",
    "delattr(Coordinate, 'z')\n",
    "\n",
    "print('--删除 z 属性后--')  # --删除 z 属性后--\n",
    "print('x = ', point1.x)  # x =  10\n",
    "print('y = ', point1.y)  # y =  -5\n",
    "\n",
    "# 触发错误\n",
    "print('z = ', point1.z)\n",
    "# AttributeError: 'Coordinate' object has no attribute 'z'"
   ]
  },
  {
   "cell_type": "markdown",
   "metadata": {},
   "source": [
    "\n",
    "- `class property([fget[, fset[, fdel[, doc]]]])`用于在新式类中返回属性值。\n",
    "    - `fget` -- 获取属性值的函数\n",
    "    - `fset` -- 设置属性值的函数\n",
    "    - `fdel` -- 删除属性值函数\n",
    "    - `doc` -- 属性描述信息\n",
    "\n",
    "【例子】"
   ]
  },
  {
   "cell_type": "code",
   "execution_count": 67,
   "metadata": {},
   "outputs": [
    {
     "name": "stdout",
     "output_type": "stream",
     "text": [
      "2\n"
     ]
    }
   ],
   "source": [
    "class C(object):\n",
    "    def __init__(self):\n",
    "        self.__x = None\n",
    "\n",
    "    def getx(self):\n",
    "        return self.__x\n",
    "\n",
    "    def setx(self, value):\n",
    "        self.__x = value\n",
    "\n",
    "    def delx(self):\n",
    "        del self.__x\n",
    "\n",
    "    x = property(getx, setx, delx, \"I'm the 'x' property.\")\n",
    "\n",
    "\n",
    "cc = C()\n",
    "cc.x = 2\n",
    "print(cc.x)  # 2\n",
    "\n",
    "del cc.x\n",
    "print(cc.x)\n",
    "# AttributeError: 'C' object has no attribute '_C__x'"
   ]
  },
  {
   "cell_type": "markdown",
   "metadata": {},
   "source": [
    "\n",
    "# 魔法方法\n",
    "\n",
    "魔法方法总是被双下划线包围，例如`__init__`。\n",
    "\n",
    "魔法方法是面向对象的 Python 的一切，如果你不知道魔法方法，说明你还没能意识到面向对象的 Python 的强大。\n",
    "\n",
    "魔法方法的“魔力”体现在它们总能够在适当的时候被自动调用。\n",
    "\n",
    "魔法方法的第一个参数应为`cls`（类方法） 或者`self`（实例方法）。\n",
    "- `cls`：代表一个类的名称\n",
    "- `self`：代表一个实例对象的名称\n",
    "\n",
    "\n",
    "## 基本的魔法方法\n",
    "\n",
    "- `__init__(self[, ...])` 构造器，当一个实例被创建的时候调用的初始化方法\n",
    "\n",
    "【例子】"
   ]
  },
  {
   "cell_type": "code",
   "execution_count": 68,
   "metadata": {},
   "outputs": [
    {
     "name": "stdout",
     "output_type": "stream",
     "text": [
      "18\n",
      "20\n"
     ]
    }
   ],
   "source": [
    "class Rectangle:\n",
    "    def __init__(self, x, y):\n",
    "        self.x = x\n",
    "        self.y = y\n",
    "\n",
    "    def getPeri(self):\n",
    "        return (self.x + self.y) * 2\n",
    "\n",
    "    def getArea(self):\n",
    "        return self.x * self.y\n",
    "\n",
    "\n",
    "rect = Rectangle(4, 5)\n",
    "print(rect.getPeri())  # 18\n",
    "print(rect.getArea())  # 20"
   ]
  },
  {
   "cell_type": "markdown",
   "metadata": {},
   "source": [
    "\n",
    "\n",
    "- `__new__(cls[, ...])` 在一个对象实例化的时候所调用的第一个方法，在调用`__init__`初始化前，先调用`__new__`。\n",
    "    - `__new__`至少要有一个参数`cls`，代表要实例化的类，此参数在实例化时由 Python 解释器自动提供，后面的参数直接传递给`__init__`。\n",
    "    - `__new__`对当前类进行了实例化，并将实例返回，传给`__init__`的`self`。但是，执行了`__new__`，并不一定会进入`__init__`，只有`__new__`返回了，当前类`cls`的实例，当前类的`__init__`才会进入。\n",
    "\n",
    "【例子】"
   ]
  },
  {
   "cell_type": "code",
   "execution_count": 69,
   "metadata": {},
   "outputs": [
    {
     "name": "stdout",
     "output_type": "stream",
     "text": [
      "into B __new__\n",
      "<class '__main__.B'>\n",
      "into A __new__\n",
      "<class '__main__.B'>\n",
      "into B __init__\n",
      "into B __new__\n",
      "<class '__main__.B'>\n",
      "into A __new__\n",
      "<class '__main__.A'>\n"
     ]
    }
   ],
   "source": [
    "class A(object):\n",
    "    def __init__(self, value):\n",
    "        print(\"into A __init__\")\n",
    "        self.value = value\n",
    "\n",
    "    def __new__(cls, *args, **kwargs):\n",
    "        print(\"into A __new__\")\n",
    "        print(cls)\n",
    "        return object.__new__(cls)\n",
    "\n",
    "\n",
    "class B(A):\n",
    "    def __init__(self, value):\n",
    "        print(\"into B __init__\")\n",
    "        self.value = value\n",
    "\n",
    "    def __new__(cls, *args, **kwargs):\n",
    "        print(\"into B __new__\")\n",
    "        print(cls)\n",
    "        return super().__new__(cls, *args, **kwargs)\n",
    "\n",
    "\n",
    "b = B(10)\n",
    "\n",
    "# 结果：\n",
    "# into B __new__\n",
    "# <class '__main__.B'>\n",
    "# into A __new__\n",
    "# <class '__main__.B'>\n",
    "# into B __init__\n",
    "\n",
    "class A(object):\n",
    "    def __init__(self, value):\n",
    "        print(\"into A __init__\")\n",
    "        self.value = value\n",
    "\n",
    "    def __new__(cls, *args, **kwargs):\n",
    "        print(\"into A __new__\")\n",
    "        print(cls)\n",
    "        return object.__new__(cls)\n",
    "\n",
    "\n",
    "class B(A):\n",
    "    def __init__(self, value):\n",
    "        print(\"into B __init__\")\n",
    "        self.value = value\n",
    "\n",
    "    def __new__(cls, *args, **kwargs):\n",
    "        print(\"into B __new__\")\n",
    "        print(cls)\n",
    "        return super().__new__(A, *args, **kwargs)  # 改动了cls变为A\n",
    "\n",
    "\n",
    "b = B(10)\n",
    "\n",
    "# 结果：\n",
    "# into B __new__\n",
    "# <class '__main__.B'>\n",
    "# into A __new__\n",
    "# <class '__main__.A'>"
   ]
  },
  {
   "cell_type": "markdown",
   "metadata": {},
   "source": [
    "\n",
    "- 若`__new__`没有正确返回当前类`cls`的实例，那`__init__`是不会被调用的，即使是父类的实例也不行，将没有`__init__`被调用。\n",
    "\n",
    "【例子】利用`__new__`实现单例模式。"
   ]
  },
  {
   "cell_type": "code",
   "execution_count": 70,
   "metadata": {},
   "outputs": [
    {
     "name": "stdout",
     "output_type": "stream",
     "text": [
      "2336598724336\n",
      "2336598528464\n",
      "2336598467752\n",
      "2336598467752\n"
     ]
    }
   ],
   "source": [
    "class Earth:\n",
    "    pass\n",
    "\n",
    "\n",
    "a = Earth()\n",
    "print(id(a))  # 260728291456\n",
    "b = Earth()\n",
    "print(id(b))  # 260728291624\n",
    "\n",
    "class Earth:\n",
    "    __instance = None  # 定义一个类属性做判断\n",
    "\n",
    "    def __new__(cls):\n",
    "        if cls.__instance is None:\n",
    "            cls.__instance = object.__new__(cls)\n",
    "            return cls.__instance\n",
    "        else:\n",
    "            return cls.__instance\n",
    "\n",
    "\n",
    "a = Earth()\n",
    "print(id(a))  # 512320401648\n",
    "b = Earth()\n",
    "print(id(b))  # 512320401648"
   ]
  },
  {
   "cell_type": "markdown",
   "metadata": {},
   "source": [
    "\n",
    "- `__new__`方法主要是当你继承一些不可变的 class 时（比如`int, str, tuple`）， 提供给你一个自定义这些类的实例化过程的途径。\n",
    "\n",
    "【例子】"
   ]
  },
  {
   "cell_type": "code",
   "execution_count": 71,
   "metadata": {},
   "outputs": [
    {
     "name": "stdout",
     "output_type": "stream",
     "text": [
      "I LOVE LSGOGROUP\n"
     ]
    }
   ],
   "source": [
    "class CapStr(str):\n",
    "    def __new__(cls, string):\n",
    "        string = string.upper()\n",
    "        return str.__new__(cls, string)\n",
    "\n",
    "\n",
    "a = CapStr(\"i love lsgogroup\")\n",
    "print(a)  # I LOVE LSGOGROUP"
   ]
  },
  {
   "cell_type": "markdown",
   "metadata": {},
   "source": [
    "\n",
    "- `__del__(self)` 析构器，当一个对象将要被系统回收之时调用的方法。\n",
    "\n",
    "> Python 采用自动引用计数（ARC）方式来回收对象所占用的空间，当程序中有一个变量引用该 Python 对象时，Python 会自动保证该对象引用计数为 1；当程序中有两个变量引用该 Python 对象时，Python 会自动保证该对象引用计数为 2，依此类推，如果一个对象的引用计数变成了 0，则说明程序中不再有变量引用该对象，表明程序不再需要该对象，因此 Python 就会回收该对象。\n",
    ">\n",
    "> 大部分时候，Python 的 ARC 都能准确、高效地回收系统中的每个对象。但如果系统中出现循环引用的情况，比如对象 a 持有一个实例变量引用对象 b，而对象 b 又持有一个实例变量引用对象 a，此时两个对象的引用计数都是 1，而实际上程序已经不再有变量引用它们，系统应该回收它们，此时 Python 的垃圾回收器就可能没那么快，要等专门的循环垃圾回收器（Cyclic Garbage Collector）来检测并回收这种引用循环。\n",
    "\n",
    "【例子】"
   ]
  },
  {
   "cell_type": "code",
   "execution_count": 72,
   "metadata": {},
   "outputs": [
    {
     "name": "stdout",
     "output_type": "stream",
     "text": [
      "into C __init__\n",
      "into C __del__\n"
     ]
    }
   ],
   "source": [
    "class C(object):\n",
    "    def __init__(self):\n",
    "        print('into C __init__')\n",
    "\n",
    "    def __del__(self):\n",
    "        print('into C __del__')\n",
    "\n",
    "\n",
    "c1 = C()\n",
    "# into C __init__\n",
    "c2 = c1\n",
    "c3 = c2\n",
    "del c3\n",
    "del c2\n",
    "del c1\n",
    "# into C __del__"
   ]
  },
  {
   "cell_type": "markdown",
   "metadata": {},
   "source": [
    "\n",
    "\n",
    "\n",
    "- `__str__(self)`:\n",
    "    - 当你打印一个对象的时候，触发`__str__`\n",
    "    - 当你使用`%s`格式化的时候，触发`__str__`\n",
    "    - `str`强转数据类型的时候，触发`__str__`\n",
    "\n",
    "- `__repr__(self)`：\n",
    "    - `repr`是`str`的备胎\n",
    "    - 有`__str__`的时候执行`__str__`,没有实现`__str__`的时候，执行`__repr__`\n",
    "    - `repr(obj)`内置函数对应的结果是`__repr__`的返回值\n",
    "    - 当你使用`%r`格式化的时候 触发`__repr__`\n",
    "\n",
    "【例子】"
   ]
  },
  {
   "cell_type": "code",
   "execution_count": 73,
   "metadata": {},
   "outputs": [
    {
     "name": "stdout",
     "output_type": "stream",
     "text": [
      "名字是:汤姆 , 年龄是:30\n",
      "名字是:汤姆 , 年龄是:30\n",
      "Cat:(汤姆,30)\n",
      "汤姆在吃鱼....\n",
      "名字是:汤姆, 年龄是:30\n"
     ]
    }
   ],
   "source": [
    "class Cat:\n",
    "    \"\"\"定义一个猫类\"\"\"\n",
    "\n",
    "    def __init__(self, new_name, new_age):\n",
    "        \"\"\"在创建完对象之后 会自动调用, 它完成对象的初始化的功能\"\"\"\n",
    "        self.name = new_name\n",
    "        self.age = new_age\n",
    "\n",
    "    def __str__(self):\n",
    "        \"\"\"返回一个对象的描述信息\"\"\"\n",
    "        return \"名字是:%s , 年龄是:%d\" % (self.name, self.age)\n",
    "        \n",
    "    def __repr__(self):\n",
    "        \"\"\"返回一个对象的描述信息\"\"\"\n",
    "        return \"Cat:(%s,%d)\" % (self.name, self.age)\n",
    "\n",
    "    def eat(self):\n",
    "        print(\"%s在吃鱼....\" % self.name)\n",
    "\n",
    "    def drink(self):\n",
    "        print(\"%s在喝可乐...\" % self.name)\n",
    "\n",
    "    def introduce(self):\n",
    "        print(\"名字是:%s, 年龄是:%d\" % (self.name, self.age))\n",
    "\n",
    "\n",
    "# 创建了一个对象\n",
    "tom = Cat(\"汤姆\", 30)\n",
    "print(tom)  # 名字是:汤姆 , 年龄是:30\n",
    "print(str(tom)) # 名字是:汤姆 , 年龄是:30\n",
    "print(repr(tom))  # Cat:(汤姆,30)\n",
    "tom.eat()  # 汤姆在吃鱼....\n",
    "tom.introduce()  # 名字是:汤姆, 年龄是:30"
   ]
  },
  {
   "cell_type": "markdown",
   "metadata": {},
   "source": [
    "\n",
    "`__str__(self)` 的返回结果可读性强。也就是说，`__str__` 的意义是得到便于人们阅读的信息，就像下面的 '2019-10-11' 一样。\n",
    "\n",
    "`__repr__(self)` 的返回结果应更准确。怎么说，`__repr__` 存在的目的在于调试，便于开发者使用。\n",
    "\n",
    "【例子】"
   ]
  },
  {
   "cell_type": "code",
   "execution_count": 74,
   "metadata": {
    "scrolled": true
   },
   "outputs": [
    {
     "name": "stdout",
     "output_type": "stream",
     "text": [
      "2020-08-01\n",
      "datetime.date(2020, 8, 1)\n",
      "2020-08-01\n",
      "datetime.date(2020, 8, 1)\n"
     ]
    }
   ],
   "source": [
    "import datetime\n",
    "\n",
    "today = datetime.date.today()\n",
    "print(str(today))  # 2019-10-11\n",
    "print(repr(today))  # datetime.date(2019, 10, 11)\n",
    "print('%s' %today)  # 2019-10-11\n",
    "print('%r' %today)  # datetime.date(2019, 10, 11)"
   ]
  },
  {
   "cell_type": "markdown",
   "metadata": {},
   "source": [
    "\n",
    "\n",
    "## 算术运算符\n",
    "\n",
    "类型工厂函数，指的是“不通过类而是通过函数来创建对象”。\n",
    "\n",
    "【例子】"
   ]
  },
  {
   "cell_type": "code",
   "execution_count": 75,
   "metadata": {
    "scrolled": true
   },
   "outputs": [
    {
     "name": "stdout",
     "output_type": "stream",
     "text": [
      "<class 'builtin_function_or_method'>\n",
      "<class 'builtin_function_or_method'>\n",
      "<class 'type'>\n",
      "<class 'type'>\n",
      "<class 'type'>\n",
      "<class 'type'>\n",
      "123\n",
      "[1, 2, 3]\n"
     ]
    }
   ],
   "source": [
    "class C:\n",
    "    pass\n",
    "\n",
    "\n",
    "print(type(len))  # <class 'builtin_function_or_method'>\n",
    "print(type(dir))  # <class 'builtin_function_or_method'>\n",
    "print(type(int))  # <class 'type'>\n",
    "print(type(list))  # <class 'type'>\n",
    "print(type(tuple))  # <class 'type'>\n",
    "print(type(C))  # <class 'type'>\n",
    "print(int('123'))  # 123\n",
    "\n",
    "# 这个例子中list工厂函数把一个元祖对象加工成了一个列表对象。\n",
    "print(list((1, 2, 3)))  # [1, 2, 3]"
   ]
  },
  {
   "cell_type": "markdown",
   "metadata": {},
   "source": [
    "\n",
    "- `__add__(self, other)`定义加法的行为：`+`\n",
    "- `__sub__(self, other)`定义减法的行为：`-`\n",
    "\n",
    "【例子】\n"
   ]
  },
  {
   "cell_type": "code",
   "execution_count": 76,
   "metadata": {},
   "outputs": [
    {
     "name": "stdout",
     "output_type": "stream",
     "text": [
      "高为 10  重为 5\n",
      "高为 20  重为 10\n",
      "高为 10  重为 5\n",
      "高为 30  重为 15\n"
     ]
    }
   ],
   "source": [
    "class MyClass:\n",
    "\n",
    "    def __init__(self, height, weight):\n",
    "        self.height = height\n",
    "        self.weight = weight\n",
    "\n",
    "    # 两个对象的长相加，宽不变.返回一个新的类\n",
    "    def __add__(self, others):\n",
    "        return MyClass(self.height + others.height, self.weight + others.weight)\n",
    "\n",
    "    # 两个对象的宽相减，长不变.返回一个新的类\n",
    "    def __sub__(self, others):\n",
    "        return MyClass(self.height - others.height, self.weight - others.weight)\n",
    "\n",
    "    # 说一下自己的参数\n",
    "    def intro(self):\n",
    "        print(\"高为\", self.height, \" 重为\", self.weight)\n",
    "\n",
    "\n",
    "def main():\n",
    "    a = MyClass(height=10, weight=5)\n",
    "    a.intro()\n",
    "\n",
    "    b = MyClass(height=20, weight=10)\n",
    "    b.intro()\n",
    "\n",
    "    c = b - a\n",
    "    c.intro()\n",
    "\n",
    "    d = a + b\n",
    "    d.intro()\n",
    "\n",
    "\n",
    "if __name__ == '__main__':\n",
    "    main()\n",
    "\n",
    "# 高为 10  重为 5\n",
    "# 高为 20  重为 10\n",
    "# 高为 10  重为 5\n",
    "# 高为 30  重为 15"
   ]
  },
  {
   "cell_type": "markdown",
   "metadata": {},
   "source": [
    "\n",
    "- `__mul__(self, other)`定义乘法的行为：`*`\n",
    "- `__truediv__(self, other)`定义真除法的行为：`/`\n",
    "- `__floordiv__(self, other)`定义整数除法的行为：`//`\n",
    "- `__mod__(self, other)` 定义取模算法的行为：`%`\n",
    "- `__divmod__(self, other)`定义当被 `divmod()` 调用时的行为\n",
    "- `divmod(a, b)`把除数和余数运算结果结合起来，返回一个包含商和余数的元组`(a // b, a % b)`。\n",
    "\n",
    "【例子】"
   ]
  },
  {
   "cell_type": "code",
   "execution_count": 77,
   "metadata": {
    "scrolled": true
   },
   "outputs": [
    {
     "name": "stdout",
     "output_type": "stream",
     "text": [
      "(3, 1)\n",
      "(4, 0)\n"
     ]
    }
   ],
   "source": [
    "print(divmod(7, 2))  # (3, 1)\n",
    "print(divmod(8, 2))  # (4, 0)"
   ]
  },
  {
   "cell_type": "markdown",
   "metadata": {},
   "source": [
    "\n",
    "- `__pow__(self, other[, module])`定义当被 `power()` 调用或 `**` 运算时的行为\n",
    "- `__lshift__(self, other)`定义按位左移位的行为：`<<`\n",
    "- `__rshift__(self, other)`定义按位右移位的行为：`>>`\n",
    "- `__and__(self, other)`定义按位与操作的行为：`&`\n",
    "- `__xor__(self, other)`定义按位异或操作的行为：`^`\n",
    "- `__or__(self, other)`定义按位或操作的行为：`|`\n",
    "\n",
    "## 反算术运算符\n",
    "\n",
    "反运算魔方方法，与算术运算符保持一一对应，不同之处就是反运算的魔法方法多了一个“r”。当文件左操作不支持相应的操作时被调用。\n",
    "\n",
    "- `__radd__(self, other)`定义加法的行为：`+`\n",
    "- `__rsub__(self, other)`定义减法的行为：`-`\n",
    "- `__rmul__(self, other)`定义乘法的行为：`*`\n",
    "- `__rtruediv__(self, other)`定义真除法的行为：`/`\n",
    "- `__rfloordiv__(self, other)`定义整数除法的行为：`//`\n",
    "- `__rmod__(self, other)` 定义取模算法的行为：`%`\n",
    "- `__rdivmod__(self, other)`定义当被 divmod() 调用时的行为\n",
    "- `__rpow__(self, other[, module])`定义当被 power() 调用或 `**` 运算时的行为\n",
    "- `__rlshift__(self, other)`定义按位左移位的行为：`<<`\n",
    "- `__rrshift__(self, other)`定义按位右移位的行为：`>>`\n",
    "- `__rand__(self, other)`定义按位与操作的行为：`&`\n",
    "- `__rxor__(self, other)`定义按位异或操作的行为：`^`\n",
    "- `__ror__(self, other)`定义按位或操作的行为：`|`\n",
    "\n",
    "`a + b`\n",
    "\n",
    "这里加数是`a`，被加数是`b`，因此是`a`主动，反运算就是如果`a`对象的`__add__()`方法没有实现或者不支持相应的操作，那么 Python 就会调用`b`的`__radd__()`方法。\n",
    "\n",
    "【例子】"
   ]
  },
  {
   "cell_type": "code",
   "execution_count": 78,
   "metadata": {},
   "outputs": [
    {
     "name": "stdout",
     "output_type": "stream",
     "text": [
      "8\n",
      "-2\n"
     ]
    }
   ],
   "source": [
    "class Nint(int):\n",
    "    def __radd__(self, other):\n",
    "        return int.__sub__(other, self) # 注意 self 在后面\n",
    "\n",
    "\n",
    "a = Nint(5)\n",
    "b = Nint(3)\n",
    "print(a + b)  # 8\n",
    "print(1 + b)  # -2"
   ]
  },
  {
   "cell_type": "markdown",
   "metadata": {},
   "source": [
    "\n",
    "## 增量赋值运算符\n",
    "\n",
    "- `__iadd__(self, other)`定义赋值加法的行为：`+=`\n",
    "- `__isub__(self, other)`定义赋值减法的行为：`-=`\n",
    "- `__imul__(self, other)`定义赋值乘法的行为：`*=`\n",
    "- `__itruediv__(self, other)`定义赋值真除法的行为：`/=`\n",
    "- `__ifloordiv__(self, other)`定义赋值整数除法的行为：`//=`\n",
    "- `__imod__(self, other)`定义赋值取模算法的行为：`%=`\n",
    "- `__ipow__(self, other[, modulo])`定义赋值幂运算的行为：`**=`\n",
    "- `__ilshift__(self, other)`定义赋值按位左移位的行为：`<<=`\n",
    "- `__irshift__(self, other)`定义赋值按位右移位的行为：`>>=`\n",
    "- `__iand__(self, other)`定义赋值按位与操作的行为：`&=`\n",
    "- `__ixor__(self, other)`定义赋值按位异或操作的行为：`^=`\n",
    "- `__ior__(self, other)`定义赋值按位或操作的行为：`|=`\n",
    "\n",
    "\n",
    "## 一元运算符\n",
    "- `__neg__(self)`定义正号的行为：`+x`\n",
    "- `__pos__(self)`定义负号的行为：`-x`\n",
    "- `__abs__(self)`定义当被`abs()`调用时的行为\n",
    "- `__invert__(self)`定义按位求反的行为：`~x`\n",
    "\n",
    "## 属性访问\n",
    "\n",
    "\n",
    "\n",
    "- `__getattr__(self, name)`: 定义当用户试图获取一个不存在的属性时的行为。\n",
    "- `__getattribute__(self, name)`：定义当该类的属性被访问时的行为（先调用该方法，查看是否存在该属性，若不存在，接着去调用`__getattr__`）。\n",
    "- `__setattr__(self, name, value)`：定义当一个属性被设置时的行为。\n",
    "- `__delattr__(self, name)`：定义当一个属性被删除时的行为。\n",
    "\n",
    "【例子】"
   ]
  },
  {
   "cell_type": "code",
   "execution_count": 79,
   "metadata": {},
   "outputs": [
    {
     "name": "stdout",
     "output_type": "stream",
     "text": [
      "__getattribute__\n",
      "__getattr__\n",
      "__setattr__\n",
      "__delattr__\n"
     ]
    }
   ],
   "source": [
    "class C:\n",
    "    def __getattribute__(self, item):\n",
    "        print('__getattribute__')\n",
    "        return super().__getattribute__(item)\n",
    "\n",
    "    def __getattr__(self, item):\n",
    "        print('__getattr__')\n",
    "\n",
    "    def __setattr__(self, key, value):\n",
    "        print('__setattr__')\n",
    "        super().__setattr__(key, value)\n",
    "\n",
    "    def __delattr__(self, item):\n",
    "        print('__delattr__')\n",
    "        super().__delattr__(item)\n",
    "\n",
    "\n",
    "c = C()\n",
    "c.x\n",
    "# __getattribute__\n",
    "# __getattr__\n",
    "\n",
    "c.x = 1\n",
    "# __setattr__\n",
    "\n",
    "del c.x\n",
    "# __delattr__"
   ]
  },
  {
   "cell_type": "markdown",
   "metadata": {},
   "source": [
    "\n",
    "\n",
    "\n",
    "## 描述符\n",
    "\n",
    "描述符就是将某种特殊类型的类的实例指派给另一个类的属性。\n",
    "- `__get__(self, instance, owner)`用于访问属性，它返回属性的值。\n",
    "- `__set__(self, instance, value)`将在属性分配操作中调用，不返回任何内容。\n",
    "- `__del__(self, instance)`控制删除操作，不返回任何内容。\n",
    "\n",
    "【例子】"
   ]
  },
  {
   "cell_type": "code",
   "execution_count": 80,
   "metadata": {},
   "outputs": [
    {
     "name": "stdout",
     "output_type": "stream",
     "text": [
      "__get__ <__main__.MyDecriptor object at 0x0000022008242668> <__main__.Test object at 0x00000220082427B8> <class '__main__.Test'>\n",
      "__set__ <__main__.MyDecriptor object at 0x0000022008242668> <__main__.Test object at 0x00000220082427B8> x-man\n",
      "__delete__ <__main__.MyDecriptor object at 0x0000022008242668> <__main__.Test object at 0x00000220082427B8>\n"
     ]
    }
   ],
   "source": [
    "class MyDecriptor:\n",
    "    def __get__(self, instance, owner):\n",
    "        print('__get__', self, instance, owner)\n",
    "\n",
    "    def __set__(self, instance, value):\n",
    "        print('__set__', self, instance, value)\n",
    "\n",
    "    def __delete__(self, instance):\n",
    "        print('__delete__', self, instance)\n",
    "\n",
    "\n",
    "class Test:\n",
    "    x = MyDecriptor()\n",
    "\n",
    "\n",
    "t = Test()\n",
    "t.x\n",
    "# __get__ <__main__.MyDecriptor object at 0x000000CEAAEB6B00> <__main__.Test object at 0x000000CEABDC0898> <class '__main__.Test'>\n",
    "\n",
    "t.x = 'x-man'\n",
    "# __set__ <__main__.MyDecriptor object at 0x00000023687C6B00> <__main__.Test object at 0x00000023696B0940> x-man\n",
    "\n",
    "del t.x\n",
    "# __delete__ <__main__.MyDecriptor object at 0x000000EC9B160A90> <__main__.Test object at 0x000000EC9B160B38>"
   ]
  },
  {
   "cell_type": "markdown",
   "metadata": {},
   "source": [
    "\n",
    "\n",
    "## 定制序列\n",
    "\n",
    "协议（Protocols）与其它编程语言中的接口很相似，它规定你哪些方法必须要定义。然而，在 Python 中的协议就显得不那么正式。事实上，在 Python 中，协议更像是一种指南。\n",
    "\n",
    "**容器类型的协议**\n",
    "\n",
    "- 如果说你希望定制的容器是不可变的话，你只需要定义`__len__()`和`__getitem__()`方法。\n",
    "- 如果你希望定制的容器是可变的话，除了`__len__()`和`__getitem__()`方法，你还需要定义`__setitem__()`和`__delitem__()`两个方法。\n",
    "\n",
    "\n",
    "【例子】编写一个不可改变的自定义列表，要求记录列表中每个元素被访问的次数。\n"
   ]
  },
  {
   "cell_type": "code",
   "execution_count": 81,
   "metadata": {},
   "outputs": [
    {
     "name": "stdout",
     "output_type": "stream",
     "text": [
      "3\n",
      "6\n",
      "7\n",
      "{0: 0, 1: 2, 2: 0, 3: 0, 4: 0}\n",
      "{0: 0, 1: 1, 2: 1, 3: 0, 4: 0}\n"
     ]
    }
   ],
   "source": [
    "class CountList:\n",
    "    def __init__(self, *args):\n",
    "        self.values = [x for x in args]\n",
    "        self.count = {}.fromkeys(range(len(self.values)), 0)\n",
    "\n",
    "    def __len__(self):\n",
    "        return len(self.values)\n",
    "\n",
    "    def __getitem__(self, item):\n",
    "        self.count[item] += 1\n",
    "        return self.values[item]\n",
    "\n",
    "\n",
    "c1 = CountList(1, 3, 5, 7, 9)\n",
    "c2 = CountList(2, 4, 6, 8, 10)\n",
    "print(c1[1])  # 3\n",
    "print(c2[2])  # 6\n",
    "print(c1[1] + c2[1])  # 7\n",
    "\n",
    "print(c1.count)\n",
    "# {0: 0, 1: 2, 2: 0, 3: 0, 4: 0}\n",
    "\n",
    "print(c2.count)\n",
    "# {0: 0, 1: 1, 2: 1, 3: 0, 4: 0}"
   ]
  },
  {
   "cell_type": "markdown",
   "metadata": {},
   "source": [
    "\n",
    "- `__len__(self)`定义当被`len()`调用时的行为（返回容器中元素的个数）。\n",
    "- `__getitem__(self, key)`定义获取容器中元素的行为，相当于`self[key]`。\n",
    "- `__setitem__(self, key, value)`定义设置容器中指定元素的行为，相当于`self[key] = value`。\n",
    "- `__delitem__(self, key)`定义删除容器中指定元素的行为，相当于`del self[key]`。\n",
    "\n",
    "\n",
    "【例子】编写一个可改变的自定义列表，要求记录列表中每个元素被访问的次数。\n"
   ]
  },
  {
   "cell_type": "code",
   "execution_count": 82,
   "metadata": {},
   "outputs": [
    {
     "name": "stdout",
     "output_type": "stream",
     "text": [
      "3\n",
      "6\n",
      "15\n",
      "{0: 0, 1: 2, 2: 0, 3: 0, 4: 0}\n",
      "{0: 0, 1: 0, 2: 2, 3: 0, 4: 0}\n",
      "{0: 0, 1: 0, 2: 0, 3: 0}\n"
     ]
    }
   ],
   "source": [
    "class CountList:\n",
    "    def __init__(self, *args):\n",
    "        self.values = [x for x in args]\n",
    "        self.count = {}.fromkeys(range(len(self.values)), 0)\n",
    "\n",
    "    def __len__(self):\n",
    "        return len(self.values)\n",
    "\n",
    "    def __getitem__(self, item):\n",
    "        self.count[item] += 1\n",
    "        return self.values[item]\n",
    "\n",
    "    def __setitem__(self, key, value):\n",
    "        self.values[key] = value\n",
    "\n",
    "    def __delitem__(self, key):\n",
    "        del self.values[key]\n",
    "        for i in range(0, len(self.values)):\n",
    "            if i >= key:\n",
    "                self.count[i] = self.count[i + 1]\n",
    "        self.count.pop(len(self.values))\n",
    "\n",
    "\n",
    "c1 = CountList(1, 3, 5, 7, 9)\n",
    "c2 = CountList(2, 4, 6, 8, 10)\n",
    "print(c1[1])  # 3\n",
    "print(c2[2])  # 6\n",
    "c2[2] = 12\n",
    "print(c1[1] + c2[2])  # 15\n",
    "print(c1.count)\n",
    "# {0: 0, 1: 2, 2: 0, 3: 0, 4: 0}\n",
    "print(c2.count)\n",
    "# {0: 0, 1: 0, 2: 2, 3: 0, 4: 0}\n",
    "del c1[1]\n",
    "print(c1.count)\n",
    "# {0: 0, 1: 0, 2: 0, 3: 0}"
   ]
  },
  {
   "cell_type": "markdown",
   "metadata": {},
   "source": [
    "\n",
    "\n",
    "## 迭代器\n",
    "\n",
    "- 迭代是 Python 最强大的功能之一，是访问集合元素的一种方式。\n",
    "- 迭代器是一个可以记住遍历的位置的对象。\n",
    "- 迭代器对象从集合的第一个元素开始访问，直到所有的元素被访问完结束。\n",
    "- 迭代器只能往前不会后退。\n",
    "- 字符串，列表或元组对象都可用于创建迭代器：\n",
    "\n",
    "【例子】"
   ]
  },
  {
   "cell_type": "code",
   "execution_count": 84,
   "metadata": {},
   "outputs": [
    {
     "name": "stdout",
     "output_type": "stream",
     "text": [
      "l\n",
      "s\n",
      "g\n",
      "o\n",
      "g\n",
      "r\n",
      "o\n",
      "u\n",
      "p\n",
      "l\n",
      "s\n",
      "g\n",
      "o\n",
      "g\n",
      "r\n",
      "o\n",
      "u\n",
      "p\n"
     ]
    }
   ],
   "source": [
    "string = 'lsgogroup'\n",
    "for c in string:\n",
    "    print(c)\n",
    "\n",
    "'''\n",
    "l\n",
    "s\n",
    "g\n",
    "o\n",
    "g\n",
    "r\n",
    "o\n",
    "u\n",
    "p\n",
    "'''\n",
    "\n",
    "for c in iter(string):\n",
    "    print(c)"
   ]
  },
  {
   "cell_type": "markdown",
   "metadata": {},
   "source": [
    "【例子】"
   ]
  },
  {
   "cell_type": "code",
   "execution_count": 85,
   "metadata": {
    "scrolled": true
   },
   "outputs": [
    {
     "name": "stdout",
     "output_type": "stream",
     "text": [
      "B -> 百度\n",
      "A -> 阿里\n",
      "T -> 腾讯\n",
      "B -> 百度\n",
      "A -> 阿里\n",
      "T -> 腾讯\n"
     ]
    }
   ],
   "source": [
    "links = {'B': '百度', 'A': '阿里', 'T': '腾讯'}\n",
    "for each in links:\n",
    "    print('%s -> %s' % (each, links[each]))\n",
    "    \n",
    "'''\n",
    "B -> 百度\n",
    "A -> 阿里\n",
    "T -> 腾讯\n",
    "'''\n",
    "\n",
    "for each in iter(links):\n",
    "    print('%s -> %s' % (each, links[each]))"
   ]
  },
  {
   "cell_type": "markdown",
   "metadata": {},
   "source": [
    "\n",
    "- 迭代器有两个基本的方法：`iter()` 和 `next()`。\n",
    "- `iter(object)` 函数用来生成迭代器。\n",
    "- `next(iterator[, default])` 返回迭代器的下一个项目。\n",
    "- `iterator` -- 可迭代对象\n",
    "- `default` -- 可选，用于设置在没有下一个元素时返回该默认值，如果不设置，又没有下一个元素则会触发 `StopIteration` 异常。\n",
    "\n",
    "【例子】"
   ]
  },
  {
   "cell_type": "code",
   "execution_count": 2,
   "metadata": {},
   "outputs": [
    {
     "name": "stdout",
     "output_type": "stream",
     "text": [
      "B\n",
      "A\n",
      "T\n",
      "B\n",
      "A\n",
      "T\n"
     ]
    },
    {
     "ename": "StopIteration",
     "evalue": "",
     "output_type": "error",
     "traceback": [
      "\u001b[0;31m---------------------------------------------------------------------------\u001b[0m",
      "\u001b[0;31mStopIteration\u001b[0m                             Traceback (most recent call last)",
      "\u001b[0;32m<ipython-input-2-682f811edce7>\u001b[0m in \u001b[0;36m<module>\u001b[0;34m()\u001b[0m\n\u001b[1;32m     17\u001b[0m \u001b[0mprint\u001b[0m\u001b[0;34m(\u001b[0m\u001b[0mnext\u001b[0m\u001b[0;34m(\u001b[0m\u001b[0mit\u001b[0m\u001b[0;34m)\u001b[0m\u001b[0;34m)\u001b[0m  \u001b[0;31m# A\u001b[0m\u001b[0;34m\u001b[0m\u001b[0m\n\u001b[1;32m     18\u001b[0m \u001b[0mprint\u001b[0m\u001b[0;34m(\u001b[0m\u001b[0mnext\u001b[0m\u001b[0;34m(\u001b[0m\u001b[0mit\u001b[0m\u001b[0;34m)\u001b[0m\u001b[0;34m)\u001b[0m  \u001b[0;31m# T\u001b[0m\u001b[0;34m\u001b[0m\u001b[0m\n\u001b[0;32m---> 19\u001b[0;31m \u001b[0mprint\u001b[0m\u001b[0;34m(\u001b[0m\u001b[0mnext\u001b[0m\u001b[0;34m(\u001b[0m\u001b[0mit\u001b[0m\u001b[0;34m)\u001b[0m\u001b[0;34m)\u001b[0m  \u001b[0;31m# StopIteration\u001b[0m\u001b[0;34m\u001b[0m\u001b[0m\n\u001b[0m",
      "\u001b[0;31mStopIteration\u001b[0m: "
     ]
    }
   ],
   "source": [
    "links = {'B': '百度', 'A': '阿里', 'T': '腾讯'}\n",
    "\n",
    "it = iter(links)\n",
    "while True:\n",
    "    try:\n",
    "        each = next(it)\n",
    "    except StopIteration:\n",
    "        break\n",
    "    print(each)\n",
    "\n",
    "# B\n",
    "# A\n",
    "# T\n",
    "\n",
    "it = iter(links)\n",
    "print(next(it))  # B\n",
    "print(next(it))  # A\n",
    "print(next(it))  # T\n",
    "print(next(it))  # StopIteration"
   ]
  },
  {
   "cell_type": "markdown",
   "metadata": {},
   "source": [
    "\n",
    "把一个类作为一个迭代器使用需要在类中实现两个魔法方法 `__iter__()` 与 `__next__()` 。\n",
    "\n",
    "- `__iter__(self)`定义当迭代容器中的元素的行为，返回一个特殊的迭代器对象， 这个迭代器对象实现了 `__next__()` 方法并通过 `StopIteration` 异常标识迭代的完成。\n",
    "- `__next__()` 返回下一个迭代器对象。\n",
    "- `StopIteration` 异常用于标识迭代的完成，防止出现无限循环的情况，在 `__next__()` 方法中我们可以设置在完成指定循环次数后触发 `StopIteration` 异常来结束迭代。\n",
    "\n",
    "【例子】"
   ]
  },
  {
   "cell_type": "code",
   "execution_count": 88,
   "metadata": {},
   "outputs": [
    {
     "name": "stdout",
     "output_type": "stream",
     "text": [
      "1 1 2 3 5 8 13 21 34 55 89 "
     ]
    }
   ],
   "source": [
    "class Fibs:\n",
    "    def __init__(self, n=10):\n",
    "        self.a = 0\n",
    "        self.b = 1\n",
    "        self.n = n\n",
    "\n",
    "    def __iter__(self):\n",
    "        return self\n",
    "\n",
    "    def __next__(self):\n",
    "        self.a, self.b = self.b, self.a + self.b\n",
    "        if self.a > self.n:\n",
    "            raise StopIteration\n",
    "        return self.a\n",
    "\n",
    "\n",
    "fibs = Fibs(100)\n",
    "for each in fibs:\n",
    "    print(each, end=' ')\n",
    "\n",
    "# 1 1 2 3 5 8 13 21 34 55 89"
   ]
  },
  {
   "cell_type": "markdown",
   "metadata": {},
   "source": [
    "\n",
    "\n",
    "<b>4.10 生成器</b>\n",
    "\n",
    "- 在 Python 中，使用了 `yield` 的函数被称为生成器（generator）。\n",
    "- 跟普通函数不同的是，生成器是一个返回迭代器的函数，只能用于迭代操作，更简单点理解生成器就是一个迭代器。\n",
    "- 在调用生成器运行的过程中，每次遇到 `yield` 时函数会暂停并保存当前所有的运行信息，返回 `yield` 的值, 并在下一次执行 `next()` 方法时从当前位置继续运行。\n",
    "- 调用一个生成器函数，返回的是一个迭代器对象。\n",
    "\n",
    "【例子】"
   ]
  },
  {
   "cell_type": "code",
   "execution_count": 6,
   "metadata": {},
   "outputs": [
    {
     "name": "stdout",
     "output_type": "stream",
     "text": [
      "生成器执行！\n",
      "1\n",
      "2\n",
      "生成器执行！\n",
      "1\n",
      "2\n"
     ]
    },
    {
     "ename": "StopIteration",
     "evalue": "",
     "output_type": "error",
     "traceback": [
      "\u001b[0;31m---------------------------------------------------------------------------\u001b[0m",
      "\u001b[0;31mStopIteration\u001b[0m                             Traceback (most recent call last)",
      "\u001b[0;32m<ipython-input-6-56bfa60ce8de>\u001b[0m in \u001b[0;36m<module>\u001b[0;34m()\u001b[0m\n\u001b[1;32m     14\u001b[0m \u001b[0;34m\u001b[0m\u001b[0m\n\u001b[1;32m     15\u001b[0m \u001b[0mprint\u001b[0m\u001b[0;34m(\u001b[0m\u001b[0mnext\u001b[0m\u001b[0;34m(\u001b[0m\u001b[0mmyG\u001b[0m\u001b[0;34m)\u001b[0m\u001b[0;34m)\u001b[0m  \u001b[0;31m# 2\u001b[0m\u001b[0;34m\u001b[0m\u001b[0m\n\u001b[0;32m---> 16\u001b[0;31m \u001b[0mprint\u001b[0m\u001b[0;34m(\u001b[0m\u001b[0mnext\u001b[0m\u001b[0;34m(\u001b[0m\u001b[0mmyG\u001b[0m\u001b[0;34m)\u001b[0m\u001b[0;34m)\u001b[0m  \u001b[0;31m# StopIteration\u001b[0m\u001b[0;34m\u001b[0m\u001b[0m\n\u001b[0m",
      "\u001b[0;31mStopIteration\u001b[0m: "
     ]
    }
   ],
   "source": [
    "def myGen():\n",
    "    print('生成器执行！')\n",
    "    yield 1\n",
    "    yield 2\n",
    "    \n",
    "myG = myGen()\n",
    "for each in myG:\n",
    "    print(each)\n",
    "\n",
    "'''\n",
    "生成器执行！\n",
    "1\n",
    "2\n",
    "'''\n",
    "\n",
    "myG = myGen()\n",
    "print(next(myG))  \n",
    "# 生成器执行！\n",
    "# 1\n",
    "\n",
    "print(next(myG))  # 2\n",
    "print(next(myG))  # StopIteration"
   ]
  },
  {
   "cell_type": "markdown",
   "metadata": {},
   "source": [
    "\n",
    "【例子】用生成器实现斐波那契数列。\n"
   ]
  },
  {
   "cell_type": "code",
   "execution_count": 93,
   "metadata": {},
   "outputs": [
    {
     "name": "stdout",
     "output_type": "stream",
     "text": [
      "1 1 2 3 5 8 13 21 34 55 89 "
     ]
    }
   ],
   "source": [
    "def libs(n):\n",
    "    a = 0\n",
    "    b = 1\n",
    "    while True:\n",
    "        a, b = b, a + b\n",
    "        if a > n:\n",
    "            return\n",
    "        yield a\n",
    "\n",
    "\n",
    "for each in libs(100):\n",
    "    print(each, end=' ')\n",
    "\n",
    "# 1 1 2 3 5 8 13 21 34 55 89"
   ]
  }
 ],
 "metadata": {
  "kernelspec": {
   "display_name": "Python 3 (ipykernel)",
   "language": "python",
   "name": "python3"
  },
  "language_info": {
   "codemirror_mode": {
    "name": "ipython",
    "version": 3
   },
   "file_extension": ".py",
   "mimetype": "text/x-python",
   "name": "python",
   "nbconvert_exporter": "python",
   "pygments_lexer": "ipython3",
   "version": "3.9.7"
  },
  "toc": {
   "base_numbering": 1,
   "nav_menu": {},
   "number_sections": true,
   "sideBar": true,
   "skip_h1_title": false,
   "title_cell": "目录",
   "title_sidebar": "Contents",
   "toc_cell": true,
   "toc_position": {
    "height": "calc(100% - 180px)",
    "left": "10px",
    "top": "150px",
    "width": "342px"
   },
   "toc_section_display": true,
   "toc_window_display": true
  }
 },
 "nbformat": 4,
 "nbformat_minor": 4
}
